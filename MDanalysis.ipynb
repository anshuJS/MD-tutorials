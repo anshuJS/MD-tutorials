{
  "nbformat": 4,
  "nbformat_minor": 0,
  "metadata": {
    "colab": {
      "provenance": [],
      "collapsed_sections": [
        "nlzla1gtl-wT"
      ],
      "include_colab_link": true
    },
    "kernelspec": {
      "display_name": "Python 3",
      "language": "python",
      "name": "python3"
    },
    "language_info": {
      "codemirror_mode": {
        "name": "ipython",
        "version": 3
      },
      "file_extension": ".py",
      "mimetype": "text/x-python",
      "name": "python",
      "nbconvert_exporter": "python",
      "pygments_lexer": "ipython3",
      "version": "3.7.7"
    }
  },
  "cells": [
    {
      "cell_type": "markdown",
      "metadata": {
        "id": "view-in-github",
        "colab_type": "text"
      },
      "source": [
        "<a href=\"https://colab.research.google.com/github/anshuJS/MD-tutorials/blob/main/MDanalysis.ipynb\" target=\"_parent\"><img src=\"https://colab.research.google.com/assets/colab-badge.svg\" alt=\"Open In Colab\"/></a>"
      ]
    },
    {
      "cell_type": "markdown",
      "metadata": {
        "id": "fGTrGUZQRzrM"
      },
      "source": [
        "#Theoretical Aspects"
      ]
    },
    {
      "cell_type": "markdown",
      "metadata": {
        "id": "lnmr1_c-R7Ul"
      },
      "source": [
        "Now that you have already generated a molecular dynamics trajectory in the previous tutorial, it is crucial to obtain quantifiable insights about your molecular system. There are a handfull of metrics that can be employed to achieve this, here we are going to focus on two of the most popular ones. RMSD and RMSF and distances. Due to time constrains we are not going to cover more advanced metrics but they will be available as an appendix."
      ]
    },
    {
      "cell_type": "markdown",
      "metadata": {
        "id": "HBp5K9IOsQzi"
      },
      "source": [
        "<figure>\n",
        "<center>\n",
        "<img src=\"https://amarolab.ucsd.edu/syncImages/c0b042e1-4fe9-4727-9c0c-f556edb1b4a7sars_cov2_spike_protein.gif\"/>\n",
        "<figcaption>FIGURE 1. MD simulations of glycosylated SARS-CoV-2 spike protein attached to a membrane. Taken from the <a href=\"https://amarolab.ucsd.edu\">Amaro Lab</a> at UCSD.</figcaption></center>\n",
        "</figure>"
      ]
    },
    {
      "cell_type": "markdown",
      "metadata": {
        "id": "Rhyy1CaFKZg0"
      },
      "source": [
        "⚠️⚠️ The following section is an adapted excerpt from the introduction of the Cpptraj tutorial by Daniel R. Roe, available in the [this link](http://ambermd.org/tutorials/analysis/tutorial1/).\n",
        "\n",
        "## ***Root Mean Square Deviation (RMSD)*** overview\n",
        "\n",
        "$RMSD$ measures the deviation of a target set of coordinates (i.e. a structure) to a reference set of coordinates, with $RMSD=0$ indicating a perfect overlap.\n",
        "Then it follows that if we have a MD trajectory one would expect that the lower the RMSD the less changes happen in the time scale studied.\n",
        "\n",
        "RMSD is defined as:\n",
        "\n",
        "<center>\n",
        "<font size=\"5\">\n",
        "$RMSD = \\sqrt{\\frac{\\sum_{i = 0}^N m_i(X_i - Y_i)^2}{M}}$\n",
        "</font>\n",
        "</center>\n",
        "\n",
        "\n",
        " Where **N** is the number of atoms,  $m_{i}$ is the mass of atom $i$, $X_i$ is the coordinate vector for target atom $i$, $Y_i$ is the coordinate vector for reference atom $i$, and $M$ is the total mass. If the $RMSD$ is not mass-weighted, for all $i$, $m_i = 1$, and $M = N$.\n",
        "When calculating $RMSD$ of a target to reference structure, there are two very important requirements as we will see soon in the practical part of this tutorial:\n",
        "\n",
        "1. The number of atoms in the target must match the number of atoms in the reference.\n",
        "2. The ordering of atoms in the target must match the ordering of atoms in the reference.\n",
        "\n"
      ]
    },
    {
      "cell_type": "markdown",
      "metadata": {
        "id": "tczypCVMyqw_"
      },
      "source": [
        "## ***Root Mean Square Fluctuation (RMSF)*** overview"
      ]
    },
    {
      "cell_type": "markdown",
      "metadata": {
        "id": "F0FJl8bpzP7U"
      },
      "source": [
        "As mentioned in the [MDanalysis user guide ](https://userguide.mdanalysis.org/stable/examples/analysis/alignment_and_rms/rmsf.html):\n",
        "\n",
        "> The root-mean-square-fluctuation ($RMSF$) of a structure is **the time average of the RMSD**. It is calculated according to the below equation, where $x_i$\n",
        " is the coordinates of particle $i$ and $⟨x_i⟩$ is the ensemble average position of $i$:\n",
        "\n",
        "\n",
        "<center>\n",
        "<font size=\"5\">\n",
        "$ ρ_i=\\sqrt{⟨(x_i−⟨x_i⟩)^2⟩}$\n",
        "</font>\n",
        "</center>\n",
        "\n",
        "\n",
        "> Where the $RMSD$ quantifies how much a structure diverges from a reference over time, the **$RSMF$ can reveal which areas of the system are the most mobile**. While $RMSD$ is frequently calculated to an initial state, the RMSF should be calculated to an average structure of the simulation. An area of the structure with high $RMSF$ values frequently diverges from the average, indicating high mobility. When $RMSF$ analysis is carried out on proteins, it is typically restricted to backbone or alpha-carbon atoms; these are more characteristic of conformational changes than the more flexible side-chains."
      ]
    },
    {
      "cell_type": "markdown",
      "metadata": {
        "id": "jRCEoanM_yJY"
      },
      "source": [
        "<figure>\n",
        "<center>\n",
        "<img src='https://www.frontiersin.org/files/Articles/329304/fphar-09-00492-HTML/image_m/fphar-09-00492-g002.jpg'/>\n",
        "<figcaption>FIGURE 2. RMSD and RMSF plots of the structural changes occuring due to antagonist binding in the ligand binding pocket of androgen receptor, elucidated through MD simulations.<br>Sugunadevi S et al (2018)<i> Front Pharmacology 9, 492</i> </figcaption></center>\n",
        "</figure>"
      ]
    },
    {
      "cell_type": "markdown",
      "metadata": {
        "id": "df7Srfif37J7"
      },
      "source": [
        "### Distances\n",
        "As you may recall trajectory files stores the position of each individual atoms, the calculation of distances through an MD simulation is usually really straightforward.\n",
        "\n"
      ]
    },
    {
      "cell_type": "markdown",
      "metadata": {
        "id": "_5SlhTFoeL4-"
      },
      "source": [
        "### MDanalysis package overview\n",
        "\n",
        "As defined in the [documentation](https://docs.mdanalysis.org/stable/documentation_pages/overview.html):\n",
        "> **MDAnalysis** is a Python package that provides classes to access data in molecular dynamics trajectories. It is object oriented so it treats atoms, groups of atoms, trajectories, etc as different objects. Each object has a number of operations defined on itself (also known as “methods”) and also contains values describing the object (“attributes”). For example, a **AtomGroup** object has a **center_of_mass()** method that returns the center of mass of the group of atoms. It also contains an attribute called residues that lists all the residues that belong to the group. Using methods such as **select_atoms()** (which uses CHARMM-style atom Selection commands) one can create new objects (in this case, another **AtomGroup**)."
      ]
    },
    {
      "cell_type": "markdown",
      "metadata": {
        "id": "Ru2CNam5pO7C"
      },
      "source": [
        "Example of MDanalysis code\n",
        "A typical usage pattern is to iterate through a trajectory and analyze coordinates for every frame. In the following example the end-to-end distance of a protein and the radius of gyration of the backbone atoms are calculated:\n",
        "\n",
        "\n"
      ]
    },
    {
      "cell_type": "markdown",
      "metadata": {
        "id": "b2oQLgbm7zSC"
      },
      "source": [
        "\n",
        "\n",
        "```\n",
        "#!pip3 install --upgrade MDAnalysis\n",
        "#!pip install --upgrade MDAnalysisTests\n",
        "import MDAnalysis\n",
        "from MDAnalysis.tests.datafiles import PSF,DCD  # test trajectory\n",
        "import numpy.linalg\n",
        "u = MDAnalysis.Universe(PSF,DCD)  # always start with a Universe\n",
        "nterm = u.select_atoms('segid 4AKE and name N')[0]  # can access structure via segid (s4AKE) and atom name\n",
        "cterm = u.select_atoms('segid 4AKE and name C')[-1]  # ... takes the last atom named 'C'\n",
        "bb = u.select_atoms('protein and backbone')  # a selection (a AtomGroup)\n",
        "for ts in u.trajectory:  # iterate through all frames\n",
        "    r = cterm.pos - nterm.pos  # end-to-end vector from atom positions\n",
        "    d = numpy.linalg.norm(r)   # end-to-end distance\n",
        "    rgyr = bb.radius_of_gyration()  # method of a AtomGroup; updates with each frame\n",
        "    print \"frame = %d: d = %f Angstroem, Rgyr = %f Angstroem\" % (ts.frame, d, rgyr)\n",
        "```\n",
        "\n"
      ]
    },
    {
      "cell_type": "markdown",
      "metadata": {
        "id": "r0p7cH3h_VeD"
      },
      "source": [
        "## Basic concepts of MD analysis\n",
        "\n",
        "\n",
        "1.   Universes and atom groups\n",
        "2.   Selections\n",
        "\n"
      ]
    },
    {
      "cell_type": "markdown",
      "metadata": {
        "id": "lG3hIt9flNpf"
      },
      "source": [
        "**Universe and AtomGroup**\n",
        "\n",
        "MDAnalysis is object oriented. Molecular systems consist of Atom objects (instances of the class MDAnalysis.core.groups.Atom), which are grouped in AtomGroup instances. You build the AtomGroup of your system by loading a topology (list of atoms and possibly their connectivity) together with a trajectory (coordinate information) into the central data structure, the Universe object:\n",
        "\n",
        "\n",
        "\n",
        "```\n",
        "u = MDAnalysis.Universe(PSF, DCD)\n",
        "print(u)\n",
        "<Universe with 3341 atoms>\n",
        "```\n",
        "\n"
      ]
    },
    {
      "cell_type": "markdown",
      "metadata": {
        "id": "rJ7SYr_Wa4wr"
      },
      "source": [
        "**Selections**\n",
        "\n",
        "MDAnalysis comes with a fairly complete atom selection facility. Primarily, one uses the method select_atoms() of a Universe:\n",
        "\n",
        "\n",
        "\n",
        "```\n",
        ">>> CA = u.select_atoms(\"protein and name CA\")\n",
        ">>> CA\n",
        ">>> <AtomGroup with 214 atoms>\n",
        "```\n",
        "\n",
        "\n",
        "but really any AtomGroup has a select_atoms() method:\n",
        "\n",
        "```\n",
        ">>> acidic = CA.select_atoms(\"resname ASP or resname GLU\")\n",
        ">>> acidic\n",
        "<AtomGroup with 35 atoms>\n",
        ">>> list(acidic.residues)\n",
        "[<Residue GLU, 22>,\n",
        " <Residue ASP, 33>,\n",
        " <Residue GLU, 44>,\n",
        " ...\n",
        " <Residue GLU, 210>]\n",
        " ```\n",
        "\n",
        "See also All the selection keywords are described in the documentation.\n",
        "Numerical ranges can be written as first-last (or equivalently first:last 1), where the range is inclusive. For example, get residues with residue IDs 5 to 100:\n",
        "\n",
        "```\n",
        ">>> u.select_atoms(\"resid 5-100\")\n",
        "<AtomGroup with 1439 atoms>\n",
        ">>> u.select_atoms(\"resid 5-100\").n_residues\n",
        "96\n",
        "```\n",
        "Selections can be combined with boolean expressions. For example, to select the Cα atoms of all acidic residues [aspartic acid (“ASP”), glutamic acid (“GLU”), and histidines (named “HIS”, “HSD”, or “HSE”, depending on what force field is being used and what protonation state it is in)]:\n",
        "```\n",
        ">>> u.select_atoms(\"(resname ASP or resname GLU or resname HS*) and name CA\")\n",
        "<AtomGroup with 38 atoms>\n",
        "```\n",
        "We group with or separate selections by residue name (keyword resname). First either ASP, GLU, or any histidines are selected (we use “stemming” HS* to match any residue name that starts with “HS”). Then only those atoms whose name is “CA” are taken from the first set by an and selection. For convenience, the or in the first part of the selection can be taken implicitly with the shortcut syntax\n",
        "```\n",
        ">>> u.select_atoms(\"resname ASP GLU HS* and name CA\")\n",
        "<AtomGroup with 38 atoms>\n",
        "```\n"
      ]
    },
    {
      "cell_type": "markdown",
      "metadata": {
        "id": "1swoxQtJpUPg"
      },
      "source": [
        "If you want to dig deeper into the selection syntaxis of MDanalysis you can read the full documentation [here](https://docs.mdanalysis.org/1.0.0/documentation_pages/selections.html)"
      ]
    },
    {
      "cell_type": "markdown",
      "metadata": {
        "id": "XQQJy1ByDnMj"
      },
      "source": [
        "#Experimental Aspects\n",
        "For this tutorial we are going to use a MD trajectory from DNA binding domain of the HIV integrase 1, as you can see in the PDB [entry](https://www.rcsb.org/structure/1IHV) this structure was solved using NMR, and was found to form a dimer in solution.\n",
        "\n",
        "Here we are going to analyze 1000 frames of the integrase the monomeric and dimeric states and compare their RMSD, RMSF and measure distances."
      ]
    },
    {
      "cell_type": "markdown",
      "metadata": {
        "id": "AuLRRVHLnsXb"
      },
      "source": [
        "<figure>\n",
        "<center>\n",
        "<img src='https://cdn.rcsb.org/images/structures/ih/1ihv/1ihv_chain-A.jpeg'/>\n",
        "<figcaption>FIGURE 3. Cartoon representation of the structure of HIV integrase 1 (PDB 1IHV)</figcaption></center>\n",
        "</figure>\n",
        "\n"
      ]
    },
    {
      "cell_type": "markdown",
      "metadata": {
        "id": "nlzla1gtl-wT"
      },
      "source": [
        "#Part 0 Downloading and Installing the required software\n"
      ]
    },
    {
      "cell_type": "markdown",
      "metadata": {
        "id": "CSoR7qKuoBTm"
      },
      "source": [
        "## Installation"
      ]
    },
    {
      "cell_type": "markdown",
      "metadata": {
        "id": "K4cL3NbrsyLQ"
      },
      "source": [
        "we must install the softwares to perform this tutorial. Namely:\n",
        "- **MDAnalysis** for analyzing the data in molecular dynamics trajectories.\n",
        "- **py3Dmol** for visualization of the protein structure.\n"
      ]
    },
    {
      "cell_type": "code",
      "metadata": {
        "id": "N6XS2OzBmCvB",
        "outputId": "b92c695e-18dd-4da6-c75e-2c6b52255290",
        "colab": {
          "base_uri": "https://localhost:8080/"
        }
      },
      "source": [
        "!pip3 install --upgrade MDAnalysis\n",
        "# Import MDanalysis\n",
        "import MDAnalysis as mda\n",
        "#from MDAnalysis.tests.datafiles import PSF, DCD, DCD2\n",
        "from MDAnalysis.analysis import gnm\n",
        "import matplotlib.pyplot as plt\n",
        "%matplotlib inline"
      ],
      "execution_count": null,
      "outputs": [
        {
          "output_type": "stream",
          "name": "stdout",
          "text": [
            "Collecting MDAnalysis\n",
            "  Downloading MDAnalysis-2.6.1-cp310-cp310-manylinux_2_17_x86_64.manylinux2014_x86_64.whl (9.4 MB)\n",
            "\u001b[2K     \u001b[90m━━━━━━━━━━━━━━━━━━━━━━━━━━━━━━━━━━━━━━━━\u001b[0m \u001b[32m9.4/9.4 MB\u001b[0m \u001b[31m50.4 MB/s\u001b[0m eta \u001b[36m0:00:00\u001b[0m\n",
            "\u001b[?25hRequirement already satisfied: numpy<2.0,>=1.22.3 in /usr/local/lib/python3.10/dist-packages (from MDAnalysis) (1.23.5)\n",
            "Collecting biopython>=1.80 (from MDAnalysis)\n",
            "  Downloading biopython-1.81-cp310-cp310-manylinux_2_17_x86_64.manylinux2014_x86_64.whl (3.1 MB)\n",
            "\u001b[2K     \u001b[90m━━━━━━━━━━━━━━━━━━━━━━━━━━━━━━━━━━━━━━━━\u001b[0m \u001b[32m3.1/3.1 MB\u001b[0m \u001b[31m82.8 MB/s\u001b[0m eta \u001b[36m0:00:00\u001b[0m\n",
            "\u001b[?25hRequirement already satisfied: networkx>=2.0 in /usr/local/lib/python3.10/dist-packages (from MDAnalysis) (3.2)\n",
            "Collecting GridDataFormats>=0.4.0 (from MDAnalysis)\n",
            "  Downloading GridDataFormats-1.0.2-py3-none-any.whl (2.1 MB)\n",
            "\u001b[2K     \u001b[90m━━━━━━━━━━━━━━━━━━━━━━━━━━━━━━━━━━━━━━━━\u001b[0m \u001b[32m2.1/2.1 MB\u001b[0m \u001b[31m79.2 MB/s\u001b[0m eta \u001b[36m0:00:00\u001b[0m\n",
            "\u001b[?25hCollecting mmtf-python>=1.0.0 (from MDAnalysis)\n",
            "  Downloading mmtf_python-1.1.3-py2.py3-none-any.whl (25 kB)\n",
            "Requirement already satisfied: joblib>=0.12 in /usr/local/lib/python3.10/dist-packages (from MDAnalysis) (1.3.2)\n",
            "Requirement already satisfied: scipy>=1.5.0 in /usr/local/lib/python3.10/dist-packages (from MDAnalysis) (1.11.3)\n",
            "Requirement already satisfied: matplotlib>=1.5.1 in /usr/local/lib/python3.10/dist-packages (from MDAnalysis) (3.7.1)\n",
            "Requirement already satisfied: tqdm>=4.43.0 in /usr/local/lib/python3.10/dist-packages (from MDAnalysis) (4.66.1)\n",
            "Requirement already satisfied: threadpoolctl in /usr/local/lib/python3.10/dist-packages (from MDAnalysis) (3.2.0)\n",
            "Requirement already satisfied: packaging in /usr/local/lib/python3.10/dist-packages (from MDAnalysis) (23.2)\n",
            "Collecting fasteners (from MDAnalysis)\n",
            "  Downloading fasteners-0.19-py3-none-any.whl (18 kB)\n",
            "Collecting mrcfile (from GridDataFormats>=0.4.0->MDAnalysis)\n",
            "  Downloading mrcfile-1.4.3-py2.py3-none-any.whl (43 kB)\n",
            "\u001b[2K     \u001b[90m━━━━━━━━━━━━━━━━━━━━━━━━━━━━━━━━━━━━━━━━\u001b[0m \u001b[32m43.9/43.9 kB\u001b[0m \u001b[31m5.4 MB/s\u001b[0m eta \u001b[36m0:00:00\u001b[0m\n",
            "\u001b[?25hRequirement already satisfied: contourpy>=1.0.1 in /usr/local/lib/python3.10/dist-packages (from matplotlib>=1.5.1->MDAnalysis) (1.1.1)\n",
            "Requirement already satisfied: cycler>=0.10 in /usr/local/lib/python3.10/dist-packages (from matplotlib>=1.5.1->MDAnalysis) (0.12.1)\n",
            "Requirement already satisfied: fonttools>=4.22.0 in /usr/local/lib/python3.10/dist-packages (from matplotlib>=1.5.1->MDAnalysis) (4.43.1)\n",
            "Requirement already satisfied: kiwisolver>=1.0.1 in /usr/local/lib/python3.10/dist-packages (from matplotlib>=1.5.1->MDAnalysis) (1.4.5)\n",
            "Requirement already satisfied: pillow>=6.2.0 in /usr/local/lib/python3.10/dist-packages (from matplotlib>=1.5.1->MDAnalysis) (9.4.0)\n",
            "Requirement already satisfied: pyparsing>=2.3.1 in /usr/local/lib/python3.10/dist-packages (from matplotlib>=1.5.1->MDAnalysis) (3.1.1)\n",
            "Requirement already satisfied: python-dateutil>=2.7 in /usr/local/lib/python3.10/dist-packages (from matplotlib>=1.5.1->MDAnalysis) (2.8.2)\n",
            "Requirement already satisfied: msgpack>=1.0.0 in /usr/local/lib/python3.10/dist-packages (from mmtf-python>=1.0.0->MDAnalysis) (1.0.7)\n",
            "Requirement already satisfied: six>=1.5 in /usr/local/lib/python3.10/dist-packages (from python-dateutil>=2.7->matplotlib>=1.5.1->MDAnalysis) (1.16.0)\n",
            "Installing collected packages: mrcfile, mmtf-python, fasteners, biopython, GridDataFormats, MDAnalysis\n",
            "Successfully installed GridDataFormats-1.0.2 MDAnalysis-2.6.1 biopython-1.81 fasteners-0.19 mmtf-python-1.1.3 mrcfile-1.4.3\n"
          ]
        },
        {
          "output_type": "stream",
          "name": "stderr",
          "text": [
            "WARNING:MDAnalysis.coordinates.AMBER:netCDF4 is not available. Writing AMBER ncdf files will be slow.\n"
          ]
        }
      ]
    },
    {
      "cell_type": "code",
      "metadata": {
        "id": "mFxdeBHvatJY",
        "outputId": "88cdb069-0816-4304-fb07-8f6b846efb56",
        "colab": {
          "base_uri": "https://localhost:8080/"
        }
      },
      "source": [
        "#Installing py3Dmol using pip\n",
        "!pip install py3Dmol"
      ],
      "execution_count": null,
      "outputs": [
        {
          "output_type": "stream",
          "name": "stdout",
          "text": [
            "Collecting py3Dmol\n",
            "  Downloading py3Dmol-2.0.4-py2.py3-none-any.whl (12 kB)\n",
            "Installing collected packages: py3Dmol\n",
            "Successfully installed py3Dmol-2.0.4\n"
          ]
        }
      ]
    },
    {
      "cell_type": "code",
      "metadata": {
        "id": "jS2vRGLx40Du"
      },
      "source": [
        "#Importing py3Dmol for safety\n",
        "import py3Dmol"
      ],
      "execution_count": null,
      "outputs": []
    },
    {
      "cell_type": "code",
      "metadata": {
        "id": "TPCd5qX172n0",
        "outputId": "92837ffe-6c87-4c95-f4e0-7c14008266de",
        "colab": {
          "base_uri": "https://localhost:8080/"
        }
      },
      "source": [
        "!wget http://www.rcsb.org/pdb/files/1IHV.pdb.gz\n",
        "!gunzip 1IHV.pdb.gz"
      ],
      "execution_count": null,
      "outputs": [
        {
          "output_type": "stream",
          "name": "stdout",
          "text": [
            "--2023-10-26 04:54:19--  http://www.rcsb.org/pdb/files/1IHV.pdb.gz\n",
            "Resolving www.rcsb.org (www.rcsb.org)... 128.6.159.248\n",
            "Connecting to www.rcsb.org (www.rcsb.org)|128.6.159.248|:80... connected.\n",
            "HTTP request sent, awaiting response... 301 Moved Permanently\n",
            "Location: https://www.rcsb.org/pdb/files/1IHV.pdb.gz [following]\n",
            "--2023-10-26 04:54:19--  https://www.rcsb.org/pdb/files/1IHV.pdb.gz\n",
            "Connecting to www.rcsb.org (www.rcsb.org)|128.6.159.248|:443... connected.\n",
            "HTTP request sent, awaiting response... 301 Moved Permanently\n",
            "Location: https://files.rcsb.org/download/1IHV.pdb.gz [following]\n",
            "--2023-10-26 04:54:19--  https://files.rcsb.org/download/1IHV.pdb.gz\n",
            "Resolving files.rcsb.org (files.rcsb.org)... 128.6.159.157\n",
            "Connecting to files.rcsb.org (files.rcsb.org)|128.6.159.157|:443... connected.\n",
            "HTTP request sent, awaiting response... 200 OK\n",
            "Length: 37415 (37K) [application/octet-stream]\n",
            "Saving to: ‘1IHV.pdb.gz’\n",
            "\n",
            "1IHV.pdb.gz         100%[===================>]  36.54K  --.-KB/s    in 0.02s   \n",
            "\n",
            "2023-10-26 04:54:19 (1.74 MB/s) - ‘1IHV.pdb.gz’ saved [37415/37415]\n",
            "\n"
          ]
        }
      ]
    },
    {
      "cell_type": "code",
      "metadata": {
        "id": "WR1cC4Ru7VRe",
        "outputId": "3e24eda7-182e-4c08-8862-3f052dbc801d",
        "colab": {
          "base_uri": "https://localhost:8080/"
        }
      },
      "source": [
        "# We can visualize the dimeric conformation\n",
        "view=py3Dmol.view()\n",
        "view.addModel(open('1IHV.pdb', 'r').read(),'pdb')\n",
        "#Zooming into all visualized structures\n",
        "view.zoomTo()\n",
        "#Here we set the background color as white\n",
        "view.setBackgroundColor('white')\n",
        "#Here we set the visualization style for chain B and C\n",
        "view.setStyle({'cartoon': {'color':'purple'}})\n",
        "#And we finally visualize the structures using the command below\n",
        "view.show()"
      ],
      "execution_count": null,
      "outputs": [
        {
          "output_type": "display_data",
          "data": {
            "application/3dmoljs_load.v0": "<div id=\"3dmolviewer_16982960601334612\"  style=\"position: relative; width: 640px; height: 480px;\">\n        <p id=\"3dmolwarning_16982960601334612\" style=\"background-color:#ffcccc;color:black\">You appear to be running in JupyterLab (or JavaScript failed to load for some other reason).  You need to install the 3dmol extension: <br>\n        <tt>jupyter labextension install jupyterlab_3dmol</tt></p>\n        </div>\n<script>\n\nvar loadScriptAsync = function(uri){\n  return new Promise((resolve, reject) => {\n    //this is to ignore the existence of requirejs amd\n    var savedexports, savedmodule;\n    if (typeof exports !== 'undefined') savedexports = exports;\n    else exports = {}\n    if (typeof module !== 'undefined') savedmodule = module;\n    else module = {}\n\n    var tag = document.createElement('script');\n    tag.src = uri;\n    tag.async = true;\n    tag.onload = () => {\n        exports = savedexports;\n        module = savedmodule;\n        resolve();\n    };\n  var firstScriptTag = document.getElementsByTagName('script')[0];\n  firstScriptTag.parentNode.insertBefore(tag, firstScriptTag);\n});\n};\n\nif(typeof $3Dmolpromise === 'undefined') {\n$3Dmolpromise = null;\n  $3Dmolpromise = loadScriptAsync('https://cdnjs.cloudflare.com/ajax/libs/3Dmol/2.0.4/3Dmol-min.js');\n}\n\nvar viewer_16982960601334612 = null;\nvar warn = document.getElementById(\"3dmolwarning_16982960601334612\");\nif(warn) {\n    warn.parentNode.removeChild(warn);\n}\n$3Dmolpromise.then(function() {\nviewer_16982960601334612 = $3Dmol.createViewer(document.getElementById(\"3dmolviewer_16982960601334612\"),{backgroundColor:\"white\"});\nviewer_16982960601334612.zoomTo();\n\tviewer_16982960601334612.addModel(\"HEADER    DNA BINDING PROTEIN                     12-MAY-95   1IHV              \\nTITLE     SOLUTION STRUCTURE OF THE DNA BINDING DOMAIN OF HIV-1 INTEGRASE, NMR, \\nTITLE    2 MINIMIZED AVERAGE STRUCTURE                                          \\nCOMPND    MOL_ID: 1;                                                            \\nCOMPND   2 MOLECULE: HIV-1 INTEGRASE;                                           \\nCOMPND   3 CHAIN: A, B;                                                         \\nCOMPND   4 ENGINEERED: YES                                                      \\nSOURCE    MOL_ID: 1;                                                            \\nSOURCE   2 ORGANISM_SCIENTIFIC: HUMAN IMMUNODEFICIENCY VIRUS 1;                 \\nSOURCE   3 ORGANISM_TAXID: 11676;                                               \\nSOURCE   4 EXPRESSION_SYSTEM: ESCHERICHIA COLI;                                 \\nSOURCE   5 EXPRESSION_SYSTEM_TAXID: 562                                         \\nKEYWDS    DNA-BINDING PROTEIN, AIDS, POLYPROTEIN, DNA BINDING PROTEIN           \\nEXPDTA    SOLUTION NMR                                                          \\nAUTHOR    G.M.CLORE,P.J.LODI,J.A.ERNST,A.M.GRONENBORN                           \\nREVDAT   4   23-FEB-22 1IHV    1       KEYWDS REMARK SEQADV                     \\nREVDAT   3   24-FEB-09 1IHV    1       VERSN                                    \\nREVDAT   2   12-NOV-96 1IHV    1       HEADER REMARK                            \\nREVDAT   1   14-OCT-96 1IHV    0                                                \\nJRNL        AUTH   P.J.LODI,J.A.ERNST,J.KUSZEWSKI,A.B.HICKMAN,A.ENGELMAN,       \\nJRNL        AUTH 2 R.CRAIGIE,G.M.CLORE,A.M.GRONENBORN                           \\nJRNL        TITL   SOLUTION STRUCTURE OF THE DNA BINDING DOMAIN OF HIV-1        \\nJRNL        TITL 2 INTEGRASE.                                                   \\nJRNL        REF    BIOCHEMISTRY                  V.  34  9826 1995              \\nJRNL        REFN                   ISSN 0006-2960                               \\nJRNL        PMID   7632683                                                      \\nJRNL        DOI    10.1021/BI00031A002                                          \\nREMARK   2                                                                      \\nREMARK   2 RESOLUTION. NOT APPLICABLE.                                          \\nREMARK   3                                                                      \\nREMARK   3 REFINEMENT.                                                          \\nREMARK   3   PROGRAM     : X-PLOR 3.1                                           \\nREMARK   3   AUTHORS     : BRUNGER                                              \\nREMARK   3                                                                      \\nREMARK   3  OTHER REFINEMENT REMARKS:                                           \\nREMARK   3  THE STRUCTURES WERE CALCULATED USING THE SIMULATED                  \\nREMARK   3   ANNEALING PROTOCOL OF NILGES ET AL.  (1988) FEBS LETT.             \\nREMARK   3   229, 129 - 136 USING THE PROGRAM XPLOR 3.1 (BRUNGER)               \\nREMARK   3   MODIFIED TO INCORPORATE COUPLING CONSTANT (GARRETT ET AL.          \\nREMARK   3   (1984) J.  MAGN RESON.  SERIES B 104, 99 - 103), CARBON            \\nREMARK   3   CHEMICAL SHIFT (KUSZEWSKI ET AL.  (1995) J.  MAGN.  RESON.         \\nREMARK   3   SERIES B 106, 92 - 96) AND 1H CHEMICAL SHIFT (KUSZEWSKI ET         \\nREMARK   3   AL., 1995 J.  MAGN RESON.  SERIES B IN PRESS) RESTRAINTS.          \\nREMARK   3                                                                      \\nREMARK   3   THE 3D STRUCTURE OF HIV-1 INTEGRASE SOLVED BY                      \\nREMARK   3   MULTI-DIMENSIONAL HETERONUCLEAR-EDITED AND -FILTERED NMR           \\nREMARK   3   IS BASED ON 2386 EXPERIMENTAL RESTRAINTS (FOR THE DIMER):          \\nREMARK   3   (A) INTRASUBUNIT:  332 SEQUENTIAL (|I-J|=1), 202 MEDIUM            \\nREMARK   3   RANGE (1 < |I-J| >=5) AND 530 LONG RANGE (|I-J| >5)                \\nREMARK   3   INTERRESIDUES 318 INTRARESIDUE APPROXIMATE INTERPROTON             \\nREMARK   3   DISTANCE RESTRAINTS; 74 DISTANCE RESTRAINTS FOR 37                 \\nREMARK   3   HYDROGEN BONDS; 192 TORSION ANGLE (98 PHI, 20 PSI, 50 CHI1         \\nREMARK   3   AND 24 CHI2) RESTRAINTS; 78 THREE-BOND HN-HA COUPLING              \\nREMARK   3   CONSTANT RESTRAINTS; 194 (100 CALPHA AND 94 CBETA) 13C             \\nREMARK   3   SHIFT RESTRAINTS; AND 392 1H CHEMICAL SHIFT RESTRAINTS             \\nREMARK   3   (102 CAH, 52 METHYL AND 238 OTHERS).  (B) 44 INTERSUBUNIT          \\nREMARK   3   INTERPROTON DISTANCE RESTRAINTS (C) 30 AMBIGUOUS                   \\nREMARK   3   INTERPROTON DISTANCE RESTRAINTS THAT CAN ARISE FROM INTRA          \\nREMARK   3   AND/OR INTERSUBUNIT INTERACTIONS.                                  \\nREMARK   3                                                                      \\nREMARK   3  THE STRUCTURE IN THIS ENTRY IS THE RESTRAINED REGULARIZED           \\nREMARK   3  MEAN STRUCTURE AND THE LAST COLUMN REPRESENTS THE RMS OF            \\nREMARK   3  THE 40 INDIVIDUAL SIMULATED ANNEALING STRUCTURES FOUND IN           \\nREMARK   3  PDB ENTRY 1IHW ABOUT THE MEAN COORDINATE POSITIONS.  THE            \\nREMARK   3  LAST COLUMN IN THE INDIVIDUAL SA STRUCTURES HAS NO MEANING.         \\nREMARK   4                                                                      \\nREMARK   4 1IHV COMPLIES WITH FORMAT V. 3.30, 13-JUL-11                         \\nREMARK 100                                                                      \\nREMARK 100 THIS ENTRY HAS BEEN PROCESSED BY BNL.                                \\nREMARK 100 THE DEPOSITION ID IS D_1000174164.                                   \\nREMARK 210                                                                      \\nREMARK 210 EXPERIMENTAL DETAILS                                                 \\nREMARK 210  EXPERIMENT TYPE                : NMR                                \\nREMARK 210  TEMPERATURE           (KELVIN) : NULL                               \\nREMARK 210  PH                             : NULL                               \\nREMARK 210  IONIC STRENGTH                 : NULL                               \\nREMARK 210  PRESSURE                       : NULL                               \\nREMARK 210  SAMPLE CONTENTS                : NULL                               \\nREMARK 210                                                                      \\nREMARK 210  NMR EXPERIMENTS CONDUCTED      : NULL                               \\nREMARK 210  SPECTROMETER FIELD STRENGTH    : NULL                               \\nREMARK 210  SPECTROMETER MODEL             : NULL                               \\nREMARK 210  SPECTROMETER MANUFACTURER      : NULL                               \\nREMARK 210                                                                      \\nREMARK 210  STRUCTURE DETERMINATION.                                            \\nREMARK 210   SOFTWARE USED                 : NULL                               \\nREMARK 210   METHOD USED                   : NULL                               \\nREMARK 210                                                                      \\nREMARK 210 CONFORMERS, NUMBER CALCULATED   : NULL                               \\nREMARK 210 CONFORMERS, NUMBER SUBMITTED    : 1                                  \\nREMARK 210 CONFORMERS, SELECTION CRITERIA  : REGULARIZED MEAN STRUCTURE         \\nREMARK 210                                                                      \\nREMARK 210 BEST REPRESENTATIVE CONFORMER IN THIS ENSEMBLE : NULL                \\nREMARK 210                                                                      \\nREMARK 210 REMARK: NULL                                                         \\nREMARK 215                                                                      \\nREMARK 215 NMR STUDY                                                            \\nREMARK 215 THE COORDINATES IN THIS ENTRY WERE GENERATED FROM SOLUTION           \\nREMARK 215 NMR DATA.  PROTEIN DATA BANK CONVENTIONS REQUIRE THAT                \\nREMARK 215 CRYST1 AND SCALE RECORDS BE INCLUDED, BUT THE VALUES ON              \\nREMARK 215 THESE RECORDS ARE MEANINGLESS.                                       \\nREMARK 300                                                                      \\nREMARK 300 BIOMOLECULE: 1                                                       \\nREMARK 300 SEE REMARK 350 FOR THE AUTHOR PROVIDED AND/OR PROGRAM                \\nREMARK 300 GENERATED ASSEMBLY INFORMATION FOR THE STRUCTURE IN                  \\nREMARK 300 THIS ENTRY. THE REMARK MAY ALSO PROVIDE INFORMATION ON               \\nREMARK 300 BURIED SURFACE AREA.                                                 \\nREMARK 350                                                                      \\nREMARK 350 COORDINATES FOR A COMPLETE MULTIMER REPRESENTING THE KNOWN           \\nREMARK 350 BIOLOGICALLY SIGNIFICANT OLIGOMERIZATION STATE OF THE                \\nREMARK 350 MOLECULE CAN BE GENERATED BY APPLYING BIOMT TRANSFORMATIONS          \\nREMARK 350 GIVEN BELOW.  BOTH NON-CRYSTALLOGRAPHIC AND                          \\nREMARK 350 CRYSTALLOGRAPHIC OPERATIONS ARE GIVEN.                               \\nREMARK 350                                                                      \\nREMARK 350 BIOMOLECULE: 1                                                       \\nREMARK 350 AUTHOR DETERMINED BIOLOGICAL UNIT: DIMERIC                           \\nREMARK 350 APPLY THE FOLLOWING TO CHAINS: A, B                                  \\nREMARK 350   BIOMT1   1  1.000000  0.000000  0.000000        0.00000            \\nREMARK 350   BIOMT2   1  0.000000  1.000000  0.000000        0.00000            \\nREMARK 350   BIOMT3   1  0.000000  0.000000  1.000000        0.00000            \\nREMARK 500                                                                      \\nREMARK 500 GEOMETRY AND STEREOCHEMISTRY                                         \\nREMARK 500 SUBTOPIC: TORSION ANGLES                                             \\nREMARK 500                                                                      \\nREMARK 500 TORSION ANGLES OUTSIDE THE EXPECTED RAMACHANDRAN REGIONS:            \\nREMARK 500 (M=MODEL NUMBER; RES=RESIDUE NAME; C=CHAIN IDENTIFIER;               \\nREMARK 500 SSEQ=SEQUENCE NUMBER; I=INSERTION CODE).                             \\nREMARK 500                                                                      \\nREMARK 500 STANDARD TABLE:                                                      \\nREMARK 500 FORMAT:(10X,I3,1X,A3,1X,A1,I4,A1,4X,F7.2,3X,F7.2)                    \\nREMARK 500                                                                      \\nREMARK 500 EXPECTED VALUES: GJ KLEYWEGT AND TA JONES (1996). PHI/PSI-           \\nREMARK 500 CHOLOGY: RAMACHANDRAN REVISITED. STRUCTURE 4, 1395 - 1400            \\nREMARK 500                                                                      \\nREMARK 500  M RES CSSEQI        PSI       PHI                                   \\nREMARK 500    GLN A 221     -121.44    -79.70                                   \\nREMARK 500    PRO A 233        4.25    -67.72                                   \\nREMARK 500    LEU A 242      -72.91   -114.61                                   \\nREMARK 500    GLU A 246     -153.32    -70.23                                   \\nREMARK 500    ASP A 253      -77.80    -92.95                                   \\nREMARK 500    ASN A 254     -133.29    -81.65                                   \\nREMARK 500    SER A 255       55.27   -104.03                                   \\nREMARK 500    GLN B 221     -121.49    -79.52                                   \\nREMARK 500    PRO B 233        4.25    -67.68                                   \\nREMARK 500    LEU B 242      -72.92   -114.55                                   \\nREMARK 500    GLU B 246     -153.35    -70.25                                   \\nREMARK 500    ASP B 253      -77.78    -92.92                                   \\nREMARK 500    ASN B 254     -133.24    -81.63                                   \\nREMARK 500    SER B 255       55.23   -104.08                                   \\nREMARK 500                                                                      \\nREMARK 500 REMARK: NULL                                                         \\nREMARK 900                                                                      \\nREMARK 900 RELATED ENTRIES                                                      \\nREMARK 900 RELATED ID: 1IHW   RELATED DB: PDB                                   \\nDBREF  1IHV A  220   270  UNP    P04586   POL_HV1Z6       80    130             \\nDBREF  1IHV B  220   270  UNP    P04586   POL_HV1Z6       80    130             \\nSEQADV 1IHV VAL A  234  UNP  P04586    ILE    94 CONFLICT                       \\nSEQADV 1IHV ALA A  265  UNP  P04586    VAL   125 CONFLICT                       \\nSEQADV 1IHV VAL B  234  UNP  P04586    ILE    94 CONFLICT                       \\nSEQADV 1IHV ALA B  265  UNP  P04586    VAL   125 CONFLICT                       \\nSEQRES   1 A   52  MET ILE GLN ASN PHE ARG VAL TYR TYR ARG ASP SER ARG          \\nSEQRES   2 A   52  ASP PRO VAL TRP LYS GLY PRO ALA LYS LEU LEU TRP LYS          \\nSEQRES   3 A   52  GLY GLU GLY ALA VAL VAL ILE GLN ASP ASN SER ASP ILE          \\nSEQRES   4 A   52  LYS VAL VAL PRO ARG ARG LYS ALA LYS ILE ILE ARG ASP          \\nSEQRES   1 B   52  MET ILE GLN ASN PHE ARG VAL TYR TYR ARG ASP SER ARG          \\nSEQRES   2 B   52  ASP PRO VAL TRP LYS GLY PRO ALA LYS LEU LEU TRP LYS          \\nSEQRES   3 B   52  GLY GLU GLY ALA VAL VAL ILE GLN ASP ASN SER ASP ILE          \\nSEQRES   4 B   52  LYS VAL VAL PRO ARG ARG LYS ALA LYS ILE ILE ARG ASP          \\nHELIX    1   1 ARG A  262  LYS A  264  5                                   3    \\nHELIX    2   2 ARG B  262  LYS B  264  5                                   3    \\nSHEET    1   A 2 PHE A 223  TYR A 227  0                                        \\nSHEET    2   A 2 ALA A 265  ARG A 269 -1  N  ILE A 268   O  ARG A 224           \\nSHEET    1   B 3 ILE A 257  PRO A 261  0                                        \\nSHEET    2   B 3 ALA A 248  GLN A 252 -1  N  ILE A 251   O  LYS A 258           \\nSHEET    3   B 3 LYS A 240  LYS A 244 -1  N  TRP A 243   O  VAL A 250           \\nSHEET    1   C 2 PHE B 223  TYR B 227  0                                        \\nSHEET    2   C 2 ALA B 265  ARG B 269 -1  N  ILE B 268   O  ARG B 224           \\nSHEET    1   D 3 ILE B 257  PRO B 261  0                                        \\nSHEET    2   D 3 ALA B 248  GLN B 252 -1  N  ILE B 251   O  LYS B 258           \\nSHEET    3   D 3 LYS B 240  LYS B 244 -1  N  TRP B 243   O  VAL B 250           \\nCRYST1    1.000    1.000    1.000  90.00  90.00  90.00 P 1           1          \\nORIGX1      1.000000  0.000000  0.000000        0.00000                         \\nORIGX2      0.000000  1.000000  0.000000        0.00000                         \\nORIGX3      0.000000  0.000000  1.000000        0.00000                         \\nSCALE1      1.000000  0.000000  0.000000        0.00000                         \\nSCALE2      0.000000  1.000000  0.000000        0.00000                         \\nSCALE3      0.000000  0.000000  1.000000        0.00000                         \\nATOM      1  N   MET A 219       3.078  16.805  -3.438  1.00  1.80           N  \\nATOM      2  CA  MET A 219       1.803  17.335  -3.994  1.00  1.46           C  \\nATOM      3  C   MET A 219       1.524  16.674  -5.346  1.00  1.21           C  \\nATOM      4  O   MET A 219       1.962  17.143  -6.377  1.00  1.32           O  \\nATOM      5  CB  MET A 219       1.918  18.853  -4.176  1.00  2.09           C  \\nATOM      6  CG  MET A 219       2.694  19.450  -3.001  1.00  2.60           C  \\nATOM      7  SD  MET A 219       2.538  21.252  -3.034  1.00  3.64           S  \\nATOM      8  CE  MET A 219       3.209  21.565  -1.385  1.00  4.40           C  \\nATOM      9  H   MET A 219       3.893  17.350  -3.475  1.00  2.10           H  \\nATOM     10  HA  MET A 219       0.994  17.115  -3.312  1.00  1.68           H  \\nATOM     11  HB2 MET A 219       2.441  19.072  -5.098  1.00  2.52           H  \\nATOM     12  HB3 MET A 219       0.931  19.288  -4.210  1.00  2.55           H  \\nATOM     13  HG2 MET A 219       2.293  19.071  -2.073  1.00  2.81           H  \\nATOM     14  HG3 MET A 219       3.736  19.178  -3.082  1.00  2.91           H  \\nATOM     15  HE1 MET A 219       4.048  20.905  -1.208  1.00  4.81           H  \\nATOM     16  HE2 MET A 219       3.539  22.588  -1.317  1.00  4.69           H  \\nATOM     17  HE3 MET A 219       2.441  21.385  -0.646  1.00  4.64           H  \\nATOM     18  N   ILE A 220       0.798  15.588  -5.352  1.00  0.99           N  \\nATOM     19  CA  ILE A 220       0.491  14.901  -6.644  1.00  0.88           C  \\nATOM     20  C   ILE A 220      -0.735  15.580  -7.265  1.00  0.85           C  \\nATOM     21  O   ILE A 220      -1.805  15.598  -6.687  1.00  0.92           O  \\nATOM     22  CB  ILE A 220       0.207  13.380  -6.407  1.00  0.86           C  \\nATOM     23  CG1 ILE A 220       0.205  13.068  -4.894  1.00  1.34           C  \\nATOM     24  CG2 ILE A 220       1.244  12.488  -7.132  1.00  1.74           C  \\nATOM     25  CD1 ILE A 220       1.594  13.325  -4.248  1.00  2.14           C  \\nATOM     26  H   ILE A 220       0.452  15.224  -4.510  1.00  1.01           H  \\nATOM     27  HA  ILE A 220       1.328  15.021  -7.315  1.00  1.01           H  \\nATOM     28  HB  ILE A 220      -0.773  13.132  -6.803  1.00  1.48           H  \\nATOM     29 HG12 ILE A 220      -0.535  13.692  -4.415  1.00  1.88           H  \\nATOM     30 HG13 ILE A 220      -0.069  12.032  -4.756  1.00  2.00           H  \\nATOM     31 HG21 ILE A 220       2.210  12.966  -7.149  1.00  2.25           H  \\nATOM     32 HG22 ILE A 220       1.326  11.540  -6.621  1.00  2.27           H  \\nATOM     33 HG23 ILE A 220       0.919  12.315  -8.147  1.00  2.29           H  \\nATOM     34 HD11 ILE A 220       2.315  13.605  -4.998  1.00  2.60           H  \\nATOM     35 HD12 ILE A 220       1.514  14.125  -3.523  1.00  2.63           H  \\nATOM     36 HD13 ILE A 220       1.935  12.429  -3.747  1.00  2.64           H  \\nATOM     37  N   GLN A 221      -0.597  16.128  -8.441  1.00  0.82           N  \\nATOM     38  CA  GLN A 221      -1.763  16.784  -9.086  1.00  0.84           C  \\nATOM     39  C   GLN A 221      -2.627  15.688  -9.700  1.00  0.73           C  \\nATOM     40  O   GLN A 221      -3.069  14.786  -9.017  1.00  0.75           O  \\nATOM     41  CB  GLN A 221      -1.282  17.740 -10.185  1.00  0.94           C  \\nATOM     42  CG  GLN A 221      -0.235  18.698  -9.613  1.00  1.19           C  \\nATOM     43  CD  GLN A 221       0.207  19.674 -10.705  1.00  1.49           C  \\nATOM     44  OE1 GLN A 221       0.028  19.412 -11.877  1.00  2.03           O  \\nATOM     45  NE2 GLN A 221       0.783  20.796 -10.369  1.00  1.95           N  \\nATOM     46  H   GLN A 221       0.269  16.098  -8.899  1.00  0.82           H  \\nATOM     47  HA  GLN A 221      -2.334  17.330  -8.348  1.00  0.91           H  \\nATOM     48  HB2 GLN A 221      -0.845  17.170 -10.995  1.00  1.04           H  \\nATOM     49  HB3 GLN A 221      -2.121  18.312 -10.559  1.00  1.09           H  \\nATOM     50  HG2 GLN A 221      -0.663  19.249  -8.786  1.00  1.48           H  \\nATOM     51  HG3 GLN A 221       0.619  18.135  -9.267  1.00  1.43           H  \\nATOM     52 HE21 GLN A 221       0.928  21.008  -9.424  1.00  2.40           H  \\nATOM     53 HE22 GLN A 221       1.068  21.427 -11.063  1.00  2.23           H  \\nATOM     54  N   ASN A 222      -2.853  15.739 -10.982  1.00  0.67           N  \\nATOM     55  CA  ASN A 222      -3.668  14.681 -11.647  1.00  0.62           C  \\nATOM     56  C   ASN A 222      -2.719  13.698 -12.338  1.00  0.54           C  \\nATOM     57  O   ASN A 222      -2.229  13.951 -13.419  1.00  0.57           O  \\nATOM     58  CB  ASN A 222      -4.595  15.330 -12.675  1.00  0.68           C  \\nATOM     59  CG  ASN A 222      -5.395  16.441 -11.992  1.00  0.78           C  \\nATOM     60  OD1 ASN A 222      -4.976  16.974 -10.983  1.00  1.34           O  \\nATOM     61  ND2 ASN A 222      -6.542  16.806 -12.494  1.00  1.28           N  \\nATOM     62  H   ASN A 222      -2.470  16.466 -11.517  1.00  0.71           H  \\nATOM     63  HA  ASN A 222      -4.262  14.149 -10.914  1.00  0.63           H  \\nATOM     64  HB2 ASN A 222      -4.008  15.747 -13.481  1.00  0.72           H  \\nATOM     65  HB3 ASN A 222      -5.275  14.589 -13.066  1.00  0.69           H  \\nATOM     66 HD21 ASN A 222      -6.885  16.370 -13.301  1.00  1.93           H  \\nATOM     67 HD22 ASN A 222      -7.062  17.516 -12.062  1.00  1.32           H  \\nATOM     68  N   PHE A 223      -2.455  12.579 -11.709  1.00  0.47           N  \\nATOM     69  CA  PHE A 223      -1.535  11.554 -12.303  1.00  0.41           C  \\nATOM     70  C   PHE A 223      -2.256  10.201 -12.318  1.00  0.34           C  \\nATOM     71  O   PHE A 223      -3.026   9.893 -11.430  1.00  0.37           O  \\nATOM     72  CB  PHE A 223      -0.268  11.435 -11.435  1.00  0.41           C  \\nATOM     73  CG  PHE A 223       0.694  12.555 -11.758  1.00  0.48           C  \\nATOM     74  CD1 PHE A 223       1.594  12.420 -12.833  1.00  0.50           C  \\nATOM     75  CD2 PHE A 223       0.696  13.728 -10.980  1.00  0.57           C  \\nATOM     76  CE1 PHE A 223       2.494  13.462 -13.130  1.00  0.59           C  \\nATOM     77  CE2 PHE A 223       1.597  14.768 -11.277  1.00  0.65           C  \\nATOM     78  CZ  PHE A 223       2.496  14.635 -12.352  1.00  0.66           C  \\nATOM     79  H   PHE A 223      -2.863  12.409 -10.834  1.00  0.49           H  \\nATOM     80  HA  PHE A 223      -1.260  11.833 -13.317  1.00  0.43           H  \\nATOM     81  HB2 PHE A 223      -0.544  11.492 -10.393  1.00  0.42           H  \\nATOM     82  HB3 PHE A 223       0.214  10.486 -11.626  1.00  0.37           H  \\nATOM     83  HD1 PHE A 223       1.592  11.521 -13.429  1.00  0.46           H  \\nATOM     84  HD2 PHE A 223       0.007  13.830 -10.156  1.00  0.58           H  \\nATOM     85  HE1 PHE A 223       3.185  13.361 -13.954  1.00  0.62           H  \\nATOM     86  HE2 PHE A 223       1.598  15.668 -10.681  1.00  0.72           H  \\nATOM     87  HZ  PHE A 223       3.186  15.433 -12.580  1.00  0.73           H  \\nATOM     88  N   ARG A 224      -1.999   9.387 -13.313  1.00  0.33           N  \\nATOM     89  CA  ARG A 224      -2.649   8.037 -13.396  1.00  0.29           C  \\nATOM     90  C   ARG A 224      -1.550   6.977 -13.397  1.00  0.25           C  \\nATOM     91  O   ARG A 224      -0.406   7.262 -13.694  1.00  0.27           O  \\nATOM     92  CB  ARG A 224      -3.464   7.935 -14.701  1.00  0.34           C  \\nATOM     93  CG  ARG A 224      -4.923   8.333 -14.447  1.00  0.71           C  \\nATOM     94  CD  ARG A 224      -5.707   8.297 -15.764  1.00  1.29           C  \\nATOM     95  NE  ARG A 224      -6.920   9.149 -15.647  1.00  1.85           N  \\nATOM     96  CZ  ARG A 224      -7.528   9.566 -16.724  1.00  2.38           C  \\nATOM     97  NH1 ARG A 224      -7.055   9.258 -17.902  1.00  2.67           N  \\nATOM     98  NH2 ARG A 224      -8.603  10.297 -16.623  1.00  3.22           N  \\nATOM     99  H   ARG A 224      -1.365   9.660 -14.008  1.00  0.41           H  \\nATOM    100  HA  ARG A 224      -3.296   7.875 -12.540  1.00  0.28           H  \\nATOM    101  HB2 ARG A 224      -3.037   8.598 -15.439  1.00  0.61           H  \\nATOM    102  HB3 ARG A 224      -3.437   6.920 -15.077  1.00  0.54           H  \\nATOM    103  HG2 ARG A 224      -5.365   7.641 -13.745  1.00  1.24           H  \\nATOM    104  HG3 ARG A 224      -4.957   9.329 -14.036  1.00  1.30           H  \\nATOM    105  HD2 ARG A 224      -5.083   8.664 -16.571  1.00  1.84           H  \\nATOM    106  HD3 ARG A 224      -6.012   7.284 -15.974  1.00  1.93           H  \\nATOM    107  HE  ARG A 224      -7.266   9.392 -14.763  1.00  2.37           H  \\nATOM    108 HH11 ARG A 224      -6.225   8.704 -17.979  1.00  2.57           H  \\nATOM    109 HH12 ARG A 224      -7.520   9.580 -18.727  1.00  3.38           H  \\nATOM    110 HH21 ARG A 224      -8.961  10.539 -15.721  1.00  3.59           H  \\nATOM    111 HH22 ARG A 224      -9.069  10.618 -17.447  1.00  3.75           H  \\nATOM    112  N   VAL A 225      -1.886   5.754 -13.077  1.00  0.21           N  \\nATOM    113  CA  VAL A 225      -0.859   4.673 -13.071  1.00  0.19           C  \\nATOM    114  C   VAL A 225      -1.465   3.375 -13.592  1.00  0.20           C  \\nATOM    115  O   VAL A 225      -2.555   2.989 -13.219  1.00  0.21           O  \\nATOM    116  CB  VAL A 225      -0.347   4.454 -11.644  1.00  0.17           C  \\nATOM    117  CG1 VAL A 225       0.855   3.503 -11.662  1.00  0.17           C  \\nATOM    118  CG2 VAL A 225       0.086   5.794 -11.055  1.00  0.21           C  \\nATOM    119  H   VAL A 225      -2.817   5.548 -12.849  1.00  0.22           H  \\nATOM    120  HA  VAL A 225      -0.034   4.952 -13.704  1.00  0.20           H  \\nATOM    121  HB  VAL A 225      -1.134   4.029 -11.038  1.00  0.18           H  \\nATOM    122 HG11 VAL A 225       0.630   2.640 -12.269  1.00  1.00           H  \\nATOM    123 HG12 VAL A 225       1.712   4.015 -12.073  1.00  1.04           H  \\nATOM    124 HG13 VAL A 225       1.077   3.185 -10.653  1.00  1.06           H  \\nATOM    125 HG21 VAL A 225       0.742   6.297 -11.751  1.00  1.00           H  \\nATOM    126 HG22 VAL A 225      -0.786   6.404 -10.876  1.00  1.09           H  \\nATOM    127 HG23 VAL A 225       0.607   5.628 -10.124  1.00  1.00           H  \\nATOM    128  N   TYR A 226      -0.741   2.684 -14.429  1.00  0.22           N  \\nATOM    129  CA  TYR A 226      -1.226   1.378 -14.959  1.00  0.25           C  \\nATOM    130  C   TYR A 226      -0.444   0.296 -14.229  1.00  0.26           C  \\nATOM    131  O   TYR A 226       0.632   0.546 -13.733  1.00  0.27           O  \\nATOM    132  CB  TYR A 226      -0.948   1.279 -16.465  1.00  0.30           C  \\nATOM    133  CG  TYR A 226      -1.905   2.166 -17.230  1.00  0.34           C  \\nATOM    134  CD1 TYR A 226      -1.762   3.565 -17.177  1.00  0.38           C  \\nATOM    135  CD2 TYR A 226      -2.931   1.594 -18.010  1.00  0.43           C  \\nATOM    136  CE1 TYR A 226      -2.641   4.392 -17.903  1.00  0.45           C  \\nATOM    137  CE2 TYR A 226      -3.811   2.422 -18.733  1.00  0.48           C  \\nATOM    138  CZ  TYR A 226      -3.666   3.821 -18.681  1.00  0.47           C  \\nATOM    139  OH  TYR A 226      -4.527   4.632 -19.391  1.00  0.55           O  \\nATOM    140  H   TYR A 226       0.148   3.014 -14.688  1.00  0.22           H  \\nATOM    141  HA  TYR A 226      -2.283   1.258 -14.769  1.00  0.27           H  \\nATOM    142  HB2 TYR A 226       0.067   1.593 -16.665  1.00  0.29           H  \\nATOM    143  HB3 TYR A 226      -1.074   0.255 -16.785  1.00  0.34           H  \\nATOM    144  HD1 TYR A 226      -0.978   4.003 -16.579  1.00  0.41           H  \\nATOM    145  HD2 TYR A 226      -3.043   0.521 -18.052  1.00  0.49           H  \\nATOM    146  HE1 TYR A 226      -2.531   5.466 -17.863  1.00  0.52           H  \\nATOM    147  HE2 TYR A 226      -4.598   1.983 -19.330  1.00  0.57           H  \\nATOM    148  HH  TYR A 226      -4.329   4.529 -20.324  1.00  1.07           H  \\nATOM    149  N   TYR A 227      -0.953  -0.896 -14.134  1.00  0.27           N  \\nATOM    150  CA  TYR A 227      -0.191  -1.946 -13.399  1.00  0.30           C  \\nATOM    151  C   TYR A 227      -0.624  -3.333 -13.864  1.00  0.34           C  \\nATOM    152  O   TYR A 227      -1.740  -3.542 -14.298  1.00  0.37           O  \\nATOM    153  CB  TYR A 227      -0.441  -1.796 -11.895  1.00  0.31           C  \\nATOM    154  CG  TYR A 227      -1.920  -1.911 -11.602  1.00  0.30           C  \\nATOM    155  CD1 TYR A 227      -2.799  -0.876 -11.980  1.00  0.28           C  \\nATOM    156  CD2 TYR A 227      -2.421  -3.054 -10.948  1.00  0.36           C  \\nATOM    157  CE1 TYR A 227      -4.177  -0.986 -11.706  1.00  0.32           C  \\nATOM    158  CE2 TYR A 227      -3.796  -3.163 -10.674  1.00  0.40           C  \\nATOM    159  CZ  TYR A 227      -4.674  -2.130 -11.054  1.00  0.38           C  \\nATOM    160  OH  TYR A 227      -6.023  -2.239 -10.785  1.00  0.45           O  \\nATOM    161  H   TYR A 227      -1.829  -1.098 -14.526  1.00  0.28           H  \\nATOM    162  HA  TYR A 227       0.866  -1.824 -13.594  1.00  0.31           H  \\nATOM    163  HB2 TYR A 227       0.092  -2.572 -11.364  1.00  0.35           H  \\nATOM    164  HB3 TYR A 227      -0.087  -0.830 -11.566  1.00  0.31           H  \\nATOM    165  HD1 TYR A 227      -2.418   0.003 -12.478  1.00  0.26           H  \\nATOM    166  HD2 TYR A 227      -1.748  -3.848 -10.657  1.00  0.39           H  \\nATOM    167  HE1 TYR A 227      -4.851  -0.194 -11.997  1.00  0.33           H  \\nATOM    168  HE2 TYR A 227      -4.178  -4.038 -10.171  1.00  0.46           H  \\nATOM    169  HH  TYR A 227      -6.190  -1.829  -9.933  1.00  0.96           H  \\nATOM    170  N   ARG A 228       0.269  -4.281 -13.781  1.00  0.38           N  \\nATOM    171  CA  ARG A 228      -0.054  -5.669 -14.224  1.00  0.43           C  \\nATOM    172  C   ARG A 228      -0.551  -6.482 -13.028  1.00  0.49           C  \\nATOM    173  O   ARG A 228      -0.134  -6.275 -11.906  1.00  0.53           O  \\nATOM    174  CB  ARG A 228       1.215  -6.302 -14.810  1.00  0.48           C  \\nATOM    175  CG  ARG A 228       1.956  -5.238 -15.623  1.00  0.55           C  \\nATOM    176  CD  ARG A 228       3.118  -5.860 -16.399  1.00  0.54           C  \\nATOM    177  NE  ARG A 228       3.878  -6.772 -15.496  1.00  1.11           N  \\nATOM    178  CZ  ARG A 228       4.846  -7.504 -15.971  1.00  1.37           C  \\nATOM    179  NH1 ARG A 228       5.209  -7.372 -17.217  1.00  1.64           N  \\nATOM    180  NH2 ARG A 228       5.466  -8.350 -15.195  1.00  2.14           N  \\nATOM    181  H   ARG A 228       1.164  -4.075 -13.434  1.00  0.39           H  \\nATOM    182  HA  ARG A 228      -0.824  -5.642 -14.981  1.00  0.44           H  \\nATOM    183  HB2 ARG A 228       1.850  -6.658 -14.010  1.00  0.56           H  \\nATOM    184  HB3 ARG A 228       0.945  -7.124 -15.453  1.00  0.64           H  \\nATOM    185  HG2 ARG A 228       1.267  -4.779 -16.315  1.00  0.87           H  \\nATOM    186  HG3 ARG A 228       2.343  -4.484 -14.951  1.00  0.82           H  \\nATOM    187  HD2 ARG A 228       2.744  -6.424 -17.230  1.00  0.95           H  \\nATOM    188  HD3 ARG A 228       3.762  -5.069 -16.771  1.00  1.06           H  \\nATOM    189  HE  ARG A 228       3.630  -6.840 -14.550  1.00  1.84           H  \\nATOM    190 HH11 ARG A 228       4.744  -6.711 -17.806  1.00  1.67           H  \\nATOM    191 HH12 ARG A 228       5.955  -7.929 -17.583  1.00  2.27           H  \\nATOM    192 HH21 ARG A 228       5.199  -8.438 -14.235  1.00  2.62           H  \\nATOM    193 HH22 ARG A 228       6.210  -8.910 -15.560  1.00  2.48           H  \\nATOM    194  N   ASP A 229      -1.451  -7.401 -13.260  1.00  0.55           N  \\nATOM    195  CA  ASP A 229      -1.991  -8.227 -12.141  1.00  0.64           C  \\nATOM    196  C   ASP A 229      -1.155  -9.503 -12.006  1.00  0.70           C  \\nATOM    197  O   ASP A 229      -0.334  -9.810 -12.848  1.00  0.72           O  \\nATOM    198  CB  ASP A 229      -3.459  -8.585 -12.447  1.00  0.77           C  \\nATOM    199  CG  ASP A 229      -4.233  -8.803 -11.143  1.00  1.45           C  \\nATOM    200  OD1 ASP A 229      -4.192  -9.908 -10.627  1.00  2.12           O  \\nATOM    201  OD2 ASP A 229      -4.855  -7.859 -10.685  1.00  2.25           O  \\nATOM    202  H   ASP A 229      -1.778  -7.543 -14.173  1.00  0.58           H  \\nATOM    203  HA  ASP A 229      -1.939  -7.665 -11.217  1.00  0.66           H  \\nATOM    204  HB2 ASP A 229      -3.913  -7.775 -13.000  1.00  1.43           H  \\nATOM    205  HB3 ASP A 229      -3.501  -9.488 -13.042  1.00  1.25           H  \\nATOM    206  N   SER A 230      -1.359 -10.252 -10.956  1.00  0.78           N  \\nATOM    207  CA  SER A 230      -0.576 -11.509 -10.772  1.00  0.88           C  \\nATOM    208  C   SER A 230      -1.265 -12.646 -11.530  1.00  0.97           C  \\nATOM    209  O   SER A 230      -0.702 -13.703 -11.730  1.00  1.08           O  \\nATOM    210  CB  SER A 230      -0.511 -11.852  -9.284  1.00  0.96           C  \\nATOM    211  OG  SER A 230      -0.002 -13.170  -9.128  1.00  1.78           O  \\nATOM    212  H   SER A 230      -2.027  -9.990 -10.290  1.00  0.81           H  \\nATOM    213  HA  SER A 230       0.424 -11.374 -11.157  1.00  0.88           H  \\nATOM    214  HB2 SER A 230       0.143 -11.159  -8.781  1.00  1.34           H  \\nATOM    215  HB3 SER A 230      -1.502 -11.785  -8.855  1.00  1.28           H  \\nATOM    216  HG  SER A 230       0.890 -13.105  -8.778  1.00  2.22           H  \\nATOM    217  N   ARG A 231      -2.483 -12.434 -11.959  1.00  0.97           N  \\nATOM    218  CA  ARG A 231      -3.213 -13.499 -12.708  1.00  1.10           C  \\nATOM    219  C   ARG A 231      -2.952 -13.351 -14.211  1.00  1.05           C  \\nATOM    220  O   ARG A 231      -3.258 -14.233 -14.987  1.00  1.15           O  \\nATOM    221  CB  ARG A 231      -4.718 -13.369 -12.458  1.00  1.20           C  \\nATOM    222  CG  ARG A 231      -5.011 -13.380 -10.948  1.00  1.30           C  \\nATOM    223  CD  ARG A 231      -6.492 -13.736 -10.699  1.00  1.56           C  \\nATOM    224  NE  ARG A 231      -7.010 -12.948  -9.549  1.00  2.00           N  \\nATOM    225  CZ  ARG A 231      -8.299 -12.842  -9.363  1.00  2.63           C  \\nATOM    226  NH1 ARG A 231      -9.126 -13.426 -10.188  1.00  2.94           N  \\nATOM    227  NH2 ARG A 231      -8.761 -12.153  -8.356  1.00  3.48           N  \\nATOM    228  H   ARG A 231      -2.917 -11.572 -11.789  1.00  0.93           H  \\nATOM    229  HA  ARG A 231      -2.879 -14.473 -12.379  1.00  1.20           H  \\nATOM    230  HB2 ARG A 231      -5.071 -12.441 -12.884  1.00  1.14           H  \\nATOM    231  HB3 ARG A 231      -5.229 -14.196 -12.926  1.00  1.33           H  \\nATOM    232  HG2 ARG A 231      -4.375 -14.109 -10.464  1.00  1.61           H  \\nATOM    233  HG3 ARG A 231      -4.808 -12.402 -10.539  1.00  1.46           H  \\nATOM    234  HD2 ARG A 231      -7.083 -13.508 -11.579  1.00  2.05           H  \\nATOM    235  HD3 ARG A 231      -6.579 -14.789 -10.474  1.00  2.05           H  \\nATOM    236  HE  ARG A 231      -6.387 -12.513  -8.930  1.00  2.38           H  \\nATOM    237 HH11 ARG A 231      -8.772 -13.953 -10.961  1.00  2.84           H  \\nATOM    238 HH12 ARG A 231     -10.112 -13.347 -10.047  1.00  3.62           H  \\nATOM    239 HH21 ARG A 231      -8.129 -11.704  -7.724  1.00  3.81           H  \\nATOM    240 HH22 ARG A 231      -9.748 -12.074  -8.216  1.00  4.05           H  \\nATOM    241  N   ASP A 232      -2.398 -12.242 -14.633  1.00  0.92           N  \\nATOM    242  CA  ASP A 232      -2.139 -12.049 -16.091  1.00  0.90           C  \\nATOM    243  C   ASP A 232      -1.039 -10.973 -16.284  1.00  0.78           C  \\nATOM    244  O   ASP A 232      -1.152  -9.906 -15.713  1.00  0.68           O  \\nATOM    245  CB  ASP A 232      -3.431 -11.566 -16.757  1.00  0.98           C  \\nATOM    246  CG  ASP A 232      -4.491 -12.666 -16.680  1.00  1.62           C  \\nATOM    247  OD1 ASP A 232      -4.246 -13.736 -17.216  1.00  2.33           O  \\nATOM    248  OD2 ASP A 232      -5.526 -12.424 -16.084  1.00  2.13           O  \\nATOM    249  H   ASP A 232      -2.163 -11.537 -13.995  1.00  0.86           H  \\nATOM    250  HA  ASP A 232      -1.853 -12.989 -16.521  1.00  1.00           H  \\nATOM    251  HB2 ASP A 232      -3.791 -10.683 -16.246  1.00  1.19           H  \\nATOM    252  HB3 ASP A 232      -3.237 -11.329 -17.792  1.00  1.24           H  \\nATOM    253  N   PRO A 233      -0.004 -11.250 -17.072  1.00  0.83           N  \\nATOM    254  CA  PRO A 233       1.073 -10.256 -17.291  1.00  0.79           C  \\nATOM    255  C   PRO A 233       0.557  -9.042 -18.089  1.00  0.69           C  \\nATOM    256  O   PRO A 233       1.319  -8.163 -18.439  1.00  0.69           O  \\nATOM    257  CB  PRO A 233       2.155 -11.016 -18.097  1.00  0.94           C  \\nATOM    258  CG  PRO A 233       1.526 -12.361 -18.554  1.00  1.05           C  \\nATOM    259  CD  PRO A 233       0.201 -12.536 -17.783  1.00  1.00           C  \\nATOM    260  HA  PRO A 233       1.477  -9.933 -16.346  1.00  0.78           H  \\nATOM    261  HB2 PRO A 233       2.464 -10.437 -18.960  1.00  0.93           H  \\nATOM    262  HB3 PRO A 233       3.012 -11.214 -17.468  1.00  1.03           H  \\nATOM    263  HG2 PRO A 233       1.336 -12.334 -19.622  1.00  1.06           H  \\nATOM    264  HG3 PRO A 233       2.195 -13.181 -18.326  1.00  1.18           H  \\nATOM    265  HD2 PRO A 233      -0.616 -12.725 -18.470  1.00  1.02           H  \\nATOM    266  HD3 PRO A 233       0.292 -13.344 -17.070  1.00  1.08           H  \\nATOM    267  N   VAL A 234      -0.714  -8.978 -18.392  1.00  0.67           N  \\nATOM    268  CA  VAL A 234      -1.225  -7.810 -19.177  1.00  0.64           C  \\nATOM    269  C   VAL A 234      -1.463  -6.619 -18.239  1.00  0.57           C  \\nATOM    270  O   VAL A 234      -1.696  -6.781 -17.058  1.00  0.64           O  \\nATOM    271  CB  VAL A 234      -2.529  -8.197 -19.897  1.00  0.75           C  \\nATOM    272  CG1 VAL A 234      -2.391  -9.608 -20.473  1.00  1.54           C  \\nATOM    273  CG2 VAL A 234      -3.715  -8.158 -18.922  1.00  1.68           C  \\nATOM    274  H   VAL A 234      -1.324  -9.692 -18.115  1.00  0.72           H  \\nATOM    275  HA  VAL A 234      -0.486  -7.532 -19.914  1.00  0.67           H  \\nATOM    276  HB  VAL A 234      -2.706  -7.501 -20.706  1.00  1.29           H  \\nATOM    277 HG11 VAL A 234      -1.527  -9.651 -21.118  1.00  2.12           H  \\nATOM    278 HG12 VAL A 234      -2.273 -10.315 -19.665  1.00  2.11           H  \\nATOM    279 HG13 VAL A 234      -3.277  -9.853 -21.039  1.00  2.04           H  \\nATOM    280 HG21 VAL A 234      -3.432  -8.629 -17.992  1.00  2.27           H  \\nATOM    281 HG22 VAL A 234      -3.992  -7.131 -18.736  1.00  2.16           H  \\nATOM    282 HG23 VAL A 234      -4.554  -8.684 -19.353  1.00  2.24           H  \\nATOM    283  N   TRP A 235      -1.400  -5.421 -18.758  1.00  0.51           N  \\nATOM    284  CA  TRP A 235      -1.615  -4.218 -17.901  1.00  0.44           C  \\nATOM    285  C   TRP A 235      -3.079  -4.160 -17.455  1.00  0.45           C  \\nATOM    286  O   TRP A 235      -3.933  -4.809 -18.025  1.00  0.56           O  \\nATOM    287  CB  TRP A 235      -1.280  -2.954 -18.700  1.00  0.45           C  \\nATOM    288  CG  TRP A 235       0.175  -2.956 -19.045  1.00  0.45           C  \\nATOM    289  CD1 TRP A 235       0.693  -3.358 -20.229  1.00  0.51           C  \\nATOM    290  CD2 TRP A 235       1.304  -2.551 -18.219  1.00  0.42           C  \\nATOM    291  NE1 TRP A 235       2.071  -3.229 -20.183  1.00  0.53           N  \\nATOM    292  CE2 TRP A 235       2.498  -2.736 -18.967  1.00  0.47           C  \\nATOM    293  CE3 TRP A 235       1.411  -2.047 -16.903  1.00  0.38           C  \\nATOM    294  CZ2 TRP A 235       3.756  -2.430 -18.426  1.00  0.49           C  \\nATOM    295  CZ3 TRP A 235       2.673  -1.737 -16.355  1.00  0.39           C  \\nATOM    296  CH2 TRP A 235       3.843  -1.928 -17.116  1.00  0.44           C  \\nATOM    297  H   TRP A 235      -1.207  -5.313 -19.712  1.00  0.58           H  \\nATOM    298  HA  TRP A 235      -0.969  -4.276 -17.030  1.00  0.42           H  \\nATOM    299  HB2 TRP A 235      -1.866  -2.935 -19.608  1.00  0.50           H  \\nATOM    300  HB3 TRP A 235      -1.507  -2.080 -18.106  1.00  0.44           H  \\nATOM    301  HD1 TRP A 235       0.124  -3.723 -21.071  1.00  0.56           H  \\nATOM    302  HE1 TRP A 235       2.683  -3.454 -20.913  1.00  0.58           H  \\nATOM    303  HE3 TRP A 235       0.518  -1.897 -16.313  1.00  0.36           H  \\nATOM    304  HZ2 TRP A 235       4.650  -2.578 -19.013  1.00  0.54           H  \\nATOM    305  HZ3 TRP A 235       2.743  -1.353 -15.348  1.00  0.37           H  \\nATOM    306  HH2 TRP A 235       4.807  -1.689 -16.692  1.00  0.47           H  \\nATOM    307  N   LYS A 236      -3.374  -3.380 -16.439  1.00  0.41           N  \\nATOM    308  CA  LYS A 236      -4.784  -3.261 -15.938  1.00  0.45           C  \\nATOM    309  C   LYS A 236      -5.236  -1.798 -16.065  1.00  0.45           C  \\nATOM    310  O   LYS A 236      -4.432  -0.907 -16.256  1.00  0.65           O  \\nATOM    311  CB  LYS A 236      -4.827  -3.716 -14.463  1.00  0.47           C  \\nATOM    312  CG  LYS A 236      -6.206  -4.309 -14.110  1.00  0.91           C  \\nATOM    313  CD  LYS A 236      -6.139  -5.026 -12.739  1.00  0.77           C  \\nATOM    314  CE  LYS A 236      -7.465  -4.863 -11.988  1.00  1.26           C  \\nATOM    315  NZ  LYS A 236      -8.593  -5.281 -12.866  1.00  1.43           N  \\nATOM    316  H   LYS A 236      -2.662  -2.867 -16.002  1.00  0.41           H  \\nATOM    317  HA  LYS A 236      -5.438  -3.882 -16.533  1.00  0.51           H  \\nATOM    318  HB2 LYS A 236      -4.068  -4.468 -14.303  1.00  0.77           H  \\nATOM    319  HB3 LYS A 236      -4.627  -2.872 -13.816  1.00  0.79           H  \\nATOM    320  HG2 LYS A 236      -6.934  -3.510 -14.073  1.00  1.49           H  \\nATOM    321  HG3 LYS A 236      -6.499  -5.022 -14.868  1.00  1.46           H  \\nATOM    322  HD2 LYS A 236      -5.946  -6.079 -12.891  1.00  1.21           H  \\nATOM    323  HD3 LYS A 236      -5.345  -4.605 -12.144  1.00  1.12           H  \\nATOM    324  HE2 LYS A 236      -7.454  -5.478 -11.101  1.00  1.82           H  \\nATOM    325  HE3 LYS A 236      -7.593  -3.828 -11.707  1.00  1.88           H  \\nATOM    326  HZ1 LYS A 236      -8.466  -6.277 -13.141  1.00  1.85           H  \\nATOM    327  HZ2 LYS A 236      -9.490  -5.173 -12.353  1.00  1.90           H  \\nATOM    328  HZ3 LYS A 236      -8.609  -4.685 -13.718  1.00  1.78           H  \\nATOM    329  N   GLY A 237      -6.517  -1.549 -15.973  1.00  0.43           N  \\nATOM    330  CA  GLY A 237      -7.032  -0.151 -16.106  1.00  0.41           C  \\nATOM    331  C   GLY A 237      -6.148   0.832 -15.313  1.00  0.35           C  \\nATOM    332  O   GLY A 237      -5.312   0.413 -14.537  1.00  0.33           O  \\nATOM    333  H   GLY A 237      -7.146  -2.287 -15.828  1.00  0.57           H  \\nATOM    334  HA2 GLY A 237      -7.030   0.118 -17.148  1.00  0.44           H  \\nATOM    335  HA3 GLY A 237      -8.042  -0.105 -15.727  1.00  0.45           H  \\nATOM    336  N   PRO A 238      -6.354   2.121 -15.530  1.00  0.35           N  \\nATOM    337  CA  PRO A 238      -5.574   3.164 -14.828  1.00  0.32           C  \\nATOM    338  C   PRO A 238      -5.933   3.190 -13.335  1.00  0.28           C  \\nATOM    339  O   PRO A 238      -6.971   2.708 -12.924  1.00  0.32           O  \\nATOM    340  CB  PRO A 238      -5.988   4.488 -15.513  1.00  0.37           C  \\nATOM    341  CG  PRO A 238      -7.238   4.181 -16.382  1.00  0.45           C  \\nATOM    342  CD  PRO A 238      -7.360   2.645 -16.486  1.00  0.44           C  \\nATOM    343  HA  PRO A 238      -4.518   2.993 -14.953  1.00  0.31           H  \\nATOM    344  HB2 PRO A 238      -6.224   5.243 -14.772  1.00  0.36           H  \\nATOM    345  HB3 PRO A 238      -5.186   4.842 -16.147  1.00  0.41           H  \\nATOM    346  HG2 PRO A 238      -8.123   4.594 -15.911  1.00  0.46           H  \\nATOM    347  HG3 PRO A 238      -7.120   4.609 -17.370  1.00  0.50           H  \\nATOM    348  HD2 PRO A 238      -8.356   2.320 -16.208  1.00  0.47           H  \\nATOM    349  HD3 PRO A 238      -7.123   2.323 -17.490  1.00  0.48           H  \\nATOM    350  N   ALA A 239      -5.080   3.771 -12.529  1.00  0.23           N  \\nATOM    351  CA  ALA A 239      -5.350   3.856 -11.060  1.00  0.22           C  \\nATOM    352  C   ALA A 239      -4.942   5.243 -10.547  1.00  0.20           C  \\nATOM    353  O   ALA A 239      -4.431   6.061 -11.285  1.00  0.21           O  \\nATOM    354  CB  ALA A 239      -4.538   2.780 -10.336  1.00  0.24           C  \\nATOM    355  H   ALA A 239      -4.258   4.162 -12.892  1.00  0.22           H  \\nATOM    356  HA  ALA A 239      -6.402   3.700 -10.871  1.00  0.25           H  \\nATOM    357  HB1 ALA A 239      -4.554   1.868 -10.916  1.00  1.04           H  \\nATOM    358  HB2 ALA A 239      -3.518   3.112 -10.219  1.00  1.07           H  \\nATOM    359  HB3 ALA A 239      -4.973   2.595  -9.365  1.00  0.99           H  \\nATOM    360  N   LYS A 240      -5.159   5.512  -9.283  1.00  0.20           N  \\nATOM    361  CA  LYS A 240      -4.782   6.845  -8.712  1.00  0.20           C  \\nATOM    362  C   LYS A 240      -3.432   6.735  -7.999  1.00  0.18           C  \\nATOM    363  O   LYS A 240      -3.173   5.776  -7.303  1.00  0.18           O  \\nATOM    364  CB  LYS A 240      -5.839   7.281  -7.696  1.00  0.25           C  \\nATOM    365  CG  LYS A 240      -7.119   7.685  -8.425  1.00  1.03           C  \\nATOM    366  CD  LYS A 240      -8.163   8.143  -7.397  1.00  1.42           C  \\nATOM    367  CE  LYS A 240      -9.517   8.436  -8.082  1.00  1.95           C  \\nATOM    368  NZ  LYS A 240      -9.956   9.813  -7.722  1.00  2.67           N  \\nATOM    369  H   LYS A 240      -5.568   4.833  -8.705  1.00  0.23           H  \\nATOM    370  HA  LYS A 240      -4.715   7.583  -9.503  1.00  0.21           H  \\nATOM    371  HB2 LYS A 240      -6.049   6.463  -7.024  1.00  0.88           H  \\nATOM    372  HB3 LYS A 240      -5.468   8.124  -7.132  1.00  0.80           H  \\nATOM    373  HG2 LYS A 240      -6.905   8.494  -9.109  1.00  1.67           H  \\nATOM    374  HG3 LYS A 240      -7.505   6.840  -8.974  1.00  1.66           H  \\nATOM    375  HD2 LYS A 240      -8.289   7.368  -6.653  1.00  1.75           H  \\nATOM    376  HD3 LYS A 240      -7.810   9.042  -6.912  1.00  2.03           H  \\nATOM    377  HE2 LYS A 240      -9.421   8.365  -9.156  1.00  2.28           H  \\nATOM    378  HE3 LYS A 240     -10.260   7.727  -7.743  1.00  2.43           H  \\nATOM    379  HZ1 LYS A 240      -9.181  10.306  -7.233  1.00  3.00           H  \\nATOM    380  HZ2 LYS A 240     -10.209  10.333  -8.585  1.00  3.10           H  \\nATOM    381  HZ3 LYS A 240     -10.784   9.761  -7.096  1.00  3.08           H  \\nATOM    382  N   LEU A 241      -2.581   7.719  -8.150  1.00  0.18           N  \\nATOM    383  CA  LEU A 241      -1.246   7.686  -7.471  1.00  0.18           C  \\nATOM    384  C   LEU A 241      -1.361   8.368  -6.101  1.00  0.20           C  \\nATOM    385  O   LEU A 241      -1.713   9.527  -6.012  1.00  0.25           O  \\nATOM    386  CB  LEU A 241      -0.227   8.440  -8.338  1.00  0.20           C  \\nATOM    387  CG  LEU A 241       1.111   8.602  -7.598  1.00  0.22           C  \\nATOM    388  CD1 LEU A 241       1.605   7.236  -7.103  1.00  0.21           C  \\nATOM    389  CD2 LEU A 241       2.140   9.225  -8.559  1.00  0.26           C  \\nATOM    390  H   LEU A 241      -2.823   8.489  -8.708  1.00  0.20           H  \\nATOM    391  HA  LEU A 241      -0.927   6.660  -7.347  1.00  0.16           H  \\nATOM    392  HB2 LEU A 241      -0.064   7.888  -9.250  1.00  0.20           H  \\nATOM    393  HB3 LEU A 241      -0.620   9.416  -8.580  1.00  0.23           H  \\nATOM    394  HG  LEU A 241       0.973   9.254  -6.750  1.00  0.24           H  \\nATOM    395 HD11 LEU A 241       1.444   6.493  -7.869  1.00  0.99           H  \\nATOM    396 HD12 LEU A 241       2.657   7.289  -6.869  1.00  0.96           H  \\nATOM    397 HD13 LEU A 241       1.060   6.959  -6.213  1.00  1.01           H  \\nATOM    398 HD21 LEU A 241       2.072   8.748  -9.526  1.00  1.02           H  \\nATOM    399 HD22 LEU A 241       1.935  10.279  -8.665  1.00  1.03           H  \\nATOM    400 HD23 LEU A 241       3.137   9.094  -8.165  1.00  1.11           H  \\nATOM    401  N   LEU A 242      -1.066   7.660  -5.033  1.00  0.21           N  \\nATOM    402  CA  LEU A 242      -1.159   8.265  -3.660  1.00  0.24           C  \\nATOM    403  C   LEU A 242       0.239   8.343  -3.031  1.00  0.25           C  \\nATOM    404  O   LEU A 242       0.809   9.408  -2.900  1.00  0.27           O  \\nATOM    405  CB  LEU A 242      -2.068   7.403  -2.761  1.00  0.26           C  \\nATOM    406  CG  LEU A 242      -3.290   6.882  -3.536  1.00  0.25           C  \\nATOM    407  CD1 LEU A 242      -4.024   5.848  -2.674  1.00  0.27           C  \\nATOM    408  CD2 LEU A 242      -4.248   8.037  -3.862  1.00  0.27           C  \\nATOM    409  H   LEU A 242      -0.784   6.727  -5.133  1.00  0.21           H  \\nATOM    410  HA  LEU A 242      -1.564   9.265  -3.719  1.00  0.26           H  \\nATOM    411  HB2 LEU A 242      -1.507   6.559  -2.386  1.00  0.26           H  \\nATOM    412  HB3 LEU A 242      -2.406   8.000  -1.927  1.00  0.29           H  \\nATOM    413  HG  LEU A 242      -2.967   6.407  -4.451  1.00  0.25           H  \\nATOM    414 HD11 LEU A 242      -4.066   6.190  -1.649  1.00  1.06           H  \\nATOM    415 HD12 LEU A 242      -5.027   5.712  -3.046  1.00  1.05           H  \\nATOM    416 HD13 LEU A 242      -3.495   4.907  -2.715  1.00  1.03           H  \\nATOM    417 HD21 LEU A 242      -3.713   8.826  -4.365  1.00  1.05           H  \\nATOM    418 HD22 LEU A 242      -5.037   7.676  -4.506  1.00  1.04           H  \\nATOM    419 HD23 LEU A 242      -4.678   8.418  -2.948  1.00  1.05           H  \\nATOM    420  N   TRP A 243       0.790   7.228  -2.626  1.00  0.24           N  \\nATOM    421  CA  TRP A 243       2.142   7.246  -1.987  1.00  0.25           C  \\nATOM    422  C   TRP A 243       3.225   7.078  -3.056  1.00  0.27           C  \\nATOM    423  O   TRP A 243       3.068   6.335  -4.004  1.00  0.29           O  \\nATOM    424  CB  TRP A 243       2.241   6.092  -0.975  1.00  0.27           C  \\nATOM    425  CG  TRP A 243       3.337   6.368   0.001  1.00  0.28           C  \\nATOM    426  CD1 TRP A 243       3.301   7.319   0.960  1.00  0.29           C  \\nATOM    427  CD2 TRP A 243       4.626   5.709   0.126  1.00  0.29           C  \\nATOM    428  NE1 TRP A 243       4.487   7.290   1.665  1.00  0.31           N  \\nATOM    429  CE2 TRP A 243       5.341   6.318   1.190  1.00  0.31           C  \\nATOM    430  CE3 TRP A 243       5.244   4.650  -0.575  1.00  0.30           C  \\nATOM    431  CZ2 TRP A 243       6.626   5.894   1.547  1.00  0.34           C  \\nATOM    432  CZ3 TRP A 243       6.539   4.220  -0.219  1.00  0.34           C  \\nATOM    433  CH2 TRP A 243       7.227   4.842   0.840  1.00  0.36           C  \\nATOM    434  H   TRP A 243       0.309   6.380  -2.729  1.00  0.24           H  \\nATOM    435  HA  TRP A 243       2.287   8.189  -1.475  1.00  0.27           H  \\nATOM    436  HB2 TRP A 243       1.304   5.990  -0.447  1.00  0.28           H  \\nATOM    437  HB3 TRP A 243       2.459   5.175  -1.498  1.00  0.30           H  \\nATOM    438  HD1 TRP A 243       2.479   7.987   1.147  1.00  0.30           H  \\nATOM    439  HE1 TRP A 243       4.712   7.877   2.413  1.00  0.33           H  \\nATOM    440  HE3 TRP A 243       4.722   4.167  -1.388  1.00  0.30           H  \\nATOM    441  HZ2 TRP A 243       7.151   6.375   2.359  1.00  0.37           H  \\nATOM    442  HZ3 TRP A 243       7.004   3.411  -0.761  1.00  0.36           H  \\nATOM    443  HH2 TRP A 243       8.219   4.510   1.108  1.00  0.39           H  \\nATOM    444  N   LYS A 244       4.330   7.757  -2.900  1.00  0.30           N  \\nATOM    445  CA  LYS A 244       5.438   7.639  -3.893  1.00  0.34           C  \\nATOM    446  C   LYS A 244       6.778   7.801  -3.170  1.00  0.37           C  \\nATOM    447  O   LYS A 244       7.033   8.810  -2.542  1.00  0.44           O  \\nATOM    448  CB  LYS A 244       5.289   8.738  -4.947  1.00  0.42           C  \\nATOM    449  CG  LYS A 244       6.316   8.525  -6.061  1.00  0.71           C  \\nATOM    450  CD  LYS A 244       6.255   9.698  -7.043  1.00  0.89           C  \\nATOM    451  CE  LYS A 244       7.501   9.688  -7.928  1.00  1.37           C  \\nATOM    452  NZ  LYS A 244       7.374  10.744  -8.974  1.00  2.08           N  \\nATOM    453  H   LYS A 244       4.434   8.343  -2.121  1.00  0.32           H  \\nATOM    454  HA  LYS A 244       5.402   6.670  -4.373  1.00  0.35           H  \\nATOM    455  HB2 LYS A 244       4.293   8.704  -5.362  1.00  0.75           H  \\nATOM    456  HB3 LYS A 244       5.455   9.700  -4.485  1.00  0.84           H  \\nATOM    457  HG2 LYS A 244       7.306   8.464  -5.633  1.00  1.23           H  \\nATOM    458  HG3 LYS A 244       6.093   7.608  -6.586  1.00  1.17           H  \\nATOM    459  HD2 LYS A 244       5.372   9.605  -7.660  1.00  1.42           H  \\nATOM    460  HD3 LYS A 244       6.214  10.627  -6.493  1.00  1.38           H  \\nATOM    461  HE2 LYS A 244       8.373   9.884  -7.323  1.00  1.95           H  \\nATOM    462  HE3 LYS A 244       7.599   8.722  -8.402  1.00  1.86           H  \\nATOM    463  HZ1 LYS A 244       6.369  10.906  -9.184  1.00  2.67           H  \\nATOM    464  HZ2 LYS A 244       7.802  11.627  -8.628  1.00  2.53           H  \\nATOM    465  HZ3 LYS A 244       7.863  10.437  -9.838  1.00  2.40           H  \\nATOM    466  N   GLY A 245       7.638   6.819  -3.248  1.00  0.34           N  \\nATOM    467  CA  GLY A 245       8.959   6.931  -2.557  1.00  0.39           C  \\nATOM    468  C   GLY A 245       9.989   6.030  -3.241  1.00  0.36           C  \\nATOM    469  O   GLY A 245      10.504   6.346  -4.296  1.00  0.36           O  \\nATOM    470  H   GLY A 245       7.417   6.012  -3.757  1.00  0.31           H  \\nATOM    471  HA2 GLY A 245       9.299   7.956  -2.594  1.00  0.44           H  \\nATOM    472  HA3 GLY A 245       8.852   6.626  -1.528  1.00  0.44           H  \\nATOM    473  N   GLU A 246      10.301   4.913  -2.641  1.00  0.36           N  \\nATOM    474  CA  GLU A 246      11.308   3.991  -3.244  1.00  0.35           C  \\nATOM    475  C   GLU A 246      10.727   3.340  -4.501  1.00  0.33           C  \\nATOM    476  O   GLU A 246       9.859   3.889  -5.151  1.00  0.32           O  \\nATOM    477  CB  GLU A 246      11.669   2.901  -2.228  1.00  0.38           C  \\nATOM    478  CG  GLU A 246      12.188   3.547  -0.939  1.00  0.42           C  \\nATOM    479  CD  GLU A 246      12.172   2.516   0.191  1.00  0.46           C  \\nATOM    480  OE1 GLU A 246      11.123   2.337   0.789  1.00  1.11           O  \\nATOM    481  OE2 GLU A 246      13.208   1.922   0.440  1.00  1.23           O  \\nATOM    482  H   GLU A 246       9.879   4.683  -1.787  1.00  0.39           H  \\nATOM    483  HA  GLU A 246      12.198   4.547  -3.503  1.00  0.35           H  \\nATOM    484  HB2 GLU A 246      10.789   2.311  -2.009  1.00  0.40           H  \\nATOM    485  HB3 GLU A 246      12.436   2.263  -2.642  1.00  0.39           H  \\nATOM    486  HG2 GLU A 246      13.200   3.896  -1.095  1.00  0.44           H  \\nATOM    487  HG3 GLU A 246      11.558   4.381  -0.672  1.00  0.43           H  \\nATOM    488  N   GLY A 247      11.197   2.169  -4.847  1.00  0.35           N  \\nATOM    489  CA  GLY A 247      10.670   1.479  -6.060  1.00  0.35           C  \\nATOM    490  C   GLY A 247       9.305   0.866  -5.741  1.00  0.32           C  \\nATOM    491  O   GLY A 247       9.048  -0.289  -6.018  1.00  0.34           O  \\nATOM    492  H   GLY A 247      11.894   1.744  -4.306  1.00  0.37           H  \\nATOM    493  HA2 GLY A 247      10.569   2.193  -6.866  1.00  0.36           H  \\nATOM    494  HA3 GLY A 247      11.353   0.696  -6.354  1.00  0.39           H  \\nATOM    495  N   ALA A 248       8.428   1.640  -5.164  1.00  0.28           N  \\nATOM    496  CA  ALA A 248       7.073   1.129  -4.816  1.00  0.26           C  \\nATOM    497  C   ALA A 248       6.076   2.281  -4.918  1.00  0.24           C  \\nATOM    498  O   ALA A 248       6.408   3.424  -4.666  1.00  0.29           O  \\nATOM    499  CB  ALA A 248       7.082   0.582  -3.387  1.00  0.29           C  \\nATOM    500  H   ALA A 248       8.661   2.566  -4.960  1.00  0.29           H  \\nATOM    501  HA  ALA A 248       6.789   0.346  -5.503  1.00  0.27           H  \\nATOM    502  HB1 ALA A 248       7.466   1.334  -2.716  1.00  1.05           H  \\nATOM    503  HB2 ALA A 248       6.077   0.318  -3.096  1.00  1.04           H  \\nATOM    504  HB3 ALA A 248       7.711  -0.295  -3.342  1.00  1.07           H  \\nATOM    505  N   VAL A 249       4.858   1.996  -5.290  1.00  0.22           N  \\nATOM    506  CA  VAL A 249       3.835   3.076  -5.418  1.00  0.23           C  \\nATOM    507  C   VAL A 249       2.484   2.565  -4.922  1.00  0.21           C  \\nATOM    508  O   VAL A 249       1.988   1.551  -5.370  1.00  0.23           O  \\nATOM    509  CB  VAL A 249       3.719   3.493  -6.895  1.00  0.27           C  \\nATOM    510  CG1 VAL A 249       4.854   4.460  -7.256  1.00  0.29           C  \\nATOM    511  CG2 VAL A 249       3.819   2.249  -7.786  1.00  0.32           C  \\nATOM    512  H   VAL A 249       4.614   1.068  -5.492  1.00  0.22           H  \\nATOM    513  HA  VAL A 249       4.126   3.934  -4.826  1.00  0.26           H  \\nATOM    514  HB  VAL A 249       2.767   3.981  -7.063  1.00  0.38           H  \\nATOM    515 HG11 VAL A 249       5.778   4.108  -6.822  1.00  1.03           H  \\nATOM    516 HG12 VAL A 249       4.957   4.510  -8.331  1.00  1.03           H  \\nATOM    517 HG13 VAL A 249       4.625   5.442  -6.871  1.00  1.07           H  \\nATOM    518 HG21 VAL A 249       3.230   1.450  -7.362  1.00  1.05           H  \\nATOM    519 HG22 VAL A 249       3.448   2.484  -8.773  1.00  1.08           H  \\nATOM    520 HG23 VAL A 249       4.851   1.936  -7.855  1.00  1.09           H  \\nATOM    521  N   VAL A 250       1.877   3.270  -4.006  1.00  0.21           N  \\nATOM    522  CA  VAL A 250       0.545   2.840  -3.499  1.00  0.22           C  \\nATOM    523  C   VAL A 250      -0.517   3.443  -4.415  1.00  0.21           C  \\nATOM    524  O   VAL A 250      -0.434   4.598  -4.788  1.00  0.22           O  \\nATOM    525  CB  VAL A 250       0.337   3.347  -2.067  1.00  0.26           C  \\nATOM    526  CG1 VAL A 250      -1.020   2.864  -1.551  1.00  0.31           C  \\nATOM    527  CG2 VAL A 250       1.452   2.811  -1.158  1.00  0.28           C  \\nATOM    528  H   VAL A 250       2.290   4.091  -3.666  1.00  0.23           H  \\nATOM    529  HA  VAL A 250       0.471   1.762  -3.522  1.00  0.23           H  \\nATOM    530  HB  VAL A 250       0.350   4.426  -2.062  1.00  0.26           H  \\nATOM    531 HG11 VAL A 250      -1.162   1.831  -1.830  1.00  1.01           H  \\nATOM    532 HG12 VAL A 250      -1.052   2.955  -0.475  1.00  1.01           H  \\nATOM    533 HG13 VAL A 250      -1.801   3.468  -1.985  1.00  1.06           H  \\nATOM    534 HG21 VAL A 250       2.398   2.858  -1.677  1.00  1.01           H  \\nATOM    535 HG22 VAL A 250       1.505   3.414  -0.262  1.00  1.09           H  \\nATOM    536 HG23 VAL A 250       1.241   1.785  -0.890  1.00  1.05           H  \\nATOM    537  N   ILE A 251      -1.502   2.672  -4.802  1.00  0.21           N  \\nATOM    538  CA  ILE A 251      -2.555   3.204  -5.719  1.00  0.20           C  \\nATOM    539  C   ILE A 251      -3.933   2.727  -5.268  1.00  0.22           C  \\nATOM    540  O   ILE A 251      -4.070   1.989  -4.313  1.00  0.24           O  \\nATOM    541  CB  ILE A 251      -2.299   2.692  -7.141  1.00  0.19           C  \\nATOM    542  CG1 ILE A 251      -2.101   1.169  -7.106  1.00  0.21           C  \\nATOM    543  CG2 ILE A 251      -1.048   3.363  -7.709  1.00  0.17           C  \\nATOM    544  CD1 ILE A 251      -2.000   0.595  -8.541  1.00  0.21           C  \\nATOM    545  H   ILE A 251      -1.538   1.740  -4.504  1.00  0.22           H  \\nATOM    546  HA  ILE A 251      -2.535   4.279  -5.718  1.00  0.19           H  \\nATOM    547  HB  ILE A 251      -3.149   2.932  -7.765  1.00  0.21           H  \\nATOM    548 HG12 ILE A 251      -1.194   0.944  -6.562  1.00  0.24           H  \\nATOM    549 HG13 ILE A 251      -2.941   0.716  -6.598  1.00  0.26           H  \\nATOM    550 HG21 ILE A 251      -0.237   3.265  -7.005  1.00  1.04           H  \\nATOM    551 HG22 ILE A 251      -0.776   2.892  -8.641  1.00  1.02           H  \\nATOM    552 HG23 ILE A 251      -1.251   4.409  -7.880  1.00  1.02           H  \\nATOM    553 HD11 ILE A 251      -2.422   1.290  -9.253  1.00  1.03           H  \\nATOM    554 HD12 ILE A 251      -0.962   0.419  -8.790  1.00  1.06           H  \\nATOM    555 HD13 ILE A 251      -2.540  -0.341  -8.596  1.00  0.99           H  \\nATOM    556  N   GLN A 252      -4.957   3.138  -5.967  1.00  0.23           N  \\nATOM    557  CA  GLN A 252      -6.341   2.702  -5.610  1.00  0.27           C  \\nATOM    558  C   GLN A 252      -7.142   2.509  -6.894  1.00  0.29           C  \\nATOM    559  O   GLN A 252      -7.426   3.452  -7.606  1.00  0.31           O  \\nATOM    560  CB  GLN A 252      -7.034   3.757  -4.745  1.00  0.29           C  \\nATOM    561  CG  GLN A 252      -8.309   3.166  -4.143  1.00  0.31           C  \\nATOM    562  CD  GLN A 252      -9.040   4.243  -3.340  1.00  0.33           C  \\nATOM    563  OE1 GLN A 252      -9.739   5.064  -3.900  1.00  0.67           O  \\nATOM    564  NE2 GLN A 252      -8.907   4.275  -2.043  1.00  0.48           N  \\nATOM    565  H   GLN A 252      -4.812   3.729  -6.740  1.00  0.23           H  \\nATOM    566  HA  GLN A 252      -6.299   1.767  -5.068  1.00  0.27           H  \\nATOM    567  HB2 GLN A 252      -6.374   4.061  -3.951  1.00  0.32           H  \\nATOM    568  HB3 GLN A 252      -7.291   4.613  -5.349  1.00  0.34           H  \\nATOM    569  HG2 GLN A 252      -8.950   2.810  -4.938  1.00  0.39           H  \\nATOM    570  HG3 GLN A 252      -8.053   2.345  -3.492  1.00  0.35           H  \\nATOM    571 HE21 GLN A 252      -8.344   3.612  -1.591  1.00  0.79           H  \\nATOM    572 HE22 GLN A 252      -9.372   4.963  -1.520  1.00  0.47           H  \\nATOM    573  N   ASP A 253      -7.520   1.299  -7.193  1.00  0.32           N  \\nATOM    574  CA  ASP A 253      -8.320   1.049  -8.427  1.00  0.36           C  \\nATOM    575  C   ASP A 253      -9.793   1.096  -8.033  1.00  0.40           C  \\nATOM    576  O   ASP A 253     -10.466   2.088  -8.231  1.00  0.42           O  \\nATOM    577  CB  ASP A 253      -7.959  -0.324  -9.001  1.00  0.39           C  \\nATOM    578  CG  ASP A 253      -8.551  -0.460 -10.407  1.00  0.48           C  \\nATOM    579  OD1 ASP A 253      -8.189   0.333 -11.259  1.00  1.26           O  \\nATOM    580  OD2 ASP A 253      -9.355  -1.356 -10.605  1.00  1.13           O  \\nATOM    581  H   ASP A 253      -7.288   0.552  -6.602  1.00  0.31           H  \\nATOM    582  HA  ASP A 253      -8.117   1.818  -9.162  1.00  0.36           H  \\nATOM    583  HB2 ASP A 253      -6.880  -0.416  -9.051  1.00  0.38           H  \\nATOM    584  HB3 ASP A 253      -8.356  -1.102  -8.366  1.00  0.40           H  \\nATOM    585  N   ASN A 254     -10.289   0.052  -7.436  1.00  0.42           N  \\nATOM    586  CA  ASN A 254     -11.704   0.068  -6.980  1.00  0.46           C  \\nATOM    587  C   ASN A 254     -11.721   0.804  -5.641  1.00  0.44           C  \\nATOM    588  O   ASN A 254     -11.094   1.834  -5.493  1.00  0.45           O  \\nATOM    589  CB  ASN A 254     -12.203  -1.367  -6.791  1.00  0.50           C  \\nATOM    590  CG  ASN A 254     -12.182  -2.097  -8.133  1.00  1.28           C  \\nATOM    591  OD1 ASN A 254     -11.180  -2.103  -8.820  1.00  2.10           O  \\nATOM    592  ND2 ASN A 254     -13.254  -2.717  -8.542  1.00  1.93           N  \\nATOM    593  H   ASN A 254      -9.723  -0.727  -7.253  1.00  0.41           H  \\nATOM    594  HA  ASN A 254     -12.323   0.588  -7.699  1.00  0.50           H  \\nATOM    595  HB2 ASN A 254     -11.561  -1.882  -6.089  1.00  1.04           H  \\nATOM    596  HB3 ASN A 254     -13.213  -1.351  -6.410  1.00  0.90           H  \\nATOM    597 HD21 ASN A 254     -14.063  -2.711  -7.990  1.00  2.18           H  \\nATOM    598 HD22 ASN A 254     -13.250  -3.189  -9.401  1.00  2.57           H  \\nATOM    599  N   SER A 255     -12.388   0.271  -4.653  1.00  0.44           N  \\nATOM    600  CA  SER A 255     -12.398   0.924  -3.308  1.00  0.43           C  \\nATOM    601  C   SER A 255     -11.467   0.127  -2.395  1.00  0.40           C  \\nATOM    602  O   SER A 255     -11.853  -0.343  -1.344  1.00  0.42           O  \\nATOM    603  CB  SER A 255     -13.819   0.916  -2.740  1.00  0.48           C  \\nATOM    604  OG  SER A 255     -14.738   1.246  -3.773  1.00  1.37           O  \\nATOM    605  H   SER A 255     -12.858  -0.578  -4.784  1.00  0.46           H  \\nATOM    606  HA  SER A 255     -12.037   1.946  -3.382  1.00  0.42           H  \\nATOM    607  HB2 SER A 255     -14.055  -0.063  -2.357  1.00  1.18           H  \\nATOM    608  HB3 SER A 255     -13.889   1.640  -1.938  1.00  1.11           H  \\nATOM    609  HG  SER A 255     -15.611   1.321  -3.380  1.00  1.89           H  \\nATOM    610  N   ASP A 256     -10.241  -0.038  -2.811  1.00  0.36           N  \\nATOM    611  CA  ASP A 256      -9.261  -0.814  -2.001  1.00  0.35           C  \\nATOM    612  C   ASP A 256      -7.849  -0.355  -2.364  1.00  0.31           C  \\nATOM    613  O   ASP A 256      -7.463  -0.351  -3.517  1.00  0.30           O  \\nATOM    614  CB  ASP A 256      -9.405  -2.306  -2.310  1.00  0.37           C  \\nATOM    615  CG  ASP A 256     -10.683  -2.841  -1.661  1.00  0.42           C  \\nATOM    616  OD1 ASP A 256     -10.992  -2.409  -0.563  1.00  1.27           O  \\nATOM    617  OD2 ASP A 256     -11.327  -3.678  -2.271  1.00  1.04           O  \\nATOM    618  H   ASP A 256      -9.965   0.344  -3.670  1.00  0.36           H  \\nATOM    619  HA  ASP A 256      -9.438  -0.641  -0.949  1.00  0.36           H  \\nATOM    620  HB2 ASP A 256      -9.458  -2.447  -3.380  1.00  0.38           H  \\nATOM    621  HB3 ASP A 256      -8.552  -2.840  -1.917  1.00  0.38           H  \\nATOM    622  N   ILE A 257      -7.081   0.049  -1.392  1.00  0.31           N  \\nATOM    623  CA  ILE A 257      -5.694   0.523  -1.674  1.00  0.29           C  \\nATOM    624  C   ILE A 257      -4.714  -0.643  -1.535  1.00  0.31           C  \\nATOM    625  O   ILE A 257      -4.815  -1.447  -0.630  1.00  0.36           O  \\nATOM    626  CB  ILE A 257      -5.345   1.632  -0.680  1.00  0.30           C  \\nATOM    627  CG1 ILE A 257      -6.395   2.743  -0.807  1.00  0.33           C  \\nATOM    628  CG2 ILE A 257      -3.954   2.179  -1.004  1.00  0.28           C  \\nATOM    629  CD1 ILE A 257      -6.093   3.888   0.171  1.00  0.33           C  \\nATOM    630  H   ILE A 257      -7.418   0.050  -0.472  1.00  0.34           H  \\nATOM    631  HA  ILE A 257      -5.640   0.916  -2.679  1.00  0.27           H  \\nATOM    632  HB  ILE A 257      -5.353   1.234   0.325  1.00  0.36           H  \\nATOM    633 HG12 ILE A 257      -6.390   3.120  -1.820  1.00  0.33           H  \\nATOM    634 HG13 ILE A 257      -7.371   2.334  -0.587  1.00  0.42           H  \\nATOM    635 HG21 ILE A 257      -3.938   2.534  -2.023  1.00  1.05           H  \\nATOM    636 HG22 ILE A 257      -3.714   2.991  -0.333  1.00  1.04           H  \\nATOM    637 HG23 ILE A 257      -3.227   1.392  -0.886  1.00  1.02           H  \\nATOM    638 HD11 ILE A 257      -5.649   3.492   1.073  1.00  1.01           H  \\nATOM    639 HD12 ILE A 257      -5.410   4.585  -0.292  1.00  1.01           H  \\nATOM    640 HD13 ILE A 257      -7.013   4.400   0.420  1.00  1.04           H  \\nATOM    641  N   LYS A 258      -3.768  -0.746  -2.438  1.00  0.28           N  \\nATOM    642  CA  LYS A 258      -2.782  -1.869  -2.380  1.00  0.30           C  \\nATOM    643  C   LYS A 258      -1.385  -1.360  -2.745  1.00  0.28           C  \\nATOM    644  O   LYS A 258      -1.216  -0.256  -3.222  1.00  0.27           O  \\nATOM    645  CB  LYS A 258      -3.199  -2.951  -3.380  1.00  0.32           C  \\nATOM    646  CG  LYS A 258      -4.398  -3.724  -2.828  1.00  0.37           C  \\nATOM    647  CD  LYS A 258      -4.934  -4.685  -3.899  1.00  0.49           C  \\nATOM    648  CE  LYS A 258      -5.821  -5.764  -3.251  1.00  1.11           C  \\nATOM    649  NZ  LYS A 258      -6.917  -6.126  -4.193  1.00  1.87           N  \\nATOM    650  H   LYS A 258      -3.714  -0.088  -3.162  1.00  0.25           H  \\nATOM    651  HA  LYS A 258      -2.760  -2.290  -1.387  1.00  0.33           H  \\nATOM    652  HB2 LYS A 258      -3.471  -2.488  -4.318  1.00  0.30           H  \\nATOM    653  HB3 LYS A 258      -2.377  -3.634  -3.541  1.00  0.33           H  \\nATOM    654  HG2 LYS A 258      -4.093  -4.286  -1.958  1.00  0.43           H  \\nATOM    655  HG3 LYS A 258      -5.177  -3.028  -2.553  1.00  0.41           H  \\nATOM    656  HD2 LYS A 258      -5.516  -4.128  -4.618  1.00  0.82           H  \\nATOM    657  HD3 LYS A 258      -4.104  -5.160  -4.405  1.00  0.94           H  \\nATOM    658  HE2 LYS A 258      -5.229  -6.642  -3.037  1.00  1.69           H  \\nATOM    659  HE3 LYS A 258      -6.251  -5.389  -2.332  1.00  1.71           H  \\nATOM    660  HZ1 LYS A 258      -7.265  -5.267  -4.665  1.00  2.33           H  \\nATOM    661  HZ2 LYS A 258      -6.558  -6.793  -4.905  1.00  2.39           H  \\nATOM    662  HZ3 LYS A 258      -7.695  -6.571  -3.664  1.00  2.35           H  \\nATOM    663  N   VAL A 259      -0.382  -2.175  -2.533  1.00  0.28           N  \\nATOM    664  CA  VAL A 259       1.018  -1.775  -2.872  1.00  0.27           C  \\nATOM    665  C   VAL A 259       1.426  -2.450  -4.183  1.00  0.26           C  \\nATOM    666  O   VAL A 259       1.114  -3.602  -4.418  1.00  0.27           O  \\nATOM    667  CB  VAL A 259       1.963  -2.222  -1.749  1.00  0.29           C  \\nATOM    668  CG1 VAL A 259       3.291  -1.469  -1.862  1.00  0.33           C  \\nATOM    669  CG2 VAL A 259       1.321  -1.922  -0.393  1.00  0.35           C  \\nATOM    670  H   VAL A 259      -0.553  -3.064  -2.156  1.00  0.29           H  \\nATOM    671  HA  VAL A 259       1.076  -0.703  -2.989  1.00  0.26           H  \\nATOM    672  HB  VAL A 259       2.146  -3.285  -1.833  1.00  0.31           H  \\nATOM    673 HG11 VAL A 259       3.612  -1.459  -2.893  1.00  1.05           H  \\nATOM    674 HG12 VAL A 259       3.160  -0.454  -1.516  1.00  1.13           H  \\nATOM    675 HG13 VAL A 259       4.036  -1.963  -1.257  1.00  0.99           H  \\nATOM    676 HG21 VAL A 259       0.919  -0.920  -0.399  1.00  1.09           H  \\nATOM    677 HG22 VAL A 259       0.525  -2.629  -0.207  1.00  1.08           H  \\nATOM    678 HG23 VAL A 259       2.066  -2.007   0.384  1.00  1.06           H  \\nATOM    679  N   VAL A 260       2.122  -1.743  -5.042  1.00  0.25           N  \\nATOM    680  CA  VAL A 260       2.558  -2.334  -6.345  1.00  0.25           C  \\nATOM    681  C   VAL A 260       4.038  -1.959  -6.597  1.00  0.25           C  \\nATOM    682  O   VAL A 260       4.373  -0.795  -6.505  1.00  0.24           O  \\nATOM    683  CB  VAL A 260       1.695  -1.739  -7.464  1.00  0.27           C  \\nATOM    684  CG1 VAL A 260       2.110  -2.332  -8.811  1.00  0.32           C  \\nATOM    685  CG2 VAL A 260       0.224  -2.067  -7.199  1.00  0.28           C  \\nATOM    686  H   VAL A 260       2.359  -0.818  -4.829  1.00  0.25           H  \\nATOM    687  HA  VAL A 260       2.422  -3.397  -6.322  1.00  0.27           H  \\nATOM    688  HB  VAL A 260       1.827  -0.667  -7.488  1.00  0.30           H  \\nATOM    689 HG11 VAL A 260       2.011  -3.406  -8.776  1.00  1.01           H  \\nATOM    690 HG12 VAL A 260       1.472  -1.939  -9.587  1.00  1.11           H  \\nATOM    691 HG13 VAL A 260       3.135  -2.071  -9.022  1.00  1.10           H  \\nATOM    692 HG21 VAL A 260       0.131  -3.109  -6.929  1.00  1.05           H  \\nATOM    693 HG22 VAL A 260      -0.142  -1.452  -6.392  1.00  1.04           H  \\nATOM    694 HG23 VAL A 260      -0.354  -1.873  -8.091  1.00  1.07           H  \\nATOM    695  N   PRO A 261       4.900  -2.919  -6.916  1.00  0.27           N  \\nATOM    696  CA  PRO A 261       6.314  -2.593  -7.180  1.00  0.29           C  \\nATOM    697  C   PRO A 261       6.402  -1.553  -8.305  1.00  0.26           C  \\nATOM    698  O   PRO A 261       5.696  -1.632  -9.290  1.00  0.25           O  \\nATOM    699  CB  PRO A 261       6.968  -3.930  -7.600  1.00  0.33           C  \\nATOM    700  CG  PRO A 261       5.895  -5.042  -7.443  1.00  0.37           C  \\nATOM    701  CD  PRO A 261       4.570  -4.360  -7.033  1.00  0.32           C  \\nATOM    702  HA  PRO A 261       6.782  -2.216  -6.284  1.00  0.30           H  \\nATOM    703  HB2 PRO A 261       7.300  -3.879  -8.634  1.00  0.34           H  \\nATOM    704  HB3 PRO A 261       7.814  -4.147  -6.961  1.00  0.35           H  \\nATOM    705  HG2 PRO A 261       5.768  -5.569  -8.381  1.00  0.40           H  \\nATOM    706  HG3 PRO A 261       6.197  -5.741  -6.674  1.00  0.43           H  \\nATOM    707  HD2 PRO A 261       3.815  -4.516  -7.793  1.00  0.30           H  \\nATOM    708  HD3 PRO A 261       4.233  -4.742  -6.079  1.00  0.34           H  \\nATOM    709  N   ARG A 262       7.268  -0.589  -8.171  1.00  0.29           N  \\nATOM    710  CA  ARG A 262       7.395   0.442  -9.237  1.00  0.30           C  \\nATOM    711  C   ARG A 262       7.740  -0.243 -10.568  1.00  0.30           C  \\nATOM    712  O   ARG A 262       7.437   0.256 -11.634  1.00  0.31           O  \\nATOM    713  CB  ARG A 262       8.505   1.430  -8.860  1.00  0.37           C  \\nATOM    714  CG  ARG A 262       8.808   2.349 -10.051  1.00  0.54           C  \\nATOM    715  CD  ARG A 262       9.505   3.623  -9.562  1.00  1.02           C  \\nATOM    716  NE  ARG A 262      10.043   4.375 -10.730  1.00  1.61           N  \\nATOM    717  CZ  ARG A 262      10.389   5.626 -10.595  1.00  2.04           C  \\nATOM    718  NH1 ARG A 262      10.253   6.223  -9.442  1.00  2.30           N  \\nATOM    719  NH2 ARG A 262      10.871   6.283 -11.616  1.00  2.87           N  \\nATOM    720  H   ARG A 262       7.835  -0.543  -7.374  1.00  0.34           H  \\nATOM    721  HA  ARG A 262       6.460   0.976  -9.332  1.00  0.29           H  \\nATOM    722  HB2 ARG A 262       8.181   2.023  -8.015  1.00  0.62           H  \\nATOM    723  HB3 ARG A 262       9.398   0.883  -8.594  1.00  0.61           H  \\nATOM    724  HG2 ARG A 262       9.451   1.828 -10.745  1.00  0.98           H  \\nATOM    725  HG3 ARG A 262       7.885   2.616 -10.547  1.00  1.09           H  \\nATOM    726  HD2 ARG A 262       8.793   4.240  -9.032  1.00  1.63           H  \\nATOM    727  HD3 ARG A 262      10.316   3.359  -8.902  1.00  1.52           H  \\nATOM    728  HE  ARG A 262      10.138   3.931 -11.598  1.00  2.21           H  \\nATOM    729 HH11 ARG A 262       9.882   5.720  -8.661  1.00  2.22           H  \\nATOM    730 HH12 ARG A 262      10.519   7.181  -9.340  1.00  2.98           H  \\nATOM    731 HH21 ARG A 262      10.972   5.828 -12.500  1.00  3.28           H  \\nATOM    732 HH22 ARG A 262      11.136   7.242 -11.513  1.00  3.32           H  \\nATOM    733  N   ARG A 263       8.383  -1.379 -10.508  1.00  0.33           N  \\nATOM    734  CA  ARG A 263       8.768  -2.108 -11.758  1.00  0.37           C  \\nATOM    735  C   ARG A 263       7.518  -2.647 -12.467  1.00  0.36           C  \\nATOM    736  O   ARG A 263       7.581  -3.041 -13.615  1.00  0.41           O  \\nATOM    737  CB  ARG A 263       9.686  -3.294 -11.388  1.00  0.46           C  \\nATOM    738  CG  ARG A 263      11.166  -2.893 -11.459  1.00  1.43           C  \\nATOM    739  CD  ARG A 263      12.024  -4.151 -11.309  1.00  1.73           C  \\nATOM    740  NE  ARG A 263      13.426  -3.774 -10.988  1.00  2.32           N  \\nATOM    741  CZ  ARG A 263      14.237  -4.670 -10.498  1.00  2.74           C  \\nATOM    742  NH1 ARG A 263      13.809  -5.884 -10.277  1.00  2.75           N  \\nATOM    743  NH2 ARG A 263      15.474  -4.354 -10.225  1.00  3.65           N  \\nATOM    744  H   ARG A 263       8.623  -1.750  -9.635  1.00  0.36           H  \\nATOM    745  HA  ARG A 263       9.287  -1.432 -12.420  1.00  0.41           H  \\nATOM    746  HB2 ARG A 263       9.458  -3.614 -10.384  1.00  1.07           H  \\nATOM    747  HB3 ARG A 263       9.516  -4.118 -12.068  1.00  1.06           H  \\nATOM    748  HG2 ARG A 263      11.372  -2.428 -12.414  1.00  2.08           H  \\nATOM    749  HG3 ARG A 263      11.395  -2.203 -10.662  1.00  2.06           H  \\nATOM    750  HD2 ARG A 263      11.627  -4.766 -10.512  1.00  1.96           H  \\nATOM    751  HD3 ARG A 263      12.008  -4.708 -12.233  1.00  2.28           H  \\nATOM    752  HE  ARG A 263      13.740  -2.860 -11.150  1.00  2.83           H  \\nATOM    753 HH11 ARG A 263      12.860  -6.124 -10.483  1.00  2.60           H  \\nATOM    754 HH12 ARG A 263      14.428  -6.572  -9.900  1.00  3.31           H  \\nATOM    755 HH21 ARG A 263      15.800  -3.424 -10.393  1.00  4.12           H  \\nATOM    756 HH22 ARG A 263      16.094  -5.043  -9.850  1.00  4.07           H  \\nATOM    757  N   LYS A 264       6.394  -2.681 -11.797  1.00  0.34           N  \\nATOM    758  CA  LYS A 264       5.144  -3.212 -12.432  1.00  0.38           C  \\nATOM    759  C   LYS A 264       4.110  -2.097 -12.489  1.00  0.32           C  \\nATOM    760  O   LYS A 264       2.918  -2.332 -12.567  1.00  0.34           O  \\nATOM    761  CB  LYS A 264       4.607  -4.382 -11.600  1.00  0.49           C  \\nATOM    762  CG  LYS A 264       5.692  -5.460 -11.482  1.00  0.78           C  \\nATOM    763  CD  LYS A 264       5.065  -6.794 -11.078  1.00  1.17           C  \\nATOM    764  CE  LYS A 264       6.143  -7.879 -11.083  1.00  1.36           C  \\nATOM    765  NZ  LYS A 264       5.590  -9.136 -10.505  1.00  2.06           N  \\nATOM    766  H   LYS A 264       6.371  -2.366 -10.870  1.00  0.33           H  \\nATOM    767  HA  LYS A 264       5.347  -3.555 -13.438  1.00  0.43           H  \\nATOM    768  HB2 LYS A 264       4.338  -4.030 -10.614  1.00  0.87           H  \\nATOM    769  HB3 LYS A 264       3.737  -4.799 -12.085  1.00  0.81           H  \\nATOM    770  HG2 LYS A 264       6.193  -5.575 -12.435  1.00  1.31           H  \\nATOM    771  HG3 LYS A 264       6.412  -5.162 -10.734  1.00  1.39           H  \\nATOM    772  HD2 LYS A 264       4.640  -6.709 -10.088  1.00  1.77           H  \\nATOM    773  HD3 LYS A 264       4.290  -7.058 -11.783  1.00  1.73           H  \\nATOM    774  HE2 LYS A 264       6.467  -8.062 -12.097  1.00  1.74           H  \\nATOM    775  HE3 LYS A 264       6.985  -7.551 -10.491  1.00  1.84           H  \\nATOM    776  HZ1 LYS A 264       4.564  -9.174 -10.678  1.00  2.62           H  \\nATOM    777  HZ2 LYS A 264       6.049  -9.954 -10.954  1.00  2.46           H  \\nATOM    778  HZ3 LYS A 264       5.773  -9.158  -9.483  1.00  2.43           H  \\nATOM    779  N   ALA A 265       4.575  -0.876 -12.470  1.00  0.27           N  \\nATOM    780  CA  ALA A 265       3.658   0.293 -12.538  1.00  0.23           C  \\nATOM    781  C   ALA A 265       4.274   1.349 -13.457  1.00  0.23           C  \\nATOM    782  O   ALA A 265       5.468   1.363 -13.686  1.00  0.27           O  \\nATOM    783  CB  ALA A 265       3.474   0.878 -11.134  1.00  0.23           C  \\nATOM    784  H   ALA A 265       5.543  -0.730 -12.421  1.00  0.28           H  \\nATOM    785  HA  ALA A 265       2.702  -0.012 -12.929  1.00  0.25           H  \\nATOM    786  HB1 ALA A 265       4.438   0.984 -10.659  1.00  1.03           H  \\nATOM    787  HB2 ALA A 265       3.000   1.846 -11.206  1.00  1.04           H  \\nATOM    788  HB3 ALA A 265       2.854   0.216 -10.548  1.00  1.04           H  \\nATOM    789  N   LYS A 266       3.470   2.232 -13.989  1.00  0.22           N  \\nATOM    790  CA  LYS A 266       3.999   3.294 -14.902  1.00  0.25           C  \\nATOM    791  C   LYS A 266       3.319   4.615 -14.553  1.00  0.24           C  \\nATOM    792  O   LYS A 266       2.116   4.686 -14.438  1.00  0.23           O  \\nATOM    793  CB  LYS A 266       3.689   2.918 -16.357  1.00  0.29           C  \\nATOM    794  CG  LYS A 266       4.363   1.583 -16.702  1.00  0.38           C  \\nATOM    795  CD  LYS A 266       4.497   1.442 -18.222  1.00  0.46           C  \\nATOM    796  CE  LYS A 266       3.134   1.653 -18.885  1.00  1.10           C  \\nATOM    797  NZ  LYS A 266       3.215   1.252 -20.318  1.00  2.06           N  \\nATOM    798  H   LYS A 266       2.512   2.197 -13.788  1.00  0.20           H  \\nATOM    799  HA  LYS A 266       5.067   3.397 -14.774  1.00  0.28           H  \\nATOM    800  HB2 LYS A 266       2.619   2.822 -16.484  1.00  0.34           H  \\nATOM    801  HB3 LYS A 266       4.060   3.691 -17.014  1.00  0.39           H  \\nATOM    802  HG2 LYS A 266       5.347   1.548 -16.253  1.00  0.50           H  \\nATOM    803  HG3 LYS A 266       3.765   0.769 -16.319  1.00  0.46           H  \\nATOM    804  HD2 LYS A 266       5.193   2.180 -18.592  1.00  0.87           H  \\nATOM    805  HD3 LYS A 266       4.859   0.454 -18.461  1.00  1.15           H  \\nATOM    806  HE2 LYS A 266       2.391   1.052 -18.383  1.00  1.55           H  \\nATOM    807  HE3 LYS A 266       2.858   2.695 -18.819  1.00  1.60           H  \\nATOM    808  HZ1 LYS A 266       4.196   1.346 -20.649  1.00  2.51           H  \\nATOM    809  HZ2 LYS A 266       2.907   0.263 -20.418  1.00  2.59           H  \\nATOM    810  HZ3 LYS A 266       2.600   1.867 -20.886  1.00  2.49           H  \\nATOM    811  N   ILE A 267       4.080   5.659 -14.356  1.00  0.28           N  \\nATOM    812  CA  ILE A 267       3.474   6.975 -13.983  1.00  0.31           C  \\nATOM    813  C   ILE A 267       3.086   7.747 -15.249  1.00  0.36           C  \\nATOM    814  O   ILE A 267       3.932   8.210 -15.987  1.00  0.41           O  \\nATOM    815  CB  ILE A 267       4.487   7.810 -13.168  1.00  0.37           C  \\nATOM    816  CG1 ILE A 267       5.259   6.927 -12.162  1.00  0.36           C  \\nATOM    817  CG2 ILE A 267       3.754   8.927 -12.413  1.00  0.41           C  \\nATOM    818  CD1 ILE A 267       4.364   6.528 -10.982  1.00  0.42           C  \\nATOM    819  H   ILE A 267       5.054   5.575 -14.435  1.00  0.31           H  \\nATOM    820  HA  ILE A 267       2.586   6.805 -13.392  1.00  0.28           H  \\nATOM    821  HB  ILE A 267       5.196   8.264 -13.850  1.00  0.41           H  \\nATOM    822 HG12 ILE A 267       5.618   6.038 -12.654  1.00  0.40           H  \\nATOM    823 HG13 ILE A 267       6.105   7.483 -11.786  1.00  0.44           H  \\nATOM    824 HG21 ILE A 267       2.906   8.518 -11.886  1.00  1.04           H  \\nATOM    825 HG22 ILE A 267       4.430   9.383 -11.704  1.00  1.06           H  \\nATOM    826 HG23 ILE A 267       3.416   9.673 -13.116  1.00  0.98           H  \\nATOM    827 HD11 ILE A 267       3.406   6.195 -11.344  1.00  1.10           H  \\nATOM    828 HD12 ILE A 267       4.836   5.728 -10.431  1.00  1.16           H  \\nATOM    829 HD13 ILE A 267       4.227   7.379 -10.330  1.00  1.07           H  \\nATOM    830  N   ILE A 268       1.804   7.904 -15.489  1.00  0.36           N  \\nATOM    831  CA  ILE A 268       1.332   8.665 -16.693  1.00  0.43           C  \\nATOM    832  C   ILE A 268       0.740   9.994 -16.214  1.00  0.46           C  \\nATOM    833  O   ILE A 268       0.298  10.114 -15.089  1.00  0.44           O  \\nATOM    834  CB  ILE A 268       0.245   7.866 -17.442  1.00  0.43           C  \\nATOM    835  CG1 ILE A 268       0.647   6.380 -17.579  1.00  0.42           C  \\nATOM    836  CG2 ILE A 268       0.013   8.470 -18.836  1.00  0.51           C  \\nATOM    837  CD1 ILE A 268       1.720   6.195 -18.663  1.00  0.52           C  \\nATOM    838  H   ILE A 268       1.147   7.530 -14.866  1.00  0.34           H  \\nATOM    839  HA  ILE A 268       2.161   8.870 -17.352  1.00  0.48           H  \\nATOM    840  HB  ILE A 268      -0.677   7.931 -16.884  1.00  0.42           H  \\nATOM    841 HG12 ILE A 268       1.022   6.015 -16.637  1.00  0.41           H  \\nATOM    842 HG13 ILE A 268      -0.226   5.808 -17.852  1.00  0.47           H  \\nATOM    843 HG21 ILE A 268       0.960   8.694 -19.302  1.00  1.04           H  \\nATOM    844 HG22 ILE A 268      -0.528   7.762 -19.448  1.00  1.17           H  \\nATOM    845 HG23 ILE A 268      -0.566   9.377 -18.742  1.00  1.14           H  \\nATOM    846 HD11 ILE A 268       2.432   7.001 -18.617  1.00  1.11           H  \\nATOM    847 HD12 ILE A 268       2.231   5.257 -18.502  1.00  1.18           H  \\nATOM    848 HD13 ILE A 268       1.250   6.184 -19.635  1.00  1.06           H  \\nATOM    849  N   ARG A 269       0.743  10.997 -17.050  1.00  0.56           N  \\nATOM    850  CA  ARG A 269       0.196  12.330 -16.640  1.00  0.62           C  \\nATOM    851  C   ARG A 269      -1.258  12.481 -17.097  1.00  0.62           C  \\nATOM    852  O   ARG A 269      -1.687  11.866 -18.053  1.00  0.66           O  \\nATOM    853  CB  ARG A 269       1.044  13.437 -17.272  1.00  0.75           C  \\nATOM    854  CG  ARG A 269       2.530  13.073 -17.135  1.00  1.41           C  \\nATOM    855  CD  ARG A 269       3.418  14.302 -17.384  1.00  1.62           C  \\nATOM    856  NE  ARG A 269       3.592  14.497 -18.851  1.00  2.41           N  \\nATOM    857  CZ  ARG A 269       4.104  15.609 -19.304  1.00  3.08           C  \\nATOM    858  NH1 ARG A 269       4.469  16.546 -18.473  1.00  3.24           N  \\nATOM    859  NH2 ARG A 269       4.257  15.781 -20.589  1.00  4.06           N  \\nATOM    860  H   ARG A 269       1.114  10.877 -17.948  1.00  0.61           H  \\nATOM    861  HA  ARG A 269       0.241  12.427 -15.563  1.00  0.61           H  \\nATOM    862  HB2 ARG A 269       0.790  13.534 -18.319  1.00  1.48           H  \\nATOM    863  HB3 ARG A 269       0.848  14.368 -16.765  1.00  1.22           H  \\nATOM    864  HG2 ARG A 269       2.716  12.694 -16.141  1.00  2.00           H  \\nATOM    865  HG3 ARG A 269       2.775  12.309 -17.857  1.00  2.12           H  \\nATOM    866  HD2 ARG A 269       2.964  15.182 -16.959  1.00  1.78           H  \\nATOM    867  HD3 ARG A 269       4.382  14.144 -16.922  1.00  2.02           H  \\nATOM    868  HE  ARG A 269       3.322  13.791 -19.474  1.00  2.88           H  \\nATOM    869 HH11 ARG A 269       4.356  16.413 -17.488  1.00  2.93           H  \\nATOM    870 HH12 ARG A 269       4.863  17.397 -18.819  1.00  4.00           H  \\nATOM    871 HH21 ARG A 269       3.981  15.062 -21.226  1.00  4.40           H  \\nATOM    872 HH22 ARG A 269       4.652  16.633 -20.935  1.00  4.66           H  \\nATOM    873  N   ASP A 270      -2.011  13.317 -16.422  1.00  0.63           N  \\nATOM    874  CA  ASP A 270      -3.444  13.550 -16.803  1.00  0.67           C  \\nATOM    875  C   ASP A 270      -3.674  15.051 -16.990  1.00  1.08           C  \\nATOM    876  O   ASP A 270      -4.580  15.405 -17.727  1.00  1.74           O  \\nATOM    877  CB  ASP A 270      -4.362  13.054 -15.689  1.00  0.92           C  \\nATOM    878  CG  ASP A 270      -4.244  11.538 -15.558  1.00  1.52           C  \\nATOM    879  OD1 ASP A 270      -3.158  11.071 -15.254  1.00  1.94           O  \\nATOM    880  OD2 ASP A 270      -5.240  10.872 -15.767  1.00  2.23           O  \\nATOM    881  OXT ASP A 270      -2.942  15.822 -16.390  1.00  1.69           O  \\nATOM    882  H   ASP A 270      -1.628  13.802 -15.658  1.00  0.63           H  \\nATOM    883  HA  ASP A 270      -3.680  13.034 -17.724  1.00  1.03           H  \\nATOM    884  HB2 ASP A 270      -4.080  13.518 -14.759  1.00  1.25           H  \\nATOM    885  HB3 ASP A 270      -5.385  13.312 -15.923  1.00  0.92           H  \\nTER     886      ASP A 270                                                      \\nATOM    887  N   MET B 219       1.839  16.566   6.574  1.00  1.81           N  \\nATOM    888  CA  MET B 219       3.205  16.675   7.155  1.00  1.46           C  \\nATOM    889  C   MET B 219       3.274  15.855   8.446  1.00  1.21           C  \\nATOM    890  O   MET B 219       2.963  16.339   9.516  1.00  1.32           O  \\nATOM    891  CB  MET B 219       3.508  18.147   7.464  1.00  2.09           C  \\nATOM    892  CG  MET B 219       2.939  19.028   6.350  1.00  2.60           C  \\nATOM    893  SD  MET B 219       3.581  20.710   6.529  1.00  3.63           S  \\nATOM    894  CE  MET B 219       3.041  21.328   4.918  1.00  4.39           C  \\nATOM    895  H   MET B 219       1.206  17.309   6.665  1.00  2.11           H  \\nATOM    896  HA  MET B 219       3.930  16.299   6.450  1.00  1.68           H  \\nATOM    897  HB2 MET B 219       3.055  18.425   8.406  1.00  2.52           H  \\nATOM    898  HB3 MET B 219       4.576  18.290   7.522  1.00  2.55           H  \\nATOM    899  HG2 MET B 219       3.233  18.631   5.390  1.00  2.81           H  \\nATOM    900  HG3 MET B 219       1.861  19.045   6.419  1.00  2.90           H  \\nATOM    901  HE1 MET B 219       2.056  20.939   4.697  1.00  4.81           H  \\nATOM    902  HE2 MET B 219       3.004  22.405   4.937  1.00  4.69           H  \\nATOM    903  HE3 MET B 219       3.740  21.006   4.158  1.00  4.63           H  \\nATOM    904  N   ILE B 220       3.681  14.617   8.357  1.00  0.99           N  \\nATOM    905  CA  ILE B 220       3.771  13.770   9.586  1.00  0.88           C  \\nATOM    906  C   ILE B 220       5.128  14.034  10.248  1.00  0.86           C  \\nATOM    907  O   ILE B 220       6.169  13.808   9.662  1.00  0.93           O  \\nATOM    908  CB  ILE B 220       3.633  12.254   9.222  1.00  0.87           C  \\nATOM    909  CG1 ILE B 220       3.567  12.078   7.689  1.00  1.34           C  \\nATOM    910  CG2 ILE B 220       2.381  11.622   9.880  1.00  1.74           C  \\nATOM    911  CD1 ILE B 220       2.310  12.755   7.080  1.00  2.15           C  \\nATOM    912  H   ILE B 220       3.930  14.243   7.486  1.00  1.01           H  \\nATOM    913  HA  ILE B 220       2.990  14.058  10.273  1.00  1.02           H  \\nATOM    914  HB  ILE B 220       4.503  11.715   9.586  1.00  1.48           H  \\nATOM    915 HG12 ILE B 220       4.456  12.512   7.255  1.00  1.88           H  \\nATOM    916 HG13 ILE B 220       3.550  11.019   7.463  1.00  2.00           H  \\nATOM    917 HG21 ILE B 220       1.582  12.343   9.947  1.00  2.25           H  \\nATOM    918 HG22 ILE B 220       2.051  10.777   9.296  1.00  2.27           H  \\nATOM    919 HG23 ILE B 220       2.634  11.286  10.876  1.00  2.30           H  \\nATOM    920 HD11 ILE B 220       1.684  13.159   7.857  1.00  2.61           H  \\nATOM    921 HD12 ILE B 220       2.614  13.559   6.422  1.00  2.64           H  \\nATOM    922 HD13 ILE B 220       1.743  12.030   6.510  1.00  2.64           H  \\nATOM    923  N   GLN B 221       5.129  14.502  11.464  1.00  0.82           N  \\nATOM    924  CA  GLN B 221       6.422  14.760  12.151  1.00  0.84           C  \\nATOM    925  C   GLN B 221       6.947  13.423  12.663  1.00  0.74           C  \\nATOM    926  O   GLN B 221       7.134  12.493  11.904  1.00  0.75           O  \\nATOM    927  CB  GLN B 221       6.207  15.718  13.328  1.00  0.94           C  \\nATOM    928  CG  GLN B 221       5.468  16.969  12.847  1.00  1.19           C  \\nATOM    929  CD  GLN B 221       5.295  17.935  14.021  1.00  1.49           C  \\nATOM    930  OE1 GLN B 221       5.381  17.539  15.166  1.00  2.03           O  \\nATOM    931  NE2 GLN B 221       5.052  19.195  13.784  1.00  1.95           N  \\nATOM    932  H   GLN B 221       4.283  14.672  11.928  1.00  0.82           H  \\nATOM    933  HA  GLN B 221       7.130  15.187  11.454  1.00  0.92           H  \\nATOM    934  HB2 GLN B 221       5.621  15.224  14.093  1.00  1.04           H  \\nATOM    935  HB3 GLN B 221       7.165  16.006  13.739  1.00  1.09           H  \\nATOM    936  HG2 GLN B 221       6.041  17.447  12.064  1.00  1.49           H  \\nATOM    937  HG3 GLN B 221       4.498  16.691  12.465  1.00  1.44           H  \\nATOM    938 HE21 GLN B 221       4.982  19.516  12.861  1.00  2.40           H  \\nATOM    939 HE22 GLN B 221       4.941  19.822  14.529  1.00  2.23           H  \\nATOM    940  N   ASN B 222       7.162  13.305  13.944  1.00  0.68           N  \\nATOM    941  CA  ASN B 222       7.648  12.014  14.511  1.00  0.62           C  \\nATOM    942  C   ASN B 222       6.459  11.275  15.127  1.00  0.54           C  \\nATOM    943  O   ASN B 222       6.042  11.564  16.231  1.00  0.58           O  \\nATOM    944  CB  ASN B 222       8.704  12.300  15.579  1.00  0.68           C  \\nATOM    945  CG  ASN B 222       9.786  13.201  14.981  1.00  0.79           C  \\nATOM    946  OD1 ASN B 222       9.541  13.910  14.024  1.00  1.33           O  \\nATOM    947  ND2 ASN B 222      10.983  13.197  15.500  1.00  1.30           N  \\nATOM    948  H   ASN B 222       6.985  14.062  14.540  1.00  0.71           H  \\nATOM    949  HA  ASN B 222       8.085  11.402  13.731  1.00  0.64           H  \\nATOM    950  HB2 ASN B 222       8.243  12.793  16.423  1.00  0.73           H  \\nATOM    951  HB3 ASN B 222       9.151  11.372  15.901  1.00  0.69           H  \\nATOM    952 HD21 ASN B 222      11.183  12.621  16.265  1.00  1.95           H  \\nATOM    953 HD22 ASN B 222      11.682  13.771  15.122  1.00  1.35           H  \\nATOM    954  N   PHE B 223       5.907  10.325  14.412  1.00  0.48           N  \\nATOM    955  CA  PHE B 223       4.735   9.546  14.930  1.00  0.41           C  \\nATOM    956  C   PHE B 223       5.058   8.051  14.827  1.00  0.35           C  \\nATOM    957  O   PHE B 223       5.727   7.618  13.909  1.00  0.37           O  \\nATOM    958  CB  PHE B 223       3.495   9.848  14.069  1.00  0.41           C  \\nATOM    959  CG  PHE B 223       2.871  11.158  14.491  1.00  0.48           C  \\nATOM    960  CD1 PHE B 223       1.955  11.188  15.560  1.00  0.50           C  \\nATOM    961  CD2 PHE B 223       3.199  12.346  13.813  1.00  0.57           C  \\nATOM    962  CE1 PHE B 223       1.369  12.407  15.952  1.00  0.59           C  \\nATOM    963  CE2 PHE B 223       2.612  13.566  14.203  1.00  0.65           C  \\nATOM    964  CZ  PHE B 223       1.697  13.596  15.273  1.00  0.66           C  \\nATOM    965  H   PHE B 223       6.265  10.123  13.522  1.00  0.50           H  \\nATOM    966  HA  PHE B 223       4.534   9.806  15.966  1.00  0.44           H  \\nATOM    967  HB2 PHE B 223       3.788   9.913  13.032  1.00  0.42           H  \\nATOM    968  HB3 PHE B 223       2.770   9.056  14.186  1.00  0.37           H  \\nATOM    969  HD1 PHE B 223       1.704  10.276  16.082  1.00  0.46           H  \\nATOM    970  HD2 PHE B 223       3.899  12.324  12.992  1.00  0.58           H  \\nATOM    971  HE1 PHE B 223       0.666  12.432  16.771  1.00  0.62           H  \\nATOM    972  HE2 PHE B 223       2.864  14.477  13.682  1.00  0.72           H  \\nATOM    973  HZ  PHE B 223       1.248  14.531  15.573  1.00  0.73           H  \\nATOM    974  N   ARG B 224       4.577   7.260  15.754  1.00  0.34           N  \\nATOM    975  CA  ARG B 224       4.833   5.782  15.719  1.00  0.29           C  \\nATOM    976  C   ARG B 224       3.486   5.066  15.645  1.00  0.25           C  \\nATOM    977  O   ARG B 224       2.459   5.626  15.975  1.00  0.27           O  \\nATOM    978  CB  ARG B 224       5.572   5.354  17.004  1.00  0.35           C  \\nATOM    979  CG  ARG B 224       7.088   5.359  16.768  1.00  0.71           C  \\nATOM    980  CD  ARG B 224       7.816   5.002  18.070  1.00  1.30           C  \\nATOM    981  NE  ARG B 224       9.217   5.498  18.011  1.00  1.85           N  \\nATOM    982  CZ  ARG B 224       9.902   5.643  19.112  1.00  2.38           C  \\nATOM    983  NH1 ARG B 224       9.348   5.382  20.265  1.00  2.67           N  \\nATOM    984  NH2 ARG B 224      11.137   6.059  19.060  1.00  3.22           N  \\nATOM    985  H   ARG B 224       4.032   7.638  16.476  1.00  0.41           H  \\nATOM    986  HA  ARG B 224       5.422   5.520  14.847  1.00  0.29           H  \\nATOM    987  HB2 ARG B 224       5.334   6.047  17.797  1.00  0.62           H  \\nATOM    988  HB3 ARG B 224       5.265   4.358  17.296  1.00  0.55           H  \\nATOM    989  HG2 ARG B 224       7.333   4.632  16.007  1.00  1.23           H  \\nATOM    990  HG3 ARG B 224       7.397   6.338  16.440  1.00  1.30           H  \\nATOM    991  HD2 ARG B 224       7.305   5.459  18.910  1.00  1.85           H  \\nATOM    992  HD3 ARG B 224       7.830   3.930  18.193  1.00  1.94           H  \\nATOM    993  HE  ARG B 224       9.627   5.708  17.146  1.00  2.38           H  \\nATOM    994 HH11 ARG B 224       8.398   5.070  20.305  1.00  2.57           H  \\nATOM    995 HH12 ARG B 224       9.872   5.495  21.109  1.00  3.37           H  \\nATOM    996 HH21 ARG B 224      11.558   6.266  18.177  1.00  3.59           H  \\nATOM    997 HH22 ARG B 224      11.662   6.172  19.903  1.00  3.74           H  \\nATOM    998  N   VAL B 225       3.481   3.828  15.223  1.00  0.22           N  \\nATOM    999  CA  VAL B 225       2.197   3.073  15.138  1.00  0.19           C  \\nATOM   1000  C   VAL B 225       2.419   1.621  15.544  1.00  0.20           C  \\nATOM   1001  O   VAL B 225       3.367   0.983  15.131  1.00  0.22           O  \\nATOM   1002  CB  VAL B 225       1.662   3.119  13.703  1.00  0.17           C  \\nATOM   1003  CG1 VAL B 225       0.245   2.534  13.655  1.00  0.17           C  \\nATOM   1004  CG2 VAL B 225       1.619   4.569  13.231  1.00  0.21           C  \\nATOM   1005  H   VAL B 225       4.321   3.394  14.969  1.00  0.23           H  \\nATOM   1006  HA  VAL B 225       1.472   3.513  15.801  1.00  0.21           H  \\nATOM   1007  HB  VAL B 225       2.312   2.545  13.057  1.00  0.18           H  \\nATOM   1008 HG11 VAL B 225       0.220   1.595  14.187  1.00  1.00           H  \\nATOM   1009 HG12 VAL B 225      -0.444   3.225  14.116  1.00  1.04           H  \\nATOM   1010 HG13 VAL B 225      -0.041   2.371  12.627  1.00  1.06           H  \\nATOM   1011 HG21 VAL B 225       1.117   5.174  13.973  1.00  1.00           H  \\nATOM   1012 HG22 VAL B 225       2.627   4.930  13.094  1.00  1.09           H  \\nATOM   1013 HG23 VAL B 225       1.083   4.628  12.294  1.00  1.00           H  \\nATOM   1014  N   TYR B 226       1.523   1.086  16.330  1.00  0.22           N  \\nATOM   1015  CA  TYR B 226       1.627  -0.341  16.747  1.00  0.25           C  \\nATOM   1016  C   TYR B 226       0.588  -1.105  15.938  1.00  0.26           C  \\nATOM   1017  O   TYR B 226      -0.372  -0.531  15.475  1.00  0.27           O  \\nATOM   1018  CB  TYR B 226       1.314  -0.482  18.242  1.00  0.30           C  \\nATOM   1019  CG  TYR B 226       2.467   0.044  19.067  1.00  0.34           C  \\nATOM   1020  CD1 TYR B 226       2.711   1.429  19.131  1.00  0.39           C  \\nATOM   1021  CD2 TYR B 226       3.288  -0.848  19.788  1.00  0.43           C  \\nATOM   1022  CE1 TYR B 226       3.774   1.922  19.913  1.00  0.46           C  \\nATOM   1023  CE2 TYR B 226       4.351  -0.354  20.567  1.00  0.48           C  \\nATOM   1024  CZ  TYR B 226       4.594   1.031  20.630  1.00  0.48           C  \\nATOM   1025  OH  TYR B 226       5.634   1.516  21.397  1.00  0.56           O  \\nATOM   1026  H   TYR B 226       0.755   1.624  16.624  1.00  0.22           H  \\nATOM   1027  HA  TYR B 226       2.613  -0.729  16.536  1.00  0.27           H  \\nATOM   1028  HB2 TYR B 226       0.421   0.080  18.477  1.00  0.29           H  \\nATOM   1029  HB3 TYR B 226       1.151  -1.524  18.475  1.00  0.33           H  \\nATOM   1030  HD1 TYR B 226       2.085   2.112  18.579  1.00  0.41           H  \\nATOM   1031  HD2 TYR B 226       3.102  -1.911  19.740  1.00  0.48           H  \\nATOM   1032  HE1 TYR B 226       3.961   2.984  19.961  1.00  0.53           H  \\nATOM   1033  HE2 TYR B 226       4.980  -1.037  21.117  1.00  0.56           H  \\nATOM   1034  HH  TYR B 226       5.403   1.396  22.320  1.00  1.07           H  \\nATOM   1035  N   TYR B 227       0.753  -2.379  15.740  1.00  0.27           N  \\nATOM   1036  CA  TYR B 227      -0.256  -3.116  14.930  1.00  0.30           C  \\nATOM   1037  C   TYR B 227      -0.225  -4.602  15.276  1.00  0.34           C  \\nATOM   1038  O   TYR B 227       0.786  -5.143  15.679  1.00  0.37           O  \\nATOM   1039  CB  TYR B 227       0.043  -2.919  13.440  1.00  0.31           C  \\nATOM   1040  CG  TYR B 227       1.439  -3.409  13.124  1.00  0.30           C  \\nATOM   1041  CD1 TYR B 227       2.562  -2.688  13.577  1.00  0.28           C  \\nATOM   1042  CD2 TYR B 227       1.617  -4.587  12.374  1.00  0.36           C  \\nATOM   1043  CE1 TYR B 227       3.861  -3.147  13.281  1.00  0.32           C  \\nATOM   1044  CE2 TYR B 227       2.913  -5.044  12.077  1.00  0.40           C  \\nATOM   1045  CZ  TYR B 227       4.035  -4.326  12.532  1.00  0.38           C  \\nATOM   1046  OH  TYR B 227       5.307  -4.776  12.242  1.00  0.45           O  \\nATOM   1047  H   TYR B 227       1.537  -2.843  16.106  1.00  0.28           H  \\nATOM   1048  HA  TYR B 227      -1.242  -2.727  15.145  1.00  0.31           H  \\nATOM   1049  HB2 TYR B 227      -0.674  -3.474  12.853  1.00  0.35           H  \\nATOM   1050  HB3 TYR B 227      -0.029  -1.869  13.196  1.00  0.31           H  \\nATOM   1051  HD1 TYR B 227       2.429  -1.781  14.150  1.00  0.26           H  \\nATOM   1052  HD2 TYR B 227       0.756  -5.141  12.026  1.00  0.39           H  \\nATOM   1053  HE1 TYR B 227       4.722  -2.596  13.629  1.00  0.33           H  \\nATOM   1054  HE2 TYR B 227       3.048  -5.947  11.501  1.00  0.46           H  \\nATOM   1055  HH  TYR B 227       5.590  -4.359  11.424  1.00  0.97           H  \\nATOM   1056  N   ARG B 228      -1.340  -5.261  15.124  1.00  0.38           N  \\nATOM   1057  CA  ARG B 228      -1.414  -6.715  15.449  1.00  0.43           C  \\nATOM   1058  C   ARG B 228      -1.144  -7.532  14.185  1.00  0.48           C  \\nATOM   1059  O   ARG B 228      -1.475  -7.129  13.088  1.00  0.53           O  \\nATOM   1060  CB  ARG B 228      -2.815  -7.023  15.993  1.00  0.48           C  \\nATOM   1061  CG  ARG B 228      -3.248  -5.867  16.897  1.00  0.55           C  \\nATOM   1062  CD  ARG B 228      -4.546  -6.209  17.633  1.00  0.55           C  \\nATOM   1063  NE  ARG B 228      -5.514  -6.802  16.666  1.00  1.10           N  \\nATOM   1064  CZ  ARG B 228      -6.651  -7.279  17.088  1.00  1.37           C  \\nATOM   1065  NH1 ARG B 228      -6.981  -7.155  18.346  1.00  1.64           N  \\nATOM   1066  NH2 ARG B 228      -7.469  -7.857  16.253  1.00  2.13           N  \\nATOM   1067  H   ARG B 228      -2.142  -4.791  14.804  1.00  0.39           H  \\nATOM   1068  HA  ARG B 228      -0.676  -6.962  16.198  1.00  0.44           H  \\nATOM   1069  HB2 ARG B 228      -3.514  -7.126  15.173  1.00  0.56           H  \\nATOM   1070  HB3 ARG B 228      -2.789  -7.938  16.564  1.00  0.65           H  \\nATOM   1071  HG2 ARG B 228      -2.469  -5.672  17.619  1.00  0.86           H  \\nATOM   1072  HG3 ARG B 228      -3.406  -4.984  16.295  1.00  0.81           H  \\nATOM   1073  HD2 ARG B 228      -4.350  -6.921  18.411  1.00  0.96           H  \\nATOM   1074  HD3 ARG B 228      -4.954  -5.306  18.075  1.00  1.07           H  \\nATOM   1075  HE  ARG B 228      -5.283  -6.858  15.715  1.00  1.83           H  \\nATOM   1076 HH11 ARG B 228      -6.360  -6.696  18.982  1.00  1.68           H  \\nATOM   1077 HH12 ARG B 228      -7.854  -7.515  18.672  1.00  2.27           H  \\nATOM   1078 HH21 ARG B 228      -7.224  -7.936  15.286  1.00  2.61           H  \\nATOM   1079 HH22 ARG B 228      -8.343  -8.220  16.579  1.00  2.47           H  \\nATOM   1080  N   ASP B 229      -0.532  -8.677  14.331  1.00  0.55           N  \\nATOM   1081  CA  ASP B 229      -0.223  -9.527  13.143  1.00  0.64           C  \\nATOM   1082  C   ASP B 229      -1.375 -10.511  12.913  1.00  0.69           C  \\nATOM   1083  O   ASP B 229      -2.259 -10.648  13.735  1.00  0.71           O  \\nATOM   1084  CB  ASP B 229       1.087 -10.296  13.404  1.00  0.77           C  \\nATOM   1085  CG  ASP B 229       1.789 -10.609  12.079  1.00  1.44           C  \\nATOM   1086  OD1 ASP B 229       1.453 -11.614  11.474  1.00  2.11           O  \\nATOM   1087  OD2 ASP B 229       2.652  -9.836  11.692  1.00  2.25           O  \\nATOM   1088  H   ASP B 229      -0.268  -8.978  15.227  1.00  0.57           H  \\nATOM   1089  HA  ASP B 229      -0.108  -8.898  12.269  1.00  0.66           H  \\nATOM   1090  HB2 ASP B 229       1.739  -9.688  14.016  1.00  1.43           H  \\nATOM   1091  HB3 ASP B 229       0.874 -11.221  13.923  1.00  1.25           H  \\nATOM   1092  N   SER B 230      -1.370 -11.198  11.802  1.00  0.78           N  \\nATOM   1093  CA  SER B 230      -2.462 -12.174  11.525  1.00  0.88           C  \\nATOM   1094  C   SER B 230      -2.120 -13.514  12.180  1.00  0.97           C  \\nATOM   1095  O   SER B 230      -2.954 -14.390  12.298  1.00  1.07           O  \\nATOM   1096  CB  SER B 230      -2.602 -12.364  10.014  1.00  0.96           C  \\nATOM   1097  OG  SER B 230      -3.448 -13.476   9.756  1.00  1.78           O  \\nATOM   1098  H   SER B 230      -0.646 -11.075  11.153  1.00  0.81           H  \\nATOM   1099  HA  SER B 230      -3.393 -11.803  11.929  1.00  0.87           H  \\nATOM   1100  HB2 SER B 230      -3.035 -11.480   9.576  1.00  1.34           H  \\nATOM   1101  HB3 SER B 230      -1.624 -12.535   9.582  1.00  1.27           H  \\nATOM   1102  HG  SER B 230      -4.284 -13.141   9.421  1.00  2.23           H  \\nATOM   1103  N   ARG B 231      -0.897 -13.678  12.611  1.00  0.97           N  \\nATOM   1104  CA  ARG B 231      -0.494 -14.959  13.264  1.00  1.09           C  \\nATOM   1105  C   ARG B 231      -0.724 -14.869  14.776  1.00  1.04           C  \\nATOM   1106  O   ARG B 231      -0.679 -15.862  15.475  1.00  1.15           O  \\nATOM   1107  CB  ARG B 231       0.991 -15.225  13.010  1.00  1.19           C  \\nATOM   1108  CG  ARG B 231       1.291 -15.192  11.502  1.00  1.30           C  \\nATOM   1109  CD  ARG B 231       2.620 -15.918  11.209  1.00  1.55           C  \\nATOM   1110  NE  ARG B 231       3.349 -15.211  10.122  1.00  1.99           N  \\nATOM   1111  CZ  ARG B 231       4.619 -15.445   9.933  1.00  2.62           C  \\nATOM   1112  NH1 ARG B 231       5.245 -16.299  10.698  1.00  2.93           N  \\nATOM   1113  NH2 ARG B 231       5.265 -14.828   8.981  1.00  3.48           N  \\nATOM   1114  H   ARG B 231      -0.241 -12.957  12.509  1.00  0.92           H  \\nATOM   1115  HA  ARG B 231      -1.077 -15.775  12.860  1.00  1.20           H  \\nATOM   1116  HB2 ARG B 231       1.579 -14.468  13.507  1.00  1.13           H  \\nATOM   1117  HB3 ARG B 231       1.253 -16.196  13.404  1.00  1.33           H  \\nATOM   1118  HG2 ARG B 231       0.486 -15.677  10.966  1.00  1.61           H  \\nATOM   1119  HG3 ARG B 231       1.368 -14.165  11.176  1.00  1.46           H  \\nATOM   1120  HD2 ARG B 231       3.239 -15.932  12.099  1.00  2.04           H  \\nATOM   1121  HD3 ARG B 231       2.420 -16.933  10.898  1.00  2.05           H  \\nATOM   1122  HE  ARG B 231       2.875 -14.572   9.547  1.00  2.38           H  \\nATOM   1123 HH11 ARG B 231       4.752 -16.770  11.429  1.00  2.84           H  \\nATOM   1124 HH12 ARG B 231       6.218 -16.480  10.554  1.00  3.62           H  \\nATOM   1125 HH21 ARG B 231       4.788 -14.174   8.393  1.00  3.81           H  \\nATOM   1126 HH22 ARG B 231       6.238 -15.011   8.837  1.00  4.04           H  \\nATOM   1127  N   ASP B 232      -0.959 -13.690  15.293  1.00  0.91           N  \\nATOM   1128  CA  ASP B 232      -1.174 -13.552  16.765  1.00  0.90           C  \\nATOM   1129  C   ASP B 232      -1.940 -12.236  17.057  1.00  0.77           C  \\nATOM   1130  O   ASP B 232      -1.534 -11.198  16.574  1.00  0.67           O  \\nATOM   1131  CB  ASP B 232       0.193 -13.496  17.456  1.00  0.97           C  \\nATOM   1132  CG  ASP B 232       0.912 -14.834  17.277  1.00  1.61           C  \\nATOM   1133  OD1 ASP B 232       0.378 -15.836  17.726  1.00  2.33           O  \\nATOM   1134  OD2 ASP B 232       1.983 -14.836  16.693  1.00  2.13           O  \\nATOM   1135  H   ASP B 232      -0.983 -12.897  14.718  1.00  0.85           H  \\nATOM   1136  HA  ASP B 232      -1.710 -14.410  17.120  1.00  0.99           H  \\nATOM   1137  HB2 ASP B 232       0.785 -12.707  17.015  1.00  1.18           H  \\nATOM   1138  HB3 ASP B 232       0.058 -13.301  18.508  1.00  1.23           H  \\nATOM   1139  N   PRO B 233      -3.022 -12.283  17.830  1.00  0.82           N  \\nATOM   1140  CA  PRO B 233      -3.789 -11.055  18.141  1.00  0.78           C  \\nATOM   1141  C   PRO B 233      -2.971 -10.097  19.031  1.00  0.69           C  \\nATOM   1142  O   PRO B 233      -3.470  -9.074  19.459  1.00  0.69           O  \\nATOM   1143  CB  PRO B 233      -5.047 -11.553  18.892  1.00  0.94           C  \\nATOM   1144  CG  PRO B 233      -4.816 -13.052  19.231  1.00  1.04           C  \\nATOM   1145  CD  PRO B 233      -3.578 -13.519  18.436  1.00  0.99           C  \\nATOM   1146  HA  PRO B 233      -4.077 -10.557  17.230  1.00  0.78           H  \\nATOM   1147  HB2 PRO B 233      -5.198 -10.984  19.803  1.00  0.92           H  \\nATOM   1148  HB3 PRO B 233      -5.918 -11.458  18.258  1.00  1.03           H  \\nATOM   1149  HG2 PRO B 233      -4.639 -13.165  20.296  1.00  1.05           H  \\nATOM   1150  HG3 PRO B 233      -5.680 -13.636  18.944  1.00  1.17           H  \\nATOM   1151  HD2 PRO B 233      -2.854 -13.980  19.096  1.00  1.01           H  \\nATOM   1152  HD3 PRO B 233      -3.878 -14.210  17.660  1.00  1.07           H  \\nATOM   1153  N   VAL B 234      -1.736 -10.408  19.324  1.00  0.67           N  \\nATOM   1154  CA  VAL B 234      -0.935  -9.492  20.197  1.00  0.65           C  \\nATOM   1155  C   VAL B 234      -0.369  -8.338  19.356  1.00  0.57           C  \\nATOM   1156  O   VAL B 234      -0.173  -8.461  18.165  1.00  0.64           O  \\nATOM   1157  CB  VAL B 234       0.205 -10.276  20.870  1.00  0.75           C  \\nATOM   1158  CG1 VAL B 234      -0.320 -11.639  21.329  1.00  1.53           C  \\nATOM   1159  CG2 VAL B 234       1.368 -10.485  19.889  1.00  1.68           C  \\nATOM   1160  H   VAL B 234      -1.339 -11.236  18.983  1.00  0.71           H  \\nATOM   1161  HA  VAL B 234      -1.579  -9.083  20.962  1.00  0.68           H  \\nATOM   1162  HB  VAL B 234       0.555  -9.724  21.731  1.00  1.29           H  \\nATOM   1163 HG11 VAL B 234      -1.172 -11.496  21.977  1.00  2.12           H  \\nATOM   1164 HG12 VAL B 234      -0.617 -12.218  20.468  1.00  2.11           H  \\nATOM   1165 HG13 VAL B 234       0.457 -12.162  21.865  1.00  2.03           H  \\nATOM   1166 HG21 VAL B 234       0.979 -10.782  18.927  1.00  2.26           H  \\nATOM   1167 HG22 VAL B 234       1.917  -9.560  19.785  1.00  2.17           H  \\nATOM   1168 HG23 VAL B 234       2.026 -11.252  20.267  1.00  2.24           H  \\nATOM   1169  N   TRP B 235      -0.109  -7.215  19.974  1.00  0.52           N  \\nATOM   1170  CA  TRP B 235       0.437  -6.050  19.216  1.00  0.45           C  \\nATOM   1171  C   TRP B 235       1.867  -6.359  18.761  1.00  0.46           C  \\nATOM   1172  O   TRP B 235       2.504  -7.260  19.268  1.00  0.57           O  \\nATOM   1173  CB  TRP B 235       0.449  -4.812  20.119  1.00  0.46           C  \\nATOM   1174  CG  TRP B 235      -0.955  -4.446  20.477  1.00  0.46           C  \\nATOM   1175  CD1 TRP B 235      -1.578  -4.786  21.630  1.00  0.52           C  \\nATOM   1176  CD2 TRP B 235      -1.920  -3.681  19.699  1.00  0.43           C  \\nATOM   1177  NE1 TRP B 235      -2.868  -4.283  21.609  1.00  0.53           N  \\nATOM   1178  CE2 TRP B 235      -3.128  -3.593  20.442  1.00  0.48           C  \\nATOM   1179  CE3 TRP B 235      -1.869  -3.062  18.430  1.00  0.39           C  \\nATOM   1180  CZ2 TRP B 235      -4.248  -2.912  19.941  1.00  0.49           C  \\nATOM   1181  CZ3 TRP B 235      -2.991  -2.376  17.922  1.00  0.39           C  \\nATOM   1182  CH2 TRP B 235      -4.179  -2.302  18.677  1.00  0.45           C  \\nATOM   1183  H   TRP B 235      -0.277  -7.136  20.936  1.00  0.58           H  \\nATOM   1184  HA  TRP B 235      -0.189  -5.859  18.350  1.00  0.42           H  \\nATOM   1185  HB2 TRP B 235       1.007  -5.028  21.018  1.00  0.51           H  \\nATOM   1186  HB3 TRP B 235       0.914  -3.989  19.597  1.00  0.44           H  \\nATOM   1187  HD1 TRP B 235      -1.141  -5.360  22.434  1.00  0.56           H  \\nATOM   1188  HE1 TRP B 235      -3.528  -4.391  22.324  1.00  0.59           H  \\nATOM   1189  HE3 TRP B 235      -0.962  -3.114  17.845  1.00  0.37           H  \\nATOM   1190  HZ2 TRP B 235      -5.157  -2.858  20.523  1.00  0.55           H  \\nATOM   1191  HZ3 TRP B 235      -2.941  -1.906  16.951  1.00  0.38           H  \\nATOM   1192  HH2 TRP B 235      -5.036  -1.775  18.284  1.00  0.48           H  \\nATOM   1193  N   LYS B 236       2.376  -5.609  17.810  1.00  0.41           N  \\nATOM   1194  CA  LYS B 236       3.771  -5.839  17.305  1.00  0.45           C  \\nATOM   1195  C   LYS B 236       4.603  -4.570  17.548  1.00  0.45           C  \\nATOM   1196  O   LYS B 236       4.070  -3.512  17.819  1.00  0.66           O  \\nATOM   1197  CB  LYS B 236       3.707  -6.165  15.798  1.00  0.47           C  \\nATOM   1198  CG  LYS B 236       4.876  -7.081  15.383  1.00  0.91           C  \\nATOM   1199  CD  LYS B 236       4.633  -7.639  13.959  1.00  0.77           C  \\nATOM   1200  CE  LYS B 236       5.963  -7.784  13.210  1.00  1.26           C  \\nATOM   1201  NZ  LYS B 236       6.922  -8.564  14.040  1.00  1.43           N  \\nATOM   1202  H   LYS B 236       1.837  -4.887  17.424  1.00  0.41           H  \\nATOM   1203  HA  LYS B 236       4.224  -6.660  17.841  1.00  0.52           H  \\nATOM   1204  HB2 LYS B 236       2.773  -6.666  15.585  1.00  0.77           H  \\nATOM   1205  HB3 LYS B 236       3.753  -5.249  15.223  1.00  0.80           H  \\nATOM   1206  HG2 LYS B 236       5.795  -6.512  15.404  1.00  1.49           H  \\nATOM   1207  HG3 LYS B 236       4.953  -7.907  16.078  1.00  1.45           H  \\nATOM   1208  HD2 LYS B 236       4.158  -8.608  14.027  1.00  1.21           H  \\nATOM   1209  HD3 LYS B 236       3.991  -6.971  13.408  1.00  1.12           H  \\nATOM   1210  HE2 LYS B 236       5.795  -8.297  12.276  1.00  1.83           H  \\nATOM   1211  HE3 LYS B 236       6.372  -6.804  13.014  1.00  1.88           H  \\nATOM   1212  HZ1 LYS B 236       6.525  -9.507  14.234  1.00  1.85           H  \\nATOM   1213  HZ2 LYS B 236       7.821  -8.664  13.528  1.00  1.90           H  \\nATOM   1214  HZ3 LYS B 236       7.089  -8.066  14.938  1.00  1.78           H  \\nATOM   1215  N   GLY B 237       5.906  -4.675  17.463  1.00  0.43           N  \\nATOM   1216  CA  GLY B 237       6.780  -3.485  17.705  1.00  0.41           C  \\nATOM   1217  C   GLY B 237       6.208  -2.237  17.004  1.00  0.35           C  \\nATOM   1218  O   GLY B 237       5.299  -2.347  16.205  1.00  0.34           O  \\nATOM   1219  H   GLY B 237       6.311  -5.541  17.251  1.00  0.57           H  \\nATOM   1220  HA2 GLY B 237       6.838  -3.312  18.765  1.00  0.44           H  \\nATOM   1221  HA3 GLY B 237       7.769  -3.686  17.321  1.00  0.45           H  \\nATOM   1222  N   PRO B 238       6.755  -1.075  17.324  1.00  0.36           N  \\nATOM   1223  CA  PRO B 238       6.298   0.195  16.718  1.00  0.32           C  \\nATOM   1224  C   PRO B 238       6.670   0.244  15.228  1.00  0.28           C  \\nATOM   1225  O   PRO B 238       7.542  -0.468  14.769  1.00  0.32           O  \\nATOM   1226  CB  PRO B 238       7.049   1.295  17.505  1.00  0.38           C  \\nATOM   1227  CG  PRO B 238       8.158   0.588  18.333  1.00  0.45           C  \\nATOM   1228  CD  PRO B 238       7.854  -0.925  18.310  1.00  0.44           C  \\nATOM   1229  HA  PRO B 238       5.235   0.309  16.839  1.00  0.31           H  \\nATOM   1230  HB2 PRO B 238       7.491   2.016  16.824  1.00  0.37           H  \\nATOM   1231  HB3 PRO B 238       6.366   1.802  18.174  1.00  0.41           H  \\nATOM   1232  HG2 PRO B 238       9.127   0.781  17.888  1.00  0.47           H  \\nATOM   1233  HG3 PRO B 238       8.148   0.950  19.353  1.00  0.51           H  \\nATOM   1234  HD2 PRO B 238       8.727  -1.486  17.996  1.00  0.47           H  \\nATOM   1235  HD3 PRO B 238       7.526  -1.250  19.285  1.00  0.48           H  \\nATOM   1236  N   ALA B 239       6.017   1.099  14.480  1.00  0.23           N  \\nATOM   1237  CA  ALA B 239       6.319   1.227  13.022  1.00  0.22           C  \\nATOM   1238  C   ALA B 239       6.312   2.710  12.628  1.00  0.20           C  \\nATOM   1239  O   ALA B 239       6.034   3.574  13.436  1.00  0.21           O  \\nATOM   1240  CB  ALA B 239       5.254   0.476  12.220  1.00  0.24           C  \\nATOM   1241  H   ALA B 239       5.329   1.669  14.884  1.00  0.23           H  \\nATOM   1242  HA  ALA B 239       7.291   0.806  12.809  1.00  0.26           H  \\nATOM   1243  HB1 ALA B 239       5.013  -0.449  12.724  1.00  1.04           H  \\nATOM   1244  HB2 ALA B 239       4.364   1.083  12.141  1.00  1.06           H  \\nATOM   1245  HB3 ALA B 239       5.633   0.259  11.233  1.00  0.99           H  \\nATOM   1246  N   LYS B 240       6.610   3.010  11.388  1.00  0.21           N  \\nATOM   1247  CA  LYS B 240       6.617   4.439  10.933  1.00  0.21           C  \\nATOM   1248  C   LYS B 240       5.299   4.760  10.226  1.00  0.18           C  \\nATOM   1249  O   LYS B 240       4.797   3.968   9.457  1.00  0.18           O  \\nATOM   1250  CB  LYS B 240       7.767   4.651   9.945  1.00  0.26           C  \\nATOM   1251  CG  LYS B 240       9.100   4.629  10.691  1.00  1.04           C  \\nATOM   1252  CD  LYS B 240      10.241   4.868   9.693  1.00  1.43           C  \\nATOM   1253  CE  LYS B 240      11.615   4.723  10.386  1.00  1.96           C  \\nATOM   1254  NZ  LYS B 240      12.418   5.952  10.136  1.00  2.68           N  \\nATOM   1255  H   LYS B 240       6.826   2.296  10.753  1.00  0.23           H  \\nATOM   1256  HA  LYS B 240       6.746   5.100  11.782  1.00  0.22           H  \\nATOM   1257  HB2 LYS B 240       7.754   3.864   9.205  1.00  0.88           H  \\nATOM   1258  HB3 LYS B 240       7.648   5.606   9.455  1.00  0.79           H  \\nATOM   1259  HG2 LYS B 240       9.105   5.407  11.441  1.00  1.69           H  \\nATOM   1260  HG3 LYS B 240       9.233   3.669  11.166  1.00  1.67           H  \\nATOM   1261  HD2 LYS B 240      10.161   4.150   8.888  1.00  1.76           H  \\nATOM   1262  HD3 LYS B 240      10.152   5.865   9.288  1.00  2.04           H  \\nATOM   1263  HE2 LYS B 240      11.489   4.593  11.452  1.00  2.28           H  \\nATOM   1264  HE3 LYS B 240      12.140   3.867   9.983  1.00  2.44           H  \\nATOM   1265  HZ1 LYS B 240      11.813   6.677   9.696  1.00  3.02           H  \\nATOM   1266  HZ2 LYS B 240      12.792   6.311  11.037  1.00  3.11           H  \\nATOM   1267  HZ3 LYS B 240      13.209   5.726   9.500  1.00  3.09           H  \\nATOM   1268  N   LEU B 241       4.746   5.923  10.467  1.00  0.19           N  \\nATOM   1269  CA  LEU B 241       3.462   6.311   9.800  1.00  0.18           C  \\nATOM   1270  C   LEU B 241       3.776   7.046   8.490  1.00  0.20           C  \\nATOM   1271  O   LEU B 241       4.432   8.068   8.493  1.00  0.25           O  \\nATOM   1272  CB  LEU B 241       2.677   7.242  10.737  1.00  0.20           C  \\nATOM   1273  CG  LEU B 241       1.444   7.822  10.026  1.00  0.22           C  \\nATOM   1274  CD1 LEU B 241       0.601   6.688   9.426  1.00  0.21           C  \\nATOM   1275  CD2 LEU B 241       0.610   8.622  11.044  1.00  0.26           C  \\nATOM   1276  H   LEU B 241       5.182   6.549  11.083  1.00  0.21           H  \\nATOM   1277  HA  LEU B 241       2.876   5.425   9.596  1.00  0.16           H  \\nATOM   1278  HB2 LEU B 241       2.358   6.683  11.602  1.00  0.20           H  \\nATOM   1279  HB3 LEU B 241       3.318   8.051  11.053  1.00  0.23           H  \\nATOM   1280  HG  LEU B 241       1.764   8.480   9.234  1.00  0.24           H  \\nATOM   1281 HD11 LEU B 241       0.543   5.870  10.127  1.00  0.99           H  \\nATOM   1282 HD12 LEU B 241      -0.394   7.046   9.208  1.00  0.96           H  \\nATOM   1283 HD13 LEU B 241       1.062   6.347   8.511  1.00  1.01           H  \\nATOM   1284 HD21 LEU B 241       0.534   8.068  11.969  1.00  1.02           H  \\nATOM   1285 HD22 LEU B 241       1.094   9.569  11.236  1.00  1.03           H  \\nATOM   1286 HD23 LEU B 241      -0.380   8.802  10.652  1.00  1.10           H  \\nATOM   1287  N   LEU B 242       3.312   6.534   7.371  1.00  0.21           N  \\nATOM   1288  CA  LEU B 242       3.584   7.201   6.051  1.00  0.24           C  \\nATOM   1289  C   LEU B 242       2.270   7.710   5.445  1.00  0.25           C  \\nATOM   1290  O   LEU B 242       2.013   8.897   5.406  1.00  0.27           O  \\nATOM   1291  CB  LEU B 242       4.234   6.201   5.075  1.00  0.26           C  \\nATOM   1292  CG  LEU B 242       5.259   5.304   5.792  1.00  0.26           C  \\nATOM   1293  CD1 LEU B 242       5.693   4.182   4.841  1.00  0.28           C  \\nATOM   1294  CD2 LEU B 242       6.491   6.123   6.202  1.00  0.27           C  \\nATOM   1295  H   LEU B 242       2.784   5.709   7.397  1.00  0.20           H  \\nATOM   1296  HA  LEU B 242       4.247   8.045   6.186  1.00  0.26           H  \\nATOM   1297  HB2 LEU B 242       3.469   5.575   4.637  1.00  0.26           H  \\nATOM   1298  HB3 LEU B 242       4.734   6.748   4.289  1.00  0.29           H  \\nATOM   1299  HG  LEU B 242       4.807   4.863   6.668  1.00  0.25           H  \\nATOM   1300 HD11 LEU B 242       5.840   4.583   3.847  1.00  1.07           H  \\nATOM   1301 HD12 LEU B 242       6.616   3.748   5.190  1.00  1.06           H  \\nATOM   1302 HD13 LEU B 242       4.928   3.422   4.810  1.00  1.02           H  \\nATOM   1303 HD21 LEU B 242       6.186   6.984   6.773  1.00  1.06           H  \\nATOM   1304 HD22 LEU B 242       7.143   5.509   6.806  1.00  1.04           H  \\nATOM   1305 HD23 LEU B 242       7.021   6.446   5.318  1.00  1.05           H  \\nATOM   1306  N   TRP B 243       1.440   6.824   4.955  1.00  0.24           N  \\nATOM   1307  CA  TRP B 243       0.152   7.262   4.334  1.00  0.25           C  \\nATOM   1308  C   TRP B 243      -0.949   7.310   5.396  1.00  0.26           C  \\nATOM   1309  O   TRP B 243      -1.013   6.476   6.277  1.00  0.28           O  \\nATOM   1310  CB  TRP B 243      -0.246   6.265   3.232  1.00  0.27           C  \\nATOM   1311  CG  TRP B 243      -1.213   6.909   2.292  1.00  0.28           C  \\nATOM   1312  CD1 TRP B 243      -0.907   7.889   1.415  1.00  0.29           C  \\nATOM   1313  CD2 TRP B 243      -2.631   6.640   2.127  1.00  0.29           C  \\nATOM   1314  NE1 TRP B 243      -2.046   8.242   0.721  1.00  0.31           N  \\nATOM   1315  CE2 TRP B 243      -3.138   7.506   1.125  1.00  0.31           C  \\nATOM   1316  CE3 TRP B 243      -3.524   5.737   2.746  1.00  0.30           C  \\nATOM   1317  CZ2 TRP B 243      -4.486   7.480   0.748  1.00  0.35           C  \\nATOM   1318  CZ3 TRP B 243      -4.881   5.706   2.369  1.00  0.34           C  \\nATOM   1319  CH2 TRP B 243      -5.361   6.578   1.373  1.00  0.36           C  \\nATOM   1320  H   TRP B 243       1.668   5.871   4.982  1.00  0.23           H  \\nATOM   1321  HA  TRP B 243       0.276   8.247   3.902  1.00  0.26           H  \\nATOM   1322  HB2 TRP B 243       0.634   5.956   2.687  1.00  0.28           H  \\nATOM   1323  HB3 TRP B 243      -0.713   5.404   3.679  1.00  0.30           H  \\nATOM   1324  HD1 TRP B 243       0.069   8.319   1.274  1.00  0.30           H  \\nATOM   1325  HE1 TRP B 243      -2.093   8.928   0.026  1.00  0.34           H  \\nATOM   1326  HE3 TRP B 243      -3.163   5.065   3.511  1.00  0.30           H  \\nATOM   1327  HZ2 TRP B 243      -4.851   8.150  -0.017  1.00  0.38           H  \\nATOM   1328  HZ3 TRP B 243      -5.557   5.015   2.849  1.00  0.36           H  \\nATOM   1329  HH2 TRP B 243      -6.401   6.552   1.088  1.00  0.40           H  \\nATOM   1330  N   LYS B 244      -1.824   8.275   5.308  1.00  0.29           N  \\nATOM   1331  CA  LYS B 244      -2.935   8.384   6.299  1.00  0.33           C  \\nATOM   1332  C   LYS B 244      -4.171   8.963   5.605  1.00  0.36           C  \\nATOM   1333  O   LYS B 244      -4.134  10.051   5.065  1.00  0.43           O  \\nATOM   1334  CB  LYS B 244      -2.506   9.311   7.437  1.00  0.41           C  \\nATOM   1335  CG  LYS B 244      -3.565   9.295   8.542  1.00  0.71           C  \\nATOM   1336  CD  LYS B 244      -3.198  10.324   9.615  1.00  0.89           C  \\nATOM   1337  CE  LYS B 244      -4.411  10.582  10.510  1.00  1.37           C  \\nATOM   1338  NZ  LYS B 244      -4.015  11.474  11.636  1.00  2.08           N  \\nATOM   1339  H   LYS B 244      -1.755   8.930   4.581  1.00  0.31           H  \\nATOM   1340  HA  LYS B 244      -3.171   7.406   6.697  1.00  0.34           H  \\nATOM   1341  HB2 LYS B 244      -1.562   8.972   7.838  1.00  0.74           H  \\nATOM   1342  HB3 LYS B 244      -2.397  10.316   7.059  1.00  0.84           H  \\nATOM   1343  HG2 LYS B 244      -4.529   9.542   8.120  1.00  1.23           H  \\nATOM   1344  HG3 LYS B 244      -3.608   8.313   8.987  1.00  1.17           H  \\nATOM   1345  HD2 LYS B 244      -2.383   9.943  10.213  1.00  1.42           H  \\nATOM   1346  HD3 LYS B 244      -2.899  11.247   9.144  1.00  1.38           H  \\nATOM   1347  HE2 LYS B 244      -5.190  11.057   9.931  1.00  1.95           H  \\nATOM   1348  HE3 LYS B 244      -4.775   9.644  10.902  1.00  1.86           H  \\nATOM   1349  HZ1 LYS B 244      -3.006  11.337  11.849  1.00  2.67           H  \\nATOM   1350  HZ2 LYS B 244      -4.181  12.465  11.369  1.00  2.53           H  \\nATOM   1351  HZ3 LYS B 244      -4.580  11.243  12.478  1.00  2.40           H  \\nATOM   1352  N   GLY B 245      -5.268   8.251   5.612  1.00  0.33           N  \\nATOM   1353  CA  GLY B 245      -6.498   8.775   4.946  1.00  0.39           C  \\nATOM   1354  C   GLY B 245      -7.745   8.137   5.565  1.00  0.35           C  \\nATOM   1355  O   GLY B 245      -8.166   8.494   6.646  1.00  0.35           O  \\nATOM   1356  H   GLY B 245      -5.283   7.376   6.051  1.00  0.30           H  \\nATOM   1357  HA2 GLY B 245      -6.547   9.847   5.069  1.00  0.43           H  \\nATOM   1358  HA3 GLY B 245      -6.466   8.538   3.894  1.00  0.44           H  \\nATOM   1359  N   GLU B 246      -8.342   7.200   4.878  1.00  0.35           N  \\nATOM   1360  CA  GLU B 246      -9.571   6.542   5.413  1.00  0.35           C  \\nATOM   1361  C   GLU B 246      -9.204   5.657   6.607  1.00  0.33           C  \\nATOM   1362  O   GLU B 246      -8.228   5.894   7.290  1.00  0.31           O  \\nATOM   1363  CB  GLU B 246     -10.201   5.679   4.316  1.00  0.38           C  \\nATOM   1364  CG  GLU B 246     -10.508   6.545   3.089  1.00  0.41           C  \\nATOM   1365  CD  GLU B 246     -10.760   5.645   1.877  1.00  0.46           C  \\nATOM   1366  OE1 GLU B 246      -9.793   5.235   1.257  1.00  1.09           O  \\nATOM   1367  OE2 GLU B 246     -11.916   5.378   1.592  1.00  1.24           O  \\nATOM   1368  H   GLU B 246      -7.987   6.935   4.004  1.00  0.38           H  \\nATOM   1369  HA  GLU B 246     -10.277   7.297   5.727  1.00  0.35           H  \\nATOM   1370  HB2 GLU B 246      -9.515   4.891   4.038  1.00  0.40           H  \\nATOM   1371  HB3 GLU B 246     -11.118   5.243   4.683  1.00  0.39           H  \\nATOM   1372  HG2 GLU B 246     -11.388   7.143   3.283  1.00  0.44           H  \\nATOM   1373  HG3 GLU B 246      -9.671   7.195   2.883  1.00  0.42           H  \\nATOM   1374  N   GLY B 247      -9.980   4.635   6.861  1.00  0.35           N  \\nATOM   1375  CA  GLY B 247      -9.677   3.731   8.007  1.00  0.35           C  \\nATOM   1376  C   GLY B 247      -8.528   2.796   7.626  1.00  0.32           C  \\nATOM   1377  O   GLY B 247      -8.599   1.596   7.803  1.00  0.34           O  \\nATOM   1378  H   GLY B 247     -10.761   4.462   6.293  1.00  0.37           H  \\nATOM   1379  HA2 GLY B 247      -9.395   4.321   8.868  1.00  0.36           H  \\nATOM   1380  HA3 GLY B 247     -10.551   3.142   8.244  1.00  0.39           H  \\nATOM   1381  N   ALA B 248      -7.465   3.346   7.104  1.00  0.28           N  \\nATOM   1382  CA  ALA B 248      -6.297   2.515   6.702  1.00  0.26           C  \\nATOM   1383  C   ALA B 248      -5.024   3.339   6.888  1.00  0.24           C  \\nATOM   1384  O   ALA B 248      -5.030   4.545   6.735  1.00  0.28           O  \\nATOM   1385  CB  ALA B 248      -6.437   2.108   5.234  1.00  0.29           C  \\nATOM   1386  H   ALA B 248      -7.433   4.314   6.980  1.00  0.29           H  \\nATOM   1387  HA  ALA B 248      -6.246   1.630   7.320  1.00  0.26           H  \\nATOM   1388  HB1 ALA B 248      -6.592   2.990   4.629  1.00  1.05           H  \\nATOM   1389  HB2 ALA B 248      -5.538   1.605   4.912  1.00  1.04           H  \\nATOM   1390  HB3 ALA B 248      -7.281   1.443   5.124  1.00  1.07           H  \\nATOM   1391  N   VAL B 249      -3.935   2.702   7.223  1.00  0.21           N  \\nATOM   1392  CA  VAL B 249      -2.658   3.449   7.429  1.00  0.22           C  \\nATOM   1393  C   VAL B 249      -1.492   2.630   6.879  1.00  0.20           C  \\nATOM   1394  O   VAL B 249      -1.297   1.485   7.236  1.00  0.23           O  \\nATOM   1395  CB  VAL B 249      -2.451   3.694   8.934  1.00  0.27           C  \\nATOM   1396  CG1 VAL B 249      -3.283   4.902   9.384  1.00  0.29           C  \\nATOM   1397  CG2 VAL B 249      -2.898   2.457   9.721  1.00  0.32           C  \\nATOM   1398  H   VAL B 249      -3.956   1.730   7.346  1.00  0.21           H  \\nATOM   1399  HA  VAL B 249      -2.696   4.397   6.911  1.00  0.26           H  \\nATOM   1400  HB  VAL B 249      -1.405   3.889   9.131  1.00  0.38           H  \\nATOM   1401 HG11 VAL B 249      -4.263   4.852   8.932  1.00  1.04           H  \\nATOM   1402 HG12 VAL B 249      -3.383   4.892  10.461  1.00  1.03           H  \\nATOM   1403 HG13 VAL B 249      -2.791   5.812   9.079  1.00  1.07           H  \\nATOM   1404 HG21 VAL B 249      -2.544   1.564   9.227  1.00  1.05           H  \\nATOM   1405 HG22 VAL B 249      -2.489   2.501  10.719  1.00  1.08           H  \\nATOM   1406 HG23 VAL B 249      -3.977   2.433   9.775  1.00  1.09           H  \\nATOM   1407  N   VAL B 250      -0.704   3.213   6.018  1.00  0.20           N  \\nATOM   1408  CA  VAL B 250       0.467   2.480   5.464  1.00  0.22           C  \\nATOM   1409  C   VAL B 250       1.641   2.693   6.414  1.00  0.21           C  \\nATOM   1410  O   VAL B 250       1.872   3.792   6.882  1.00  0.21           O  \\nATOM   1411  CB  VAL B 250       0.823   3.025   4.076  1.00  0.26           C  \\nATOM   1412  CG1 VAL B 250       2.002   2.234   3.508  1.00  0.31           C  \\nATOM   1413  CG2 VAL B 250      -0.385   2.890   3.137  1.00  0.28           C  \\nATOM   1414  H   VAL B 250      -0.872   4.141   5.749  1.00  0.23           H  \\nATOM   1415  HA  VAL B 250       0.244   1.425   5.397  1.00  0.23           H  \\nATOM   1416  HB  VAL B 250       1.105   4.064   4.159  1.00  0.25           H  \\nATOM   1417 HG11 VAL B 250       1.854   1.182   3.700  1.00  1.01           H  \\nATOM   1418 HG12 VAL B 250       2.072   2.401   2.442  1.00  1.01           H  \\nATOM   1419 HG13 VAL B 250       2.913   2.563   3.982  1.00  1.06           H  \\nATOM   1420 HG21 VAL B 250      -1.288   3.151   3.668  1.00  1.02           H  \\nATOM   1421 HG22 VAL B 250      -0.259   3.556   2.294  1.00  1.09           H  \\nATOM   1422 HG23 VAL B 250      -0.458   1.871   2.783  1.00  1.05           H  \\nATOM   1423  N   ILE B 251       2.372   1.653   6.727  1.00  0.20           N  \\nATOM   1424  CA  ILE B 251       3.520   1.801   7.674  1.00  0.20           C  \\nATOM   1425  C   ILE B 251       4.721   1.004   7.172  1.00  0.22           C  \\nATOM   1426  O   ILE B 251       4.663   0.338   6.157  1.00  0.24           O  \\nATOM   1427  CB  ILE B 251       3.117   1.265   9.052  1.00  0.18           C  \\nATOM   1428  CG1 ILE B 251       2.510  -0.139   8.894  1.00  0.21           C  \\nATOM   1429  CG2 ILE B 251       2.089   2.203   9.686  1.00  0.17           C  \\nATOM   1430  CD1 ILE B 251       2.238  -0.779  10.278  1.00  0.20           C  \\nATOM   1431  H   ILE B 251       2.157   0.774   6.353  1.00  0.22           H  \\nATOM   1432  HA  ILE B 251       3.794   2.837   7.762  1.00  0.19           H  \\nATOM   1433  HB  ILE B 251       3.992   1.211   9.684  1.00  0.20           H  \\nATOM   1434 HG12 ILE B 251       1.583  -0.062   8.343  1.00  0.24           H  \\nATOM   1435 HG13 ILE B 251       3.201  -0.761   8.342  1.00  0.26           H  \\nATOM   1436 HG21 ILE B 251       1.290   2.388   8.984  1.00  1.03           H  \\nATOM   1437 HG22 ILE B 251       1.687   1.749  10.578  1.00  1.02           H  \\nATOM   1438 HG23 ILE B 251       2.567   3.136   9.940  1.00  1.02           H  \\nATOM   1439 HD11 ILE B 251       2.825  -0.286  11.040  1.00  1.03           H  \\nATOM   1440 HD12 ILE B 251       1.189  -0.684  10.521  1.00  1.06           H  \\nATOM   1441 HD13 ILE B 251       2.502  -1.828  10.251  1.00  0.99           H  \\nATOM   1442  N   GLN B 252       5.809   1.061   7.891  1.00  0.23           N  \\nATOM   1443  CA  GLN B 252       7.026   0.295   7.486  1.00  0.27           C  \\nATOM   1444  C   GLN B 252       7.728  -0.213   8.741  1.00  0.30           C  \\nATOM   1445  O   GLN B 252       8.250   0.554   9.524  1.00  0.32           O  \\nATOM   1446  CB  GLN B 252       7.991   1.189   6.703  1.00  0.29           C  \\nATOM   1447  CG  GLN B 252       9.065   0.322   6.042  1.00  0.31           C  \\nATOM   1448  CD  GLN B 252      10.071   1.220   5.322  1.00  0.34           C  \\nATOM   1449  OE1 GLN B 252      10.961   1.770   5.940  1.00  0.68           O  \\nATOM   1450  NE2 GLN B 252       9.969   1.393   4.033  1.00  0.47           N  \\nATOM   1451  H   GLN B 252       5.821   1.604   8.712  1.00  0.23           H  \\nATOM   1452  HA  GLN B 252       6.738  -0.546   6.870  1.00  0.27           H  \\nATOM   1453  HB2 GLN B 252       7.450   1.724   5.943  1.00  0.31           H  \\nATOM   1454  HB3 GLN B 252       8.465   1.888   7.372  1.00  0.34           H  \\nATOM   1455  HG2 GLN B 252       9.574  -0.258   6.798  1.00  0.40           H  \\nATOM   1456  HG3 GLN B 252       8.603  -0.342   5.328  1.00  0.35           H  \\nATOM   1457 HE21 GLN B 252       9.252   0.949   3.535  1.00  0.79           H  \\nATOM   1458 HE22 GLN B 252      10.610   1.968   3.563  1.00  0.46           H  \\nATOM   1459  N   ASP B 253       7.757  -1.501   8.936  1.00  0.32           N  \\nATOM   1460  CA  ASP B 253       8.443  -2.059  10.137  1.00  0.36           C  \\nATOM   1461  C   ASP B 253       9.878  -2.384   9.733  1.00  0.40           C  \\nATOM   1462  O   ASP B 253      10.793  -1.634  10.006  1.00  0.42           O  \\nATOM   1463  CB  ASP B 253       7.714  -3.324  10.600  1.00  0.39           C  \\nATOM   1464  CG  ASP B 253       8.228  -3.731  11.984  1.00  0.48           C  \\nATOM   1465  OD1 ASP B 253       8.086  -2.941  12.903  1.00  1.26           O  \\nATOM   1466  OD2 ASP B 253       8.755  -4.825  12.100  1.00  1.13           O  \\nATOM   1467  H   ASP B 253       7.338  -2.105   8.288  1.00  0.32           H  \\nATOM   1468  HA  ASP B 253       8.449  -1.327  10.934  1.00  0.37           H  \\nATOM   1469  HB2 ASP B 253       6.650  -3.122  10.654  1.00  0.38           H  \\nATOM   1470  HB3 ASP B 253       7.892  -4.126   9.900  1.00  0.41           H  \\nATOM   1471  N   ASN B 254      10.078  -3.472   9.047  1.00  0.42           N  \\nATOM   1472  CA  ASN B 254      11.449  -3.806   8.580  1.00  0.47           C  \\nATOM   1473  C   ASN B 254      11.683  -2.995   7.306  1.00  0.44           C  \\nATOM   1474  O   ASN B 254      11.363  -1.824   7.250  1.00  0.45           O  \\nATOM   1475  CB  ASN B 254      11.540  -5.302   8.268  1.00  0.51           C  \\nATOM   1476  CG  ASN B 254      11.303  -6.105   9.547  1.00  1.28           C  \\nATOM   1477  OD1 ASN B 254      10.329  -5.893  10.242  1.00  2.10           O  \\nATOM   1478  ND2 ASN B 254      12.160  -7.026   9.893  1.00  1.93           N  \\nATOM   1479  H   ASN B 254       9.323  -4.050   8.807  1.00  0.42           H  \\nATOM   1480  HA  ASN B 254      12.178  -3.536   9.333  1.00  0.50           H  \\nATOM   1481  HB2 ASN B 254      10.791  -5.563   7.534  1.00  1.04           H  \\nATOM   1482  HB3 ASN B 254      12.520  -5.531   7.880  1.00  0.90           H  \\nATOM   1483 HD21 ASN B 254      12.947  -7.197   9.335  1.00  2.18           H  \\nATOM   1484 HD22 ASN B 254      12.017  -7.547  10.710  1.00  2.57           H  \\nATOM   1485  N   SER B 255      12.191  -3.608   6.270  1.00  0.44           N  \\nATOM   1486  CA  SER B 255      12.396  -2.875   4.984  1.00  0.43           C  \\nATOM   1487  C   SER B 255      11.294  -3.310   4.018  1.00  0.40           C  \\nATOM   1488  O   SER B 255      11.551  -3.781   2.928  1.00  0.42           O  \\nATOM   1489  CB  SER B 255      13.769  -3.224   4.403  1.00  0.48           C  \\nATOM   1490  OG  SER B 255      14.730  -3.243   5.450  1.00  1.36           O  \\nATOM   1491  H   SER B 255      12.411  -4.561   6.327  1.00  0.47           H  \\nATOM   1492  HA  SER B 255      12.327  -1.802   5.145  1.00  0.42           H  \\nATOM   1493  HB2 SER B 255      13.733  -4.196   3.938  1.00  1.15           H  \\nATOM   1494  HB3 SER B 255      14.044  -2.484   3.662  1.00  1.15           H  \\nATOM   1495  HG  SER B 255      15.595  -3.378   5.056  1.00  1.88           H  \\nATOM   1496  N   ASP B 256      10.065  -3.168   4.432  1.00  0.37           N  \\nATOM   1497  CA  ASP B 256       8.921  -3.578   3.571  1.00  0.35           C  \\nATOM   1498  C   ASP B 256       7.683  -2.783   3.984  1.00  0.32           C  \\nATOM   1499  O   ASP B 256       7.296  -2.770   5.136  1.00  0.30           O  \\nATOM   1500  CB  ASP B 256       8.649  -5.073   3.755  1.00  0.37           C  \\nATOM   1501  CG  ASP B 256       9.739  -5.882   3.051  1.00  0.43           C  \\nATOM   1502  OD1 ASP B 256      10.169  -5.463   1.989  1.00  1.27           O  \\nATOM   1503  OD2 ASP B 256      10.125  -6.909   3.585  1.00  1.03           O  \\nATOM   1504  H   ASP B 256       9.893  -2.797   5.322  1.00  0.36           H  \\nATOM   1505  HA  ASP B 256       9.152  -3.375   2.535  1.00  0.36           H  \\nATOM   1506  HB2 ASP B 256       8.648  -5.311   4.809  1.00  0.39           H  \\nATOM   1507  HB3 ASP B 256       7.687  -5.320   3.330  1.00  0.38           H  \\nATOM   1508  N   ILE B 257       7.067  -2.105   3.058  1.00  0.31           N  \\nATOM   1509  CA  ILE B 257       5.859  -1.295   3.391  1.00  0.29           C  \\nATOM   1510  C   ILE B 257       4.600  -2.134   3.167  1.00  0.31           C  \\nATOM   1511  O   ILE B 257       4.489  -2.859   2.198  1.00  0.36           O  \\nATOM   1512  CB  ILE B 257       5.837  -0.057   2.495  1.00  0.30           C  \\nATOM   1513  CG1 ILE B 257       7.150   0.711   2.702  1.00  0.33           C  \\nATOM   1514  CG2 ILE B 257       4.646   0.822   2.877  1.00  0.28           C  \\nATOM   1515  CD1 ILE B 257       7.185   1.971   1.824  1.00  0.32           C  \\nATOM   1516  H   ILE B 257       7.405  -2.120   2.137  1.00  0.34           H  \\nATOM   1517  HA  ILE B 257       5.901  -0.986   4.426  1.00  0.27           H  \\nATOM   1518  HB  ILE B 257       5.750  -0.358   1.461  1.00  0.36           H  \\nATOM   1519 HG12 ILE B 257       7.235   0.993   3.742  1.00  0.33           H  \\nATOM   1520 HG13 ILE B 257       7.980   0.071   2.439  1.00  0.42           H  \\nATOM   1521 HG21 ILE B 257       4.713   1.083   3.922  1.00  1.04           H  \\nATOM   1522 HG22 ILE B 257       4.645   1.720   2.277  1.00  1.04           H  \\nATOM   1523 HG23 ILE B 257       3.733   0.276   2.702  1.00  1.03           H  \\nATOM   1524 HD11 ILE B 257       6.661   1.787   0.896  1.00  1.01           H  \\nATOM   1525 HD12 ILE B 257       6.713   2.789   2.348  1.00  1.00           H  \\nATOM   1526 HD13 ILE B 257       8.213   2.231   1.609  1.00  1.04           H  \\nATOM   1527  N   LYS B 258       3.651  -2.049   4.068  1.00  0.28           N  \\nATOM   1528  CA  LYS B 258       2.396  -2.851   3.929  1.00  0.30           C  \\nATOM   1529  C   LYS B 258       1.186  -2.012   4.348  1.00  0.28           C  \\nATOM   1530  O   LYS B 258       1.319  -0.945   4.915  1.00  0.27           O  \\nATOM   1531  CB  LYS B 258       2.489  -4.084   4.832  1.00  0.32           C  \\nATOM   1532  CG  LYS B 258       3.438  -5.107   4.207  1.00  0.37           C  \\nATOM   1533  CD  LYS B 258       3.678  -6.262   5.190  1.00  0.48           C  \\nATOM   1534  CE  LYS B 258       4.246  -7.486   4.446  1.00  1.11           C  \\nATOM   1535  NZ  LYS B 258       5.189  -8.209   5.343  1.00  1.88           N  \\nATOM   1536  H   LYS B 258       3.769  -1.462   4.844  1.00  0.25           H  \\nATOM   1537  HA  LYS B 258       2.272  -3.168   2.904  1.00  0.33           H  \\nATOM   1538  HB2 LYS B 258       2.865  -3.791   5.802  1.00  0.30           H  \\nATOM   1539  HB3 LYS B 258       1.510  -4.526   4.945  1.00  0.33           H  \\nATOM   1540  HG2 LYS B 258       3.002  -5.492   3.296  1.00  0.43           H  \\nATOM   1541  HG3 LYS B 258       4.380  -4.631   3.981  1.00  0.42           H  \\nATOM   1542  HD2 LYS B 258       4.382  -5.945   5.946  1.00  0.81           H  \\nATOM   1543  HD3 LYS B 258       2.743  -6.531   5.663  1.00  0.93           H  \\nATOM   1544  HE2 LYS B 258       3.439  -8.149   4.167  1.00  1.70           H  \\nATOM   1545  HE3 LYS B 258       4.774  -7.169   3.557  1.00  1.71           H  \\nATOM   1546  HZ1 LYS B 258       5.753  -7.519   5.882  1.00  2.34           H  \\nATOM   1547  HZ2 LYS B 258       4.652  -8.808   6.002  1.00  2.40           H  \\nATOM   1548  HZ3 LYS B 258       5.822  -8.805   4.773  1.00  2.35           H  \\nATOM   1549  N   VAL B 259       0.002  -2.502   4.079  1.00  0.28           N  \\nATOM   1550  CA  VAL B 259      -1.240  -1.763   4.465  1.00  0.26           C  \\nATOM   1551  C   VAL B 259      -1.834  -2.407   5.721  1.00  0.25           C  \\nATOM   1552  O   VAL B 259      -1.851  -3.615   5.857  1.00  0.27           O  \\nATOM   1553  CB  VAL B 259      -2.258  -1.843   3.319  1.00  0.29           C  \\nATOM   1554  CG1 VAL B 259      -3.331  -0.768   3.507  1.00  0.32           C  \\nATOM   1555  CG2 VAL B 259      -1.541  -1.620   1.986  1.00  0.35           C  \\nATOM   1556  H   VAL B 259      -0.072  -3.369   3.630  1.00  0.29           H  \\nATOM   1557  HA  VAL B 259      -1.004  -0.729   4.670  1.00  0.26           H  \\nATOM   1558  HB  VAL B 259      -2.725  -2.818   3.318  1.00  0.31           H  \\nATOM   1559 HG11 VAL B 259      -3.650  -0.754   4.538  1.00  1.05           H  \\nATOM   1560 HG12 VAL B 259      -2.924   0.198   3.244  1.00  1.13           H  \\nATOM   1561 HG13 VAL B 259      -4.175  -0.988   2.871  1.00  0.99           H  \\nATOM   1562 HG21 VAL B 259      -0.880  -0.769   2.070  1.00  1.08           H  \\nATOM   1563 HG22 VAL B 259      -0.965  -2.499   1.734  1.00  1.09           H  \\nATOM   1564 HG23 VAL B 259      -2.271  -1.434   1.212  1.00  1.05           H  \\nATOM   1565  N   VAL B 260      -2.321  -1.608   6.641  1.00  0.24           N  \\nATOM   1566  CA  VAL B 260      -2.918  -2.163   7.897  1.00  0.25           C  \\nATOM   1567  C   VAL B 260      -4.242  -1.420   8.193  1.00  0.24           C  \\nATOM   1568  O   VAL B 260      -4.246  -0.205   8.200  1.00  0.24           O  \\nATOM   1569  CB  VAL B 260      -1.940  -1.919   9.051  1.00  0.26           C  \\nATOM   1570  CG1 VAL B 260      -2.518  -2.485  10.349  1.00  0.32           C  \\nATOM   1571  CG2 VAL B 260      -0.610  -2.614   8.746  1.00  0.28           C  \\nATOM   1572  H   VAL B 260      -2.294  -0.639   6.508  1.00  0.25           H  \\nATOM   1573  HA  VAL B 260      -3.077  -3.216   7.785  1.00  0.26           H  \\nATOM   1574  HB  VAL B 260      -1.774  -0.858   9.165  1.00  0.30           H  \\nATOM   1575 HG11 VAL B 260      -2.716  -3.538  10.225  1.00  1.01           H  \\nATOM   1576 HG12 VAL B 260      -1.807  -2.345  11.148  1.00  1.11           H  \\nATOM   1577 HG13 VAL B 260      -3.434  -1.971  10.592  1.00  1.10           H  \\nATOM   1578 HG21 VAL B 260      -0.803  -3.616   8.390  1.00  1.04           H  \\nATOM   1579 HG22 VAL B 260      -0.080  -2.058   7.988  1.00  1.04           H  \\nATOM   1580 HG23 VAL B 260      -0.013  -2.659   9.644  1.00  1.08           H  \\nATOM   1581  N   PRO B 261      -5.338  -2.130   8.442  1.00  0.27           N  \\nATOM   1582  CA  PRO B 261      -6.612  -1.453   8.746  1.00  0.28           C  \\nATOM   1583  C   PRO B 261      -6.427  -0.524   9.953  1.00  0.26           C  \\nATOM   1584  O   PRO B 261      -5.782  -0.873  10.921  1.00  0.25           O  \\nATOM   1585  CB  PRO B 261      -7.612  -2.590   9.062  1.00  0.33           C  \\nATOM   1586  CG  PRO B 261      -6.881  -3.937   8.803  1.00  0.37           C  \\nATOM   1587  CD  PRO B 261      -5.415  -3.612   8.436  1.00  0.31           C  \\nATOM   1588  HA  PRO B 261      -6.948  -0.891   7.889  1.00  0.30           H  \\nATOM   1589  HB2 PRO B 261      -7.930  -2.535  10.099  1.00  0.34           H  \\nATOM   1590  HB3 PRO B 261      -8.477  -2.516   8.415  1.00  0.36           H  \\nATOM   1591  HG2 PRO B 261      -6.915  -4.553   9.694  1.00  0.40           H  \\nATOM   1592  HG3 PRO B 261      -7.353  -4.462   7.982  1.00  0.42           H  \\nATOM   1593  HD2 PRO B 261      -4.740  -4.029   9.174  1.00  0.30           H  \\nATOM   1594  HD3 PRO B 261      -5.183  -3.992   7.451  1.00  0.34           H  \\nATOM   1595  N   ARG B 262      -6.995   0.648   9.907  1.00  0.29           N  \\nATOM   1596  CA  ARG B 262      -6.850   1.583  11.055  1.00  0.29           C  \\nATOM   1597  C   ARG B 262      -7.385   0.912  12.330  1.00  0.30           C  \\nATOM   1598  O   ARG B 262      -6.971   1.221  13.429  1.00  0.31           O  \\nATOM   1599  CB  ARG B 262      -7.642   2.864  10.772  1.00  0.36           C  \\nATOM   1600  CG  ARG B 262      -7.698   3.731  12.037  1.00  0.54           C  \\nATOM   1601  CD  ARG B 262      -8.015   5.182  11.662  1.00  1.02           C  \\nATOM   1602  NE  ARG B 262      -8.341   5.955  12.892  1.00  1.61           N  \\nATOM   1603  CZ  ARG B 262      -8.333   7.260  12.864  1.00  2.05           C  \\nATOM   1604  NH1 ARG B 262      -8.024   7.888  11.763  1.00  2.30           N  \\nATOM   1605  NH2 ARG B 262      -8.628   7.937  13.939  1.00  2.87           N  \\nATOM   1606  H   ARG B 262      -7.518   0.911   9.122  1.00  0.34           H  \\nATOM   1607  HA  ARG B 262      -5.806   1.832  11.184  1.00  0.28           H  \\nATOM   1608  HB2 ARG B 262      -7.160   3.413   9.975  1.00  0.62           H  \\nATOM   1609  HB3 ARG B 262      -8.647   2.605  10.471  1.00  0.61           H  \\nATOM   1610  HG2 ARG B 262      -8.468   3.351  12.693  1.00  0.99           H  \\nATOM   1611  HG3 ARG B 262      -6.744   3.694  12.544  1.00  1.09           H  \\nATOM   1612  HD2 ARG B 262      -7.155   5.622  11.175  1.00  1.63           H  \\nATOM   1613  HD3 ARG B 262      -8.860   5.204  10.990  1.00  1.51           H  \\nATOM   1614  HE  ARG B 262      -8.566   5.484  13.721  1.00  2.21           H  \\nATOM   1615 HH11 ARG B 262      -7.794   7.369  10.938  1.00  2.22           H  \\nATOM   1616 HH12 ARG B 262      -8.016   8.888  11.741  1.00  2.98           H  \\nATOM   1617 HH21 ARG B 262      -8.862   7.456  14.785  1.00  3.29           H  \\nATOM   1618 HH22 ARG B 262      -8.621   8.936  13.919  1.00  3.33           H  \\nATOM   1619  N   ARG B 263      -8.313   0.004  12.182  1.00  0.33           N  \\nATOM   1620  CA  ARG B 263      -8.898  -0.691  13.372  1.00  0.38           C  \\nATOM   1621  C   ARG B 263      -7.852  -1.608  14.022  1.00  0.36           C  \\nATOM   1622  O   ARG B 263      -8.034  -2.062  15.135  1.00  0.41           O  \\nATOM   1623  CB  ARG B 263     -10.100  -1.547  12.916  1.00  0.46           C  \\nATOM   1624  CG  ARG B 263     -11.415  -0.765  13.035  1.00  1.41           C  \\nATOM   1625  CD  ARG B 263     -12.582  -1.725  12.791  1.00  1.72           C  \\nATOM   1626  NE  ARG B 263     -13.824  -0.954  12.517  1.00  2.30           N  \\nATOM   1627  CZ  ARG B 263     -14.843  -1.551  11.963  1.00  2.72           C  \\nATOM   1628  NH1 ARG B 263     -14.759  -2.814  11.638  1.00  2.73           N  \\nATOM   1629  NH2 ARG B 263     -15.943  -0.889  11.730  1.00  3.63           N  \\nATOM   1630  H   ARG B 263      -8.635  -0.216  11.285  1.00  0.36           H  \\nATOM   1631  HA  ARG B 263      -9.221   0.043  14.093  1.00  0.41           H  \\nATOM   1632  HB2 ARG B 263      -9.956  -1.836  11.887  1.00  1.07           H  \\nATOM   1633  HB3 ARG B 263     -10.171  -2.440  13.525  1.00  1.08           H  \\nATOM   1634  HG2 ARG B 263     -11.499  -0.342  14.026  1.00  2.07           H  \\nATOM   1635  HG3 ARG B 263     -11.437   0.024  12.299  1.00  2.05           H  \\nATOM   1636  HD2 ARG B 263     -12.358  -2.357  11.941  1.00  1.96           H  \\nATOM   1637  HD3 ARG B 263     -12.731  -2.339  13.666  1.00  2.28           H  \\nATOM   1638  HE  ARG B 263     -13.878  -0.006  12.755  1.00  2.81           H  \\nATOM   1639 HH11 ARG B 263     -13.915  -3.320  11.815  1.00  2.58           H  \\nATOM   1640 HH12 ARG B 263     -15.538  -3.274  11.213  1.00  3.29           H  \\nATOM   1641 HH21 ARG B 263     -16.005   0.078  11.976  1.00  4.10           H  \\nATOM   1642 HH22 ARG B 263     -16.722  -1.349  11.305  1.00  4.04           H  \\nATOM   1643  N   LYS B 264      -6.771  -1.893  13.341  1.00  0.34           N  \\nATOM   1644  CA  LYS B 264      -5.722  -2.795  13.917  1.00  0.38           C  \\nATOM   1645  C   LYS B 264      -4.424  -2.013  14.055  1.00  0.32           C  \\nATOM   1646  O   LYS B 264      -3.342  -2.570  14.101  1.00  0.34           O  \\nATOM   1647  CB  LYS B 264      -5.514  -3.994  12.987  1.00  0.49           C  \\nATOM   1648  CG  LYS B 264      -6.851  -4.721  12.792  1.00  0.78           C  \\nATOM   1649  CD  LYS B 264      -6.606  -6.140  12.273  1.00  1.17           C  \\nATOM   1650  CE  LYS B 264      -7.940  -6.885  12.201  1.00  1.37           C  \\nATOM   1651  NZ  LYS B 264      -7.744  -8.194  11.516  1.00  2.07           N  \\nATOM   1652  H   LYS B 264      -6.652  -1.521  12.442  1.00  0.33           H  \\nATOM   1653  HA  LYS B 264      -6.023  -3.151  14.894  1.00  0.43           H  \\nATOM   1654  HB2 LYS B 264      -5.147  -3.651  12.030  1.00  0.87           H  \\nATOM   1655  HB3 LYS B 264      -4.797  -4.671  13.427  1.00  0.81           H  \\nATOM   1656  HG2 LYS B 264      -7.375  -4.773  13.737  1.00  1.31           H  \\nATOM   1657  HG3 LYS B 264      -7.452  -4.179  12.078  1.00  1.39           H  \\nATOM   1658  HD2 LYS B 264      -6.162  -6.094  11.290  1.00  1.77           H  \\nATOM   1659  HD3 LYS B 264      -5.942  -6.661  12.946  1.00  1.73           H  \\nATOM   1660  HE2 LYS B 264      -8.313  -7.054  13.200  1.00  1.74           H  \\nATOM   1661  HE3 LYS B 264      -8.653  -6.293  11.646  1.00  1.85           H  \\nATOM   1662  HZ1 LYS B 264      -6.770  -8.525  11.675  1.00  2.62           H  \\nATOM   1663  HZ2 LYS B 264      -8.414  -8.889  11.901  1.00  2.46           H  \\nATOM   1664  HZ3 LYS B 264      -7.913  -8.081  10.497  1.00  2.43           H  \\nATOM   1665  N   ALA B 265      -4.537  -0.714  14.141  1.00  0.27           N  \\nATOM   1666  CA  ALA B 265      -3.337   0.151  14.293  1.00  0.23           C  \\nATOM   1667  C   ALA B 265      -3.653   1.255  15.303  1.00  0.24           C  \\nATOM   1668  O   ALA B 265      -4.801   1.577  15.545  1.00  0.28           O  \\nATOM   1669  CB  ALA B 265      -2.982   0.776  12.942  1.00  0.23           C  \\nATOM   1670  H   ALA B 265      -5.428  -0.306  14.113  1.00  0.28           H  \\nATOM   1671  HA  ALA B 265      -2.506  -0.435  14.649  1.00  0.25           H  \\nATOM   1672  HB1 ALA B 265      -3.875   1.179  12.486  1.00  1.03           H  \\nATOM   1673  HB2 ALA B 265      -2.264   1.568  13.088  1.00  1.04           H  \\nATOM   1674  HB3 ALA B 265      -2.559   0.019  12.297  1.00  1.04           H  \\nATOM   1675  N   LYS B 266      -2.647   1.839  15.897  1.00  0.22           N  \\nATOM   1676  CA  LYS B 266      -2.875   2.927  16.900  1.00  0.25           C  \\nATOM   1677  C   LYS B 266      -1.856   4.037  16.653  1.00  0.25           C  \\nATOM   1678  O   LYS B 266      -0.678   3.785  16.533  1.00  0.23           O  \\nATOM   1679  CB  LYS B 266      -2.698   2.363  18.316  1.00  0.30           C  \\nATOM   1680  CG  LYS B 266      -3.716   1.240  18.557  1.00  0.39           C  \\nATOM   1681  CD  LYS B 266      -3.902   1.018  20.062  1.00  0.47           C  \\nATOM   1682  CE  LYS B 266      -2.541   0.794  20.726  1.00  1.10           C  \\nATOM   1683  NZ  LYS B 266      -2.747   0.314  22.122  1.00  2.06           N  \\nATOM   1684  H   LYS B 266      -1.731   1.560  15.684  1.00  0.21           H  \\nATOM   1685  HA  LYS B 266      -3.874   3.329  16.792  1.00  0.28           H  \\nATOM   1686  HB2 LYS B 266      -1.697   1.969  18.423  1.00  0.34           H  \\nATOM   1687  HB3 LYS B 266      -2.853   3.152  19.038  1.00  0.39           H  \\nATOM   1688  HG2 LYS B 266      -4.666   1.511  18.117  1.00  0.51           H  \\nATOM   1689  HG3 LYS B 266      -3.359   0.328  18.103  1.00  0.46           H  \\nATOM   1690  HD2 LYS B 266      -4.375   1.885  20.498  1.00  0.88           H  \\nATOM   1691  HD3 LYS B 266      -4.523   0.150  20.223  1.00  1.16           H  \\nATOM   1692  HE2 LYS B 266      -1.985   0.055  20.168  1.00  1.55           H  \\nATOM   1693  HE3 LYS B 266      -1.990   1.723  20.743  1.00  1.60           H  \\nATOM   1694  HZ1 LYS B 266      -3.670   0.645  22.469  1.00  2.52           H  \\nATOM   1695  HZ2 LYS B 266      -2.722  -0.727  22.137  1.00  2.59           H  \\nATOM   1696  HZ3 LYS B 266      -1.995   0.689  22.732  1.00  2.49           H  \\nATOM   1697  N   ILE B 267      -2.302   5.261  16.550  1.00  0.28           N  \\nATOM   1698  CA  ILE B 267      -1.355   6.387  16.280  1.00  0.31           C  \\nATOM   1699  C   ILE B 267      -0.786   6.919  17.601  1.00  0.36           C  \\nATOM   1700  O   ILE B 267      -1.483   7.533  18.383  1.00  0.42           O  \\nATOM   1701  CB  ILE B 267      -2.091   7.531  15.547  1.00  0.36           C  \\nATOM   1702  CG1 ILE B 267      -3.062   6.977  14.480  1.00  0.36           C  \\nATOM   1703  CG2 ILE B 267      -1.072   8.463  14.878  1.00  0.41           C  \\nATOM   1704  CD1 ILE B 267      -2.295   6.447  13.262  1.00  0.41           C  \\nATOM   1705  H   ILE B 267      -3.262   5.440  16.632  1.00  0.31           H  \\nATOM   1706  HA  ILE B 267      -0.540   6.031  15.669  1.00  0.28           H  \\nATOM   1707  HB  ILE B 267      -2.657   8.104  16.270  1.00  0.41           H  \\nATOM   1708 HG12 ILE B 267      -3.656   6.182  14.901  1.00  0.40           H  \\nATOM   1709 HG13 ILE B 267      -3.719   7.772  14.160  1.00  0.43           H  \\nATOM   1710 HG21 ILE B 267      -0.361   7.883  14.310  1.00  1.05           H  \\nATOM   1711 HG22 ILE B 267      -1.589   9.143  14.215  1.00  1.05           H  \\nATOM   1712 HG23 ILE B 267      -0.551   9.029  15.637  1.00  0.98           H  \\nATOM   1713 HD11 ILE B 267      -1.468   5.837  13.586  1.00  1.10           H  \\nATOM   1714 HD12 ILE B 267      -2.960   5.853  12.651  1.00  1.16           H  \\nATOM   1715 HD13 ILE B 267      -1.923   7.278  12.680  1.00  1.06           H  \\nATOM   1716  N   ILE B 268       0.486   6.699  17.841  1.00  0.36           N  \\nATOM   1717  CA  ILE B 268       1.134   7.201  19.097  1.00  0.43           C  \\nATOM   1718  C   ILE B 268       2.072   8.353  18.723  1.00  0.47           C  \\nATOM   1719  O   ILE B 268       2.543   8.439  17.608  1.00  0.44           O  \\nATOM   1720  CB  ILE B 268       1.950   6.077  19.768  1.00  0.44           C  \\nATOM   1721  CG1 ILE B 268       1.157   4.751  19.787  1.00  0.43           C  \\nATOM   1722  CG2 ILE B 268       2.322   6.479  21.204  1.00  0.51           C  \\nATOM   1723  CD1 ILE B 268       0.061   4.779  20.861  1.00  0.53           C  \\nATOM   1724  H   ILE B 268       1.025   6.212  17.182  1.00  0.34           H  \\nATOM   1725  HA  ILE B 268       0.383   7.570  19.779  1.00  0.48           H  \\nATOM   1726  HB  ILE B 268       2.863   5.933  19.208  1.00  0.43           H  \\nATOM   1727 HG12 ILE B 268       0.708   4.581  18.822  1.00  0.42           H  \\nATOM   1728 HG13 ILE B 268       1.838   3.943  20.001  1.00  0.48           H  \\nATOM   1729 HG21 ILE B 268       1.466   6.915  21.696  1.00  1.04           H  \\nATOM   1730 HG22 ILE B 268       2.642   5.603  21.750  1.00  1.18           H  \\nATOM   1731 HG23 ILE B 268       3.127   7.198  21.177  1.00  1.13           H  \\nATOM   1732 HD11 ILE B 268      -0.403   5.750  20.890  1.00  1.10           H  \\nATOM   1733 HD12 ILE B 268      -0.685   4.033  20.630  1.00  1.19           H  \\nATOM   1734 HD13 ILE B 268       0.499   4.561  21.825  1.00  1.07           H  \\nATOM   1735  N   ARG B 269       2.332   9.247  19.639  1.00  0.56           N  \\nATOM   1736  CA  ARG B 269       3.227  10.408  19.334  1.00  0.62           C  \\nATOM   1737  C   ARG B 269       4.660  10.119  19.786  1.00  0.63           C  \\nATOM   1738  O   ARG B 269       4.893   9.334  20.683  1.00  0.66           O  \\nATOM   1739  CB  ARG B 269       2.705  11.649  20.063  1.00  0.75           C  \\nATOM   1740  CG  ARG B 269       1.178  11.717  19.912  1.00  1.41           C  \\nATOM   1741  CD  ARG B 269       0.658  13.118  20.269  1.00  1.62           C  \\nATOM   1742  NE  ARG B 269       0.523  13.233  21.749  1.00  2.41           N  \\nATOM   1743  CZ  ARG B 269       0.329  14.401  22.297  1.00  3.08           C  \\nATOM   1744  NH1 ARG B 269       0.244  15.467  21.548  1.00  3.24           N  \\nATOM   1745  NH2 ARG B 269       0.212  14.503  23.593  1.00  4.06           N  \\nATOM   1746  H   ARG B 269       1.931   9.160  20.527  1.00  0.61           H  \\nATOM   1747  HA  ARG B 269       3.225  10.602  18.268  1.00  0.61           H  \\nATOM   1748  HB2 ARG B 269       2.964  11.588  21.112  1.00  1.48           H  \\nATOM   1749  HB3 ARG B 269       3.155  12.530  19.631  1.00  1.22           H  \\nATOM   1750  HG2 ARG B 269       0.908  11.486  18.892  1.00  2.00           H  \\nATOM   1751  HG3 ARG B 269       0.725  10.993  20.571  1.00  2.12           H  \\nATOM   1752  HD2 ARG B 269       1.339  13.871  19.913  1.00  1.79           H  \\nATOM   1753  HD3 ARG B 269      -0.308  13.267  19.806  1.00  2.02           H  \\nATOM   1754  HE  ARG B 269       0.583  12.431  22.310  1.00  2.88           H  \\nATOM   1755 HH11 ARG B 269       0.329  15.389  20.555  1.00  2.92           H  \\nATOM   1756 HH12 ARG B 269       0.093  16.362  21.968  1.00  4.00           H  \\nATOM   1757 HH21 ARG B 269       0.273  13.686  24.166  1.00  4.40           H  \\nATOM   1758 HH22 ARG B 269       0.062  15.398  24.012  1.00  4.66           H  \\nATOM   1759  N   ASP B 270       5.622  10.770  19.174  1.00  0.63           N  \\nATOM   1760  CA  ASP B 270       7.060  10.572  19.559  1.00  0.67           C  \\nATOM   1761  C   ASP B 270       7.687  11.932  19.866  1.00  1.08           C  \\nATOM   1762  O   ASP B 270       8.646  11.963  20.620  1.00  1.72           O  \\nATOM   1763  CB  ASP B 270       7.821   9.935  18.398  1.00  0.93           C  \\nATOM   1764  CG  ASP B 270       7.295   8.525  18.145  1.00  1.53           C  \\nATOM   1765  OD1 ASP B 270       6.127   8.398  17.814  1.00  1.94           O  \\nATOM   1766  OD2 ASP B 270       8.070   7.598  18.289  1.00  2.24           O  \\nATOM   1767  OXT ASP B 270       7.203  12.919  19.338  1.00  1.69           O  \\nATOM   1768  H   ASP B 270       5.395  11.402  18.457  1.00  0.63           H  \\nATOM   1769  HA  ASP B 270       7.134   9.936  20.432  1.00  1.03           H  \\nATOM   1770  HB2 ASP B 270       7.688  10.533  17.513  1.00  1.26           H  \\nATOM   1771  HB3 ASP B 270       8.872   9.885  18.643  1.00  0.93           H  \\nTER    1772      ASP B 270                                                      \\nMASTER      127    0    0    2   10    0    0    6  866    2    0    8          \\nEND                                                                             \\n\",\"pdb\");\n\tviewer_16982960601334612.zoomTo();\n\tviewer_16982960601334612.setBackgroundColor(\"white\");\n\tviewer_16982960601334612.setStyle({\"cartoon\": {\"color\": \"purple\"}});\nviewer_16982960601334612.render();\n});\n</script>",
            "text/html": [
              "<div id=\"3dmolviewer_16982960601334612\"  style=\"position: relative; width: 640px; height: 480px;\">\n",
              "        <p id=\"3dmolwarning_16982960601334612\" style=\"background-color:#ffcccc;color:black\">You appear to be running in JupyterLab (or JavaScript failed to load for some other reason).  You need to install the 3dmol extension: <br>\n",
              "        <tt>jupyter labextension install jupyterlab_3dmol</tt></p>\n",
              "        </div>\n",
              "<script>\n",
              "\n",
              "var loadScriptAsync = function(uri){\n",
              "  return new Promise((resolve, reject) => {\n",
              "    //this is to ignore the existence of requirejs amd\n",
              "    var savedexports, savedmodule;\n",
              "    if (typeof exports !== 'undefined') savedexports = exports;\n",
              "    else exports = {}\n",
              "    if (typeof module !== 'undefined') savedmodule = module;\n",
              "    else module = {}\n",
              "\n",
              "    var tag = document.createElement('script');\n",
              "    tag.src = uri;\n",
              "    tag.async = true;\n",
              "    tag.onload = () => {\n",
              "        exports = savedexports;\n",
              "        module = savedmodule;\n",
              "        resolve();\n",
              "    };\n",
              "  var firstScriptTag = document.getElementsByTagName('script')[0];\n",
              "  firstScriptTag.parentNode.insertBefore(tag, firstScriptTag);\n",
              "});\n",
              "};\n",
              "\n",
              "if(typeof $3Dmolpromise === 'undefined') {\n",
              "$3Dmolpromise = null;\n",
              "  $3Dmolpromise = loadScriptAsync('https://cdnjs.cloudflare.com/ajax/libs/3Dmol/2.0.4/3Dmol-min.js');\n",
              "}\n",
              "\n",
              "var viewer_16982960601334612 = null;\n",
              "var warn = document.getElementById(\"3dmolwarning_16982960601334612\");\n",
              "if(warn) {\n",
              "    warn.parentNode.removeChild(warn);\n",
              "}\n",
              "$3Dmolpromise.then(function() {\n",
              "viewer_16982960601334612 = $3Dmol.createViewer(document.getElementById(\"3dmolviewer_16982960601334612\"),{backgroundColor:\"white\"});\n",
              "viewer_16982960601334612.zoomTo();\n",
              "\tviewer_16982960601334612.addModel(\"HEADER    DNA BINDING PROTEIN                     12-MAY-95   1IHV              \\nTITLE     SOLUTION STRUCTURE OF THE DNA BINDING DOMAIN OF HIV-1 INTEGRASE, NMR, \\nTITLE    2 MINIMIZED AVERAGE STRUCTURE                                          \\nCOMPND    MOL_ID: 1;                                                            \\nCOMPND   2 MOLECULE: HIV-1 INTEGRASE;                                           \\nCOMPND   3 CHAIN: A, B;                                                         \\nCOMPND   4 ENGINEERED: YES                                                      \\nSOURCE    MOL_ID: 1;                                                            \\nSOURCE   2 ORGANISM_SCIENTIFIC: HUMAN IMMUNODEFICIENCY VIRUS 1;                 \\nSOURCE   3 ORGANISM_TAXID: 11676;                                               \\nSOURCE   4 EXPRESSION_SYSTEM: ESCHERICHIA COLI;                                 \\nSOURCE   5 EXPRESSION_SYSTEM_TAXID: 562                                         \\nKEYWDS    DNA-BINDING PROTEIN, AIDS, POLYPROTEIN, DNA BINDING PROTEIN           \\nEXPDTA    SOLUTION NMR                                                          \\nAUTHOR    G.M.CLORE,P.J.LODI,J.A.ERNST,A.M.GRONENBORN                           \\nREVDAT   4   23-FEB-22 1IHV    1       KEYWDS REMARK SEQADV                     \\nREVDAT   3   24-FEB-09 1IHV    1       VERSN                                    \\nREVDAT   2   12-NOV-96 1IHV    1       HEADER REMARK                            \\nREVDAT   1   14-OCT-96 1IHV    0                                                \\nJRNL        AUTH   P.J.LODI,J.A.ERNST,J.KUSZEWSKI,A.B.HICKMAN,A.ENGELMAN,       \\nJRNL        AUTH 2 R.CRAIGIE,G.M.CLORE,A.M.GRONENBORN                           \\nJRNL        TITL   SOLUTION STRUCTURE OF THE DNA BINDING DOMAIN OF HIV-1        \\nJRNL        TITL 2 INTEGRASE.                                                   \\nJRNL        REF    BIOCHEMISTRY                  V.  34  9826 1995              \\nJRNL        REFN                   ISSN 0006-2960                               \\nJRNL        PMID   7632683                                                      \\nJRNL        DOI    10.1021/BI00031A002                                          \\nREMARK   2                                                                      \\nREMARK   2 RESOLUTION. NOT APPLICABLE.                                          \\nREMARK   3                                                                      \\nREMARK   3 REFINEMENT.                                                          \\nREMARK   3   PROGRAM     : X-PLOR 3.1                                           \\nREMARK   3   AUTHORS     : BRUNGER                                              \\nREMARK   3                                                                      \\nREMARK   3  OTHER REFINEMENT REMARKS:                                           \\nREMARK   3  THE STRUCTURES WERE CALCULATED USING THE SIMULATED                  \\nREMARK   3   ANNEALING PROTOCOL OF NILGES ET AL.  (1988) FEBS LETT.             \\nREMARK   3   229, 129 - 136 USING THE PROGRAM XPLOR 3.1 (BRUNGER)               \\nREMARK   3   MODIFIED TO INCORPORATE COUPLING CONSTANT (GARRETT ET AL.          \\nREMARK   3   (1984) J.  MAGN RESON.  SERIES B 104, 99 - 103), CARBON            \\nREMARK   3   CHEMICAL SHIFT (KUSZEWSKI ET AL.  (1995) J.  MAGN.  RESON.         \\nREMARK   3   SERIES B 106, 92 - 96) AND 1H CHEMICAL SHIFT (KUSZEWSKI ET         \\nREMARK   3   AL., 1995 J.  MAGN RESON.  SERIES B IN PRESS) RESTRAINTS.          \\nREMARK   3                                                                      \\nREMARK   3   THE 3D STRUCTURE OF HIV-1 INTEGRASE SOLVED BY                      \\nREMARK   3   MULTI-DIMENSIONAL HETERONUCLEAR-EDITED AND -FILTERED NMR           \\nREMARK   3   IS BASED ON 2386 EXPERIMENTAL RESTRAINTS (FOR THE DIMER):          \\nREMARK   3   (A) INTRASUBUNIT:  332 SEQUENTIAL (|I-J|=1), 202 MEDIUM            \\nREMARK   3   RANGE (1 < |I-J| >=5) AND 530 LONG RANGE (|I-J| >5)                \\nREMARK   3   INTERRESIDUES 318 INTRARESIDUE APPROXIMATE INTERPROTON             \\nREMARK   3   DISTANCE RESTRAINTS; 74 DISTANCE RESTRAINTS FOR 37                 \\nREMARK   3   HYDROGEN BONDS; 192 TORSION ANGLE (98 PHI, 20 PSI, 50 CHI1         \\nREMARK   3   AND 24 CHI2) RESTRAINTS; 78 THREE-BOND HN-HA COUPLING              \\nREMARK   3   CONSTANT RESTRAINTS; 194 (100 CALPHA AND 94 CBETA) 13C             \\nREMARK   3   SHIFT RESTRAINTS; AND 392 1H CHEMICAL SHIFT RESTRAINTS             \\nREMARK   3   (102 CAH, 52 METHYL AND 238 OTHERS).  (B) 44 INTERSUBUNIT          \\nREMARK   3   INTERPROTON DISTANCE RESTRAINTS (C) 30 AMBIGUOUS                   \\nREMARK   3   INTERPROTON DISTANCE RESTRAINTS THAT CAN ARISE FROM INTRA          \\nREMARK   3   AND/OR INTERSUBUNIT INTERACTIONS.                                  \\nREMARK   3                                                                      \\nREMARK   3  THE STRUCTURE IN THIS ENTRY IS THE RESTRAINED REGULARIZED           \\nREMARK   3  MEAN STRUCTURE AND THE LAST COLUMN REPRESENTS THE RMS OF            \\nREMARK   3  THE 40 INDIVIDUAL SIMULATED ANNEALING STRUCTURES FOUND IN           \\nREMARK   3  PDB ENTRY 1IHW ABOUT THE MEAN COORDINATE POSITIONS.  THE            \\nREMARK   3  LAST COLUMN IN THE INDIVIDUAL SA STRUCTURES HAS NO MEANING.         \\nREMARK   4                                                                      \\nREMARK   4 1IHV COMPLIES WITH FORMAT V. 3.30, 13-JUL-11                         \\nREMARK 100                                                                      \\nREMARK 100 THIS ENTRY HAS BEEN PROCESSED BY BNL.                                \\nREMARK 100 THE DEPOSITION ID IS D_1000174164.                                   \\nREMARK 210                                                                      \\nREMARK 210 EXPERIMENTAL DETAILS                                                 \\nREMARK 210  EXPERIMENT TYPE                : NMR                                \\nREMARK 210  TEMPERATURE           (KELVIN) : NULL                               \\nREMARK 210  PH                             : NULL                               \\nREMARK 210  IONIC STRENGTH                 : NULL                               \\nREMARK 210  PRESSURE                       : NULL                               \\nREMARK 210  SAMPLE CONTENTS                : NULL                               \\nREMARK 210                                                                      \\nREMARK 210  NMR EXPERIMENTS CONDUCTED      : NULL                               \\nREMARK 210  SPECTROMETER FIELD STRENGTH    : NULL                               \\nREMARK 210  SPECTROMETER MODEL             : NULL                               \\nREMARK 210  SPECTROMETER MANUFACTURER      : NULL                               \\nREMARK 210                                                                      \\nREMARK 210  STRUCTURE DETERMINATION.                                            \\nREMARK 210   SOFTWARE USED                 : NULL                               \\nREMARK 210   METHOD USED                   : NULL                               \\nREMARK 210                                                                      \\nREMARK 210 CONFORMERS, NUMBER CALCULATED   : NULL                               \\nREMARK 210 CONFORMERS, NUMBER SUBMITTED    : 1                                  \\nREMARK 210 CONFORMERS, SELECTION CRITERIA  : REGULARIZED MEAN STRUCTURE         \\nREMARK 210                                                                      \\nREMARK 210 BEST REPRESENTATIVE CONFORMER IN THIS ENSEMBLE : NULL                \\nREMARK 210                                                                      \\nREMARK 210 REMARK: NULL                                                         \\nREMARK 215                                                                      \\nREMARK 215 NMR STUDY                                                            \\nREMARK 215 THE COORDINATES IN THIS ENTRY WERE GENERATED FROM SOLUTION           \\nREMARK 215 NMR DATA.  PROTEIN DATA BANK CONVENTIONS REQUIRE THAT                \\nREMARK 215 CRYST1 AND SCALE RECORDS BE INCLUDED, BUT THE VALUES ON              \\nREMARK 215 THESE RECORDS ARE MEANINGLESS.                                       \\nREMARK 300                                                                      \\nREMARK 300 BIOMOLECULE: 1                                                       \\nREMARK 300 SEE REMARK 350 FOR THE AUTHOR PROVIDED AND/OR PROGRAM                \\nREMARK 300 GENERATED ASSEMBLY INFORMATION FOR THE STRUCTURE IN                  \\nREMARK 300 THIS ENTRY. THE REMARK MAY ALSO PROVIDE INFORMATION ON               \\nREMARK 300 BURIED SURFACE AREA.                                                 \\nREMARK 350                                                                      \\nREMARK 350 COORDINATES FOR A COMPLETE MULTIMER REPRESENTING THE KNOWN           \\nREMARK 350 BIOLOGICALLY SIGNIFICANT OLIGOMERIZATION STATE OF THE                \\nREMARK 350 MOLECULE CAN BE GENERATED BY APPLYING BIOMT TRANSFORMATIONS          \\nREMARK 350 GIVEN BELOW.  BOTH NON-CRYSTALLOGRAPHIC AND                          \\nREMARK 350 CRYSTALLOGRAPHIC OPERATIONS ARE GIVEN.                               \\nREMARK 350                                                                      \\nREMARK 350 BIOMOLECULE: 1                                                       \\nREMARK 350 AUTHOR DETERMINED BIOLOGICAL UNIT: DIMERIC                           \\nREMARK 350 APPLY THE FOLLOWING TO CHAINS: A, B                                  \\nREMARK 350   BIOMT1   1  1.000000  0.000000  0.000000        0.00000            \\nREMARK 350   BIOMT2   1  0.000000  1.000000  0.000000        0.00000            \\nREMARK 350   BIOMT3   1  0.000000  0.000000  1.000000        0.00000            \\nREMARK 500                                                                      \\nREMARK 500 GEOMETRY AND STEREOCHEMISTRY                                         \\nREMARK 500 SUBTOPIC: TORSION ANGLES                                             \\nREMARK 500                                                                      \\nREMARK 500 TORSION ANGLES OUTSIDE THE EXPECTED RAMACHANDRAN REGIONS:            \\nREMARK 500 (M=MODEL NUMBER; RES=RESIDUE NAME; C=CHAIN IDENTIFIER;               \\nREMARK 500 SSEQ=SEQUENCE NUMBER; I=INSERTION CODE).                             \\nREMARK 500                                                                      \\nREMARK 500 STANDARD TABLE:                                                      \\nREMARK 500 FORMAT:(10X,I3,1X,A3,1X,A1,I4,A1,4X,F7.2,3X,F7.2)                    \\nREMARK 500                                                                      \\nREMARK 500 EXPECTED VALUES: GJ KLEYWEGT AND TA JONES (1996). PHI/PSI-           \\nREMARK 500 CHOLOGY: RAMACHANDRAN REVISITED. STRUCTURE 4, 1395 - 1400            \\nREMARK 500                                                                      \\nREMARK 500  M RES CSSEQI        PSI       PHI                                   \\nREMARK 500    GLN A 221     -121.44    -79.70                                   \\nREMARK 500    PRO A 233        4.25    -67.72                                   \\nREMARK 500    LEU A 242      -72.91   -114.61                                   \\nREMARK 500    GLU A 246     -153.32    -70.23                                   \\nREMARK 500    ASP A 253      -77.80    -92.95                                   \\nREMARK 500    ASN A 254     -133.29    -81.65                                   \\nREMARK 500    SER A 255       55.27   -104.03                                   \\nREMARK 500    GLN B 221     -121.49    -79.52                                   \\nREMARK 500    PRO B 233        4.25    -67.68                                   \\nREMARK 500    LEU B 242      -72.92   -114.55                                   \\nREMARK 500    GLU B 246     -153.35    -70.25                                   \\nREMARK 500    ASP B 253      -77.78    -92.92                                   \\nREMARK 500    ASN B 254     -133.24    -81.63                                   \\nREMARK 500    SER B 255       55.23   -104.08                                   \\nREMARK 500                                                                      \\nREMARK 500 REMARK: NULL                                                         \\nREMARK 900                                                                      \\nREMARK 900 RELATED ENTRIES                                                      \\nREMARK 900 RELATED ID: 1IHW   RELATED DB: PDB                                   \\nDBREF  1IHV A  220   270  UNP    P04586   POL_HV1Z6       80    130             \\nDBREF  1IHV B  220   270  UNP    P04586   POL_HV1Z6       80    130             \\nSEQADV 1IHV VAL A  234  UNP  P04586    ILE    94 CONFLICT                       \\nSEQADV 1IHV ALA A  265  UNP  P04586    VAL   125 CONFLICT                       \\nSEQADV 1IHV VAL B  234  UNP  P04586    ILE    94 CONFLICT                       \\nSEQADV 1IHV ALA B  265  UNP  P04586    VAL   125 CONFLICT                       \\nSEQRES   1 A   52  MET ILE GLN ASN PHE ARG VAL TYR TYR ARG ASP SER ARG          \\nSEQRES   2 A   52  ASP PRO VAL TRP LYS GLY PRO ALA LYS LEU LEU TRP LYS          \\nSEQRES   3 A   52  GLY GLU GLY ALA VAL VAL ILE GLN ASP ASN SER ASP ILE          \\nSEQRES   4 A   52  LYS VAL VAL PRO ARG ARG LYS ALA LYS ILE ILE ARG ASP          \\nSEQRES   1 B   52  MET ILE GLN ASN PHE ARG VAL TYR TYR ARG ASP SER ARG          \\nSEQRES   2 B   52  ASP PRO VAL TRP LYS GLY PRO ALA LYS LEU LEU TRP LYS          \\nSEQRES   3 B   52  GLY GLU GLY ALA VAL VAL ILE GLN ASP ASN SER ASP ILE          \\nSEQRES   4 B   52  LYS VAL VAL PRO ARG ARG LYS ALA LYS ILE ILE ARG ASP          \\nHELIX    1   1 ARG A  262  LYS A  264  5                                   3    \\nHELIX    2   2 ARG B  262  LYS B  264  5                                   3    \\nSHEET    1   A 2 PHE A 223  TYR A 227  0                                        \\nSHEET    2   A 2 ALA A 265  ARG A 269 -1  N  ILE A 268   O  ARG A 224           \\nSHEET    1   B 3 ILE A 257  PRO A 261  0                                        \\nSHEET    2   B 3 ALA A 248  GLN A 252 -1  N  ILE A 251   O  LYS A 258           \\nSHEET    3   B 3 LYS A 240  LYS A 244 -1  N  TRP A 243   O  VAL A 250           \\nSHEET    1   C 2 PHE B 223  TYR B 227  0                                        \\nSHEET    2   C 2 ALA B 265  ARG B 269 -1  N  ILE B 268   O  ARG B 224           \\nSHEET    1   D 3 ILE B 257  PRO B 261  0                                        \\nSHEET    2   D 3 ALA B 248  GLN B 252 -1  N  ILE B 251   O  LYS B 258           \\nSHEET    3   D 3 LYS B 240  LYS B 244 -1  N  TRP B 243   O  VAL B 250           \\nCRYST1    1.000    1.000    1.000  90.00  90.00  90.00 P 1           1          \\nORIGX1      1.000000  0.000000  0.000000        0.00000                         \\nORIGX2      0.000000  1.000000  0.000000        0.00000                         \\nORIGX3      0.000000  0.000000  1.000000        0.00000                         \\nSCALE1      1.000000  0.000000  0.000000        0.00000                         \\nSCALE2      0.000000  1.000000  0.000000        0.00000                         \\nSCALE3      0.000000  0.000000  1.000000        0.00000                         \\nATOM      1  N   MET A 219       3.078  16.805  -3.438  1.00  1.80           N  \\nATOM      2  CA  MET A 219       1.803  17.335  -3.994  1.00  1.46           C  \\nATOM      3  C   MET A 219       1.524  16.674  -5.346  1.00  1.21           C  \\nATOM      4  O   MET A 219       1.962  17.143  -6.377  1.00  1.32           O  \\nATOM      5  CB  MET A 219       1.918  18.853  -4.176  1.00  2.09           C  \\nATOM      6  CG  MET A 219       2.694  19.450  -3.001  1.00  2.60           C  \\nATOM      7  SD  MET A 219       2.538  21.252  -3.034  1.00  3.64           S  \\nATOM      8  CE  MET A 219       3.209  21.565  -1.385  1.00  4.40           C  \\nATOM      9  H   MET A 219       3.893  17.350  -3.475  1.00  2.10           H  \\nATOM     10  HA  MET A 219       0.994  17.115  -3.312  1.00  1.68           H  \\nATOM     11  HB2 MET A 219       2.441  19.072  -5.098  1.00  2.52           H  \\nATOM     12  HB3 MET A 219       0.931  19.288  -4.210  1.00  2.55           H  \\nATOM     13  HG2 MET A 219       2.293  19.071  -2.073  1.00  2.81           H  \\nATOM     14  HG3 MET A 219       3.736  19.178  -3.082  1.00  2.91           H  \\nATOM     15  HE1 MET A 219       4.048  20.905  -1.208  1.00  4.81           H  \\nATOM     16  HE2 MET A 219       3.539  22.588  -1.317  1.00  4.69           H  \\nATOM     17  HE3 MET A 219       2.441  21.385  -0.646  1.00  4.64           H  \\nATOM     18  N   ILE A 220       0.798  15.588  -5.352  1.00  0.99           N  \\nATOM     19  CA  ILE A 220       0.491  14.901  -6.644  1.00  0.88           C  \\nATOM     20  C   ILE A 220      -0.735  15.580  -7.265  1.00  0.85           C  \\nATOM     21  O   ILE A 220      -1.805  15.598  -6.687  1.00  0.92           O  \\nATOM     22  CB  ILE A 220       0.207  13.380  -6.407  1.00  0.86           C  \\nATOM     23  CG1 ILE A 220       0.205  13.068  -4.894  1.00  1.34           C  \\nATOM     24  CG2 ILE A 220       1.244  12.488  -7.132  1.00  1.74           C  \\nATOM     25  CD1 ILE A 220       1.594  13.325  -4.248  1.00  2.14           C  \\nATOM     26  H   ILE A 220       0.452  15.224  -4.510  1.00  1.01           H  \\nATOM     27  HA  ILE A 220       1.328  15.021  -7.315  1.00  1.01           H  \\nATOM     28  HB  ILE A 220      -0.773  13.132  -6.803  1.00  1.48           H  \\nATOM     29 HG12 ILE A 220      -0.535  13.692  -4.415  1.00  1.88           H  \\nATOM     30 HG13 ILE A 220      -0.069  12.032  -4.756  1.00  2.00           H  \\nATOM     31 HG21 ILE A 220       2.210  12.966  -7.149  1.00  2.25           H  \\nATOM     32 HG22 ILE A 220       1.326  11.540  -6.621  1.00  2.27           H  \\nATOM     33 HG23 ILE A 220       0.919  12.315  -8.147  1.00  2.29           H  \\nATOM     34 HD11 ILE A 220       2.315  13.605  -4.998  1.00  2.60           H  \\nATOM     35 HD12 ILE A 220       1.514  14.125  -3.523  1.00  2.63           H  \\nATOM     36 HD13 ILE A 220       1.935  12.429  -3.747  1.00  2.64           H  \\nATOM     37  N   GLN A 221      -0.597  16.128  -8.441  1.00  0.82           N  \\nATOM     38  CA  GLN A 221      -1.763  16.784  -9.086  1.00  0.84           C  \\nATOM     39  C   GLN A 221      -2.627  15.688  -9.700  1.00  0.73           C  \\nATOM     40  O   GLN A 221      -3.069  14.786  -9.017  1.00  0.75           O  \\nATOM     41  CB  GLN A 221      -1.282  17.740 -10.185  1.00  0.94           C  \\nATOM     42  CG  GLN A 221      -0.235  18.698  -9.613  1.00  1.19           C  \\nATOM     43  CD  GLN A 221       0.207  19.674 -10.705  1.00  1.49           C  \\nATOM     44  OE1 GLN A 221       0.028  19.412 -11.877  1.00  2.03           O  \\nATOM     45  NE2 GLN A 221       0.783  20.796 -10.369  1.00  1.95           N  \\nATOM     46  H   GLN A 221       0.269  16.098  -8.899  1.00  0.82           H  \\nATOM     47  HA  GLN A 221      -2.334  17.330  -8.348  1.00  0.91           H  \\nATOM     48  HB2 GLN A 221      -0.845  17.170 -10.995  1.00  1.04           H  \\nATOM     49  HB3 GLN A 221      -2.121  18.312 -10.559  1.00  1.09           H  \\nATOM     50  HG2 GLN A 221      -0.663  19.249  -8.786  1.00  1.48           H  \\nATOM     51  HG3 GLN A 221       0.619  18.135  -9.267  1.00  1.43           H  \\nATOM     52 HE21 GLN A 221       0.928  21.008  -9.424  1.00  2.40           H  \\nATOM     53 HE22 GLN A 221       1.068  21.427 -11.063  1.00  2.23           H  \\nATOM     54  N   ASN A 222      -2.853  15.739 -10.982  1.00  0.67           N  \\nATOM     55  CA  ASN A 222      -3.668  14.681 -11.647  1.00  0.62           C  \\nATOM     56  C   ASN A 222      -2.719  13.698 -12.338  1.00  0.54           C  \\nATOM     57  O   ASN A 222      -2.229  13.951 -13.419  1.00  0.57           O  \\nATOM     58  CB  ASN A 222      -4.595  15.330 -12.675  1.00  0.68           C  \\nATOM     59  CG  ASN A 222      -5.395  16.441 -11.992  1.00  0.78           C  \\nATOM     60  OD1 ASN A 222      -4.976  16.974 -10.983  1.00  1.34           O  \\nATOM     61  ND2 ASN A 222      -6.542  16.806 -12.494  1.00  1.28           N  \\nATOM     62  H   ASN A 222      -2.470  16.466 -11.517  1.00  0.71           H  \\nATOM     63  HA  ASN A 222      -4.262  14.149 -10.914  1.00  0.63           H  \\nATOM     64  HB2 ASN A 222      -4.008  15.747 -13.481  1.00  0.72           H  \\nATOM     65  HB3 ASN A 222      -5.275  14.589 -13.066  1.00  0.69           H  \\nATOM     66 HD21 ASN A 222      -6.885  16.370 -13.301  1.00  1.93           H  \\nATOM     67 HD22 ASN A 222      -7.062  17.516 -12.062  1.00  1.32           H  \\nATOM     68  N   PHE A 223      -2.455  12.579 -11.709  1.00  0.47           N  \\nATOM     69  CA  PHE A 223      -1.535  11.554 -12.303  1.00  0.41           C  \\nATOM     70  C   PHE A 223      -2.256  10.201 -12.318  1.00  0.34           C  \\nATOM     71  O   PHE A 223      -3.026   9.893 -11.430  1.00  0.37           O  \\nATOM     72  CB  PHE A 223      -0.268  11.435 -11.435  1.00  0.41           C  \\nATOM     73  CG  PHE A 223       0.694  12.555 -11.758  1.00  0.48           C  \\nATOM     74  CD1 PHE A 223       1.594  12.420 -12.833  1.00  0.50           C  \\nATOM     75  CD2 PHE A 223       0.696  13.728 -10.980  1.00  0.57           C  \\nATOM     76  CE1 PHE A 223       2.494  13.462 -13.130  1.00  0.59           C  \\nATOM     77  CE2 PHE A 223       1.597  14.768 -11.277  1.00  0.65           C  \\nATOM     78  CZ  PHE A 223       2.496  14.635 -12.352  1.00  0.66           C  \\nATOM     79  H   PHE A 223      -2.863  12.409 -10.834  1.00  0.49           H  \\nATOM     80  HA  PHE A 223      -1.260  11.833 -13.317  1.00  0.43           H  \\nATOM     81  HB2 PHE A 223      -0.544  11.492 -10.393  1.00  0.42           H  \\nATOM     82  HB3 PHE A 223       0.214  10.486 -11.626  1.00  0.37           H  \\nATOM     83  HD1 PHE A 223       1.592  11.521 -13.429  1.00  0.46           H  \\nATOM     84  HD2 PHE A 223       0.007  13.830 -10.156  1.00  0.58           H  \\nATOM     85  HE1 PHE A 223       3.185  13.361 -13.954  1.00  0.62           H  \\nATOM     86  HE2 PHE A 223       1.598  15.668 -10.681  1.00  0.72           H  \\nATOM     87  HZ  PHE A 223       3.186  15.433 -12.580  1.00  0.73           H  \\nATOM     88  N   ARG A 224      -1.999   9.387 -13.313  1.00  0.33           N  \\nATOM     89  CA  ARG A 224      -2.649   8.037 -13.396  1.00  0.29           C  \\nATOM     90  C   ARG A 224      -1.550   6.977 -13.397  1.00  0.25           C  \\nATOM     91  O   ARG A 224      -0.406   7.262 -13.694  1.00  0.27           O  \\nATOM     92  CB  ARG A 224      -3.464   7.935 -14.701  1.00  0.34           C  \\nATOM     93  CG  ARG A 224      -4.923   8.333 -14.447  1.00  0.71           C  \\nATOM     94  CD  ARG A 224      -5.707   8.297 -15.764  1.00  1.29           C  \\nATOM     95  NE  ARG A 224      -6.920   9.149 -15.647  1.00  1.85           N  \\nATOM     96  CZ  ARG A 224      -7.528   9.566 -16.724  1.00  2.38           C  \\nATOM     97  NH1 ARG A 224      -7.055   9.258 -17.902  1.00  2.67           N  \\nATOM     98  NH2 ARG A 224      -8.603  10.297 -16.623  1.00  3.22           N  \\nATOM     99  H   ARG A 224      -1.365   9.660 -14.008  1.00  0.41           H  \\nATOM    100  HA  ARG A 224      -3.296   7.875 -12.540  1.00  0.28           H  \\nATOM    101  HB2 ARG A 224      -3.037   8.598 -15.439  1.00  0.61           H  \\nATOM    102  HB3 ARG A 224      -3.437   6.920 -15.077  1.00  0.54           H  \\nATOM    103  HG2 ARG A 224      -5.365   7.641 -13.745  1.00  1.24           H  \\nATOM    104  HG3 ARG A 224      -4.957   9.329 -14.036  1.00  1.30           H  \\nATOM    105  HD2 ARG A 224      -5.083   8.664 -16.571  1.00  1.84           H  \\nATOM    106  HD3 ARG A 224      -6.012   7.284 -15.974  1.00  1.93           H  \\nATOM    107  HE  ARG A 224      -7.266   9.392 -14.763  1.00  2.37           H  \\nATOM    108 HH11 ARG A 224      -6.225   8.704 -17.979  1.00  2.57           H  \\nATOM    109 HH12 ARG A 224      -7.520   9.580 -18.727  1.00  3.38           H  \\nATOM    110 HH21 ARG A 224      -8.961  10.539 -15.721  1.00  3.59           H  \\nATOM    111 HH22 ARG A 224      -9.069  10.618 -17.447  1.00  3.75           H  \\nATOM    112  N   VAL A 225      -1.886   5.754 -13.077  1.00  0.21           N  \\nATOM    113  CA  VAL A 225      -0.859   4.673 -13.071  1.00  0.19           C  \\nATOM    114  C   VAL A 225      -1.465   3.375 -13.592  1.00  0.20           C  \\nATOM    115  O   VAL A 225      -2.555   2.989 -13.219  1.00  0.21           O  \\nATOM    116  CB  VAL A 225      -0.347   4.454 -11.644  1.00  0.17           C  \\nATOM    117  CG1 VAL A 225       0.855   3.503 -11.662  1.00  0.17           C  \\nATOM    118  CG2 VAL A 225       0.086   5.794 -11.055  1.00  0.21           C  \\nATOM    119  H   VAL A 225      -2.817   5.548 -12.849  1.00  0.22           H  \\nATOM    120  HA  VAL A 225      -0.034   4.952 -13.704  1.00  0.20           H  \\nATOM    121  HB  VAL A 225      -1.134   4.029 -11.038  1.00  0.18           H  \\nATOM    122 HG11 VAL A 225       0.630   2.640 -12.269  1.00  1.00           H  \\nATOM    123 HG12 VAL A 225       1.712   4.015 -12.073  1.00  1.04           H  \\nATOM    124 HG13 VAL A 225       1.077   3.185 -10.653  1.00  1.06           H  \\nATOM    125 HG21 VAL A 225       0.742   6.297 -11.751  1.00  1.00           H  \\nATOM    126 HG22 VAL A 225      -0.786   6.404 -10.876  1.00  1.09           H  \\nATOM    127 HG23 VAL A 225       0.607   5.628 -10.124  1.00  1.00           H  \\nATOM    128  N   TYR A 226      -0.741   2.684 -14.429  1.00  0.22           N  \\nATOM    129  CA  TYR A 226      -1.226   1.378 -14.959  1.00  0.25           C  \\nATOM    130  C   TYR A 226      -0.444   0.296 -14.229  1.00  0.26           C  \\nATOM    131  O   TYR A 226       0.632   0.546 -13.733  1.00  0.27           O  \\nATOM    132  CB  TYR A 226      -0.948   1.279 -16.465  1.00  0.30           C  \\nATOM    133  CG  TYR A 226      -1.905   2.166 -17.230  1.00  0.34           C  \\nATOM    134  CD1 TYR A 226      -1.762   3.565 -17.177  1.00  0.38           C  \\nATOM    135  CD2 TYR A 226      -2.931   1.594 -18.010  1.00  0.43           C  \\nATOM    136  CE1 TYR A 226      -2.641   4.392 -17.903  1.00  0.45           C  \\nATOM    137  CE2 TYR A 226      -3.811   2.422 -18.733  1.00  0.48           C  \\nATOM    138  CZ  TYR A 226      -3.666   3.821 -18.681  1.00  0.47           C  \\nATOM    139  OH  TYR A 226      -4.527   4.632 -19.391  1.00  0.55           O  \\nATOM    140  H   TYR A 226       0.148   3.014 -14.688  1.00  0.22           H  \\nATOM    141  HA  TYR A 226      -2.283   1.258 -14.769  1.00  0.27           H  \\nATOM    142  HB2 TYR A 226       0.067   1.593 -16.665  1.00  0.29           H  \\nATOM    143  HB3 TYR A 226      -1.074   0.255 -16.785  1.00  0.34           H  \\nATOM    144  HD1 TYR A 226      -0.978   4.003 -16.579  1.00  0.41           H  \\nATOM    145  HD2 TYR A 226      -3.043   0.521 -18.052  1.00  0.49           H  \\nATOM    146  HE1 TYR A 226      -2.531   5.466 -17.863  1.00  0.52           H  \\nATOM    147  HE2 TYR A 226      -4.598   1.983 -19.330  1.00  0.57           H  \\nATOM    148  HH  TYR A 226      -4.329   4.529 -20.324  1.00  1.07           H  \\nATOM    149  N   TYR A 227      -0.953  -0.896 -14.134  1.00  0.27           N  \\nATOM    150  CA  TYR A 227      -0.191  -1.946 -13.399  1.00  0.30           C  \\nATOM    151  C   TYR A 227      -0.624  -3.333 -13.864  1.00  0.34           C  \\nATOM    152  O   TYR A 227      -1.740  -3.542 -14.298  1.00  0.37           O  \\nATOM    153  CB  TYR A 227      -0.441  -1.796 -11.895  1.00  0.31           C  \\nATOM    154  CG  TYR A 227      -1.920  -1.911 -11.602  1.00  0.30           C  \\nATOM    155  CD1 TYR A 227      -2.799  -0.876 -11.980  1.00  0.28           C  \\nATOM    156  CD2 TYR A 227      -2.421  -3.054 -10.948  1.00  0.36           C  \\nATOM    157  CE1 TYR A 227      -4.177  -0.986 -11.706  1.00  0.32           C  \\nATOM    158  CE2 TYR A 227      -3.796  -3.163 -10.674  1.00  0.40           C  \\nATOM    159  CZ  TYR A 227      -4.674  -2.130 -11.054  1.00  0.38           C  \\nATOM    160  OH  TYR A 227      -6.023  -2.239 -10.785  1.00  0.45           O  \\nATOM    161  H   TYR A 227      -1.829  -1.098 -14.526  1.00  0.28           H  \\nATOM    162  HA  TYR A 227       0.866  -1.824 -13.594  1.00  0.31           H  \\nATOM    163  HB2 TYR A 227       0.092  -2.572 -11.364  1.00  0.35           H  \\nATOM    164  HB3 TYR A 227      -0.087  -0.830 -11.566  1.00  0.31           H  \\nATOM    165  HD1 TYR A 227      -2.418   0.003 -12.478  1.00  0.26           H  \\nATOM    166  HD2 TYR A 227      -1.748  -3.848 -10.657  1.00  0.39           H  \\nATOM    167  HE1 TYR A 227      -4.851  -0.194 -11.997  1.00  0.33           H  \\nATOM    168  HE2 TYR A 227      -4.178  -4.038 -10.171  1.00  0.46           H  \\nATOM    169  HH  TYR A 227      -6.190  -1.829  -9.933  1.00  0.96           H  \\nATOM    170  N   ARG A 228       0.269  -4.281 -13.781  1.00  0.38           N  \\nATOM    171  CA  ARG A 228      -0.054  -5.669 -14.224  1.00  0.43           C  \\nATOM    172  C   ARG A 228      -0.551  -6.482 -13.028  1.00  0.49           C  \\nATOM    173  O   ARG A 228      -0.134  -6.275 -11.906  1.00  0.53           O  \\nATOM    174  CB  ARG A 228       1.215  -6.302 -14.810  1.00  0.48           C  \\nATOM    175  CG  ARG A 228       1.956  -5.238 -15.623  1.00  0.55           C  \\nATOM    176  CD  ARG A 228       3.118  -5.860 -16.399  1.00  0.54           C  \\nATOM    177  NE  ARG A 228       3.878  -6.772 -15.496  1.00  1.11           N  \\nATOM    178  CZ  ARG A 228       4.846  -7.504 -15.971  1.00  1.37           C  \\nATOM    179  NH1 ARG A 228       5.209  -7.372 -17.217  1.00  1.64           N  \\nATOM    180  NH2 ARG A 228       5.466  -8.350 -15.195  1.00  2.14           N  \\nATOM    181  H   ARG A 228       1.164  -4.075 -13.434  1.00  0.39           H  \\nATOM    182  HA  ARG A 228      -0.824  -5.642 -14.981  1.00  0.44           H  \\nATOM    183  HB2 ARG A 228       1.850  -6.658 -14.010  1.00  0.56           H  \\nATOM    184  HB3 ARG A 228       0.945  -7.124 -15.453  1.00  0.64           H  \\nATOM    185  HG2 ARG A 228       1.267  -4.779 -16.315  1.00  0.87           H  \\nATOM    186  HG3 ARG A 228       2.343  -4.484 -14.951  1.00  0.82           H  \\nATOM    187  HD2 ARG A 228       2.744  -6.424 -17.230  1.00  0.95           H  \\nATOM    188  HD3 ARG A 228       3.762  -5.069 -16.771  1.00  1.06           H  \\nATOM    189  HE  ARG A 228       3.630  -6.840 -14.550  1.00  1.84           H  \\nATOM    190 HH11 ARG A 228       4.744  -6.711 -17.806  1.00  1.67           H  \\nATOM    191 HH12 ARG A 228       5.955  -7.929 -17.583  1.00  2.27           H  \\nATOM    192 HH21 ARG A 228       5.199  -8.438 -14.235  1.00  2.62           H  \\nATOM    193 HH22 ARG A 228       6.210  -8.910 -15.560  1.00  2.48           H  \\nATOM    194  N   ASP A 229      -1.451  -7.401 -13.260  1.00  0.55           N  \\nATOM    195  CA  ASP A 229      -1.991  -8.227 -12.141  1.00  0.64           C  \\nATOM    196  C   ASP A 229      -1.155  -9.503 -12.006  1.00  0.70           C  \\nATOM    197  O   ASP A 229      -0.334  -9.810 -12.848  1.00  0.72           O  \\nATOM    198  CB  ASP A 229      -3.459  -8.585 -12.447  1.00  0.77           C  \\nATOM    199  CG  ASP A 229      -4.233  -8.803 -11.143  1.00  1.45           C  \\nATOM    200  OD1 ASP A 229      -4.192  -9.908 -10.627  1.00  2.12           O  \\nATOM    201  OD2 ASP A 229      -4.855  -7.859 -10.685  1.00  2.25           O  \\nATOM    202  H   ASP A 229      -1.778  -7.543 -14.173  1.00  0.58           H  \\nATOM    203  HA  ASP A 229      -1.939  -7.665 -11.217  1.00  0.66           H  \\nATOM    204  HB2 ASP A 229      -3.913  -7.775 -13.000  1.00  1.43           H  \\nATOM    205  HB3 ASP A 229      -3.501  -9.488 -13.042  1.00  1.25           H  \\nATOM    206  N   SER A 230      -1.359 -10.252 -10.956  1.00  0.78           N  \\nATOM    207  CA  SER A 230      -0.576 -11.509 -10.772  1.00  0.88           C  \\nATOM    208  C   SER A 230      -1.265 -12.646 -11.530  1.00  0.97           C  \\nATOM    209  O   SER A 230      -0.702 -13.703 -11.730  1.00  1.08           O  \\nATOM    210  CB  SER A 230      -0.511 -11.852  -9.284  1.00  0.96           C  \\nATOM    211  OG  SER A 230      -0.002 -13.170  -9.128  1.00  1.78           O  \\nATOM    212  H   SER A 230      -2.027  -9.990 -10.290  1.00  0.81           H  \\nATOM    213  HA  SER A 230       0.424 -11.374 -11.157  1.00  0.88           H  \\nATOM    214  HB2 SER A 230       0.143 -11.159  -8.781  1.00  1.34           H  \\nATOM    215  HB3 SER A 230      -1.502 -11.785  -8.855  1.00  1.28           H  \\nATOM    216  HG  SER A 230       0.890 -13.105  -8.778  1.00  2.22           H  \\nATOM    217  N   ARG A 231      -2.483 -12.434 -11.959  1.00  0.97           N  \\nATOM    218  CA  ARG A 231      -3.213 -13.499 -12.708  1.00  1.10           C  \\nATOM    219  C   ARG A 231      -2.952 -13.351 -14.211  1.00  1.05           C  \\nATOM    220  O   ARG A 231      -3.258 -14.233 -14.987  1.00  1.15           O  \\nATOM    221  CB  ARG A 231      -4.718 -13.369 -12.458  1.00  1.20           C  \\nATOM    222  CG  ARG A 231      -5.011 -13.380 -10.948  1.00  1.30           C  \\nATOM    223  CD  ARG A 231      -6.492 -13.736 -10.699  1.00  1.56           C  \\nATOM    224  NE  ARG A 231      -7.010 -12.948  -9.549  1.00  2.00           N  \\nATOM    225  CZ  ARG A 231      -8.299 -12.842  -9.363  1.00  2.63           C  \\nATOM    226  NH1 ARG A 231      -9.126 -13.426 -10.188  1.00  2.94           N  \\nATOM    227  NH2 ARG A 231      -8.761 -12.153  -8.356  1.00  3.48           N  \\nATOM    228  H   ARG A 231      -2.917 -11.572 -11.789  1.00  0.93           H  \\nATOM    229  HA  ARG A 231      -2.879 -14.473 -12.379  1.00  1.20           H  \\nATOM    230  HB2 ARG A 231      -5.071 -12.441 -12.884  1.00  1.14           H  \\nATOM    231  HB3 ARG A 231      -5.229 -14.196 -12.926  1.00  1.33           H  \\nATOM    232  HG2 ARG A 231      -4.375 -14.109 -10.464  1.00  1.61           H  \\nATOM    233  HG3 ARG A 231      -4.808 -12.402 -10.539  1.00  1.46           H  \\nATOM    234  HD2 ARG A 231      -7.083 -13.508 -11.579  1.00  2.05           H  \\nATOM    235  HD3 ARG A 231      -6.579 -14.789 -10.474  1.00  2.05           H  \\nATOM    236  HE  ARG A 231      -6.387 -12.513  -8.930  1.00  2.38           H  \\nATOM    237 HH11 ARG A 231      -8.772 -13.953 -10.961  1.00  2.84           H  \\nATOM    238 HH12 ARG A 231     -10.112 -13.347 -10.047  1.00  3.62           H  \\nATOM    239 HH21 ARG A 231      -8.129 -11.704  -7.724  1.00  3.81           H  \\nATOM    240 HH22 ARG A 231      -9.748 -12.074  -8.216  1.00  4.05           H  \\nATOM    241  N   ASP A 232      -2.398 -12.242 -14.633  1.00  0.92           N  \\nATOM    242  CA  ASP A 232      -2.139 -12.049 -16.091  1.00  0.90           C  \\nATOM    243  C   ASP A 232      -1.039 -10.973 -16.284  1.00  0.78           C  \\nATOM    244  O   ASP A 232      -1.152  -9.906 -15.713  1.00  0.68           O  \\nATOM    245  CB  ASP A 232      -3.431 -11.566 -16.757  1.00  0.98           C  \\nATOM    246  CG  ASP A 232      -4.491 -12.666 -16.680  1.00  1.62           C  \\nATOM    247  OD1 ASP A 232      -4.246 -13.736 -17.216  1.00  2.33           O  \\nATOM    248  OD2 ASP A 232      -5.526 -12.424 -16.084  1.00  2.13           O  \\nATOM    249  H   ASP A 232      -2.163 -11.537 -13.995  1.00  0.86           H  \\nATOM    250  HA  ASP A 232      -1.853 -12.989 -16.521  1.00  1.00           H  \\nATOM    251  HB2 ASP A 232      -3.791 -10.683 -16.246  1.00  1.19           H  \\nATOM    252  HB3 ASP A 232      -3.237 -11.329 -17.792  1.00  1.24           H  \\nATOM    253  N   PRO A 233      -0.004 -11.250 -17.072  1.00  0.83           N  \\nATOM    254  CA  PRO A 233       1.073 -10.256 -17.291  1.00  0.79           C  \\nATOM    255  C   PRO A 233       0.557  -9.042 -18.089  1.00  0.69           C  \\nATOM    256  O   PRO A 233       1.319  -8.163 -18.439  1.00  0.69           O  \\nATOM    257  CB  PRO A 233       2.155 -11.016 -18.097  1.00  0.94           C  \\nATOM    258  CG  PRO A 233       1.526 -12.361 -18.554  1.00  1.05           C  \\nATOM    259  CD  PRO A 233       0.201 -12.536 -17.783  1.00  1.00           C  \\nATOM    260  HA  PRO A 233       1.477  -9.933 -16.346  1.00  0.78           H  \\nATOM    261  HB2 PRO A 233       2.464 -10.437 -18.960  1.00  0.93           H  \\nATOM    262  HB3 PRO A 233       3.012 -11.214 -17.468  1.00  1.03           H  \\nATOM    263  HG2 PRO A 233       1.336 -12.334 -19.622  1.00  1.06           H  \\nATOM    264  HG3 PRO A 233       2.195 -13.181 -18.326  1.00  1.18           H  \\nATOM    265  HD2 PRO A 233      -0.616 -12.725 -18.470  1.00  1.02           H  \\nATOM    266  HD3 PRO A 233       0.292 -13.344 -17.070  1.00  1.08           H  \\nATOM    267  N   VAL A 234      -0.714  -8.978 -18.392  1.00  0.67           N  \\nATOM    268  CA  VAL A 234      -1.225  -7.810 -19.177  1.00  0.64           C  \\nATOM    269  C   VAL A 234      -1.463  -6.619 -18.239  1.00  0.57           C  \\nATOM    270  O   VAL A 234      -1.696  -6.781 -17.058  1.00  0.64           O  \\nATOM    271  CB  VAL A 234      -2.529  -8.197 -19.897  1.00  0.75           C  \\nATOM    272  CG1 VAL A 234      -2.391  -9.608 -20.473  1.00  1.54           C  \\nATOM    273  CG2 VAL A 234      -3.715  -8.158 -18.922  1.00  1.68           C  \\nATOM    274  H   VAL A 234      -1.324  -9.692 -18.115  1.00  0.72           H  \\nATOM    275  HA  VAL A 234      -0.486  -7.532 -19.914  1.00  0.67           H  \\nATOM    276  HB  VAL A 234      -2.706  -7.501 -20.706  1.00  1.29           H  \\nATOM    277 HG11 VAL A 234      -1.527  -9.651 -21.118  1.00  2.12           H  \\nATOM    278 HG12 VAL A 234      -2.273 -10.315 -19.665  1.00  2.11           H  \\nATOM    279 HG13 VAL A 234      -3.277  -9.853 -21.039  1.00  2.04           H  \\nATOM    280 HG21 VAL A 234      -3.432  -8.629 -17.992  1.00  2.27           H  \\nATOM    281 HG22 VAL A 234      -3.992  -7.131 -18.736  1.00  2.16           H  \\nATOM    282 HG23 VAL A 234      -4.554  -8.684 -19.353  1.00  2.24           H  \\nATOM    283  N   TRP A 235      -1.400  -5.421 -18.758  1.00  0.51           N  \\nATOM    284  CA  TRP A 235      -1.615  -4.218 -17.901  1.00  0.44           C  \\nATOM    285  C   TRP A 235      -3.079  -4.160 -17.455  1.00  0.45           C  \\nATOM    286  O   TRP A 235      -3.933  -4.809 -18.025  1.00  0.56           O  \\nATOM    287  CB  TRP A 235      -1.280  -2.954 -18.700  1.00  0.45           C  \\nATOM    288  CG  TRP A 235       0.175  -2.956 -19.045  1.00  0.45           C  \\nATOM    289  CD1 TRP A 235       0.693  -3.358 -20.229  1.00  0.51           C  \\nATOM    290  CD2 TRP A 235       1.304  -2.551 -18.219  1.00  0.42           C  \\nATOM    291  NE1 TRP A 235       2.071  -3.229 -20.183  1.00  0.53           N  \\nATOM    292  CE2 TRP A 235       2.498  -2.736 -18.967  1.00  0.47           C  \\nATOM    293  CE3 TRP A 235       1.411  -2.047 -16.903  1.00  0.38           C  \\nATOM    294  CZ2 TRP A 235       3.756  -2.430 -18.426  1.00  0.49           C  \\nATOM    295  CZ3 TRP A 235       2.673  -1.737 -16.355  1.00  0.39           C  \\nATOM    296  CH2 TRP A 235       3.843  -1.928 -17.116  1.00  0.44           C  \\nATOM    297  H   TRP A 235      -1.207  -5.313 -19.712  1.00  0.58           H  \\nATOM    298  HA  TRP A 235      -0.969  -4.276 -17.030  1.00  0.42           H  \\nATOM    299  HB2 TRP A 235      -1.866  -2.935 -19.608  1.00  0.50           H  \\nATOM    300  HB3 TRP A 235      -1.507  -2.080 -18.106  1.00  0.44           H  \\nATOM    301  HD1 TRP A 235       0.124  -3.723 -21.071  1.00  0.56           H  \\nATOM    302  HE1 TRP A 235       2.683  -3.454 -20.913  1.00  0.58           H  \\nATOM    303  HE3 TRP A 235       0.518  -1.897 -16.313  1.00  0.36           H  \\nATOM    304  HZ2 TRP A 235       4.650  -2.578 -19.013  1.00  0.54           H  \\nATOM    305  HZ3 TRP A 235       2.743  -1.353 -15.348  1.00  0.37           H  \\nATOM    306  HH2 TRP A 235       4.807  -1.689 -16.692  1.00  0.47           H  \\nATOM    307  N   LYS A 236      -3.374  -3.380 -16.439  1.00  0.41           N  \\nATOM    308  CA  LYS A 236      -4.784  -3.261 -15.938  1.00  0.45           C  \\nATOM    309  C   LYS A 236      -5.236  -1.798 -16.065  1.00  0.45           C  \\nATOM    310  O   LYS A 236      -4.432  -0.907 -16.256  1.00  0.65           O  \\nATOM    311  CB  LYS A 236      -4.827  -3.716 -14.463  1.00  0.47           C  \\nATOM    312  CG  LYS A 236      -6.206  -4.309 -14.110  1.00  0.91           C  \\nATOM    313  CD  LYS A 236      -6.139  -5.026 -12.739  1.00  0.77           C  \\nATOM    314  CE  LYS A 236      -7.465  -4.863 -11.988  1.00  1.26           C  \\nATOM    315  NZ  LYS A 236      -8.593  -5.281 -12.866  1.00  1.43           N  \\nATOM    316  H   LYS A 236      -2.662  -2.867 -16.002  1.00  0.41           H  \\nATOM    317  HA  LYS A 236      -5.438  -3.882 -16.533  1.00  0.51           H  \\nATOM    318  HB2 LYS A 236      -4.068  -4.468 -14.303  1.00  0.77           H  \\nATOM    319  HB3 LYS A 236      -4.627  -2.872 -13.816  1.00  0.79           H  \\nATOM    320  HG2 LYS A 236      -6.934  -3.510 -14.073  1.00  1.49           H  \\nATOM    321  HG3 LYS A 236      -6.499  -5.022 -14.868  1.00  1.46           H  \\nATOM    322  HD2 LYS A 236      -5.946  -6.079 -12.891  1.00  1.21           H  \\nATOM    323  HD3 LYS A 236      -5.345  -4.605 -12.144  1.00  1.12           H  \\nATOM    324  HE2 LYS A 236      -7.454  -5.478 -11.101  1.00  1.82           H  \\nATOM    325  HE3 LYS A 236      -7.593  -3.828 -11.707  1.00  1.88           H  \\nATOM    326  HZ1 LYS A 236      -8.466  -6.277 -13.141  1.00  1.85           H  \\nATOM    327  HZ2 LYS A 236      -9.490  -5.173 -12.353  1.00  1.90           H  \\nATOM    328  HZ3 LYS A 236      -8.609  -4.685 -13.718  1.00  1.78           H  \\nATOM    329  N   GLY A 237      -6.517  -1.549 -15.973  1.00  0.43           N  \\nATOM    330  CA  GLY A 237      -7.032  -0.151 -16.106  1.00  0.41           C  \\nATOM    331  C   GLY A 237      -6.148   0.832 -15.313  1.00  0.35           C  \\nATOM    332  O   GLY A 237      -5.312   0.413 -14.537  1.00  0.33           O  \\nATOM    333  H   GLY A 237      -7.146  -2.287 -15.828  1.00  0.57           H  \\nATOM    334  HA2 GLY A 237      -7.030   0.118 -17.148  1.00  0.44           H  \\nATOM    335  HA3 GLY A 237      -8.042  -0.105 -15.727  1.00  0.45           H  \\nATOM    336  N   PRO A 238      -6.354   2.121 -15.530  1.00  0.35           N  \\nATOM    337  CA  PRO A 238      -5.574   3.164 -14.828  1.00  0.32           C  \\nATOM    338  C   PRO A 238      -5.933   3.190 -13.335  1.00  0.28           C  \\nATOM    339  O   PRO A 238      -6.971   2.708 -12.924  1.00  0.32           O  \\nATOM    340  CB  PRO A 238      -5.988   4.488 -15.513  1.00  0.37           C  \\nATOM    341  CG  PRO A 238      -7.238   4.181 -16.382  1.00  0.45           C  \\nATOM    342  CD  PRO A 238      -7.360   2.645 -16.486  1.00  0.44           C  \\nATOM    343  HA  PRO A 238      -4.518   2.993 -14.953  1.00  0.31           H  \\nATOM    344  HB2 PRO A 238      -6.224   5.243 -14.772  1.00  0.36           H  \\nATOM    345  HB3 PRO A 238      -5.186   4.842 -16.147  1.00  0.41           H  \\nATOM    346  HG2 PRO A 238      -8.123   4.594 -15.911  1.00  0.46           H  \\nATOM    347  HG3 PRO A 238      -7.120   4.609 -17.370  1.00  0.50           H  \\nATOM    348  HD2 PRO A 238      -8.356   2.320 -16.208  1.00  0.47           H  \\nATOM    349  HD3 PRO A 238      -7.123   2.323 -17.490  1.00  0.48           H  \\nATOM    350  N   ALA A 239      -5.080   3.771 -12.529  1.00  0.23           N  \\nATOM    351  CA  ALA A 239      -5.350   3.856 -11.060  1.00  0.22           C  \\nATOM    352  C   ALA A 239      -4.942   5.243 -10.547  1.00  0.20           C  \\nATOM    353  O   ALA A 239      -4.431   6.061 -11.285  1.00  0.21           O  \\nATOM    354  CB  ALA A 239      -4.538   2.780 -10.336  1.00  0.24           C  \\nATOM    355  H   ALA A 239      -4.258   4.162 -12.892  1.00  0.22           H  \\nATOM    356  HA  ALA A 239      -6.402   3.700 -10.871  1.00  0.25           H  \\nATOM    357  HB1 ALA A 239      -4.554   1.868 -10.916  1.00  1.04           H  \\nATOM    358  HB2 ALA A 239      -3.518   3.112 -10.219  1.00  1.07           H  \\nATOM    359  HB3 ALA A 239      -4.973   2.595  -9.365  1.00  0.99           H  \\nATOM    360  N   LYS A 240      -5.159   5.512  -9.283  1.00  0.20           N  \\nATOM    361  CA  LYS A 240      -4.782   6.845  -8.712  1.00  0.20           C  \\nATOM    362  C   LYS A 240      -3.432   6.735  -7.999  1.00  0.18           C  \\nATOM    363  O   LYS A 240      -3.173   5.776  -7.303  1.00  0.18           O  \\nATOM    364  CB  LYS A 240      -5.839   7.281  -7.696  1.00  0.25           C  \\nATOM    365  CG  LYS A 240      -7.119   7.685  -8.425  1.00  1.03           C  \\nATOM    366  CD  LYS A 240      -8.163   8.143  -7.397  1.00  1.42           C  \\nATOM    367  CE  LYS A 240      -9.517   8.436  -8.082  1.00  1.95           C  \\nATOM    368  NZ  LYS A 240      -9.956   9.813  -7.722  1.00  2.67           N  \\nATOM    369  H   LYS A 240      -5.568   4.833  -8.705  1.00  0.23           H  \\nATOM    370  HA  LYS A 240      -4.715   7.583  -9.503  1.00  0.21           H  \\nATOM    371  HB2 LYS A 240      -6.049   6.463  -7.024  1.00  0.88           H  \\nATOM    372  HB3 LYS A 240      -5.468   8.124  -7.132  1.00  0.80           H  \\nATOM    373  HG2 LYS A 240      -6.905   8.494  -9.109  1.00  1.67           H  \\nATOM    374  HG3 LYS A 240      -7.505   6.840  -8.974  1.00  1.66           H  \\nATOM    375  HD2 LYS A 240      -8.289   7.368  -6.653  1.00  1.75           H  \\nATOM    376  HD3 LYS A 240      -7.810   9.042  -6.912  1.00  2.03           H  \\nATOM    377  HE2 LYS A 240      -9.421   8.365  -9.156  1.00  2.28           H  \\nATOM    378  HE3 LYS A 240     -10.260   7.727  -7.743  1.00  2.43           H  \\nATOM    379  HZ1 LYS A 240      -9.181  10.306  -7.233  1.00  3.00           H  \\nATOM    380  HZ2 LYS A 240     -10.209  10.333  -8.585  1.00  3.10           H  \\nATOM    381  HZ3 LYS A 240     -10.784   9.761  -7.096  1.00  3.08           H  \\nATOM    382  N   LEU A 241      -2.581   7.719  -8.150  1.00  0.18           N  \\nATOM    383  CA  LEU A 241      -1.246   7.686  -7.471  1.00  0.18           C  \\nATOM    384  C   LEU A 241      -1.361   8.368  -6.101  1.00  0.20           C  \\nATOM    385  O   LEU A 241      -1.713   9.527  -6.012  1.00  0.25           O  \\nATOM    386  CB  LEU A 241      -0.227   8.440  -8.338  1.00  0.20           C  \\nATOM    387  CG  LEU A 241       1.111   8.602  -7.598  1.00  0.22           C  \\nATOM    388  CD1 LEU A 241       1.605   7.236  -7.103  1.00  0.21           C  \\nATOM    389  CD2 LEU A 241       2.140   9.225  -8.559  1.00  0.26           C  \\nATOM    390  H   LEU A 241      -2.823   8.489  -8.708  1.00  0.20           H  \\nATOM    391  HA  LEU A 241      -0.927   6.660  -7.347  1.00  0.16           H  \\nATOM    392  HB2 LEU A 241      -0.064   7.888  -9.250  1.00  0.20           H  \\nATOM    393  HB3 LEU A 241      -0.620   9.416  -8.580  1.00  0.23           H  \\nATOM    394  HG  LEU A 241       0.973   9.254  -6.750  1.00  0.24           H  \\nATOM    395 HD11 LEU A 241       1.444   6.493  -7.869  1.00  0.99           H  \\nATOM    396 HD12 LEU A 241       2.657   7.289  -6.869  1.00  0.96           H  \\nATOM    397 HD13 LEU A 241       1.060   6.959  -6.213  1.00  1.01           H  \\nATOM    398 HD21 LEU A 241       2.072   8.748  -9.526  1.00  1.02           H  \\nATOM    399 HD22 LEU A 241       1.935  10.279  -8.665  1.00  1.03           H  \\nATOM    400 HD23 LEU A 241       3.137   9.094  -8.165  1.00  1.11           H  \\nATOM    401  N   LEU A 242      -1.066   7.660  -5.033  1.00  0.21           N  \\nATOM    402  CA  LEU A 242      -1.159   8.265  -3.660  1.00  0.24           C  \\nATOM    403  C   LEU A 242       0.239   8.343  -3.031  1.00  0.25           C  \\nATOM    404  O   LEU A 242       0.809   9.408  -2.900  1.00  0.27           O  \\nATOM    405  CB  LEU A 242      -2.068   7.403  -2.761  1.00  0.26           C  \\nATOM    406  CG  LEU A 242      -3.290   6.882  -3.536  1.00  0.25           C  \\nATOM    407  CD1 LEU A 242      -4.024   5.848  -2.674  1.00  0.27           C  \\nATOM    408  CD2 LEU A 242      -4.248   8.037  -3.862  1.00  0.27           C  \\nATOM    409  H   LEU A 242      -0.784   6.727  -5.133  1.00  0.21           H  \\nATOM    410  HA  LEU A 242      -1.564   9.265  -3.719  1.00  0.26           H  \\nATOM    411  HB2 LEU A 242      -1.507   6.559  -2.386  1.00  0.26           H  \\nATOM    412  HB3 LEU A 242      -2.406   8.000  -1.927  1.00  0.29           H  \\nATOM    413  HG  LEU A 242      -2.967   6.407  -4.451  1.00  0.25           H  \\nATOM    414 HD11 LEU A 242      -4.066   6.190  -1.649  1.00  1.06           H  \\nATOM    415 HD12 LEU A 242      -5.027   5.712  -3.046  1.00  1.05           H  \\nATOM    416 HD13 LEU A 242      -3.495   4.907  -2.715  1.00  1.03           H  \\nATOM    417 HD21 LEU A 242      -3.713   8.826  -4.365  1.00  1.05           H  \\nATOM    418 HD22 LEU A 242      -5.037   7.676  -4.506  1.00  1.04           H  \\nATOM    419 HD23 LEU A 242      -4.678   8.418  -2.948  1.00  1.05           H  \\nATOM    420  N   TRP A 243       0.790   7.228  -2.626  1.00  0.24           N  \\nATOM    421  CA  TRP A 243       2.142   7.246  -1.987  1.00  0.25           C  \\nATOM    422  C   TRP A 243       3.225   7.078  -3.056  1.00  0.27           C  \\nATOM    423  O   TRP A 243       3.068   6.335  -4.004  1.00  0.29           O  \\nATOM    424  CB  TRP A 243       2.241   6.092  -0.975  1.00  0.27           C  \\nATOM    425  CG  TRP A 243       3.337   6.368   0.001  1.00  0.28           C  \\nATOM    426  CD1 TRP A 243       3.301   7.319   0.960  1.00  0.29           C  \\nATOM    427  CD2 TRP A 243       4.626   5.709   0.126  1.00  0.29           C  \\nATOM    428  NE1 TRP A 243       4.487   7.290   1.665  1.00  0.31           N  \\nATOM    429  CE2 TRP A 243       5.341   6.318   1.190  1.00  0.31           C  \\nATOM    430  CE3 TRP A 243       5.244   4.650  -0.575  1.00  0.30           C  \\nATOM    431  CZ2 TRP A 243       6.626   5.894   1.547  1.00  0.34           C  \\nATOM    432  CZ3 TRP A 243       6.539   4.220  -0.219  1.00  0.34           C  \\nATOM    433  CH2 TRP A 243       7.227   4.842   0.840  1.00  0.36           C  \\nATOM    434  H   TRP A 243       0.309   6.380  -2.729  1.00  0.24           H  \\nATOM    435  HA  TRP A 243       2.287   8.189  -1.475  1.00  0.27           H  \\nATOM    436  HB2 TRP A 243       1.304   5.990  -0.447  1.00  0.28           H  \\nATOM    437  HB3 TRP A 243       2.459   5.175  -1.498  1.00  0.30           H  \\nATOM    438  HD1 TRP A 243       2.479   7.987   1.147  1.00  0.30           H  \\nATOM    439  HE1 TRP A 243       4.712   7.877   2.413  1.00  0.33           H  \\nATOM    440  HE3 TRP A 243       4.722   4.167  -1.388  1.00  0.30           H  \\nATOM    441  HZ2 TRP A 243       7.151   6.375   2.359  1.00  0.37           H  \\nATOM    442  HZ3 TRP A 243       7.004   3.411  -0.761  1.00  0.36           H  \\nATOM    443  HH2 TRP A 243       8.219   4.510   1.108  1.00  0.39           H  \\nATOM    444  N   LYS A 244       4.330   7.757  -2.900  1.00  0.30           N  \\nATOM    445  CA  LYS A 244       5.438   7.639  -3.893  1.00  0.34           C  \\nATOM    446  C   LYS A 244       6.778   7.801  -3.170  1.00  0.37           C  \\nATOM    447  O   LYS A 244       7.033   8.810  -2.542  1.00  0.44           O  \\nATOM    448  CB  LYS A 244       5.289   8.738  -4.947  1.00  0.42           C  \\nATOM    449  CG  LYS A 244       6.316   8.525  -6.061  1.00  0.71           C  \\nATOM    450  CD  LYS A 244       6.255   9.698  -7.043  1.00  0.89           C  \\nATOM    451  CE  LYS A 244       7.501   9.688  -7.928  1.00  1.37           C  \\nATOM    452  NZ  LYS A 244       7.374  10.744  -8.974  1.00  2.08           N  \\nATOM    453  H   LYS A 244       4.434   8.343  -2.121  1.00  0.32           H  \\nATOM    454  HA  LYS A 244       5.402   6.670  -4.373  1.00  0.35           H  \\nATOM    455  HB2 LYS A 244       4.293   8.704  -5.362  1.00  0.75           H  \\nATOM    456  HB3 LYS A 244       5.455   9.700  -4.485  1.00  0.84           H  \\nATOM    457  HG2 LYS A 244       7.306   8.464  -5.633  1.00  1.23           H  \\nATOM    458  HG3 LYS A 244       6.093   7.608  -6.586  1.00  1.17           H  \\nATOM    459  HD2 LYS A 244       5.372   9.605  -7.660  1.00  1.42           H  \\nATOM    460  HD3 LYS A 244       6.214  10.627  -6.493  1.00  1.38           H  \\nATOM    461  HE2 LYS A 244       8.373   9.884  -7.323  1.00  1.95           H  \\nATOM    462  HE3 LYS A 244       7.599   8.722  -8.402  1.00  1.86           H  \\nATOM    463  HZ1 LYS A 244       6.369  10.906  -9.184  1.00  2.67           H  \\nATOM    464  HZ2 LYS A 244       7.802  11.627  -8.628  1.00  2.53           H  \\nATOM    465  HZ3 LYS A 244       7.863  10.437  -9.838  1.00  2.40           H  \\nATOM    466  N   GLY A 245       7.638   6.819  -3.248  1.00  0.34           N  \\nATOM    467  CA  GLY A 245       8.959   6.931  -2.557  1.00  0.39           C  \\nATOM    468  C   GLY A 245       9.989   6.030  -3.241  1.00  0.36           C  \\nATOM    469  O   GLY A 245      10.504   6.346  -4.296  1.00  0.36           O  \\nATOM    470  H   GLY A 245       7.417   6.012  -3.757  1.00  0.31           H  \\nATOM    471  HA2 GLY A 245       9.299   7.956  -2.594  1.00  0.44           H  \\nATOM    472  HA3 GLY A 245       8.852   6.626  -1.528  1.00  0.44           H  \\nATOM    473  N   GLU A 246      10.301   4.913  -2.641  1.00  0.36           N  \\nATOM    474  CA  GLU A 246      11.308   3.991  -3.244  1.00  0.35           C  \\nATOM    475  C   GLU A 246      10.727   3.340  -4.501  1.00  0.33           C  \\nATOM    476  O   GLU A 246       9.859   3.889  -5.151  1.00  0.32           O  \\nATOM    477  CB  GLU A 246      11.669   2.901  -2.228  1.00  0.38           C  \\nATOM    478  CG  GLU A 246      12.188   3.547  -0.939  1.00  0.42           C  \\nATOM    479  CD  GLU A 246      12.172   2.516   0.191  1.00  0.46           C  \\nATOM    480  OE1 GLU A 246      11.123   2.337   0.789  1.00  1.11           O  \\nATOM    481  OE2 GLU A 246      13.208   1.922   0.440  1.00  1.23           O  \\nATOM    482  H   GLU A 246       9.879   4.683  -1.787  1.00  0.39           H  \\nATOM    483  HA  GLU A 246      12.198   4.547  -3.503  1.00  0.35           H  \\nATOM    484  HB2 GLU A 246      10.789   2.311  -2.009  1.00  0.40           H  \\nATOM    485  HB3 GLU A 246      12.436   2.263  -2.642  1.00  0.39           H  \\nATOM    486  HG2 GLU A 246      13.200   3.896  -1.095  1.00  0.44           H  \\nATOM    487  HG3 GLU A 246      11.558   4.381  -0.672  1.00  0.43           H  \\nATOM    488  N   GLY A 247      11.197   2.169  -4.847  1.00  0.35           N  \\nATOM    489  CA  GLY A 247      10.670   1.479  -6.060  1.00  0.35           C  \\nATOM    490  C   GLY A 247       9.305   0.866  -5.741  1.00  0.32           C  \\nATOM    491  O   GLY A 247       9.048  -0.289  -6.018  1.00  0.34           O  \\nATOM    492  H   GLY A 247      11.894   1.744  -4.306  1.00  0.37           H  \\nATOM    493  HA2 GLY A 247      10.569   2.193  -6.866  1.00  0.36           H  \\nATOM    494  HA3 GLY A 247      11.353   0.696  -6.354  1.00  0.39           H  \\nATOM    495  N   ALA A 248       8.428   1.640  -5.164  1.00  0.28           N  \\nATOM    496  CA  ALA A 248       7.073   1.129  -4.816  1.00  0.26           C  \\nATOM    497  C   ALA A 248       6.076   2.281  -4.918  1.00  0.24           C  \\nATOM    498  O   ALA A 248       6.408   3.424  -4.666  1.00  0.29           O  \\nATOM    499  CB  ALA A 248       7.082   0.582  -3.387  1.00  0.29           C  \\nATOM    500  H   ALA A 248       8.661   2.566  -4.960  1.00  0.29           H  \\nATOM    501  HA  ALA A 248       6.789   0.346  -5.503  1.00  0.27           H  \\nATOM    502  HB1 ALA A 248       7.466   1.334  -2.716  1.00  1.05           H  \\nATOM    503  HB2 ALA A 248       6.077   0.318  -3.096  1.00  1.04           H  \\nATOM    504  HB3 ALA A 248       7.711  -0.295  -3.342  1.00  1.07           H  \\nATOM    505  N   VAL A 249       4.858   1.996  -5.290  1.00  0.22           N  \\nATOM    506  CA  VAL A 249       3.835   3.076  -5.418  1.00  0.23           C  \\nATOM    507  C   VAL A 249       2.484   2.565  -4.922  1.00  0.21           C  \\nATOM    508  O   VAL A 249       1.988   1.551  -5.370  1.00  0.23           O  \\nATOM    509  CB  VAL A 249       3.719   3.493  -6.895  1.00  0.27           C  \\nATOM    510  CG1 VAL A 249       4.854   4.460  -7.256  1.00  0.29           C  \\nATOM    511  CG2 VAL A 249       3.819   2.249  -7.786  1.00  0.32           C  \\nATOM    512  H   VAL A 249       4.614   1.068  -5.492  1.00  0.22           H  \\nATOM    513  HA  VAL A 249       4.126   3.934  -4.826  1.00  0.26           H  \\nATOM    514  HB  VAL A 249       2.767   3.981  -7.063  1.00  0.38           H  \\nATOM    515 HG11 VAL A 249       5.778   4.108  -6.822  1.00  1.03           H  \\nATOM    516 HG12 VAL A 249       4.957   4.510  -8.331  1.00  1.03           H  \\nATOM    517 HG13 VAL A 249       4.625   5.442  -6.871  1.00  1.07           H  \\nATOM    518 HG21 VAL A 249       3.230   1.450  -7.362  1.00  1.05           H  \\nATOM    519 HG22 VAL A 249       3.448   2.484  -8.773  1.00  1.08           H  \\nATOM    520 HG23 VAL A 249       4.851   1.936  -7.855  1.00  1.09           H  \\nATOM    521  N   VAL A 250       1.877   3.270  -4.006  1.00  0.21           N  \\nATOM    522  CA  VAL A 250       0.545   2.840  -3.499  1.00  0.22           C  \\nATOM    523  C   VAL A 250      -0.517   3.443  -4.415  1.00  0.21           C  \\nATOM    524  O   VAL A 250      -0.434   4.598  -4.788  1.00  0.22           O  \\nATOM    525  CB  VAL A 250       0.337   3.347  -2.067  1.00  0.26           C  \\nATOM    526  CG1 VAL A 250      -1.020   2.864  -1.551  1.00  0.31           C  \\nATOM    527  CG2 VAL A 250       1.452   2.811  -1.158  1.00  0.28           C  \\nATOM    528  H   VAL A 250       2.290   4.091  -3.666  1.00  0.23           H  \\nATOM    529  HA  VAL A 250       0.471   1.762  -3.522  1.00  0.23           H  \\nATOM    530  HB  VAL A 250       0.350   4.426  -2.062  1.00  0.26           H  \\nATOM    531 HG11 VAL A 250      -1.162   1.831  -1.830  1.00  1.01           H  \\nATOM    532 HG12 VAL A 250      -1.052   2.955  -0.475  1.00  1.01           H  \\nATOM    533 HG13 VAL A 250      -1.801   3.468  -1.985  1.00  1.06           H  \\nATOM    534 HG21 VAL A 250       2.398   2.858  -1.677  1.00  1.01           H  \\nATOM    535 HG22 VAL A 250       1.505   3.414  -0.262  1.00  1.09           H  \\nATOM    536 HG23 VAL A 250       1.241   1.785  -0.890  1.00  1.05           H  \\nATOM    537  N   ILE A 251      -1.502   2.672  -4.802  1.00  0.21           N  \\nATOM    538  CA  ILE A 251      -2.555   3.204  -5.719  1.00  0.20           C  \\nATOM    539  C   ILE A 251      -3.933   2.727  -5.268  1.00  0.22           C  \\nATOM    540  O   ILE A 251      -4.070   1.989  -4.313  1.00  0.24           O  \\nATOM    541  CB  ILE A 251      -2.299   2.692  -7.141  1.00  0.19           C  \\nATOM    542  CG1 ILE A 251      -2.101   1.169  -7.106  1.00  0.21           C  \\nATOM    543  CG2 ILE A 251      -1.048   3.363  -7.709  1.00  0.17           C  \\nATOM    544  CD1 ILE A 251      -2.000   0.595  -8.541  1.00  0.21           C  \\nATOM    545  H   ILE A 251      -1.538   1.740  -4.504  1.00  0.22           H  \\nATOM    546  HA  ILE A 251      -2.535   4.279  -5.718  1.00  0.19           H  \\nATOM    547  HB  ILE A 251      -3.149   2.932  -7.765  1.00  0.21           H  \\nATOM    548 HG12 ILE A 251      -1.194   0.944  -6.562  1.00  0.24           H  \\nATOM    549 HG13 ILE A 251      -2.941   0.716  -6.598  1.00  0.26           H  \\nATOM    550 HG21 ILE A 251      -0.237   3.265  -7.005  1.00  1.04           H  \\nATOM    551 HG22 ILE A 251      -0.776   2.892  -8.641  1.00  1.02           H  \\nATOM    552 HG23 ILE A 251      -1.251   4.409  -7.880  1.00  1.02           H  \\nATOM    553 HD11 ILE A 251      -2.422   1.290  -9.253  1.00  1.03           H  \\nATOM    554 HD12 ILE A 251      -0.962   0.419  -8.790  1.00  1.06           H  \\nATOM    555 HD13 ILE A 251      -2.540  -0.341  -8.596  1.00  0.99           H  \\nATOM    556  N   GLN A 252      -4.957   3.138  -5.967  1.00  0.23           N  \\nATOM    557  CA  GLN A 252      -6.341   2.702  -5.610  1.00  0.27           C  \\nATOM    558  C   GLN A 252      -7.142   2.509  -6.894  1.00  0.29           C  \\nATOM    559  O   GLN A 252      -7.426   3.452  -7.606  1.00  0.31           O  \\nATOM    560  CB  GLN A 252      -7.034   3.757  -4.745  1.00  0.29           C  \\nATOM    561  CG  GLN A 252      -8.309   3.166  -4.143  1.00  0.31           C  \\nATOM    562  CD  GLN A 252      -9.040   4.243  -3.340  1.00  0.33           C  \\nATOM    563  OE1 GLN A 252      -9.739   5.064  -3.900  1.00  0.67           O  \\nATOM    564  NE2 GLN A 252      -8.907   4.275  -2.043  1.00  0.48           N  \\nATOM    565  H   GLN A 252      -4.812   3.729  -6.740  1.00  0.23           H  \\nATOM    566  HA  GLN A 252      -6.299   1.767  -5.068  1.00  0.27           H  \\nATOM    567  HB2 GLN A 252      -6.374   4.061  -3.951  1.00  0.32           H  \\nATOM    568  HB3 GLN A 252      -7.291   4.613  -5.349  1.00  0.34           H  \\nATOM    569  HG2 GLN A 252      -8.950   2.810  -4.938  1.00  0.39           H  \\nATOM    570  HG3 GLN A 252      -8.053   2.345  -3.492  1.00  0.35           H  \\nATOM    571 HE21 GLN A 252      -8.344   3.612  -1.591  1.00  0.79           H  \\nATOM    572 HE22 GLN A 252      -9.372   4.963  -1.520  1.00  0.47           H  \\nATOM    573  N   ASP A 253      -7.520   1.299  -7.193  1.00  0.32           N  \\nATOM    574  CA  ASP A 253      -8.320   1.049  -8.427  1.00  0.36           C  \\nATOM    575  C   ASP A 253      -9.793   1.096  -8.033  1.00  0.40           C  \\nATOM    576  O   ASP A 253     -10.466   2.088  -8.231  1.00  0.42           O  \\nATOM    577  CB  ASP A 253      -7.959  -0.324  -9.001  1.00  0.39           C  \\nATOM    578  CG  ASP A 253      -8.551  -0.460 -10.407  1.00  0.48           C  \\nATOM    579  OD1 ASP A 253      -8.189   0.333 -11.259  1.00  1.26           O  \\nATOM    580  OD2 ASP A 253      -9.355  -1.356 -10.605  1.00  1.13           O  \\nATOM    581  H   ASP A 253      -7.288   0.552  -6.602  1.00  0.31           H  \\nATOM    582  HA  ASP A 253      -8.117   1.818  -9.162  1.00  0.36           H  \\nATOM    583  HB2 ASP A 253      -6.880  -0.416  -9.051  1.00  0.38           H  \\nATOM    584  HB3 ASP A 253      -8.356  -1.102  -8.366  1.00  0.40           H  \\nATOM    585  N   ASN A 254     -10.289   0.052  -7.436  1.00  0.42           N  \\nATOM    586  CA  ASN A 254     -11.704   0.068  -6.980  1.00  0.46           C  \\nATOM    587  C   ASN A 254     -11.721   0.804  -5.641  1.00  0.44           C  \\nATOM    588  O   ASN A 254     -11.094   1.834  -5.493  1.00  0.45           O  \\nATOM    589  CB  ASN A 254     -12.203  -1.367  -6.791  1.00  0.50           C  \\nATOM    590  CG  ASN A 254     -12.182  -2.097  -8.133  1.00  1.28           C  \\nATOM    591  OD1 ASN A 254     -11.180  -2.103  -8.820  1.00  2.10           O  \\nATOM    592  ND2 ASN A 254     -13.254  -2.717  -8.542  1.00  1.93           N  \\nATOM    593  H   ASN A 254      -9.723  -0.727  -7.253  1.00  0.41           H  \\nATOM    594  HA  ASN A 254     -12.323   0.588  -7.699  1.00  0.50           H  \\nATOM    595  HB2 ASN A 254     -11.561  -1.882  -6.089  1.00  1.04           H  \\nATOM    596  HB3 ASN A 254     -13.213  -1.351  -6.410  1.00  0.90           H  \\nATOM    597 HD21 ASN A 254     -14.063  -2.711  -7.990  1.00  2.18           H  \\nATOM    598 HD22 ASN A 254     -13.250  -3.189  -9.401  1.00  2.57           H  \\nATOM    599  N   SER A 255     -12.388   0.271  -4.653  1.00  0.44           N  \\nATOM    600  CA  SER A 255     -12.398   0.924  -3.308  1.00  0.43           C  \\nATOM    601  C   SER A 255     -11.467   0.127  -2.395  1.00  0.40           C  \\nATOM    602  O   SER A 255     -11.853  -0.343  -1.344  1.00  0.42           O  \\nATOM    603  CB  SER A 255     -13.819   0.916  -2.740  1.00  0.48           C  \\nATOM    604  OG  SER A 255     -14.738   1.246  -3.773  1.00  1.37           O  \\nATOM    605  H   SER A 255     -12.858  -0.578  -4.784  1.00  0.46           H  \\nATOM    606  HA  SER A 255     -12.037   1.946  -3.382  1.00  0.42           H  \\nATOM    607  HB2 SER A 255     -14.055  -0.063  -2.357  1.00  1.18           H  \\nATOM    608  HB3 SER A 255     -13.889   1.640  -1.938  1.00  1.11           H  \\nATOM    609  HG  SER A 255     -15.611   1.321  -3.380  1.00  1.89           H  \\nATOM    610  N   ASP A 256     -10.241  -0.038  -2.811  1.00  0.36           N  \\nATOM    611  CA  ASP A 256      -9.261  -0.814  -2.001  1.00  0.35           C  \\nATOM    612  C   ASP A 256      -7.849  -0.355  -2.364  1.00  0.31           C  \\nATOM    613  O   ASP A 256      -7.463  -0.351  -3.517  1.00  0.30           O  \\nATOM    614  CB  ASP A 256      -9.405  -2.306  -2.310  1.00  0.37           C  \\nATOM    615  CG  ASP A 256     -10.683  -2.841  -1.661  1.00  0.42           C  \\nATOM    616  OD1 ASP A 256     -10.992  -2.409  -0.563  1.00  1.27           O  \\nATOM    617  OD2 ASP A 256     -11.327  -3.678  -2.271  1.00  1.04           O  \\nATOM    618  H   ASP A 256      -9.965   0.344  -3.670  1.00  0.36           H  \\nATOM    619  HA  ASP A 256      -9.438  -0.641  -0.949  1.00  0.36           H  \\nATOM    620  HB2 ASP A 256      -9.458  -2.447  -3.380  1.00  0.38           H  \\nATOM    621  HB3 ASP A 256      -8.552  -2.840  -1.917  1.00  0.38           H  \\nATOM    622  N   ILE A 257      -7.081   0.049  -1.392  1.00  0.31           N  \\nATOM    623  CA  ILE A 257      -5.694   0.523  -1.674  1.00  0.29           C  \\nATOM    624  C   ILE A 257      -4.714  -0.643  -1.535  1.00  0.31           C  \\nATOM    625  O   ILE A 257      -4.815  -1.447  -0.630  1.00  0.36           O  \\nATOM    626  CB  ILE A 257      -5.345   1.632  -0.680  1.00  0.30           C  \\nATOM    627  CG1 ILE A 257      -6.395   2.743  -0.807  1.00  0.33           C  \\nATOM    628  CG2 ILE A 257      -3.954   2.179  -1.004  1.00  0.28           C  \\nATOM    629  CD1 ILE A 257      -6.093   3.888   0.171  1.00  0.33           C  \\nATOM    630  H   ILE A 257      -7.418   0.050  -0.472  1.00  0.34           H  \\nATOM    631  HA  ILE A 257      -5.640   0.916  -2.679  1.00  0.27           H  \\nATOM    632  HB  ILE A 257      -5.353   1.234   0.325  1.00  0.36           H  \\nATOM    633 HG12 ILE A 257      -6.390   3.120  -1.820  1.00  0.33           H  \\nATOM    634 HG13 ILE A 257      -7.371   2.334  -0.587  1.00  0.42           H  \\nATOM    635 HG21 ILE A 257      -3.938   2.534  -2.023  1.00  1.05           H  \\nATOM    636 HG22 ILE A 257      -3.714   2.991  -0.333  1.00  1.04           H  \\nATOM    637 HG23 ILE A 257      -3.227   1.392  -0.886  1.00  1.02           H  \\nATOM    638 HD11 ILE A 257      -5.649   3.492   1.073  1.00  1.01           H  \\nATOM    639 HD12 ILE A 257      -5.410   4.585  -0.292  1.00  1.01           H  \\nATOM    640 HD13 ILE A 257      -7.013   4.400   0.420  1.00  1.04           H  \\nATOM    641  N   LYS A 258      -3.768  -0.746  -2.438  1.00  0.28           N  \\nATOM    642  CA  LYS A 258      -2.782  -1.869  -2.380  1.00  0.30           C  \\nATOM    643  C   LYS A 258      -1.385  -1.360  -2.745  1.00  0.28           C  \\nATOM    644  O   LYS A 258      -1.216  -0.256  -3.222  1.00  0.27           O  \\nATOM    645  CB  LYS A 258      -3.199  -2.951  -3.380  1.00  0.32           C  \\nATOM    646  CG  LYS A 258      -4.398  -3.724  -2.828  1.00  0.37           C  \\nATOM    647  CD  LYS A 258      -4.934  -4.685  -3.899  1.00  0.49           C  \\nATOM    648  CE  LYS A 258      -5.821  -5.764  -3.251  1.00  1.11           C  \\nATOM    649  NZ  LYS A 258      -6.917  -6.126  -4.193  1.00  1.87           N  \\nATOM    650  H   LYS A 258      -3.714  -0.088  -3.162  1.00  0.25           H  \\nATOM    651  HA  LYS A 258      -2.760  -2.290  -1.387  1.00  0.33           H  \\nATOM    652  HB2 LYS A 258      -3.471  -2.488  -4.318  1.00  0.30           H  \\nATOM    653  HB3 LYS A 258      -2.377  -3.634  -3.541  1.00  0.33           H  \\nATOM    654  HG2 LYS A 258      -4.093  -4.286  -1.958  1.00  0.43           H  \\nATOM    655  HG3 LYS A 258      -5.177  -3.028  -2.553  1.00  0.41           H  \\nATOM    656  HD2 LYS A 258      -5.516  -4.128  -4.618  1.00  0.82           H  \\nATOM    657  HD3 LYS A 258      -4.104  -5.160  -4.405  1.00  0.94           H  \\nATOM    658  HE2 LYS A 258      -5.229  -6.642  -3.037  1.00  1.69           H  \\nATOM    659  HE3 LYS A 258      -6.251  -5.389  -2.332  1.00  1.71           H  \\nATOM    660  HZ1 LYS A 258      -7.265  -5.267  -4.665  1.00  2.33           H  \\nATOM    661  HZ2 LYS A 258      -6.558  -6.793  -4.905  1.00  2.39           H  \\nATOM    662  HZ3 LYS A 258      -7.695  -6.571  -3.664  1.00  2.35           H  \\nATOM    663  N   VAL A 259      -0.382  -2.175  -2.533  1.00  0.28           N  \\nATOM    664  CA  VAL A 259       1.018  -1.775  -2.872  1.00  0.27           C  \\nATOM    665  C   VAL A 259       1.426  -2.450  -4.183  1.00  0.26           C  \\nATOM    666  O   VAL A 259       1.114  -3.602  -4.418  1.00  0.27           O  \\nATOM    667  CB  VAL A 259       1.963  -2.222  -1.749  1.00  0.29           C  \\nATOM    668  CG1 VAL A 259       3.291  -1.469  -1.862  1.00  0.33           C  \\nATOM    669  CG2 VAL A 259       1.321  -1.922  -0.393  1.00  0.35           C  \\nATOM    670  H   VAL A 259      -0.553  -3.064  -2.156  1.00  0.29           H  \\nATOM    671  HA  VAL A 259       1.076  -0.703  -2.989  1.00  0.26           H  \\nATOM    672  HB  VAL A 259       2.146  -3.285  -1.833  1.00  0.31           H  \\nATOM    673 HG11 VAL A 259       3.612  -1.459  -2.893  1.00  1.05           H  \\nATOM    674 HG12 VAL A 259       3.160  -0.454  -1.516  1.00  1.13           H  \\nATOM    675 HG13 VAL A 259       4.036  -1.963  -1.257  1.00  0.99           H  \\nATOM    676 HG21 VAL A 259       0.919  -0.920  -0.399  1.00  1.09           H  \\nATOM    677 HG22 VAL A 259       0.525  -2.629  -0.207  1.00  1.08           H  \\nATOM    678 HG23 VAL A 259       2.066  -2.007   0.384  1.00  1.06           H  \\nATOM    679  N   VAL A 260       2.122  -1.743  -5.042  1.00  0.25           N  \\nATOM    680  CA  VAL A 260       2.558  -2.334  -6.345  1.00  0.25           C  \\nATOM    681  C   VAL A 260       4.038  -1.959  -6.597  1.00  0.25           C  \\nATOM    682  O   VAL A 260       4.373  -0.795  -6.505  1.00  0.24           O  \\nATOM    683  CB  VAL A 260       1.695  -1.739  -7.464  1.00  0.27           C  \\nATOM    684  CG1 VAL A 260       2.110  -2.332  -8.811  1.00  0.32           C  \\nATOM    685  CG2 VAL A 260       0.224  -2.067  -7.199  1.00  0.28           C  \\nATOM    686  H   VAL A 260       2.359  -0.818  -4.829  1.00  0.25           H  \\nATOM    687  HA  VAL A 260       2.422  -3.397  -6.322  1.00  0.27           H  \\nATOM    688  HB  VAL A 260       1.827  -0.667  -7.488  1.00  0.30           H  \\nATOM    689 HG11 VAL A 260       2.011  -3.406  -8.776  1.00  1.01           H  \\nATOM    690 HG12 VAL A 260       1.472  -1.939  -9.587  1.00  1.11           H  \\nATOM    691 HG13 VAL A 260       3.135  -2.071  -9.022  1.00  1.10           H  \\nATOM    692 HG21 VAL A 260       0.131  -3.109  -6.929  1.00  1.05           H  \\nATOM    693 HG22 VAL A 260      -0.142  -1.452  -6.392  1.00  1.04           H  \\nATOM    694 HG23 VAL A 260      -0.354  -1.873  -8.091  1.00  1.07           H  \\nATOM    695  N   PRO A 261       4.900  -2.919  -6.916  1.00  0.27           N  \\nATOM    696  CA  PRO A 261       6.314  -2.593  -7.180  1.00  0.29           C  \\nATOM    697  C   PRO A 261       6.402  -1.553  -8.305  1.00  0.26           C  \\nATOM    698  O   PRO A 261       5.696  -1.632  -9.290  1.00  0.25           O  \\nATOM    699  CB  PRO A 261       6.968  -3.930  -7.600  1.00  0.33           C  \\nATOM    700  CG  PRO A 261       5.895  -5.042  -7.443  1.00  0.37           C  \\nATOM    701  CD  PRO A 261       4.570  -4.360  -7.033  1.00  0.32           C  \\nATOM    702  HA  PRO A 261       6.782  -2.216  -6.284  1.00  0.30           H  \\nATOM    703  HB2 PRO A 261       7.300  -3.879  -8.634  1.00  0.34           H  \\nATOM    704  HB3 PRO A 261       7.814  -4.147  -6.961  1.00  0.35           H  \\nATOM    705  HG2 PRO A 261       5.768  -5.569  -8.381  1.00  0.40           H  \\nATOM    706  HG3 PRO A 261       6.197  -5.741  -6.674  1.00  0.43           H  \\nATOM    707  HD2 PRO A 261       3.815  -4.516  -7.793  1.00  0.30           H  \\nATOM    708  HD3 PRO A 261       4.233  -4.742  -6.079  1.00  0.34           H  \\nATOM    709  N   ARG A 262       7.268  -0.589  -8.171  1.00  0.29           N  \\nATOM    710  CA  ARG A 262       7.395   0.442  -9.237  1.00  0.30           C  \\nATOM    711  C   ARG A 262       7.740  -0.243 -10.568  1.00  0.30           C  \\nATOM    712  O   ARG A 262       7.437   0.256 -11.634  1.00  0.31           O  \\nATOM    713  CB  ARG A 262       8.505   1.430  -8.860  1.00  0.37           C  \\nATOM    714  CG  ARG A 262       8.808   2.349 -10.051  1.00  0.54           C  \\nATOM    715  CD  ARG A 262       9.505   3.623  -9.562  1.00  1.02           C  \\nATOM    716  NE  ARG A 262      10.043   4.375 -10.730  1.00  1.61           N  \\nATOM    717  CZ  ARG A 262      10.389   5.626 -10.595  1.00  2.04           C  \\nATOM    718  NH1 ARG A 262      10.253   6.223  -9.442  1.00  2.30           N  \\nATOM    719  NH2 ARG A 262      10.871   6.283 -11.616  1.00  2.87           N  \\nATOM    720  H   ARG A 262       7.835  -0.543  -7.374  1.00  0.34           H  \\nATOM    721  HA  ARG A 262       6.460   0.976  -9.332  1.00  0.29           H  \\nATOM    722  HB2 ARG A 262       8.181   2.023  -8.015  1.00  0.62           H  \\nATOM    723  HB3 ARG A 262       9.398   0.883  -8.594  1.00  0.61           H  \\nATOM    724  HG2 ARG A 262       9.451   1.828 -10.745  1.00  0.98           H  \\nATOM    725  HG3 ARG A 262       7.885   2.616 -10.547  1.00  1.09           H  \\nATOM    726  HD2 ARG A 262       8.793   4.240  -9.032  1.00  1.63           H  \\nATOM    727  HD3 ARG A 262      10.316   3.359  -8.902  1.00  1.52           H  \\nATOM    728  HE  ARG A 262      10.138   3.931 -11.598  1.00  2.21           H  \\nATOM    729 HH11 ARG A 262       9.882   5.720  -8.661  1.00  2.22           H  \\nATOM    730 HH12 ARG A 262      10.519   7.181  -9.340  1.00  2.98           H  \\nATOM    731 HH21 ARG A 262      10.972   5.828 -12.500  1.00  3.28           H  \\nATOM    732 HH22 ARG A 262      11.136   7.242 -11.513  1.00  3.32           H  \\nATOM    733  N   ARG A 263       8.383  -1.379 -10.508  1.00  0.33           N  \\nATOM    734  CA  ARG A 263       8.768  -2.108 -11.758  1.00  0.37           C  \\nATOM    735  C   ARG A 263       7.518  -2.647 -12.467  1.00  0.36           C  \\nATOM    736  O   ARG A 263       7.581  -3.041 -13.615  1.00  0.41           O  \\nATOM    737  CB  ARG A 263       9.686  -3.294 -11.388  1.00  0.46           C  \\nATOM    738  CG  ARG A 263      11.166  -2.893 -11.459  1.00  1.43           C  \\nATOM    739  CD  ARG A 263      12.024  -4.151 -11.309  1.00  1.73           C  \\nATOM    740  NE  ARG A 263      13.426  -3.774 -10.988  1.00  2.32           N  \\nATOM    741  CZ  ARG A 263      14.237  -4.670 -10.498  1.00  2.74           C  \\nATOM    742  NH1 ARG A 263      13.809  -5.884 -10.277  1.00  2.75           N  \\nATOM    743  NH2 ARG A 263      15.474  -4.354 -10.225  1.00  3.65           N  \\nATOM    744  H   ARG A 263       8.623  -1.750  -9.635  1.00  0.36           H  \\nATOM    745  HA  ARG A 263       9.287  -1.432 -12.420  1.00  0.41           H  \\nATOM    746  HB2 ARG A 263       9.458  -3.614 -10.384  1.00  1.07           H  \\nATOM    747  HB3 ARG A 263       9.516  -4.118 -12.068  1.00  1.06           H  \\nATOM    748  HG2 ARG A 263      11.372  -2.428 -12.414  1.00  2.08           H  \\nATOM    749  HG3 ARG A 263      11.395  -2.203 -10.662  1.00  2.06           H  \\nATOM    750  HD2 ARG A 263      11.627  -4.766 -10.512  1.00  1.96           H  \\nATOM    751  HD3 ARG A 263      12.008  -4.708 -12.233  1.00  2.28           H  \\nATOM    752  HE  ARG A 263      13.740  -2.860 -11.150  1.00  2.83           H  \\nATOM    753 HH11 ARG A 263      12.860  -6.124 -10.483  1.00  2.60           H  \\nATOM    754 HH12 ARG A 263      14.428  -6.572  -9.900  1.00  3.31           H  \\nATOM    755 HH21 ARG A 263      15.800  -3.424 -10.393  1.00  4.12           H  \\nATOM    756 HH22 ARG A 263      16.094  -5.043  -9.850  1.00  4.07           H  \\nATOM    757  N   LYS A 264       6.394  -2.681 -11.797  1.00  0.34           N  \\nATOM    758  CA  LYS A 264       5.144  -3.212 -12.432  1.00  0.38           C  \\nATOM    759  C   LYS A 264       4.110  -2.097 -12.489  1.00  0.32           C  \\nATOM    760  O   LYS A 264       2.918  -2.332 -12.567  1.00  0.34           O  \\nATOM    761  CB  LYS A 264       4.607  -4.382 -11.600  1.00  0.49           C  \\nATOM    762  CG  LYS A 264       5.692  -5.460 -11.482  1.00  0.78           C  \\nATOM    763  CD  LYS A 264       5.065  -6.794 -11.078  1.00  1.17           C  \\nATOM    764  CE  LYS A 264       6.143  -7.879 -11.083  1.00  1.36           C  \\nATOM    765  NZ  LYS A 264       5.590  -9.136 -10.505  1.00  2.06           N  \\nATOM    766  H   LYS A 264       6.371  -2.366 -10.870  1.00  0.33           H  \\nATOM    767  HA  LYS A 264       5.347  -3.555 -13.438  1.00  0.43           H  \\nATOM    768  HB2 LYS A 264       4.338  -4.030 -10.614  1.00  0.87           H  \\nATOM    769  HB3 LYS A 264       3.737  -4.799 -12.085  1.00  0.81           H  \\nATOM    770  HG2 LYS A 264       6.193  -5.575 -12.435  1.00  1.31           H  \\nATOM    771  HG3 LYS A 264       6.412  -5.162 -10.734  1.00  1.39           H  \\nATOM    772  HD2 LYS A 264       4.640  -6.709 -10.088  1.00  1.77           H  \\nATOM    773  HD3 LYS A 264       4.290  -7.058 -11.783  1.00  1.73           H  \\nATOM    774  HE2 LYS A 264       6.467  -8.062 -12.097  1.00  1.74           H  \\nATOM    775  HE3 LYS A 264       6.985  -7.551 -10.491  1.00  1.84           H  \\nATOM    776  HZ1 LYS A 264       4.564  -9.174 -10.678  1.00  2.62           H  \\nATOM    777  HZ2 LYS A 264       6.049  -9.954 -10.954  1.00  2.46           H  \\nATOM    778  HZ3 LYS A 264       5.773  -9.158  -9.483  1.00  2.43           H  \\nATOM    779  N   ALA A 265       4.575  -0.876 -12.470  1.00  0.27           N  \\nATOM    780  CA  ALA A 265       3.658   0.293 -12.538  1.00  0.23           C  \\nATOM    781  C   ALA A 265       4.274   1.349 -13.457  1.00  0.23           C  \\nATOM    782  O   ALA A 265       5.468   1.363 -13.686  1.00  0.27           O  \\nATOM    783  CB  ALA A 265       3.474   0.878 -11.134  1.00  0.23           C  \\nATOM    784  H   ALA A 265       5.543  -0.730 -12.421  1.00  0.28           H  \\nATOM    785  HA  ALA A 265       2.702  -0.012 -12.929  1.00  0.25           H  \\nATOM    786  HB1 ALA A 265       4.438   0.984 -10.659  1.00  1.03           H  \\nATOM    787  HB2 ALA A 265       3.000   1.846 -11.206  1.00  1.04           H  \\nATOM    788  HB3 ALA A 265       2.854   0.216 -10.548  1.00  1.04           H  \\nATOM    789  N   LYS A 266       3.470   2.232 -13.989  1.00  0.22           N  \\nATOM    790  CA  LYS A 266       3.999   3.294 -14.902  1.00  0.25           C  \\nATOM    791  C   LYS A 266       3.319   4.615 -14.553  1.00  0.24           C  \\nATOM    792  O   LYS A 266       2.116   4.686 -14.438  1.00  0.23           O  \\nATOM    793  CB  LYS A 266       3.689   2.918 -16.357  1.00  0.29           C  \\nATOM    794  CG  LYS A 266       4.363   1.583 -16.702  1.00  0.38           C  \\nATOM    795  CD  LYS A 266       4.497   1.442 -18.222  1.00  0.46           C  \\nATOM    796  CE  LYS A 266       3.134   1.653 -18.885  1.00  1.10           C  \\nATOM    797  NZ  LYS A 266       3.215   1.252 -20.318  1.00  2.06           N  \\nATOM    798  H   LYS A 266       2.512   2.197 -13.788  1.00  0.20           H  \\nATOM    799  HA  LYS A 266       5.067   3.397 -14.774  1.00  0.28           H  \\nATOM    800  HB2 LYS A 266       2.619   2.822 -16.484  1.00  0.34           H  \\nATOM    801  HB3 LYS A 266       4.060   3.691 -17.014  1.00  0.39           H  \\nATOM    802  HG2 LYS A 266       5.347   1.548 -16.253  1.00  0.50           H  \\nATOM    803  HG3 LYS A 266       3.765   0.769 -16.319  1.00  0.46           H  \\nATOM    804  HD2 LYS A 266       5.193   2.180 -18.592  1.00  0.87           H  \\nATOM    805  HD3 LYS A 266       4.859   0.454 -18.461  1.00  1.15           H  \\nATOM    806  HE2 LYS A 266       2.391   1.052 -18.383  1.00  1.55           H  \\nATOM    807  HE3 LYS A 266       2.858   2.695 -18.819  1.00  1.60           H  \\nATOM    808  HZ1 LYS A 266       4.196   1.346 -20.649  1.00  2.51           H  \\nATOM    809  HZ2 LYS A 266       2.907   0.263 -20.418  1.00  2.59           H  \\nATOM    810  HZ3 LYS A 266       2.600   1.867 -20.886  1.00  2.49           H  \\nATOM    811  N   ILE A 267       4.080   5.659 -14.356  1.00  0.28           N  \\nATOM    812  CA  ILE A 267       3.474   6.975 -13.983  1.00  0.31           C  \\nATOM    813  C   ILE A 267       3.086   7.747 -15.249  1.00  0.36           C  \\nATOM    814  O   ILE A 267       3.932   8.210 -15.987  1.00  0.41           O  \\nATOM    815  CB  ILE A 267       4.487   7.810 -13.168  1.00  0.37           C  \\nATOM    816  CG1 ILE A 267       5.259   6.927 -12.162  1.00  0.36           C  \\nATOM    817  CG2 ILE A 267       3.754   8.927 -12.413  1.00  0.41           C  \\nATOM    818  CD1 ILE A 267       4.364   6.528 -10.982  1.00  0.42           C  \\nATOM    819  H   ILE A 267       5.054   5.575 -14.435  1.00  0.31           H  \\nATOM    820  HA  ILE A 267       2.586   6.805 -13.392  1.00  0.28           H  \\nATOM    821  HB  ILE A 267       5.196   8.264 -13.850  1.00  0.41           H  \\nATOM    822 HG12 ILE A 267       5.618   6.038 -12.654  1.00  0.40           H  \\nATOM    823 HG13 ILE A 267       6.105   7.483 -11.786  1.00  0.44           H  \\nATOM    824 HG21 ILE A 267       2.906   8.518 -11.886  1.00  1.04           H  \\nATOM    825 HG22 ILE A 267       4.430   9.383 -11.704  1.00  1.06           H  \\nATOM    826 HG23 ILE A 267       3.416   9.673 -13.116  1.00  0.98           H  \\nATOM    827 HD11 ILE A 267       3.406   6.195 -11.344  1.00  1.10           H  \\nATOM    828 HD12 ILE A 267       4.836   5.728 -10.431  1.00  1.16           H  \\nATOM    829 HD13 ILE A 267       4.227   7.379 -10.330  1.00  1.07           H  \\nATOM    830  N   ILE A 268       1.804   7.904 -15.489  1.00  0.36           N  \\nATOM    831  CA  ILE A 268       1.332   8.665 -16.693  1.00  0.43           C  \\nATOM    832  C   ILE A 268       0.740   9.994 -16.214  1.00  0.46           C  \\nATOM    833  O   ILE A 268       0.298  10.114 -15.089  1.00  0.44           O  \\nATOM    834  CB  ILE A 268       0.245   7.866 -17.442  1.00  0.43           C  \\nATOM    835  CG1 ILE A 268       0.647   6.380 -17.579  1.00  0.42           C  \\nATOM    836  CG2 ILE A 268       0.013   8.470 -18.836  1.00  0.51           C  \\nATOM    837  CD1 ILE A 268       1.720   6.195 -18.663  1.00  0.52           C  \\nATOM    838  H   ILE A 268       1.147   7.530 -14.866  1.00  0.34           H  \\nATOM    839  HA  ILE A 268       2.161   8.870 -17.352  1.00  0.48           H  \\nATOM    840  HB  ILE A 268      -0.677   7.931 -16.884  1.00  0.42           H  \\nATOM    841 HG12 ILE A 268       1.022   6.015 -16.637  1.00  0.41           H  \\nATOM    842 HG13 ILE A 268      -0.226   5.808 -17.852  1.00  0.47           H  \\nATOM    843 HG21 ILE A 268       0.960   8.694 -19.302  1.00  1.04           H  \\nATOM    844 HG22 ILE A 268      -0.528   7.762 -19.448  1.00  1.17           H  \\nATOM    845 HG23 ILE A 268      -0.566   9.377 -18.742  1.00  1.14           H  \\nATOM    846 HD11 ILE A 268       2.432   7.001 -18.617  1.00  1.11           H  \\nATOM    847 HD12 ILE A 268       2.231   5.257 -18.502  1.00  1.18           H  \\nATOM    848 HD13 ILE A 268       1.250   6.184 -19.635  1.00  1.06           H  \\nATOM    849  N   ARG A 269       0.743  10.997 -17.050  1.00  0.56           N  \\nATOM    850  CA  ARG A 269       0.196  12.330 -16.640  1.00  0.62           C  \\nATOM    851  C   ARG A 269      -1.258  12.481 -17.097  1.00  0.62           C  \\nATOM    852  O   ARG A 269      -1.687  11.866 -18.053  1.00  0.66           O  \\nATOM    853  CB  ARG A 269       1.044  13.437 -17.272  1.00  0.75           C  \\nATOM    854  CG  ARG A 269       2.530  13.073 -17.135  1.00  1.41           C  \\nATOM    855  CD  ARG A 269       3.418  14.302 -17.384  1.00  1.62           C  \\nATOM    856  NE  ARG A 269       3.592  14.497 -18.851  1.00  2.41           N  \\nATOM    857  CZ  ARG A 269       4.104  15.609 -19.304  1.00  3.08           C  \\nATOM    858  NH1 ARG A 269       4.469  16.546 -18.473  1.00  3.24           N  \\nATOM    859  NH2 ARG A 269       4.257  15.781 -20.589  1.00  4.06           N  \\nATOM    860  H   ARG A 269       1.114  10.877 -17.948  1.00  0.61           H  \\nATOM    861  HA  ARG A 269       0.241  12.427 -15.563  1.00  0.61           H  \\nATOM    862  HB2 ARG A 269       0.790  13.534 -18.319  1.00  1.48           H  \\nATOM    863  HB3 ARG A 269       0.848  14.368 -16.765  1.00  1.22           H  \\nATOM    864  HG2 ARG A 269       2.716  12.694 -16.141  1.00  2.00           H  \\nATOM    865  HG3 ARG A 269       2.775  12.309 -17.857  1.00  2.12           H  \\nATOM    866  HD2 ARG A 269       2.964  15.182 -16.959  1.00  1.78           H  \\nATOM    867  HD3 ARG A 269       4.382  14.144 -16.922  1.00  2.02           H  \\nATOM    868  HE  ARG A 269       3.322  13.791 -19.474  1.00  2.88           H  \\nATOM    869 HH11 ARG A 269       4.356  16.413 -17.488  1.00  2.93           H  \\nATOM    870 HH12 ARG A 269       4.863  17.397 -18.819  1.00  4.00           H  \\nATOM    871 HH21 ARG A 269       3.981  15.062 -21.226  1.00  4.40           H  \\nATOM    872 HH22 ARG A 269       4.652  16.633 -20.935  1.00  4.66           H  \\nATOM    873  N   ASP A 270      -2.011  13.317 -16.422  1.00  0.63           N  \\nATOM    874  CA  ASP A 270      -3.444  13.550 -16.803  1.00  0.67           C  \\nATOM    875  C   ASP A 270      -3.674  15.051 -16.990  1.00  1.08           C  \\nATOM    876  O   ASP A 270      -4.580  15.405 -17.727  1.00  1.74           O  \\nATOM    877  CB  ASP A 270      -4.362  13.054 -15.689  1.00  0.92           C  \\nATOM    878  CG  ASP A 270      -4.244  11.538 -15.558  1.00  1.52           C  \\nATOM    879  OD1 ASP A 270      -3.158  11.071 -15.254  1.00  1.94           O  \\nATOM    880  OD2 ASP A 270      -5.240  10.872 -15.767  1.00  2.23           O  \\nATOM    881  OXT ASP A 270      -2.942  15.822 -16.390  1.00  1.69           O  \\nATOM    882  H   ASP A 270      -1.628  13.802 -15.658  1.00  0.63           H  \\nATOM    883  HA  ASP A 270      -3.680  13.034 -17.724  1.00  1.03           H  \\nATOM    884  HB2 ASP A 270      -4.080  13.518 -14.759  1.00  1.25           H  \\nATOM    885  HB3 ASP A 270      -5.385  13.312 -15.923  1.00  0.92           H  \\nTER     886      ASP A 270                                                      \\nATOM    887  N   MET B 219       1.839  16.566   6.574  1.00  1.81           N  \\nATOM    888  CA  MET B 219       3.205  16.675   7.155  1.00  1.46           C  \\nATOM    889  C   MET B 219       3.274  15.855   8.446  1.00  1.21           C  \\nATOM    890  O   MET B 219       2.963  16.339   9.516  1.00  1.32           O  \\nATOM    891  CB  MET B 219       3.508  18.147   7.464  1.00  2.09           C  \\nATOM    892  CG  MET B 219       2.939  19.028   6.350  1.00  2.60           C  \\nATOM    893  SD  MET B 219       3.581  20.710   6.529  1.00  3.63           S  \\nATOM    894  CE  MET B 219       3.041  21.328   4.918  1.00  4.39           C  \\nATOM    895  H   MET B 219       1.206  17.309   6.665  1.00  2.11           H  \\nATOM    896  HA  MET B 219       3.930  16.299   6.450  1.00  1.68           H  \\nATOM    897  HB2 MET B 219       3.055  18.425   8.406  1.00  2.52           H  \\nATOM    898  HB3 MET B 219       4.576  18.290   7.522  1.00  2.55           H  \\nATOM    899  HG2 MET B 219       3.233  18.631   5.390  1.00  2.81           H  \\nATOM    900  HG3 MET B 219       1.861  19.045   6.419  1.00  2.90           H  \\nATOM    901  HE1 MET B 219       2.056  20.939   4.697  1.00  4.81           H  \\nATOM    902  HE2 MET B 219       3.004  22.405   4.937  1.00  4.69           H  \\nATOM    903  HE3 MET B 219       3.740  21.006   4.158  1.00  4.63           H  \\nATOM    904  N   ILE B 220       3.681  14.617   8.357  1.00  0.99           N  \\nATOM    905  CA  ILE B 220       3.771  13.770   9.586  1.00  0.88           C  \\nATOM    906  C   ILE B 220       5.128  14.034  10.248  1.00  0.86           C  \\nATOM    907  O   ILE B 220       6.169  13.808   9.662  1.00  0.93           O  \\nATOM    908  CB  ILE B 220       3.633  12.254   9.222  1.00  0.87           C  \\nATOM    909  CG1 ILE B 220       3.567  12.078   7.689  1.00  1.34           C  \\nATOM    910  CG2 ILE B 220       2.381  11.622   9.880  1.00  1.74           C  \\nATOM    911  CD1 ILE B 220       2.310  12.755   7.080  1.00  2.15           C  \\nATOM    912  H   ILE B 220       3.930  14.243   7.486  1.00  1.01           H  \\nATOM    913  HA  ILE B 220       2.990  14.058  10.273  1.00  1.02           H  \\nATOM    914  HB  ILE B 220       4.503  11.715   9.586  1.00  1.48           H  \\nATOM    915 HG12 ILE B 220       4.456  12.512   7.255  1.00  1.88           H  \\nATOM    916 HG13 ILE B 220       3.550  11.019   7.463  1.00  2.00           H  \\nATOM    917 HG21 ILE B 220       1.582  12.343   9.947  1.00  2.25           H  \\nATOM    918 HG22 ILE B 220       2.051  10.777   9.296  1.00  2.27           H  \\nATOM    919 HG23 ILE B 220       2.634  11.286  10.876  1.00  2.30           H  \\nATOM    920 HD11 ILE B 220       1.684  13.159   7.857  1.00  2.61           H  \\nATOM    921 HD12 ILE B 220       2.614  13.559   6.422  1.00  2.64           H  \\nATOM    922 HD13 ILE B 220       1.743  12.030   6.510  1.00  2.64           H  \\nATOM    923  N   GLN B 221       5.129  14.502  11.464  1.00  0.82           N  \\nATOM    924  CA  GLN B 221       6.422  14.760  12.151  1.00  0.84           C  \\nATOM    925  C   GLN B 221       6.947  13.423  12.663  1.00  0.74           C  \\nATOM    926  O   GLN B 221       7.134  12.493  11.904  1.00  0.75           O  \\nATOM    927  CB  GLN B 221       6.207  15.718  13.328  1.00  0.94           C  \\nATOM    928  CG  GLN B 221       5.468  16.969  12.847  1.00  1.19           C  \\nATOM    929  CD  GLN B 221       5.295  17.935  14.021  1.00  1.49           C  \\nATOM    930  OE1 GLN B 221       5.381  17.539  15.166  1.00  2.03           O  \\nATOM    931  NE2 GLN B 221       5.052  19.195  13.784  1.00  1.95           N  \\nATOM    932  H   GLN B 221       4.283  14.672  11.928  1.00  0.82           H  \\nATOM    933  HA  GLN B 221       7.130  15.187  11.454  1.00  0.92           H  \\nATOM    934  HB2 GLN B 221       5.621  15.224  14.093  1.00  1.04           H  \\nATOM    935  HB3 GLN B 221       7.165  16.006  13.739  1.00  1.09           H  \\nATOM    936  HG2 GLN B 221       6.041  17.447  12.064  1.00  1.49           H  \\nATOM    937  HG3 GLN B 221       4.498  16.691  12.465  1.00  1.44           H  \\nATOM    938 HE21 GLN B 221       4.982  19.516  12.861  1.00  2.40           H  \\nATOM    939 HE22 GLN B 221       4.941  19.822  14.529  1.00  2.23           H  \\nATOM    940  N   ASN B 222       7.162  13.305  13.944  1.00  0.68           N  \\nATOM    941  CA  ASN B 222       7.648  12.014  14.511  1.00  0.62           C  \\nATOM    942  C   ASN B 222       6.459  11.275  15.127  1.00  0.54           C  \\nATOM    943  O   ASN B 222       6.042  11.564  16.231  1.00  0.58           O  \\nATOM    944  CB  ASN B 222       8.704  12.300  15.579  1.00  0.68           C  \\nATOM    945  CG  ASN B 222       9.786  13.201  14.981  1.00  0.79           C  \\nATOM    946  OD1 ASN B 222       9.541  13.910  14.024  1.00  1.33           O  \\nATOM    947  ND2 ASN B 222      10.983  13.197  15.500  1.00  1.30           N  \\nATOM    948  H   ASN B 222       6.985  14.062  14.540  1.00  0.71           H  \\nATOM    949  HA  ASN B 222       8.085  11.402  13.731  1.00  0.64           H  \\nATOM    950  HB2 ASN B 222       8.243  12.793  16.423  1.00  0.73           H  \\nATOM    951  HB3 ASN B 222       9.151  11.372  15.901  1.00  0.69           H  \\nATOM    952 HD21 ASN B 222      11.183  12.621  16.265  1.00  1.95           H  \\nATOM    953 HD22 ASN B 222      11.682  13.771  15.122  1.00  1.35           H  \\nATOM    954  N   PHE B 223       5.907  10.325  14.412  1.00  0.48           N  \\nATOM    955  CA  PHE B 223       4.735   9.546  14.930  1.00  0.41           C  \\nATOM    956  C   PHE B 223       5.058   8.051  14.827  1.00  0.35           C  \\nATOM    957  O   PHE B 223       5.727   7.618  13.909  1.00  0.37           O  \\nATOM    958  CB  PHE B 223       3.495   9.848  14.069  1.00  0.41           C  \\nATOM    959  CG  PHE B 223       2.871  11.158  14.491  1.00  0.48           C  \\nATOM    960  CD1 PHE B 223       1.955  11.188  15.560  1.00  0.50           C  \\nATOM    961  CD2 PHE B 223       3.199  12.346  13.813  1.00  0.57           C  \\nATOM    962  CE1 PHE B 223       1.369  12.407  15.952  1.00  0.59           C  \\nATOM    963  CE2 PHE B 223       2.612  13.566  14.203  1.00  0.65           C  \\nATOM    964  CZ  PHE B 223       1.697  13.596  15.273  1.00  0.66           C  \\nATOM    965  H   PHE B 223       6.265  10.123  13.522  1.00  0.50           H  \\nATOM    966  HA  PHE B 223       4.534   9.806  15.966  1.00  0.44           H  \\nATOM    967  HB2 PHE B 223       3.788   9.913  13.032  1.00  0.42           H  \\nATOM    968  HB3 PHE B 223       2.770   9.056  14.186  1.00  0.37           H  \\nATOM    969  HD1 PHE B 223       1.704  10.276  16.082  1.00  0.46           H  \\nATOM    970  HD2 PHE B 223       3.899  12.324  12.992  1.00  0.58           H  \\nATOM    971  HE1 PHE B 223       0.666  12.432  16.771  1.00  0.62           H  \\nATOM    972  HE2 PHE B 223       2.864  14.477  13.682  1.00  0.72           H  \\nATOM    973  HZ  PHE B 223       1.248  14.531  15.573  1.00  0.73           H  \\nATOM    974  N   ARG B 224       4.577   7.260  15.754  1.00  0.34           N  \\nATOM    975  CA  ARG B 224       4.833   5.782  15.719  1.00  0.29           C  \\nATOM    976  C   ARG B 224       3.486   5.066  15.645  1.00  0.25           C  \\nATOM    977  O   ARG B 224       2.459   5.626  15.975  1.00  0.27           O  \\nATOM    978  CB  ARG B 224       5.572   5.354  17.004  1.00  0.35           C  \\nATOM    979  CG  ARG B 224       7.088   5.359  16.768  1.00  0.71           C  \\nATOM    980  CD  ARG B 224       7.816   5.002  18.070  1.00  1.30           C  \\nATOM    981  NE  ARG B 224       9.217   5.498  18.011  1.00  1.85           N  \\nATOM    982  CZ  ARG B 224       9.902   5.643  19.112  1.00  2.38           C  \\nATOM    983  NH1 ARG B 224       9.348   5.382  20.265  1.00  2.67           N  \\nATOM    984  NH2 ARG B 224      11.137   6.059  19.060  1.00  3.22           N  \\nATOM    985  H   ARG B 224       4.032   7.638  16.476  1.00  0.41           H  \\nATOM    986  HA  ARG B 224       5.422   5.520  14.847  1.00  0.29           H  \\nATOM    987  HB2 ARG B 224       5.334   6.047  17.797  1.00  0.62           H  \\nATOM    988  HB3 ARG B 224       5.265   4.358  17.296  1.00  0.55           H  \\nATOM    989  HG2 ARG B 224       7.333   4.632  16.007  1.00  1.23           H  \\nATOM    990  HG3 ARG B 224       7.397   6.338  16.440  1.00  1.30           H  \\nATOM    991  HD2 ARG B 224       7.305   5.459  18.910  1.00  1.85           H  \\nATOM    992  HD3 ARG B 224       7.830   3.930  18.193  1.00  1.94           H  \\nATOM    993  HE  ARG B 224       9.627   5.708  17.146  1.00  2.38           H  \\nATOM    994 HH11 ARG B 224       8.398   5.070  20.305  1.00  2.57           H  \\nATOM    995 HH12 ARG B 224       9.872   5.495  21.109  1.00  3.37           H  \\nATOM    996 HH21 ARG B 224      11.558   6.266  18.177  1.00  3.59           H  \\nATOM    997 HH22 ARG B 224      11.662   6.172  19.903  1.00  3.74           H  \\nATOM    998  N   VAL B 225       3.481   3.828  15.223  1.00  0.22           N  \\nATOM    999  CA  VAL B 225       2.197   3.073  15.138  1.00  0.19           C  \\nATOM   1000  C   VAL B 225       2.419   1.621  15.544  1.00  0.20           C  \\nATOM   1001  O   VAL B 225       3.367   0.983  15.131  1.00  0.22           O  \\nATOM   1002  CB  VAL B 225       1.662   3.119  13.703  1.00  0.17           C  \\nATOM   1003  CG1 VAL B 225       0.245   2.534  13.655  1.00  0.17           C  \\nATOM   1004  CG2 VAL B 225       1.619   4.569  13.231  1.00  0.21           C  \\nATOM   1005  H   VAL B 225       4.321   3.394  14.969  1.00  0.23           H  \\nATOM   1006  HA  VAL B 225       1.472   3.513  15.801  1.00  0.21           H  \\nATOM   1007  HB  VAL B 225       2.312   2.545  13.057  1.00  0.18           H  \\nATOM   1008 HG11 VAL B 225       0.220   1.595  14.187  1.00  1.00           H  \\nATOM   1009 HG12 VAL B 225      -0.444   3.225  14.116  1.00  1.04           H  \\nATOM   1010 HG13 VAL B 225      -0.041   2.371  12.627  1.00  1.06           H  \\nATOM   1011 HG21 VAL B 225       1.117   5.174  13.973  1.00  1.00           H  \\nATOM   1012 HG22 VAL B 225       2.627   4.930  13.094  1.00  1.09           H  \\nATOM   1013 HG23 VAL B 225       1.083   4.628  12.294  1.00  1.00           H  \\nATOM   1014  N   TYR B 226       1.523   1.086  16.330  1.00  0.22           N  \\nATOM   1015  CA  TYR B 226       1.627  -0.341  16.747  1.00  0.25           C  \\nATOM   1016  C   TYR B 226       0.588  -1.105  15.938  1.00  0.26           C  \\nATOM   1017  O   TYR B 226      -0.372  -0.531  15.475  1.00  0.27           O  \\nATOM   1018  CB  TYR B 226       1.314  -0.482  18.242  1.00  0.30           C  \\nATOM   1019  CG  TYR B 226       2.467   0.044  19.067  1.00  0.34           C  \\nATOM   1020  CD1 TYR B 226       2.711   1.429  19.131  1.00  0.39           C  \\nATOM   1021  CD2 TYR B 226       3.288  -0.848  19.788  1.00  0.43           C  \\nATOM   1022  CE1 TYR B 226       3.774   1.922  19.913  1.00  0.46           C  \\nATOM   1023  CE2 TYR B 226       4.351  -0.354  20.567  1.00  0.48           C  \\nATOM   1024  CZ  TYR B 226       4.594   1.031  20.630  1.00  0.48           C  \\nATOM   1025  OH  TYR B 226       5.634   1.516  21.397  1.00  0.56           O  \\nATOM   1026  H   TYR B 226       0.755   1.624  16.624  1.00  0.22           H  \\nATOM   1027  HA  TYR B 226       2.613  -0.729  16.536  1.00  0.27           H  \\nATOM   1028  HB2 TYR B 226       0.421   0.080  18.477  1.00  0.29           H  \\nATOM   1029  HB3 TYR B 226       1.151  -1.524  18.475  1.00  0.33           H  \\nATOM   1030  HD1 TYR B 226       2.085   2.112  18.579  1.00  0.41           H  \\nATOM   1031  HD2 TYR B 226       3.102  -1.911  19.740  1.00  0.48           H  \\nATOM   1032  HE1 TYR B 226       3.961   2.984  19.961  1.00  0.53           H  \\nATOM   1033  HE2 TYR B 226       4.980  -1.037  21.117  1.00  0.56           H  \\nATOM   1034  HH  TYR B 226       5.403   1.396  22.320  1.00  1.07           H  \\nATOM   1035  N   TYR B 227       0.753  -2.379  15.740  1.00  0.27           N  \\nATOM   1036  CA  TYR B 227      -0.256  -3.116  14.930  1.00  0.30           C  \\nATOM   1037  C   TYR B 227      -0.225  -4.602  15.276  1.00  0.34           C  \\nATOM   1038  O   TYR B 227       0.786  -5.143  15.679  1.00  0.37           O  \\nATOM   1039  CB  TYR B 227       0.043  -2.919  13.440  1.00  0.31           C  \\nATOM   1040  CG  TYR B 227       1.439  -3.409  13.124  1.00  0.30           C  \\nATOM   1041  CD1 TYR B 227       2.562  -2.688  13.577  1.00  0.28           C  \\nATOM   1042  CD2 TYR B 227       1.617  -4.587  12.374  1.00  0.36           C  \\nATOM   1043  CE1 TYR B 227       3.861  -3.147  13.281  1.00  0.32           C  \\nATOM   1044  CE2 TYR B 227       2.913  -5.044  12.077  1.00  0.40           C  \\nATOM   1045  CZ  TYR B 227       4.035  -4.326  12.532  1.00  0.38           C  \\nATOM   1046  OH  TYR B 227       5.307  -4.776  12.242  1.00  0.45           O  \\nATOM   1047  H   TYR B 227       1.537  -2.843  16.106  1.00  0.28           H  \\nATOM   1048  HA  TYR B 227      -1.242  -2.727  15.145  1.00  0.31           H  \\nATOM   1049  HB2 TYR B 227      -0.674  -3.474  12.853  1.00  0.35           H  \\nATOM   1050  HB3 TYR B 227      -0.029  -1.869  13.196  1.00  0.31           H  \\nATOM   1051  HD1 TYR B 227       2.429  -1.781  14.150  1.00  0.26           H  \\nATOM   1052  HD2 TYR B 227       0.756  -5.141  12.026  1.00  0.39           H  \\nATOM   1053  HE1 TYR B 227       4.722  -2.596  13.629  1.00  0.33           H  \\nATOM   1054  HE2 TYR B 227       3.048  -5.947  11.501  1.00  0.46           H  \\nATOM   1055  HH  TYR B 227       5.590  -4.359  11.424  1.00  0.97           H  \\nATOM   1056  N   ARG B 228      -1.340  -5.261  15.124  1.00  0.38           N  \\nATOM   1057  CA  ARG B 228      -1.414  -6.715  15.449  1.00  0.43           C  \\nATOM   1058  C   ARG B 228      -1.144  -7.532  14.185  1.00  0.48           C  \\nATOM   1059  O   ARG B 228      -1.475  -7.129  13.088  1.00  0.53           O  \\nATOM   1060  CB  ARG B 228      -2.815  -7.023  15.993  1.00  0.48           C  \\nATOM   1061  CG  ARG B 228      -3.248  -5.867  16.897  1.00  0.55           C  \\nATOM   1062  CD  ARG B 228      -4.546  -6.209  17.633  1.00  0.55           C  \\nATOM   1063  NE  ARG B 228      -5.514  -6.802  16.666  1.00  1.10           N  \\nATOM   1064  CZ  ARG B 228      -6.651  -7.279  17.088  1.00  1.37           C  \\nATOM   1065  NH1 ARG B 228      -6.981  -7.155  18.346  1.00  1.64           N  \\nATOM   1066  NH2 ARG B 228      -7.469  -7.857  16.253  1.00  2.13           N  \\nATOM   1067  H   ARG B 228      -2.142  -4.791  14.804  1.00  0.39           H  \\nATOM   1068  HA  ARG B 228      -0.676  -6.962  16.198  1.00  0.44           H  \\nATOM   1069  HB2 ARG B 228      -3.514  -7.126  15.173  1.00  0.56           H  \\nATOM   1070  HB3 ARG B 228      -2.789  -7.938  16.564  1.00  0.65           H  \\nATOM   1071  HG2 ARG B 228      -2.469  -5.672  17.619  1.00  0.86           H  \\nATOM   1072  HG3 ARG B 228      -3.406  -4.984  16.295  1.00  0.81           H  \\nATOM   1073  HD2 ARG B 228      -4.350  -6.921  18.411  1.00  0.96           H  \\nATOM   1074  HD3 ARG B 228      -4.954  -5.306  18.075  1.00  1.07           H  \\nATOM   1075  HE  ARG B 228      -5.283  -6.858  15.715  1.00  1.83           H  \\nATOM   1076 HH11 ARG B 228      -6.360  -6.696  18.982  1.00  1.68           H  \\nATOM   1077 HH12 ARG B 228      -7.854  -7.515  18.672  1.00  2.27           H  \\nATOM   1078 HH21 ARG B 228      -7.224  -7.936  15.286  1.00  2.61           H  \\nATOM   1079 HH22 ARG B 228      -8.343  -8.220  16.579  1.00  2.47           H  \\nATOM   1080  N   ASP B 229      -0.532  -8.677  14.331  1.00  0.55           N  \\nATOM   1081  CA  ASP B 229      -0.223  -9.527  13.143  1.00  0.64           C  \\nATOM   1082  C   ASP B 229      -1.375 -10.511  12.913  1.00  0.69           C  \\nATOM   1083  O   ASP B 229      -2.259 -10.648  13.735  1.00  0.71           O  \\nATOM   1084  CB  ASP B 229       1.087 -10.296  13.404  1.00  0.77           C  \\nATOM   1085  CG  ASP B 229       1.789 -10.609  12.079  1.00  1.44           C  \\nATOM   1086  OD1 ASP B 229       1.453 -11.614  11.474  1.00  2.11           O  \\nATOM   1087  OD2 ASP B 229       2.652  -9.836  11.692  1.00  2.25           O  \\nATOM   1088  H   ASP B 229      -0.268  -8.978  15.227  1.00  0.57           H  \\nATOM   1089  HA  ASP B 229      -0.108  -8.898  12.269  1.00  0.66           H  \\nATOM   1090  HB2 ASP B 229       1.739  -9.688  14.016  1.00  1.43           H  \\nATOM   1091  HB3 ASP B 229       0.874 -11.221  13.923  1.00  1.25           H  \\nATOM   1092  N   SER B 230      -1.370 -11.198  11.802  1.00  0.78           N  \\nATOM   1093  CA  SER B 230      -2.462 -12.174  11.525  1.00  0.88           C  \\nATOM   1094  C   SER B 230      -2.120 -13.514  12.180  1.00  0.97           C  \\nATOM   1095  O   SER B 230      -2.954 -14.390  12.298  1.00  1.07           O  \\nATOM   1096  CB  SER B 230      -2.602 -12.364  10.014  1.00  0.96           C  \\nATOM   1097  OG  SER B 230      -3.448 -13.476   9.756  1.00  1.78           O  \\nATOM   1098  H   SER B 230      -0.646 -11.075  11.153  1.00  0.81           H  \\nATOM   1099  HA  SER B 230      -3.393 -11.803  11.929  1.00  0.87           H  \\nATOM   1100  HB2 SER B 230      -3.035 -11.480   9.576  1.00  1.34           H  \\nATOM   1101  HB3 SER B 230      -1.624 -12.535   9.582  1.00  1.27           H  \\nATOM   1102  HG  SER B 230      -4.284 -13.141   9.421  1.00  2.23           H  \\nATOM   1103  N   ARG B 231      -0.897 -13.678  12.611  1.00  0.97           N  \\nATOM   1104  CA  ARG B 231      -0.494 -14.959  13.264  1.00  1.09           C  \\nATOM   1105  C   ARG B 231      -0.724 -14.869  14.776  1.00  1.04           C  \\nATOM   1106  O   ARG B 231      -0.679 -15.862  15.475  1.00  1.15           O  \\nATOM   1107  CB  ARG B 231       0.991 -15.225  13.010  1.00  1.19           C  \\nATOM   1108  CG  ARG B 231       1.291 -15.192  11.502  1.00  1.30           C  \\nATOM   1109  CD  ARG B 231       2.620 -15.918  11.209  1.00  1.55           C  \\nATOM   1110  NE  ARG B 231       3.349 -15.211  10.122  1.00  1.99           N  \\nATOM   1111  CZ  ARG B 231       4.619 -15.445   9.933  1.00  2.62           C  \\nATOM   1112  NH1 ARG B 231       5.245 -16.299  10.698  1.00  2.93           N  \\nATOM   1113  NH2 ARG B 231       5.265 -14.828   8.981  1.00  3.48           N  \\nATOM   1114  H   ARG B 231      -0.241 -12.957  12.509  1.00  0.92           H  \\nATOM   1115  HA  ARG B 231      -1.077 -15.775  12.860  1.00  1.20           H  \\nATOM   1116  HB2 ARG B 231       1.579 -14.468  13.507  1.00  1.13           H  \\nATOM   1117  HB3 ARG B 231       1.253 -16.196  13.404  1.00  1.33           H  \\nATOM   1118  HG2 ARG B 231       0.486 -15.677  10.966  1.00  1.61           H  \\nATOM   1119  HG3 ARG B 231       1.368 -14.165  11.176  1.00  1.46           H  \\nATOM   1120  HD2 ARG B 231       3.239 -15.932  12.099  1.00  2.04           H  \\nATOM   1121  HD3 ARG B 231       2.420 -16.933  10.898  1.00  2.05           H  \\nATOM   1122  HE  ARG B 231       2.875 -14.572   9.547  1.00  2.38           H  \\nATOM   1123 HH11 ARG B 231       4.752 -16.770  11.429  1.00  2.84           H  \\nATOM   1124 HH12 ARG B 231       6.218 -16.480  10.554  1.00  3.62           H  \\nATOM   1125 HH21 ARG B 231       4.788 -14.174   8.393  1.00  3.81           H  \\nATOM   1126 HH22 ARG B 231       6.238 -15.011   8.837  1.00  4.04           H  \\nATOM   1127  N   ASP B 232      -0.959 -13.690  15.293  1.00  0.91           N  \\nATOM   1128  CA  ASP B 232      -1.174 -13.552  16.765  1.00  0.90           C  \\nATOM   1129  C   ASP B 232      -1.940 -12.236  17.057  1.00  0.77           C  \\nATOM   1130  O   ASP B 232      -1.534 -11.198  16.574  1.00  0.67           O  \\nATOM   1131  CB  ASP B 232       0.193 -13.496  17.456  1.00  0.97           C  \\nATOM   1132  CG  ASP B 232       0.912 -14.834  17.277  1.00  1.61           C  \\nATOM   1133  OD1 ASP B 232       0.378 -15.836  17.726  1.00  2.33           O  \\nATOM   1134  OD2 ASP B 232       1.983 -14.836  16.693  1.00  2.13           O  \\nATOM   1135  H   ASP B 232      -0.983 -12.897  14.718  1.00  0.85           H  \\nATOM   1136  HA  ASP B 232      -1.710 -14.410  17.120  1.00  0.99           H  \\nATOM   1137  HB2 ASP B 232       0.785 -12.707  17.015  1.00  1.18           H  \\nATOM   1138  HB3 ASP B 232       0.058 -13.301  18.508  1.00  1.23           H  \\nATOM   1139  N   PRO B 233      -3.022 -12.283  17.830  1.00  0.82           N  \\nATOM   1140  CA  PRO B 233      -3.789 -11.055  18.141  1.00  0.78           C  \\nATOM   1141  C   PRO B 233      -2.971 -10.097  19.031  1.00  0.69           C  \\nATOM   1142  O   PRO B 233      -3.470  -9.074  19.459  1.00  0.69           O  \\nATOM   1143  CB  PRO B 233      -5.047 -11.553  18.892  1.00  0.94           C  \\nATOM   1144  CG  PRO B 233      -4.816 -13.052  19.231  1.00  1.04           C  \\nATOM   1145  CD  PRO B 233      -3.578 -13.519  18.436  1.00  0.99           C  \\nATOM   1146  HA  PRO B 233      -4.077 -10.557  17.230  1.00  0.78           H  \\nATOM   1147  HB2 PRO B 233      -5.198 -10.984  19.803  1.00  0.92           H  \\nATOM   1148  HB3 PRO B 233      -5.918 -11.458  18.258  1.00  1.03           H  \\nATOM   1149  HG2 PRO B 233      -4.639 -13.165  20.296  1.00  1.05           H  \\nATOM   1150  HG3 PRO B 233      -5.680 -13.636  18.944  1.00  1.17           H  \\nATOM   1151  HD2 PRO B 233      -2.854 -13.980  19.096  1.00  1.01           H  \\nATOM   1152  HD3 PRO B 233      -3.878 -14.210  17.660  1.00  1.07           H  \\nATOM   1153  N   VAL B 234      -1.736 -10.408  19.324  1.00  0.67           N  \\nATOM   1154  CA  VAL B 234      -0.935  -9.492  20.197  1.00  0.65           C  \\nATOM   1155  C   VAL B 234      -0.369  -8.338  19.356  1.00  0.57           C  \\nATOM   1156  O   VAL B 234      -0.173  -8.461  18.165  1.00  0.64           O  \\nATOM   1157  CB  VAL B 234       0.205 -10.276  20.870  1.00  0.75           C  \\nATOM   1158  CG1 VAL B 234      -0.320 -11.639  21.329  1.00  1.53           C  \\nATOM   1159  CG2 VAL B 234       1.368 -10.485  19.889  1.00  1.68           C  \\nATOM   1160  H   VAL B 234      -1.339 -11.236  18.983  1.00  0.71           H  \\nATOM   1161  HA  VAL B 234      -1.579  -9.083  20.962  1.00  0.68           H  \\nATOM   1162  HB  VAL B 234       0.555  -9.724  21.731  1.00  1.29           H  \\nATOM   1163 HG11 VAL B 234      -1.172 -11.496  21.977  1.00  2.12           H  \\nATOM   1164 HG12 VAL B 234      -0.617 -12.218  20.468  1.00  2.11           H  \\nATOM   1165 HG13 VAL B 234       0.457 -12.162  21.865  1.00  2.03           H  \\nATOM   1166 HG21 VAL B 234       0.979 -10.782  18.927  1.00  2.26           H  \\nATOM   1167 HG22 VAL B 234       1.917  -9.560  19.785  1.00  2.17           H  \\nATOM   1168 HG23 VAL B 234       2.026 -11.252  20.267  1.00  2.24           H  \\nATOM   1169  N   TRP B 235      -0.109  -7.215  19.974  1.00  0.52           N  \\nATOM   1170  CA  TRP B 235       0.437  -6.050  19.216  1.00  0.45           C  \\nATOM   1171  C   TRP B 235       1.867  -6.359  18.761  1.00  0.46           C  \\nATOM   1172  O   TRP B 235       2.504  -7.260  19.268  1.00  0.57           O  \\nATOM   1173  CB  TRP B 235       0.449  -4.812  20.119  1.00  0.46           C  \\nATOM   1174  CG  TRP B 235      -0.955  -4.446  20.477  1.00  0.46           C  \\nATOM   1175  CD1 TRP B 235      -1.578  -4.786  21.630  1.00  0.52           C  \\nATOM   1176  CD2 TRP B 235      -1.920  -3.681  19.699  1.00  0.43           C  \\nATOM   1177  NE1 TRP B 235      -2.868  -4.283  21.609  1.00  0.53           N  \\nATOM   1178  CE2 TRP B 235      -3.128  -3.593  20.442  1.00  0.48           C  \\nATOM   1179  CE3 TRP B 235      -1.869  -3.062  18.430  1.00  0.39           C  \\nATOM   1180  CZ2 TRP B 235      -4.248  -2.912  19.941  1.00  0.49           C  \\nATOM   1181  CZ3 TRP B 235      -2.991  -2.376  17.922  1.00  0.39           C  \\nATOM   1182  CH2 TRP B 235      -4.179  -2.302  18.677  1.00  0.45           C  \\nATOM   1183  H   TRP B 235      -0.277  -7.136  20.936  1.00  0.58           H  \\nATOM   1184  HA  TRP B 235      -0.189  -5.859  18.350  1.00  0.42           H  \\nATOM   1185  HB2 TRP B 235       1.007  -5.028  21.018  1.00  0.51           H  \\nATOM   1186  HB3 TRP B 235       0.914  -3.989  19.597  1.00  0.44           H  \\nATOM   1187  HD1 TRP B 235      -1.141  -5.360  22.434  1.00  0.56           H  \\nATOM   1188  HE1 TRP B 235      -3.528  -4.391  22.324  1.00  0.59           H  \\nATOM   1189  HE3 TRP B 235      -0.962  -3.114  17.845  1.00  0.37           H  \\nATOM   1190  HZ2 TRP B 235      -5.157  -2.858  20.523  1.00  0.55           H  \\nATOM   1191  HZ3 TRP B 235      -2.941  -1.906  16.951  1.00  0.38           H  \\nATOM   1192  HH2 TRP B 235      -5.036  -1.775  18.284  1.00  0.48           H  \\nATOM   1193  N   LYS B 236       2.376  -5.609  17.810  1.00  0.41           N  \\nATOM   1194  CA  LYS B 236       3.771  -5.839  17.305  1.00  0.45           C  \\nATOM   1195  C   LYS B 236       4.603  -4.570  17.548  1.00  0.45           C  \\nATOM   1196  O   LYS B 236       4.070  -3.512  17.819  1.00  0.66           O  \\nATOM   1197  CB  LYS B 236       3.707  -6.165  15.798  1.00  0.47           C  \\nATOM   1198  CG  LYS B 236       4.876  -7.081  15.383  1.00  0.91           C  \\nATOM   1199  CD  LYS B 236       4.633  -7.639  13.959  1.00  0.77           C  \\nATOM   1200  CE  LYS B 236       5.963  -7.784  13.210  1.00  1.26           C  \\nATOM   1201  NZ  LYS B 236       6.922  -8.564  14.040  1.00  1.43           N  \\nATOM   1202  H   LYS B 236       1.837  -4.887  17.424  1.00  0.41           H  \\nATOM   1203  HA  LYS B 236       4.224  -6.660  17.841  1.00  0.52           H  \\nATOM   1204  HB2 LYS B 236       2.773  -6.666  15.585  1.00  0.77           H  \\nATOM   1205  HB3 LYS B 236       3.753  -5.249  15.223  1.00  0.80           H  \\nATOM   1206  HG2 LYS B 236       5.795  -6.512  15.404  1.00  1.49           H  \\nATOM   1207  HG3 LYS B 236       4.953  -7.907  16.078  1.00  1.45           H  \\nATOM   1208  HD2 LYS B 236       4.158  -8.608  14.027  1.00  1.21           H  \\nATOM   1209  HD3 LYS B 236       3.991  -6.971  13.408  1.00  1.12           H  \\nATOM   1210  HE2 LYS B 236       5.795  -8.297  12.276  1.00  1.83           H  \\nATOM   1211  HE3 LYS B 236       6.372  -6.804  13.014  1.00  1.88           H  \\nATOM   1212  HZ1 LYS B 236       6.525  -9.507  14.234  1.00  1.85           H  \\nATOM   1213  HZ2 LYS B 236       7.821  -8.664  13.528  1.00  1.90           H  \\nATOM   1214  HZ3 LYS B 236       7.089  -8.066  14.938  1.00  1.78           H  \\nATOM   1215  N   GLY B 237       5.906  -4.675  17.463  1.00  0.43           N  \\nATOM   1216  CA  GLY B 237       6.780  -3.485  17.705  1.00  0.41           C  \\nATOM   1217  C   GLY B 237       6.208  -2.237  17.004  1.00  0.35           C  \\nATOM   1218  O   GLY B 237       5.299  -2.347  16.205  1.00  0.34           O  \\nATOM   1219  H   GLY B 237       6.311  -5.541  17.251  1.00  0.57           H  \\nATOM   1220  HA2 GLY B 237       6.838  -3.312  18.765  1.00  0.44           H  \\nATOM   1221  HA3 GLY B 237       7.769  -3.686  17.321  1.00  0.45           H  \\nATOM   1222  N   PRO B 238       6.755  -1.075  17.324  1.00  0.36           N  \\nATOM   1223  CA  PRO B 238       6.298   0.195  16.718  1.00  0.32           C  \\nATOM   1224  C   PRO B 238       6.670   0.244  15.228  1.00  0.28           C  \\nATOM   1225  O   PRO B 238       7.542  -0.468  14.769  1.00  0.32           O  \\nATOM   1226  CB  PRO B 238       7.049   1.295  17.505  1.00  0.38           C  \\nATOM   1227  CG  PRO B 238       8.158   0.588  18.333  1.00  0.45           C  \\nATOM   1228  CD  PRO B 238       7.854  -0.925  18.310  1.00  0.44           C  \\nATOM   1229  HA  PRO B 238       5.235   0.309  16.839  1.00  0.31           H  \\nATOM   1230  HB2 PRO B 238       7.491   2.016  16.824  1.00  0.37           H  \\nATOM   1231  HB3 PRO B 238       6.366   1.802  18.174  1.00  0.41           H  \\nATOM   1232  HG2 PRO B 238       9.127   0.781  17.888  1.00  0.47           H  \\nATOM   1233  HG3 PRO B 238       8.148   0.950  19.353  1.00  0.51           H  \\nATOM   1234  HD2 PRO B 238       8.727  -1.486  17.996  1.00  0.47           H  \\nATOM   1235  HD3 PRO B 238       7.526  -1.250  19.285  1.00  0.48           H  \\nATOM   1236  N   ALA B 239       6.017   1.099  14.480  1.00  0.23           N  \\nATOM   1237  CA  ALA B 239       6.319   1.227  13.022  1.00  0.22           C  \\nATOM   1238  C   ALA B 239       6.312   2.710  12.628  1.00  0.20           C  \\nATOM   1239  O   ALA B 239       6.034   3.574  13.436  1.00  0.21           O  \\nATOM   1240  CB  ALA B 239       5.254   0.476  12.220  1.00  0.24           C  \\nATOM   1241  H   ALA B 239       5.329   1.669  14.884  1.00  0.23           H  \\nATOM   1242  HA  ALA B 239       7.291   0.806  12.809  1.00  0.26           H  \\nATOM   1243  HB1 ALA B 239       5.013  -0.449  12.724  1.00  1.04           H  \\nATOM   1244  HB2 ALA B 239       4.364   1.083  12.141  1.00  1.06           H  \\nATOM   1245  HB3 ALA B 239       5.633   0.259  11.233  1.00  0.99           H  \\nATOM   1246  N   LYS B 240       6.610   3.010  11.388  1.00  0.21           N  \\nATOM   1247  CA  LYS B 240       6.617   4.439  10.933  1.00  0.21           C  \\nATOM   1248  C   LYS B 240       5.299   4.760  10.226  1.00  0.18           C  \\nATOM   1249  O   LYS B 240       4.797   3.968   9.457  1.00  0.18           O  \\nATOM   1250  CB  LYS B 240       7.767   4.651   9.945  1.00  0.26           C  \\nATOM   1251  CG  LYS B 240       9.100   4.629  10.691  1.00  1.04           C  \\nATOM   1252  CD  LYS B 240      10.241   4.868   9.693  1.00  1.43           C  \\nATOM   1253  CE  LYS B 240      11.615   4.723  10.386  1.00  1.96           C  \\nATOM   1254  NZ  LYS B 240      12.418   5.952  10.136  1.00  2.68           N  \\nATOM   1255  H   LYS B 240       6.826   2.296  10.753  1.00  0.23           H  \\nATOM   1256  HA  LYS B 240       6.746   5.100  11.782  1.00  0.22           H  \\nATOM   1257  HB2 LYS B 240       7.754   3.864   9.205  1.00  0.88           H  \\nATOM   1258  HB3 LYS B 240       7.648   5.606   9.455  1.00  0.79           H  \\nATOM   1259  HG2 LYS B 240       9.105   5.407  11.441  1.00  1.69           H  \\nATOM   1260  HG3 LYS B 240       9.233   3.669  11.166  1.00  1.67           H  \\nATOM   1261  HD2 LYS B 240      10.161   4.150   8.888  1.00  1.76           H  \\nATOM   1262  HD3 LYS B 240      10.152   5.865   9.288  1.00  2.04           H  \\nATOM   1263  HE2 LYS B 240      11.489   4.593  11.452  1.00  2.28           H  \\nATOM   1264  HE3 LYS B 240      12.140   3.867   9.983  1.00  2.44           H  \\nATOM   1265  HZ1 LYS B 240      11.813   6.677   9.696  1.00  3.02           H  \\nATOM   1266  HZ2 LYS B 240      12.792   6.311  11.037  1.00  3.11           H  \\nATOM   1267  HZ3 LYS B 240      13.209   5.726   9.500  1.00  3.09           H  \\nATOM   1268  N   LEU B 241       4.746   5.923  10.467  1.00  0.19           N  \\nATOM   1269  CA  LEU B 241       3.462   6.311   9.800  1.00  0.18           C  \\nATOM   1270  C   LEU B 241       3.776   7.046   8.490  1.00  0.20           C  \\nATOM   1271  O   LEU B 241       4.432   8.068   8.493  1.00  0.25           O  \\nATOM   1272  CB  LEU B 241       2.677   7.242  10.737  1.00  0.20           C  \\nATOM   1273  CG  LEU B 241       1.444   7.822  10.026  1.00  0.22           C  \\nATOM   1274  CD1 LEU B 241       0.601   6.688   9.426  1.00  0.21           C  \\nATOM   1275  CD2 LEU B 241       0.610   8.622  11.044  1.00  0.26           C  \\nATOM   1276  H   LEU B 241       5.182   6.549  11.083  1.00  0.21           H  \\nATOM   1277  HA  LEU B 241       2.876   5.425   9.596  1.00  0.16           H  \\nATOM   1278  HB2 LEU B 241       2.358   6.683  11.602  1.00  0.20           H  \\nATOM   1279  HB3 LEU B 241       3.318   8.051  11.053  1.00  0.23           H  \\nATOM   1280  HG  LEU B 241       1.764   8.480   9.234  1.00  0.24           H  \\nATOM   1281 HD11 LEU B 241       0.543   5.870  10.127  1.00  0.99           H  \\nATOM   1282 HD12 LEU B 241      -0.394   7.046   9.208  1.00  0.96           H  \\nATOM   1283 HD13 LEU B 241       1.062   6.347   8.511  1.00  1.01           H  \\nATOM   1284 HD21 LEU B 241       0.534   8.068  11.969  1.00  1.02           H  \\nATOM   1285 HD22 LEU B 241       1.094   9.569  11.236  1.00  1.03           H  \\nATOM   1286 HD23 LEU B 241      -0.380   8.802  10.652  1.00  1.10           H  \\nATOM   1287  N   LEU B 242       3.312   6.534   7.371  1.00  0.21           N  \\nATOM   1288  CA  LEU B 242       3.584   7.201   6.051  1.00  0.24           C  \\nATOM   1289  C   LEU B 242       2.270   7.710   5.445  1.00  0.25           C  \\nATOM   1290  O   LEU B 242       2.013   8.897   5.406  1.00  0.27           O  \\nATOM   1291  CB  LEU B 242       4.234   6.201   5.075  1.00  0.26           C  \\nATOM   1292  CG  LEU B 242       5.259   5.304   5.792  1.00  0.26           C  \\nATOM   1293  CD1 LEU B 242       5.693   4.182   4.841  1.00  0.28           C  \\nATOM   1294  CD2 LEU B 242       6.491   6.123   6.202  1.00  0.27           C  \\nATOM   1295  H   LEU B 242       2.784   5.709   7.397  1.00  0.20           H  \\nATOM   1296  HA  LEU B 242       4.247   8.045   6.186  1.00  0.26           H  \\nATOM   1297  HB2 LEU B 242       3.469   5.575   4.637  1.00  0.26           H  \\nATOM   1298  HB3 LEU B 242       4.734   6.748   4.289  1.00  0.29           H  \\nATOM   1299  HG  LEU B 242       4.807   4.863   6.668  1.00  0.25           H  \\nATOM   1300 HD11 LEU B 242       5.840   4.583   3.847  1.00  1.07           H  \\nATOM   1301 HD12 LEU B 242       6.616   3.748   5.190  1.00  1.06           H  \\nATOM   1302 HD13 LEU B 242       4.928   3.422   4.810  1.00  1.02           H  \\nATOM   1303 HD21 LEU B 242       6.186   6.984   6.773  1.00  1.06           H  \\nATOM   1304 HD22 LEU B 242       7.143   5.509   6.806  1.00  1.04           H  \\nATOM   1305 HD23 LEU B 242       7.021   6.446   5.318  1.00  1.05           H  \\nATOM   1306  N   TRP B 243       1.440   6.824   4.955  1.00  0.24           N  \\nATOM   1307  CA  TRP B 243       0.152   7.262   4.334  1.00  0.25           C  \\nATOM   1308  C   TRP B 243      -0.949   7.310   5.396  1.00  0.26           C  \\nATOM   1309  O   TRP B 243      -1.013   6.476   6.277  1.00  0.28           O  \\nATOM   1310  CB  TRP B 243      -0.246   6.265   3.232  1.00  0.27           C  \\nATOM   1311  CG  TRP B 243      -1.213   6.909   2.292  1.00  0.28           C  \\nATOM   1312  CD1 TRP B 243      -0.907   7.889   1.415  1.00  0.29           C  \\nATOM   1313  CD2 TRP B 243      -2.631   6.640   2.127  1.00  0.29           C  \\nATOM   1314  NE1 TRP B 243      -2.046   8.242   0.721  1.00  0.31           N  \\nATOM   1315  CE2 TRP B 243      -3.138   7.506   1.125  1.00  0.31           C  \\nATOM   1316  CE3 TRP B 243      -3.524   5.737   2.746  1.00  0.30           C  \\nATOM   1317  CZ2 TRP B 243      -4.486   7.480   0.748  1.00  0.35           C  \\nATOM   1318  CZ3 TRP B 243      -4.881   5.706   2.369  1.00  0.34           C  \\nATOM   1319  CH2 TRP B 243      -5.361   6.578   1.373  1.00  0.36           C  \\nATOM   1320  H   TRP B 243       1.668   5.871   4.982  1.00  0.23           H  \\nATOM   1321  HA  TRP B 243       0.276   8.247   3.902  1.00  0.26           H  \\nATOM   1322  HB2 TRP B 243       0.634   5.956   2.687  1.00  0.28           H  \\nATOM   1323  HB3 TRP B 243      -0.713   5.404   3.679  1.00  0.30           H  \\nATOM   1324  HD1 TRP B 243       0.069   8.319   1.274  1.00  0.30           H  \\nATOM   1325  HE1 TRP B 243      -2.093   8.928   0.026  1.00  0.34           H  \\nATOM   1326  HE3 TRP B 243      -3.163   5.065   3.511  1.00  0.30           H  \\nATOM   1327  HZ2 TRP B 243      -4.851   8.150  -0.017  1.00  0.38           H  \\nATOM   1328  HZ3 TRP B 243      -5.557   5.015   2.849  1.00  0.36           H  \\nATOM   1329  HH2 TRP B 243      -6.401   6.552   1.088  1.00  0.40           H  \\nATOM   1330  N   LYS B 244      -1.824   8.275   5.308  1.00  0.29           N  \\nATOM   1331  CA  LYS B 244      -2.935   8.384   6.299  1.00  0.33           C  \\nATOM   1332  C   LYS B 244      -4.171   8.963   5.605  1.00  0.36           C  \\nATOM   1333  O   LYS B 244      -4.134  10.051   5.065  1.00  0.43           O  \\nATOM   1334  CB  LYS B 244      -2.506   9.311   7.437  1.00  0.41           C  \\nATOM   1335  CG  LYS B 244      -3.565   9.295   8.542  1.00  0.71           C  \\nATOM   1336  CD  LYS B 244      -3.198  10.324   9.615  1.00  0.89           C  \\nATOM   1337  CE  LYS B 244      -4.411  10.582  10.510  1.00  1.37           C  \\nATOM   1338  NZ  LYS B 244      -4.015  11.474  11.636  1.00  2.08           N  \\nATOM   1339  H   LYS B 244      -1.755   8.930   4.581  1.00  0.31           H  \\nATOM   1340  HA  LYS B 244      -3.171   7.406   6.697  1.00  0.34           H  \\nATOM   1341  HB2 LYS B 244      -1.562   8.972   7.838  1.00  0.74           H  \\nATOM   1342  HB3 LYS B 244      -2.397  10.316   7.059  1.00  0.84           H  \\nATOM   1343  HG2 LYS B 244      -4.529   9.542   8.120  1.00  1.23           H  \\nATOM   1344  HG3 LYS B 244      -3.608   8.313   8.987  1.00  1.17           H  \\nATOM   1345  HD2 LYS B 244      -2.383   9.943  10.213  1.00  1.42           H  \\nATOM   1346  HD3 LYS B 244      -2.899  11.247   9.144  1.00  1.38           H  \\nATOM   1347  HE2 LYS B 244      -5.190  11.057   9.931  1.00  1.95           H  \\nATOM   1348  HE3 LYS B 244      -4.775   9.644  10.902  1.00  1.86           H  \\nATOM   1349  HZ1 LYS B 244      -3.006  11.337  11.849  1.00  2.67           H  \\nATOM   1350  HZ2 LYS B 244      -4.181  12.465  11.369  1.00  2.53           H  \\nATOM   1351  HZ3 LYS B 244      -4.580  11.243  12.478  1.00  2.40           H  \\nATOM   1352  N   GLY B 245      -5.268   8.251   5.612  1.00  0.33           N  \\nATOM   1353  CA  GLY B 245      -6.498   8.775   4.946  1.00  0.39           C  \\nATOM   1354  C   GLY B 245      -7.745   8.137   5.565  1.00  0.35           C  \\nATOM   1355  O   GLY B 245      -8.166   8.494   6.646  1.00  0.35           O  \\nATOM   1356  H   GLY B 245      -5.283   7.376   6.051  1.00  0.30           H  \\nATOM   1357  HA2 GLY B 245      -6.547   9.847   5.069  1.00  0.43           H  \\nATOM   1358  HA3 GLY B 245      -6.466   8.538   3.894  1.00  0.44           H  \\nATOM   1359  N   GLU B 246      -8.342   7.200   4.878  1.00  0.35           N  \\nATOM   1360  CA  GLU B 246      -9.571   6.542   5.413  1.00  0.35           C  \\nATOM   1361  C   GLU B 246      -9.204   5.657   6.607  1.00  0.33           C  \\nATOM   1362  O   GLU B 246      -8.228   5.894   7.290  1.00  0.31           O  \\nATOM   1363  CB  GLU B 246     -10.201   5.679   4.316  1.00  0.38           C  \\nATOM   1364  CG  GLU B 246     -10.508   6.545   3.089  1.00  0.41           C  \\nATOM   1365  CD  GLU B 246     -10.760   5.645   1.877  1.00  0.46           C  \\nATOM   1366  OE1 GLU B 246      -9.793   5.235   1.257  1.00  1.09           O  \\nATOM   1367  OE2 GLU B 246     -11.916   5.378   1.592  1.00  1.24           O  \\nATOM   1368  H   GLU B 246      -7.987   6.935   4.004  1.00  0.38           H  \\nATOM   1369  HA  GLU B 246     -10.277   7.297   5.727  1.00  0.35           H  \\nATOM   1370  HB2 GLU B 246      -9.515   4.891   4.038  1.00  0.40           H  \\nATOM   1371  HB3 GLU B 246     -11.118   5.243   4.683  1.00  0.39           H  \\nATOM   1372  HG2 GLU B 246     -11.388   7.143   3.283  1.00  0.44           H  \\nATOM   1373  HG3 GLU B 246      -9.671   7.195   2.883  1.00  0.42           H  \\nATOM   1374  N   GLY B 247      -9.980   4.635   6.861  1.00  0.35           N  \\nATOM   1375  CA  GLY B 247      -9.677   3.731   8.007  1.00  0.35           C  \\nATOM   1376  C   GLY B 247      -8.528   2.796   7.626  1.00  0.32           C  \\nATOM   1377  O   GLY B 247      -8.599   1.596   7.803  1.00  0.34           O  \\nATOM   1378  H   GLY B 247     -10.761   4.462   6.293  1.00  0.37           H  \\nATOM   1379  HA2 GLY B 247      -9.395   4.321   8.868  1.00  0.36           H  \\nATOM   1380  HA3 GLY B 247     -10.551   3.142   8.244  1.00  0.39           H  \\nATOM   1381  N   ALA B 248      -7.465   3.346   7.104  1.00  0.28           N  \\nATOM   1382  CA  ALA B 248      -6.297   2.515   6.702  1.00  0.26           C  \\nATOM   1383  C   ALA B 248      -5.024   3.339   6.888  1.00  0.24           C  \\nATOM   1384  O   ALA B 248      -5.030   4.545   6.735  1.00  0.28           O  \\nATOM   1385  CB  ALA B 248      -6.437   2.108   5.234  1.00  0.29           C  \\nATOM   1386  H   ALA B 248      -7.433   4.314   6.980  1.00  0.29           H  \\nATOM   1387  HA  ALA B 248      -6.246   1.630   7.320  1.00  0.26           H  \\nATOM   1388  HB1 ALA B 248      -6.592   2.990   4.629  1.00  1.05           H  \\nATOM   1389  HB2 ALA B 248      -5.538   1.605   4.912  1.00  1.04           H  \\nATOM   1390  HB3 ALA B 248      -7.281   1.443   5.124  1.00  1.07           H  \\nATOM   1391  N   VAL B 249      -3.935   2.702   7.223  1.00  0.21           N  \\nATOM   1392  CA  VAL B 249      -2.658   3.449   7.429  1.00  0.22           C  \\nATOM   1393  C   VAL B 249      -1.492   2.630   6.879  1.00  0.20           C  \\nATOM   1394  O   VAL B 249      -1.297   1.485   7.236  1.00  0.23           O  \\nATOM   1395  CB  VAL B 249      -2.451   3.694   8.934  1.00  0.27           C  \\nATOM   1396  CG1 VAL B 249      -3.283   4.902   9.384  1.00  0.29           C  \\nATOM   1397  CG2 VAL B 249      -2.898   2.457   9.721  1.00  0.32           C  \\nATOM   1398  H   VAL B 249      -3.956   1.730   7.346  1.00  0.21           H  \\nATOM   1399  HA  VAL B 249      -2.696   4.397   6.911  1.00  0.26           H  \\nATOM   1400  HB  VAL B 249      -1.405   3.889   9.131  1.00  0.38           H  \\nATOM   1401 HG11 VAL B 249      -4.263   4.852   8.932  1.00  1.04           H  \\nATOM   1402 HG12 VAL B 249      -3.383   4.892  10.461  1.00  1.03           H  \\nATOM   1403 HG13 VAL B 249      -2.791   5.812   9.079  1.00  1.07           H  \\nATOM   1404 HG21 VAL B 249      -2.544   1.564   9.227  1.00  1.05           H  \\nATOM   1405 HG22 VAL B 249      -2.489   2.501  10.719  1.00  1.08           H  \\nATOM   1406 HG23 VAL B 249      -3.977   2.433   9.775  1.00  1.09           H  \\nATOM   1407  N   VAL B 250      -0.704   3.213   6.018  1.00  0.20           N  \\nATOM   1408  CA  VAL B 250       0.467   2.480   5.464  1.00  0.22           C  \\nATOM   1409  C   VAL B 250       1.641   2.693   6.414  1.00  0.21           C  \\nATOM   1410  O   VAL B 250       1.872   3.792   6.882  1.00  0.21           O  \\nATOM   1411  CB  VAL B 250       0.823   3.025   4.076  1.00  0.26           C  \\nATOM   1412  CG1 VAL B 250       2.002   2.234   3.508  1.00  0.31           C  \\nATOM   1413  CG2 VAL B 250      -0.385   2.890   3.137  1.00  0.28           C  \\nATOM   1414  H   VAL B 250      -0.872   4.141   5.749  1.00  0.23           H  \\nATOM   1415  HA  VAL B 250       0.244   1.425   5.397  1.00  0.23           H  \\nATOM   1416  HB  VAL B 250       1.105   4.064   4.159  1.00  0.25           H  \\nATOM   1417 HG11 VAL B 250       1.854   1.182   3.700  1.00  1.01           H  \\nATOM   1418 HG12 VAL B 250       2.072   2.401   2.442  1.00  1.01           H  \\nATOM   1419 HG13 VAL B 250       2.913   2.563   3.982  1.00  1.06           H  \\nATOM   1420 HG21 VAL B 250      -1.288   3.151   3.668  1.00  1.02           H  \\nATOM   1421 HG22 VAL B 250      -0.259   3.556   2.294  1.00  1.09           H  \\nATOM   1422 HG23 VAL B 250      -0.458   1.871   2.783  1.00  1.05           H  \\nATOM   1423  N   ILE B 251       2.372   1.653   6.727  1.00  0.20           N  \\nATOM   1424  CA  ILE B 251       3.520   1.801   7.674  1.00  0.20           C  \\nATOM   1425  C   ILE B 251       4.721   1.004   7.172  1.00  0.22           C  \\nATOM   1426  O   ILE B 251       4.663   0.338   6.157  1.00  0.24           O  \\nATOM   1427  CB  ILE B 251       3.117   1.265   9.052  1.00  0.18           C  \\nATOM   1428  CG1 ILE B 251       2.510  -0.139   8.894  1.00  0.21           C  \\nATOM   1429  CG2 ILE B 251       2.089   2.203   9.686  1.00  0.17           C  \\nATOM   1430  CD1 ILE B 251       2.238  -0.779  10.278  1.00  0.20           C  \\nATOM   1431  H   ILE B 251       2.157   0.774   6.353  1.00  0.22           H  \\nATOM   1432  HA  ILE B 251       3.794   2.837   7.762  1.00  0.19           H  \\nATOM   1433  HB  ILE B 251       3.992   1.211   9.684  1.00  0.20           H  \\nATOM   1434 HG12 ILE B 251       1.583  -0.062   8.343  1.00  0.24           H  \\nATOM   1435 HG13 ILE B 251       3.201  -0.761   8.342  1.00  0.26           H  \\nATOM   1436 HG21 ILE B 251       1.290   2.388   8.984  1.00  1.03           H  \\nATOM   1437 HG22 ILE B 251       1.687   1.749  10.578  1.00  1.02           H  \\nATOM   1438 HG23 ILE B 251       2.567   3.136   9.940  1.00  1.02           H  \\nATOM   1439 HD11 ILE B 251       2.825  -0.286  11.040  1.00  1.03           H  \\nATOM   1440 HD12 ILE B 251       1.189  -0.684  10.521  1.00  1.06           H  \\nATOM   1441 HD13 ILE B 251       2.502  -1.828  10.251  1.00  0.99           H  \\nATOM   1442  N   GLN B 252       5.809   1.061   7.891  1.00  0.23           N  \\nATOM   1443  CA  GLN B 252       7.026   0.295   7.486  1.00  0.27           C  \\nATOM   1444  C   GLN B 252       7.728  -0.213   8.741  1.00  0.30           C  \\nATOM   1445  O   GLN B 252       8.250   0.554   9.524  1.00  0.32           O  \\nATOM   1446  CB  GLN B 252       7.991   1.189   6.703  1.00  0.29           C  \\nATOM   1447  CG  GLN B 252       9.065   0.322   6.042  1.00  0.31           C  \\nATOM   1448  CD  GLN B 252      10.071   1.220   5.322  1.00  0.34           C  \\nATOM   1449  OE1 GLN B 252      10.961   1.770   5.940  1.00  0.68           O  \\nATOM   1450  NE2 GLN B 252       9.969   1.393   4.033  1.00  0.47           N  \\nATOM   1451  H   GLN B 252       5.821   1.604   8.712  1.00  0.23           H  \\nATOM   1452  HA  GLN B 252       6.738  -0.546   6.870  1.00  0.27           H  \\nATOM   1453  HB2 GLN B 252       7.450   1.724   5.943  1.00  0.31           H  \\nATOM   1454  HB3 GLN B 252       8.465   1.888   7.372  1.00  0.34           H  \\nATOM   1455  HG2 GLN B 252       9.574  -0.258   6.798  1.00  0.40           H  \\nATOM   1456  HG3 GLN B 252       8.603  -0.342   5.328  1.00  0.35           H  \\nATOM   1457 HE21 GLN B 252       9.252   0.949   3.535  1.00  0.79           H  \\nATOM   1458 HE22 GLN B 252      10.610   1.968   3.563  1.00  0.46           H  \\nATOM   1459  N   ASP B 253       7.757  -1.501   8.936  1.00  0.32           N  \\nATOM   1460  CA  ASP B 253       8.443  -2.059  10.137  1.00  0.36           C  \\nATOM   1461  C   ASP B 253       9.878  -2.384   9.733  1.00  0.40           C  \\nATOM   1462  O   ASP B 253      10.793  -1.634  10.006  1.00  0.42           O  \\nATOM   1463  CB  ASP B 253       7.714  -3.324  10.600  1.00  0.39           C  \\nATOM   1464  CG  ASP B 253       8.228  -3.731  11.984  1.00  0.48           C  \\nATOM   1465  OD1 ASP B 253       8.086  -2.941  12.903  1.00  1.26           O  \\nATOM   1466  OD2 ASP B 253       8.755  -4.825  12.100  1.00  1.13           O  \\nATOM   1467  H   ASP B 253       7.338  -2.105   8.288  1.00  0.32           H  \\nATOM   1468  HA  ASP B 253       8.449  -1.327  10.934  1.00  0.37           H  \\nATOM   1469  HB2 ASP B 253       6.650  -3.122  10.654  1.00  0.38           H  \\nATOM   1470  HB3 ASP B 253       7.892  -4.126   9.900  1.00  0.41           H  \\nATOM   1471  N   ASN B 254      10.078  -3.472   9.047  1.00  0.42           N  \\nATOM   1472  CA  ASN B 254      11.449  -3.806   8.580  1.00  0.47           C  \\nATOM   1473  C   ASN B 254      11.683  -2.995   7.306  1.00  0.44           C  \\nATOM   1474  O   ASN B 254      11.363  -1.824   7.250  1.00  0.45           O  \\nATOM   1475  CB  ASN B 254      11.540  -5.302   8.268  1.00  0.51           C  \\nATOM   1476  CG  ASN B 254      11.303  -6.105   9.547  1.00  1.28           C  \\nATOM   1477  OD1 ASN B 254      10.329  -5.893  10.242  1.00  2.10           O  \\nATOM   1478  ND2 ASN B 254      12.160  -7.026   9.893  1.00  1.93           N  \\nATOM   1479  H   ASN B 254       9.323  -4.050   8.807  1.00  0.42           H  \\nATOM   1480  HA  ASN B 254      12.178  -3.536   9.333  1.00  0.50           H  \\nATOM   1481  HB2 ASN B 254      10.791  -5.563   7.534  1.00  1.04           H  \\nATOM   1482  HB3 ASN B 254      12.520  -5.531   7.880  1.00  0.90           H  \\nATOM   1483 HD21 ASN B 254      12.947  -7.197   9.335  1.00  2.18           H  \\nATOM   1484 HD22 ASN B 254      12.017  -7.547  10.710  1.00  2.57           H  \\nATOM   1485  N   SER B 255      12.191  -3.608   6.270  1.00  0.44           N  \\nATOM   1486  CA  SER B 255      12.396  -2.875   4.984  1.00  0.43           C  \\nATOM   1487  C   SER B 255      11.294  -3.310   4.018  1.00  0.40           C  \\nATOM   1488  O   SER B 255      11.551  -3.781   2.928  1.00  0.42           O  \\nATOM   1489  CB  SER B 255      13.769  -3.224   4.403  1.00  0.48           C  \\nATOM   1490  OG  SER B 255      14.730  -3.243   5.450  1.00  1.36           O  \\nATOM   1491  H   SER B 255      12.411  -4.561   6.327  1.00  0.47           H  \\nATOM   1492  HA  SER B 255      12.327  -1.802   5.145  1.00  0.42           H  \\nATOM   1493  HB2 SER B 255      13.733  -4.196   3.938  1.00  1.15           H  \\nATOM   1494  HB3 SER B 255      14.044  -2.484   3.662  1.00  1.15           H  \\nATOM   1495  HG  SER B 255      15.595  -3.378   5.056  1.00  1.88           H  \\nATOM   1496  N   ASP B 256      10.065  -3.168   4.432  1.00  0.37           N  \\nATOM   1497  CA  ASP B 256       8.921  -3.578   3.571  1.00  0.35           C  \\nATOM   1498  C   ASP B 256       7.683  -2.783   3.984  1.00  0.32           C  \\nATOM   1499  O   ASP B 256       7.296  -2.770   5.136  1.00  0.30           O  \\nATOM   1500  CB  ASP B 256       8.649  -5.073   3.755  1.00  0.37           C  \\nATOM   1501  CG  ASP B 256       9.739  -5.882   3.051  1.00  0.43           C  \\nATOM   1502  OD1 ASP B 256      10.169  -5.463   1.989  1.00  1.27           O  \\nATOM   1503  OD2 ASP B 256      10.125  -6.909   3.585  1.00  1.03           O  \\nATOM   1504  H   ASP B 256       9.893  -2.797   5.322  1.00  0.36           H  \\nATOM   1505  HA  ASP B 256       9.152  -3.375   2.535  1.00  0.36           H  \\nATOM   1506  HB2 ASP B 256       8.648  -5.311   4.809  1.00  0.39           H  \\nATOM   1507  HB3 ASP B 256       7.687  -5.320   3.330  1.00  0.38           H  \\nATOM   1508  N   ILE B 257       7.067  -2.105   3.058  1.00  0.31           N  \\nATOM   1509  CA  ILE B 257       5.859  -1.295   3.391  1.00  0.29           C  \\nATOM   1510  C   ILE B 257       4.600  -2.134   3.167  1.00  0.31           C  \\nATOM   1511  O   ILE B 257       4.489  -2.859   2.198  1.00  0.36           O  \\nATOM   1512  CB  ILE B 257       5.837  -0.057   2.495  1.00  0.30           C  \\nATOM   1513  CG1 ILE B 257       7.150   0.711   2.702  1.00  0.33           C  \\nATOM   1514  CG2 ILE B 257       4.646   0.822   2.877  1.00  0.28           C  \\nATOM   1515  CD1 ILE B 257       7.185   1.971   1.824  1.00  0.32           C  \\nATOM   1516  H   ILE B 257       7.405  -2.120   2.137  1.00  0.34           H  \\nATOM   1517  HA  ILE B 257       5.901  -0.986   4.426  1.00  0.27           H  \\nATOM   1518  HB  ILE B 257       5.750  -0.358   1.461  1.00  0.36           H  \\nATOM   1519 HG12 ILE B 257       7.235   0.993   3.742  1.00  0.33           H  \\nATOM   1520 HG13 ILE B 257       7.980   0.071   2.439  1.00  0.42           H  \\nATOM   1521 HG21 ILE B 257       4.713   1.083   3.922  1.00  1.04           H  \\nATOM   1522 HG22 ILE B 257       4.645   1.720   2.277  1.00  1.04           H  \\nATOM   1523 HG23 ILE B 257       3.733   0.276   2.702  1.00  1.03           H  \\nATOM   1524 HD11 ILE B 257       6.661   1.787   0.896  1.00  1.01           H  \\nATOM   1525 HD12 ILE B 257       6.713   2.789   2.348  1.00  1.00           H  \\nATOM   1526 HD13 ILE B 257       8.213   2.231   1.609  1.00  1.04           H  \\nATOM   1527  N   LYS B 258       3.651  -2.049   4.068  1.00  0.28           N  \\nATOM   1528  CA  LYS B 258       2.396  -2.851   3.929  1.00  0.30           C  \\nATOM   1529  C   LYS B 258       1.186  -2.012   4.348  1.00  0.28           C  \\nATOM   1530  O   LYS B 258       1.319  -0.945   4.915  1.00  0.27           O  \\nATOM   1531  CB  LYS B 258       2.489  -4.084   4.832  1.00  0.32           C  \\nATOM   1532  CG  LYS B 258       3.438  -5.107   4.207  1.00  0.37           C  \\nATOM   1533  CD  LYS B 258       3.678  -6.262   5.190  1.00  0.48           C  \\nATOM   1534  CE  LYS B 258       4.246  -7.486   4.446  1.00  1.11           C  \\nATOM   1535  NZ  LYS B 258       5.189  -8.209   5.343  1.00  1.88           N  \\nATOM   1536  H   LYS B 258       3.769  -1.462   4.844  1.00  0.25           H  \\nATOM   1537  HA  LYS B 258       2.272  -3.168   2.904  1.00  0.33           H  \\nATOM   1538  HB2 LYS B 258       2.865  -3.791   5.802  1.00  0.30           H  \\nATOM   1539  HB3 LYS B 258       1.510  -4.526   4.945  1.00  0.33           H  \\nATOM   1540  HG2 LYS B 258       3.002  -5.492   3.296  1.00  0.43           H  \\nATOM   1541  HG3 LYS B 258       4.380  -4.631   3.981  1.00  0.42           H  \\nATOM   1542  HD2 LYS B 258       4.382  -5.945   5.946  1.00  0.81           H  \\nATOM   1543  HD3 LYS B 258       2.743  -6.531   5.663  1.00  0.93           H  \\nATOM   1544  HE2 LYS B 258       3.439  -8.149   4.167  1.00  1.70           H  \\nATOM   1545  HE3 LYS B 258       4.774  -7.169   3.557  1.00  1.71           H  \\nATOM   1546  HZ1 LYS B 258       5.753  -7.519   5.882  1.00  2.34           H  \\nATOM   1547  HZ2 LYS B 258       4.652  -8.808   6.002  1.00  2.40           H  \\nATOM   1548  HZ3 LYS B 258       5.822  -8.805   4.773  1.00  2.35           H  \\nATOM   1549  N   VAL B 259       0.002  -2.502   4.079  1.00  0.28           N  \\nATOM   1550  CA  VAL B 259      -1.240  -1.763   4.465  1.00  0.26           C  \\nATOM   1551  C   VAL B 259      -1.834  -2.407   5.721  1.00  0.25           C  \\nATOM   1552  O   VAL B 259      -1.851  -3.615   5.857  1.00  0.27           O  \\nATOM   1553  CB  VAL B 259      -2.258  -1.843   3.319  1.00  0.29           C  \\nATOM   1554  CG1 VAL B 259      -3.331  -0.768   3.507  1.00  0.32           C  \\nATOM   1555  CG2 VAL B 259      -1.541  -1.620   1.986  1.00  0.35           C  \\nATOM   1556  H   VAL B 259      -0.072  -3.369   3.630  1.00  0.29           H  \\nATOM   1557  HA  VAL B 259      -1.004  -0.729   4.670  1.00  0.26           H  \\nATOM   1558  HB  VAL B 259      -2.725  -2.818   3.318  1.00  0.31           H  \\nATOM   1559 HG11 VAL B 259      -3.650  -0.754   4.538  1.00  1.05           H  \\nATOM   1560 HG12 VAL B 259      -2.924   0.198   3.244  1.00  1.13           H  \\nATOM   1561 HG13 VAL B 259      -4.175  -0.988   2.871  1.00  0.99           H  \\nATOM   1562 HG21 VAL B 259      -0.880  -0.769   2.070  1.00  1.08           H  \\nATOM   1563 HG22 VAL B 259      -0.965  -2.499   1.734  1.00  1.09           H  \\nATOM   1564 HG23 VAL B 259      -2.271  -1.434   1.212  1.00  1.05           H  \\nATOM   1565  N   VAL B 260      -2.321  -1.608   6.641  1.00  0.24           N  \\nATOM   1566  CA  VAL B 260      -2.918  -2.163   7.897  1.00  0.25           C  \\nATOM   1567  C   VAL B 260      -4.242  -1.420   8.193  1.00  0.24           C  \\nATOM   1568  O   VAL B 260      -4.246  -0.205   8.200  1.00  0.24           O  \\nATOM   1569  CB  VAL B 260      -1.940  -1.919   9.051  1.00  0.26           C  \\nATOM   1570  CG1 VAL B 260      -2.518  -2.485  10.349  1.00  0.32           C  \\nATOM   1571  CG2 VAL B 260      -0.610  -2.614   8.746  1.00  0.28           C  \\nATOM   1572  H   VAL B 260      -2.294  -0.639   6.508  1.00  0.25           H  \\nATOM   1573  HA  VAL B 260      -3.077  -3.216   7.785  1.00  0.26           H  \\nATOM   1574  HB  VAL B 260      -1.774  -0.858   9.165  1.00  0.30           H  \\nATOM   1575 HG11 VAL B 260      -2.716  -3.538  10.225  1.00  1.01           H  \\nATOM   1576 HG12 VAL B 260      -1.807  -2.345  11.148  1.00  1.11           H  \\nATOM   1577 HG13 VAL B 260      -3.434  -1.971  10.592  1.00  1.10           H  \\nATOM   1578 HG21 VAL B 260      -0.803  -3.616   8.390  1.00  1.04           H  \\nATOM   1579 HG22 VAL B 260      -0.080  -2.058   7.988  1.00  1.04           H  \\nATOM   1580 HG23 VAL B 260      -0.013  -2.659   9.644  1.00  1.08           H  \\nATOM   1581  N   PRO B 261      -5.338  -2.130   8.442  1.00  0.27           N  \\nATOM   1582  CA  PRO B 261      -6.612  -1.453   8.746  1.00  0.28           C  \\nATOM   1583  C   PRO B 261      -6.427  -0.524   9.953  1.00  0.26           C  \\nATOM   1584  O   PRO B 261      -5.782  -0.873  10.921  1.00  0.25           O  \\nATOM   1585  CB  PRO B 261      -7.612  -2.590   9.062  1.00  0.33           C  \\nATOM   1586  CG  PRO B 261      -6.881  -3.937   8.803  1.00  0.37           C  \\nATOM   1587  CD  PRO B 261      -5.415  -3.612   8.436  1.00  0.31           C  \\nATOM   1588  HA  PRO B 261      -6.948  -0.891   7.889  1.00  0.30           H  \\nATOM   1589  HB2 PRO B 261      -7.930  -2.535  10.099  1.00  0.34           H  \\nATOM   1590  HB3 PRO B 261      -8.477  -2.516   8.415  1.00  0.36           H  \\nATOM   1591  HG2 PRO B 261      -6.915  -4.553   9.694  1.00  0.40           H  \\nATOM   1592  HG3 PRO B 261      -7.353  -4.462   7.982  1.00  0.42           H  \\nATOM   1593  HD2 PRO B 261      -4.740  -4.029   9.174  1.00  0.30           H  \\nATOM   1594  HD3 PRO B 261      -5.183  -3.992   7.451  1.00  0.34           H  \\nATOM   1595  N   ARG B 262      -6.995   0.648   9.907  1.00  0.29           N  \\nATOM   1596  CA  ARG B 262      -6.850   1.583  11.055  1.00  0.29           C  \\nATOM   1597  C   ARG B 262      -7.385   0.912  12.330  1.00  0.30           C  \\nATOM   1598  O   ARG B 262      -6.971   1.221  13.429  1.00  0.31           O  \\nATOM   1599  CB  ARG B 262      -7.642   2.864  10.772  1.00  0.36           C  \\nATOM   1600  CG  ARG B 262      -7.698   3.731  12.037  1.00  0.54           C  \\nATOM   1601  CD  ARG B 262      -8.015   5.182  11.662  1.00  1.02           C  \\nATOM   1602  NE  ARG B 262      -8.341   5.955  12.892  1.00  1.61           N  \\nATOM   1603  CZ  ARG B 262      -8.333   7.260  12.864  1.00  2.05           C  \\nATOM   1604  NH1 ARG B 262      -8.024   7.888  11.763  1.00  2.30           N  \\nATOM   1605  NH2 ARG B 262      -8.628   7.937  13.939  1.00  2.87           N  \\nATOM   1606  H   ARG B 262      -7.518   0.911   9.122  1.00  0.34           H  \\nATOM   1607  HA  ARG B 262      -5.806   1.832  11.184  1.00  0.28           H  \\nATOM   1608  HB2 ARG B 262      -7.160   3.413   9.975  1.00  0.62           H  \\nATOM   1609  HB3 ARG B 262      -8.647   2.605  10.471  1.00  0.61           H  \\nATOM   1610  HG2 ARG B 262      -8.468   3.351  12.693  1.00  0.99           H  \\nATOM   1611  HG3 ARG B 262      -6.744   3.694  12.544  1.00  1.09           H  \\nATOM   1612  HD2 ARG B 262      -7.155   5.622  11.175  1.00  1.63           H  \\nATOM   1613  HD3 ARG B 262      -8.860   5.204  10.990  1.00  1.51           H  \\nATOM   1614  HE  ARG B 262      -8.566   5.484  13.721  1.00  2.21           H  \\nATOM   1615 HH11 ARG B 262      -7.794   7.369  10.938  1.00  2.22           H  \\nATOM   1616 HH12 ARG B 262      -8.016   8.888  11.741  1.00  2.98           H  \\nATOM   1617 HH21 ARG B 262      -8.862   7.456  14.785  1.00  3.29           H  \\nATOM   1618 HH22 ARG B 262      -8.621   8.936  13.919  1.00  3.33           H  \\nATOM   1619  N   ARG B 263      -8.313   0.004  12.182  1.00  0.33           N  \\nATOM   1620  CA  ARG B 263      -8.898  -0.691  13.372  1.00  0.38           C  \\nATOM   1621  C   ARG B 263      -7.852  -1.608  14.022  1.00  0.36           C  \\nATOM   1622  O   ARG B 263      -8.034  -2.062  15.135  1.00  0.41           O  \\nATOM   1623  CB  ARG B 263     -10.100  -1.547  12.916  1.00  0.46           C  \\nATOM   1624  CG  ARG B 263     -11.415  -0.765  13.035  1.00  1.41           C  \\nATOM   1625  CD  ARG B 263     -12.582  -1.725  12.791  1.00  1.72           C  \\nATOM   1626  NE  ARG B 263     -13.824  -0.954  12.517  1.00  2.30           N  \\nATOM   1627  CZ  ARG B 263     -14.843  -1.551  11.963  1.00  2.72           C  \\nATOM   1628  NH1 ARG B 263     -14.759  -2.814  11.638  1.00  2.73           N  \\nATOM   1629  NH2 ARG B 263     -15.943  -0.889  11.730  1.00  3.63           N  \\nATOM   1630  H   ARG B 263      -8.635  -0.216  11.285  1.00  0.36           H  \\nATOM   1631  HA  ARG B 263      -9.221   0.043  14.093  1.00  0.41           H  \\nATOM   1632  HB2 ARG B 263      -9.956  -1.836  11.887  1.00  1.07           H  \\nATOM   1633  HB3 ARG B 263     -10.171  -2.440  13.525  1.00  1.08           H  \\nATOM   1634  HG2 ARG B 263     -11.499  -0.342  14.026  1.00  2.07           H  \\nATOM   1635  HG3 ARG B 263     -11.437   0.024  12.299  1.00  2.05           H  \\nATOM   1636  HD2 ARG B 263     -12.358  -2.357  11.941  1.00  1.96           H  \\nATOM   1637  HD3 ARG B 263     -12.731  -2.339  13.666  1.00  2.28           H  \\nATOM   1638  HE  ARG B 263     -13.878  -0.006  12.755  1.00  2.81           H  \\nATOM   1639 HH11 ARG B 263     -13.915  -3.320  11.815  1.00  2.58           H  \\nATOM   1640 HH12 ARG B 263     -15.538  -3.274  11.213  1.00  3.29           H  \\nATOM   1641 HH21 ARG B 263     -16.005   0.078  11.976  1.00  4.10           H  \\nATOM   1642 HH22 ARG B 263     -16.722  -1.349  11.305  1.00  4.04           H  \\nATOM   1643  N   LYS B 264      -6.771  -1.893  13.341  1.00  0.34           N  \\nATOM   1644  CA  LYS B 264      -5.722  -2.795  13.917  1.00  0.38           C  \\nATOM   1645  C   LYS B 264      -4.424  -2.013  14.055  1.00  0.32           C  \\nATOM   1646  O   LYS B 264      -3.342  -2.570  14.101  1.00  0.34           O  \\nATOM   1647  CB  LYS B 264      -5.514  -3.994  12.987  1.00  0.49           C  \\nATOM   1648  CG  LYS B 264      -6.851  -4.721  12.792  1.00  0.78           C  \\nATOM   1649  CD  LYS B 264      -6.606  -6.140  12.273  1.00  1.17           C  \\nATOM   1650  CE  LYS B 264      -7.940  -6.885  12.201  1.00  1.37           C  \\nATOM   1651  NZ  LYS B 264      -7.744  -8.194  11.516  1.00  2.07           N  \\nATOM   1652  H   LYS B 264      -6.652  -1.521  12.442  1.00  0.33           H  \\nATOM   1653  HA  LYS B 264      -6.023  -3.151  14.894  1.00  0.43           H  \\nATOM   1654  HB2 LYS B 264      -5.147  -3.651  12.030  1.00  0.87           H  \\nATOM   1655  HB3 LYS B 264      -4.797  -4.671  13.427  1.00  0.81           H  \\nATOM   1656  HG2 LYS B 264      -7.375  -4.773  13.737  1.00  1.31           H  \\nATOM   1657  HG3 LYS B 264      -7.452  -4.179  12.078  1.00  1.39           H  \\nATOM   1658  HD2 LYS B 264      -6.162  -6.094  11.290  1.00  1.77           H  \\nATOM   1659  HD3 LYS B 264      -5.942  -6.661  12.946  1.00  1.73           H  \\nATOM   1660  HE2 LYS B 264      -8.313  -7.054  13.200  1.00  1.74           H  \\nATOM   1661  HE3 LYS B 264      -8.653  -6.293  11.646  1.00  1.85           H  \\nATOM   1662  HZ1 LYS B 264      -6.770  -8.525  11.675  1.00  2.62           H  \\nATOM   1663  HZ2 LYS B 264      -8.414  -8.889  11.901  1.00  2.46           H  \\nATOM   1664  HZ3 LYS B 264      -7.913  -8.081  10.497  1.00  2.43           H  \\nATOM   1665  N   ALA B 265      -4.537  -0.714  14.141  1.00  0.27           N  \\nATOM   1666  CA  ALA B 265      -3.337   0.151  14.293  1.00  0.23           C  \\nATOM   1667  C   ALA B 265      -3.653   1.255  15.303  1.00  0.24           C  \\nATOM   1668  O   ALA B 265      -4.801   1.577  15.545  1.00  0.28           O  \\nATOM   1669  CB  ALA B 265      -2.982   0.776  12.942  1.00  0.23           C  \\nATOM   1670  H   ALA B 265      -5.428  -0.306  14.113  1.00  0.28           H  \\nATOM   1671  HA  ALA B 265      -2.506  -0.435  14.649  1.00  0.25           H  \\nATOM   1672  HB1 ALA B 265      -3.875   1.179  12.486  1.00  1.03           H  \\nATOM   1673  HB2 ALA B 265      -2.264   1.568  13.088  1.00  1.04           H  \\nATOM   1674  HB3 ALA B 265      -2.559   0.019  12.297  1.00  1.04           H  \\nATOM   1675  N   LYS B 266      -2.647   1.839  15.897  1.00  0.22           N  \\nATOM   1676  CA  LYS B 266      -2.875   2.927  16.900  1.00  0.25           C  \\nATOM   1677  C   LYS B 266      -1.856   4.037  16.653  1.00  0.25           C  \\nATOM   1678  O   LYS B 266      -0.678   3.785  16.533  1.00  0.23           O  \\nATOM   1679  CB  LYS B 266      -2.698   2.363  18.316  1.00  0.30           C  \\nATOM   1680  CG  LYS B 266      -3.716   1.240  18.557  1.00  0.39           C  \\nATOM   1681  CD  LYS B 266      -3.902   1.018  20.062  1.00  0.47           C  \\nATOM   1682  CE  LYS B 266      -2.541   0.794  20.726  1.00  1.10           C  \\nATOM   1683  NZ  LYS B 266      -2.747   0.314  22.122  1.00  2.06           N  \\nATOM   1684  H   LYS B 266      -1.731   1.560  15.684  1.00  0.21           H  \\nATOM   1685  HA  LYS B 266      -3.874   3.329  16.792  1.00  0.28           H  \\nATOM   1686  HB2 LYS B 266      -1.697   1.969  18.423  1.00  0.34           H  \\nATOM   1687  HB3 LYS B 266      -2.853   3.152  19.038  1.00  0.39           H  \\nATOM   1688  HG2 LYS B 266      -4.666   1.511  18.117  1.00  0.51           H  \\nATOM   1689  HG3 LYS B 266      -3.359   0.328  18.103  1.00  0.46           H  \\nATOM   1690  HD2 LYS B 266      -4.375   1.885  20.498  1.00  0.88           H  \\nATOM   1691  HD3 LYS B 266      -4.523   0.150  20.223  1.00  1.16           H  \\nATOM   1692  HE2 LYS B 266      -1.985   0.055  20.168  1.00  1.55           H  \\nATOM   1693  HE3 LYS B 266      -1.990   1.723  20.743  1.00  1.60           H  \\nATOM   1694  HZ1 LYS B 266      -3.670   0.645  22.469  1.00  2.52           H  \\nATOM   1695  HZ2 LYS B 266      -2.722  -0.727  22.137  1.00  2.59           H  \\nATOM   1696  HZ3 LYS B 266      -1.995   0.689  22.732  1.00  2.49           H  \\nATOM   1697  N   ILE B 267      -2.302   5.261  16.550  1.00  0.28           N  \\nATOM   1698  CA  ILE B 267      -1.355   6.387  16.280  1.00  0.31           C  \\nATOM   1699  C   ILE B 267      -0.786   6.919  17.601  1.00  0.36           C  \\nATOM   1700  O   ILE B 267      -1.483   7.533  18.383  1.00  0.42           O  \\nATOM   1701  CB  ILE B 267      -2.091   7.531  15.547  1.00  0.36           C  \\nATOM   1702  CG1 ILE B 267      -3.062   6.977  14.480  1.00  0.36           C  \\nATOM   1703  CG2 ILE B 267      -1.072   8.463  14.878  1.00  0.41           C  \\nATOM   1704  CD1 ILE B 267      -2.295   6.447  13.262  1.00  0.41           C  \\nATOM   1705  H   ILE B 267      -3.262   5.440  16.632  1.00  0.31           H  \\nATOM   1706  HA  ILE B 267      -0.540   6.031  15.669  1.00  0.28           H  \\nATOM   1707  HB  ILE B 267      -2.657   8.104  16.270  1.00  0.41           H  \\nATOM   1708 HG12 ILE B 267      -3.656   6.182  14.901  1.00  0.40           H  \\nATOM   1709 HG13 ILE B 267      -3.719   7.772  14.160  1.00  0.43           H  \\nATOM   1710 HG21 ILE B 267      -0.361   7.883  14.310  1.00  1.05           H  \\nATOM   1711 HG22 ILE B 267      -1.589   9.143  14.215  1.00  1.05           H  \\nATOM   1712 HG23 ILE B 267      -0.551   9.029  15.637  1.00  0.98           H  \\nATOM   1713 HD11 ILE B 267      -1.468   5.837  13.586  1.00  1.10           H  \\nATOM   1714 HD12 ILE B 267      -2.960   5.853  12.651  1.00  1.16           H  \\nATOM   1715 HD13 ILE B 267      -1.923   7.278  12.680  1.00  1.06           H  \\nATOM   1716  N   ILE B 268       0.486   6.699  17.841  1.00  0.36           N  \\nATOM   1717  CA  ILE B 268       1.134   7.201  19.097  1.00  0.43           C  \\nATOM   1718  C   ILE B 268       2.072   8.353  18.723  1.00  0.47           C  \\nATOM   1719  O   ILE B 268       2.543   8.439  17.608  1.00  0.44           O  \\nATOM   1720  CB  ILE B 268       1.950   6.077  19.768  1.00  0.44           C  \\nATOM   1721  CG1 ILE B 268       1.157   4.751  19.787  1.00  0.43           C  \\nATOM   1722  CG2 ILE B 268       2.322   6.479  21.204  1.00  0.51           C  \\nATOM   1723  CD1 ILE B 268       0.061   4.779  20.861  1.00  0.53           C  \\nATOM   1724  H   ILE B 268       1.025   6.212  17.182  1.00  0.34           H  \\nATOM   1725  HA  ILE B 268       0.383   7.570  19.779  1.00  0.48           H  \\nATOM   1726  HB  ILE B 268       2.863   5.933  19.208  1.00  0.43           H  \\nATOM   1727 HG12 ILE B 268       0.708   4.581  18.822  1.00  0.42           H  \\nATOM   1728 HG13 ILE B 268       1.838   3.943  20.001  1.00  0.48           H  \\nATOM   1729 HG21 ILE B 268       1.466   6.915  21.696  1.00  1.04           H  \\nATOM   1730 HG22 ILE B 268       2.642   5.603  21.750  1.00  1.18           H  \\nATOM   1731 HG23 ILE B 268       3.127   7.198  21.177  1.00  1.13           H  \\nATOM   1732 HD11 ILE B 268      -0.403   5.750  20.890  1.00  1.10           H  \\nATOM   1733 HD12 ILE B 268      -0.685   4.033  20.630  1.00  1.19           H  \\nATOM   1734 HD13 ILE B 268       0.499   4.561  21.825  1.00  1.07           H  \\nATOM   1735  N   ARG B 269       2.332   9.247  19.639  1.00  0.56           N  \\nATOM   1736  CA  ARG B 269       3.227  10.408  19.334  1.00  0.62           C  \\nATOM   1737  C   ARG B 269       4.660  10.119  19.786  1.00  0.63           C  \\nATOM   1738  O   ARG B 269       4.893   9.334  20.683  1.00  0.66           O  \\nATOM   1739  CB  ARG B 269       2.705  11.649  20.063  1.00  0.75           C  \\nATOM   1740  CG  ARG B 269       1.178  11.717  19.912  1.00  1.41           C  \\nATOM   1741  CD  ARG B 269       0.658  13.118  20.269  1.00  1.62           C  \\nATOM   1742  NE  ARG B 269       0.523  13.233  21.749  1.00  2.41           N  \\nATOM   1743  CZ  ARG B 269       0.329  14.401  22.297  1.00  3.08           C  \\nATOM   1744  NH1 ARG B 269       0.244  15.467  21.548  1.00  3.24           N  \\nATOM   1745  NH2 ARG B 269       0.212  14.503  23.593  1.00  4.06           N  \\nATOM   1746  H   ARG B 269       1.931   9.160  20.527  1.00  0.61           H  \\nATOM   1747  HA  ARG B 269       3.225  10.602  18.268  1.00  0.61           H  \\nATOM   1748  HB2 ARG B 269       2.964  11.588  21.112  1.00  1.48           H  \\nATOM   1749  HB3 ARG B 269       3.155  12.530  19.631  1.00  1.22           H  \\nATOM   1750  HG2 ARG B 269       0.908  11.486  18.892  1.00  2.00           H  \\nATOM   1751  HG3 ARG B 269       0.725  10.993  20.571  1.00  2.12           H  \\nATOM   1752  HD2 ARG B 269       1.339  13.871  19.913  1.00  1.79           H  \\nATOM   1753  HD3 ARG B 269      -0.308  13.267  19.806  1.00  2.02           H  \\nATOM   1754  HE  ARG B 269       0.583  12.431  22.310  1.00  2.88           H  \\nATOM   1755 HH11 ARG B 269       0.329  15.389  20.555  1.00  2.92           H  \\nATOM   1756 HH12 ARG B 269       0.093  16.362  21.968  1.00  4.00           H  \\nATOM   1757 HH21 ARG B 269       0.273  13.686  24.166  1.00  4.40           H  \\nATOM   1758 HH22 ARG B 269       0.062  15.398  24.012  1.00  4.66           H  \\nATOM   1759  N   ASP B 270       5.622  10.770  19.174  1.00  0.63           N  \\nATOM   1760  CA  ASP B 270       7.060  10.572  19.559  1.00  0.67           C  \\nATOM   1761  C   ASP B 270       7.687  11.932  19.866  1.00  1.08           C  \\nATOM   1762  O   ASP B 270       8.646  11.963  20.620  1.00  1.72           O  \\nATOM   1763  CB  ASP B 270       7.821   9.935  18.398  1.00  0.93           C  \\nATOM   1764  CG  ASP B 270       7.295   8.525  18.145  1.00  1.53           C  \\nATOM   1765  OD1 ASP B 270       6.127   8.398  17.814  1.00  1.94           O  \\nATOM   1766  OD2 ASP B 270       8.070   7.598  18.289  1.00  2.24           O  \\nATOM   1767  OXT ASP B 270       7.203  12.919  19.338  1.00  1.69           O  \\nATOM   1768  H   ASP B 270       5.395  11.402  18.457  1.00  0.63           H  \\nATOM   1769  HA  ASP B 270       7.134   9.936  20.432  1.00  1.03           H  \\nATOM   1770  HB2 ASP B 270       7.688  10.533  17.513  1.00  1.26           H  \\nATOM   1771  HB3 ASP B 270       8.872   9.885  18.643  1.00  0.93           H  \\nTER    1772      ASP B 270                                                      \\nMASTER      127    0    0    2   10    0    0    6  866    2    0    8          \\nEND                                                                             \\n\",\"pdb\");\n",
              "\tviewer_16982960601334612.zoomTo();\n",
              "\tviewer_16982960601334612.setBackgroundColor(\"white\");\n",
              "\tviewer_16982960601334612.setStyle({\"cartoon\": {\"color\": \"purple\"}});\n",
              "viewer_16982960601334612.render();\n",
              "});\n",
              "</script>"
            ]
          },
          "metadata": {}
        }
      ]
    },
    {
      "cell_type": "markdown",
      "metadata": {
        "id": "XrbMO9TiTtqk"
      },
      "source": [
        "## Downloading MD trajectories"
      ]
    },
    {
      "cell_type": "code",
      "metadata": {
        "id": "YlVIRxAaTtOd",
        "outputId": "066bf9ff-f0de-4628-f942-71483c000e96",
        "colab": {
          "base_uri": "https://localhost:8080/"
        }
      },
      "source": [
        "#Here we copy to our Colab instance the trajectory files for the monomer and dimer\n",
        "!wget https://github.com/pb3lab/ibm3202/raw/master/files/md_files/1ihv_dimer_protPBC.xtc\n",
        "!wget https://github.com/pb3lab/ibm3202/raw/master/files/md_files/1ihv_mon_protPBC.xtc\n",
        "!wget https://github.com/pb3lab/ibm3202/raw/master/files/md_files/1ihv_mon_protPBC.gro\n",
        "!wget https://github.com/pb3lab/ibm3202/raw/master/files/md_files/1ihv_dimer_protPBC.gro\n"
      ],
      "execution_count": null,
      "outputs": [
        {
          "output_type": "stream",
          "name": "stdout",
          "text": [
            "--2023-10-26 04:54:20--  https://github.com/pb3lab/ibm3202/raw/master/files/md_files/1ihv_dimer_protPBC.xtc\n",
            "Resolving github.com (github.com)... 140.82.113.3\n",
            "Connecting to github.com (github.com)|140.82.113.3|:443... connected.\n",
            "HTTP request sent, awaiting response... 302 Found\n",
            "Location: https://raw.githubusercontent.com/pb3lab/ibm3202/master/files/md_files/1ihv_dimer_protPBC.xtc [following]\n",
            "--2023-10-26 04:54:20--  https://raw.githubusercontent.com/pb3lab/ibm3202/master/files/md_files/1ihv_dimer_protPBC.xtc\n",
            "Resolving raw.githubusercontent.com (raw.githubusercontent.com)... 185.199.108.133, 185.199.109.133, 185.199.110.133, ...\n",
            "Connecting to raw.githubusercontent.com (raw.githubusercontent.com)|185.199.108.133|:443... connected.\n",
            "HTTP request sent, awaiting response... 200 OK\n",
            "Length: 6809220 (6.5M) [application/octet-stream]\n",
            "Saving to: ‘1ihv_dimer_protPBC.xtc’\n",
            "\n",
            "1ihv_dimer_protPBC. 100%[===================>]   6.49M  --.-KB/s    in 0.1s    \n",
            "\n",
            "2023-10-26 04:54:20 (58.6 MB/s) - ‘1ihv_dimer_protPBC.xtc’ saved [6809220/6809220]\n",
            "\n",
            "--2023-10-26 04:54:20--  https://github.com/pb3lab/ibm3202/raw/master/files/md_files/1ihv_mon_protPBC.xtc\n",
            "Resolving github.com (github.com)... 140.82.112.3\n",
            "Connecting to github.com (github.com)|140.82.112.3|:443... connected.\n",
            "HTTP request sent, awaiting response... 302 Found\n",
            "Location: https://raw.githubusercontent.com/pb3lab/ibm3202/master/files/md_files/1ihv_mon_protPBC.xtc [following]\n",
            "--2023-10-26 04:54:21--  https://raw.githubusercontent.com/pb3lab/ibm3202/master/files/md_files/1ihv_mon_protPBC.xtc\n",
            "Resolving raw.githubusercontent.com (raw.githubusercontent.com)... 185.199.108.133, 185.199.109.133, 185.199.110.133, ...\n",
            "Connecting to raw.githubusercontent.com (raw.githubusercontent.com)|185.199.108.133|:443... connected.\n",
            "HTTP request sent, awaiting response... 200 OK\n",
            "Length: 3432768 (3.3M) [application/octet-stream]\n",
            "Saving to: ‘1ihv_mon_protPBC.xtc’\n",
            "\n",
            "1ihv_mon_protPBC.xt 100%[===================>]   3.27M  --.-KB/s    in 0.09s   \n",
            "\n",
            "2023-10-26 04:54:21 (38.0 MB/s) - ‘1ihv_mon_protPBC.xtc’ saved [3432768/3432768]\n",
            "\n",
            "--2023-10-26 04:54:21--  https://github.com/pb3lab/ibm3202/raw/master/files/md_files/1ihv_mon_protPBC.gro\n",
            "Resolving github.com (github.com)... 140.82.114.3\n",
            "Connecting to github.com (github.com)|140.82.114.3|:443... connected.\n",
            "HTTP request sent, awaiting response... 302 Found\n",
            "Location: https://raw.githubusercontent.com/pb3lab/ibm3202/master/files/md_files/1ihv_mon_protPBC.gro [following]\n",
            "--2023-10-26 04:54:21--  https://raw.githubusercontent.com/pb3lab/ibm3202/master/files/md_files/1ihv_mon_protPBC.gro\n",
            "Resolving raw.githubusercontent.com (raw.githubusercontent.com)... 185.199.108.133, 185.199.109.133, 185.199.110.133, ...\n",
            "Connecting to raw.githubusercontent.com (raw.githubusercontent.com)|185.199.108.133|:443... connected.\n",
            "HTTP request sent, awaiting response... 200 OK\n",
            "Length: 40029 (39K) [text/plain]\n",
            "Saving to: ‘1ihv_mon_protPBC.gro’\n",
            "\n",
            "1ihv_mon_protPBC.gr 100%[===================>]  39.09K  --.-KB/s    in 0.01s   \n",
            "\n",
            "2023-10-26 04:54:22 (3.23 MB/s) - ‘1ihv_mon_protPBC.gro’ saved [40029/40029]\n",
            "\n",
            "--2023-10-26 04:54:22--  https://github.com/pb3lab/ibm3202/raw/master/files/md_files/1ihv_dimer_protPBC.gro\n",
            "Resolving github.com (github.com)... 140.82.112.4\n",
            "Connecting to github.com (github.com)|140.82.112.4|:443... connected.\n",
            "HTTP request sent, awaiting response... 302 Found\n",
            "Location: https://raw.githubusercontent.com/pb3lab/ibm3202/master/files/md_files/1ihv_dimer_protPBC.gro [following]\n",
            "--2023-10-26 04:54:22--  https://raw.githubusercontent.com/pb3lab/ibm3202/master/files/md_files/1ihv_dimer_protPBC.gro\n",
            "Resolving raw.githubusercontent.com (raw.githubusercontent.com)... 185.199.111.133, 185.199.110.133, 185.199.109.133, ...\n",
            "Connecting to raw.githubusercontent.com (raw.githubusercontent.com)|185.199.111.133|:443... connected.\n",
            "HTTP request sent, awaiting response... 200 OK\n",
            "Length: 79952 (78K) [text/plain]\n",
            "Saving to: ‘1ihv_dimer_protPBC.gro’\n",
            "\n",
            "1ihv_dimer_protPBC. 100%[===================>]  78.08K  --.-KB/s    in 0.02s   \n",
            "\n",
            "2023-10-26 04:54:22 (3.07 MB/s) - ‘1ihv_dimer_protPBC.gro’ saved [79952/79952]\n",
            "\n"
          ]
        }
      ]
    },
    {
      "cell_type": "markdown",
      "metadata": {
        "id": "un-RB68MxkiC"
      },
      "source": [
        "#Part I – Calculating $RMSD$ and $RMSF$"
      ]
    },
    {
      "cell_type": "markdown",
      "metadata": {
        "id": "Fs9RilbxLnd-"
      },
      "source": [
        "## I.1 - RMSD\n"
      ]
    },
    {
      "cell_type": "markdown",
      "metadata": {
        "id": "-KzUKdq1ViPt"
      },
      "source": [
        "!!!!!!!!!!!!!!!!!!!!!!!!!!!!!!!!!!!!!!!!!!!!!!!!!!!!!!!!!!!!!!!!!!!!!!!!!!!!!!!!!!!!!!!!!!!!!!!!!!!!!!!!!!!!!!!!!!!!!!!!!!!!!!!!!!!!!!!!!!!!!!!!!!!!!!!!!!!!!!!!!!!!!!!!\n",
        "\n",
        "\n",
        "\n",
        "Please note that the following cells are part of the tutorial of MDanalysis available [here](https://userguide.mdanalysis.org/stable/examples/analysis/alignment_and_rms/aligning_trajectory_to_frame.html)\n",
        "\n",
        "!!!!!!!!!!!!!!!!!!!!!!!!!!!!!!!!!!!!!!!!!!!!!!!!!!!!!!!!!!!!!!!!!!!!!!!!!!!!!!!!!!!!!!!!!!!!!!!!!!!!!!!!!!!!!!!!!!!!!!!!!!!!!!!!!!!!!!!!!!!!!!!!!!!!!!!!!!!!!!!!!!!!!!!!\n",
        "\n",
        "\n",
        "© Copyright 2019-2020, Lily Wang, Irfan Alibay, Rocco Meli, Mieczyslaw Torchala, Yuxuan Zhuang, Richard J. Gowers, and Oliver Beckstein.\n",
        "\n",
        "\n",
        "\n"
      ]
    },
    {
      "cell_type": "markdown",
      "metadata": {
        "id": "stqGJXmJx-Hg"
      },
      "source": [
        "### I.1A - Calculating $RMSD$ against a reference frame"
      ]
    },
    {
      "cell_type": "code",
      "metadata": {
        "id": "vEJFOLUoRgIt"
      },
      "source": [
        "import MDAnalysis as mda\n",
        "from MDAnalysis.analysis import align, rms"
      ],
      "execution_count": null,
      "outputs": []
    },
    {
      "cell_type": "markdown",
      "metadata": {
        "id": "xzb5tzSoRjIh"
      },
      "source": [
        "First we need to load our trajectory files onto MDanalysis. This is done by creating an instance of an **Universe** object."
      ]
    },
    {
      "cell_type": "code",
      "metadata": {
        "id": "yDJzFxXwRa2m"
      },
      "source": [
        "#Here we create two Universes each containing the same trajectory of the monomeric trajectory,\n",
        "#one called mobile and the other ref which will be used as reference\n",
        "mobile = mda.Universe(\"/content/1ihv_mon_protPBC.gro\", \"/content/1ihv_mon_protPBC.xtc\")\n",
        "ref = mda.Universe(\"/content/1ihv_mon_protPBC.gro\", \"/content/1ihv_mon_protPBC.xtc\")"
      ],
      "execution_count": null,
      "outputs": []
    },
    {
      "cell_type": "markdown",
      "metadata": {
        "id": "zbO2JjZMWIle"
      },
      "source": [
        "While `align.alignto` aligns single structures, or a frame of a trajectory, `align.AlignTraj` efficiently aligns an entire trajectory to a reference.\n",
        "\n",
        "We first check the $RMSD$ of our unaligned trajectory so we can compare results later. The code below sets the `mobile` trajectory to the last frame by indexing the last timestep, `ref` to the first frame by indexing the first timestep, and computes the root mean squared deviation between the $\\alpha$-carbon positions."
      ]
    },
    {
      "cell_type": "code",
      "metadata": {
        "id": "iKg2G5eqVgmV",
        "outputId": "0dedf10d-c821-4f1b-f04a-7d2215d6feb7",
        "colab": {
          "base_uri": "https://localhost:8080/"
        }
      },
      "source": [
        "mobile.trajectory[-1]  # set mobile trajectory to last frame\n",
        "ref.trajectory[0]  # set reference trajectory to first frame\n",
        "\n",
        "mobile_ca = mobile.select_atoms('name CA')\n",
        "ref_ca = ref.select_atoms('name CA')\n",
        "rms.rmsd(mobile_ca.positions, ref_ca.positions, superposition=False)"
      ],
      "execution_count": null,
      "outputs": [
        {
          "output_type": "execute_result",
          "data": {
            "text/plain": [
              "12.53863354912546"
            ]
          },
          "metadata": {},
          "execution_count": 9
        }
      ]
    },
    {
      "cell_type": "markdown",
      "metadata": {
        "id": "LoF4L3c8WSQn"
      },
      "source": [
        "Now we can align the trajectory. We have already set ref to the first frame. In the cell below, we load the positions of the trajectory into memory so we can modify the trajectory in Python."
      ]
    },
    {
      "cell_type": "code",
      "metadata": {
        "id": "1ACJSeYIWBB-"
      },
      "source": [
        "aligner = align.AlignTraj(mobile, ref, select='name CA', in_memory=True).run()"
      ],
      "execution_count": null,
      "outputs": []
    },
    {
      "cell_type": "code",
      "metadata": {
        "id": "GWzSwTmIWuqE",
        "outputId": "4405a94f-d14f-4923-8d54-6311a26b389a",
        "colab": {
          "base_uri": "https://localhost:8080/"
        }
      },
      "source": [
        "mobile.trajectory[-1]  # set mobile trajectory to last frame\n",
        "ref.trajectory[0]  # set reference trajectory to first frame\n",
        "\n",
        "mobile_ca = mobile.select_atoms('name CA')\n",
        "ref_ca = ref.select_atoms('name CA')\n",
        "rms.rmsd(mobile_ca.positions, ref_ca.positions, superposition=False)"
      ],
      "execution_count": null,
      "outputs": [
        {
          "output_type": "execute_result",
          "data": {
            "text/plain": [
              "2.075469823276649"
            ]
          },
          "metadata": {},
          "execution_count": 11
        }
      ]
    },
    {
      "cell_type": "markdown",
      "metadata": {
        "id": "35YHo9oWyJOr"
      },
      "source": [
        "**QUESTION❓:** How much does the RMSD before and after alignment compare?"
      ]
    },
    {
      "cell_type": "markdown",
      "metadata": {
        "id": "cR3TTC3xYmN_"
      },
      "source": [
        "### I.1B - RMSD of a Universe with multiple selections over time"
      ]
    },
    {
      "cell_type": "markdown",
      "metadata": {
        "id": "npX_ww_wYzfX"
      },
      "source": [
        "It is more efficient to use the MDAnalysis.analysis.rms.RMSD class to calculate the $RMSD$ of an entire trajectory to a single reference point.\n",
        "\n",
        "The rms.RMSD class first performs a rotational and translational alignment of the target trajectory to the reference universe at ref_frame, using the atoms in select to determine the transformation. Then, without further alignment, the RMSD of each group in the `groupselections` argument is calculated.\n",
        "\n",
        "[Source](https://userguide.mdanalysis.org/stable/examples/analysis/alignment_and_rms/rmsd.html)"
      ]
    },
    {
      "cell_type": "code",
      "metadata": {
        "id": "uZWk72RJKiSm"
      },
      "source": [
        "#Here we create two Universes each containing the same trajectory of the monomeric trajectory,\n",
        "#one called mobile and the other ref which will be used as reference\n",
        "monomer_mobile = mda.Universe(\"/content/1ihv_mon_protPBC.gro\", \"/content/1ihv_mon_protPBC.xtc\")\n",
        "monomer_ref = mda.Universe(\"/content/1ihv_mon_protPBC.gro\", \"/content/1ihv_mon_protPBC.xtc\")"
      ],
      "execution_count": null,
      "outputs": []
    },
    {
      "cell_type": "code",
      "metadata": {
        "id": "2waYLDMEaOOC",
        "outputId": "57211cd8-5987-4a52-96cb-cbfed71d6608",
        "colab": {
          "base_uri": "https://localhost:8080/"
        }
      },
      "source": [
        "rms.rmsd(monomer_mobile.select_atoms('backbone').positions,  # coordinates to align\n",
        "         monomer_ref.select_atoms('backbone').positions,  # reference coordinates\n",
        "         center=True,  # subtract the center of geometry\n",
        "         superposition=True)  # superimpose coordinates"
      ],
      "execution_count": null,
      "outputs": [
        {
          "output_type": "execute_result",
          "data": {
            "text/plain": [
              "0.0"
            ]
          },
          "metadata": {},
          "execution_count": 13
        }
      ]
    },
    {
      "cell_type": "code",
      "metadata": {
        "id": "rma7_lOqY6xU"
      },
      "source": [
        "# Here we define two\n",
        "Loop1 = 'backbone and resid 227-240'\n",
        "Loop2 = 'backbone and resid 252-257'"
      ],
      "execution_count": null,
      "outputs": []
    },
    {
      "cell_type": "code",
      "metadata": {
        "id": "bEnzzaYwY-51",
        "outputId": "eb3d172a-f20a-4b3f-c384-2f6a71d7a58f",
        "colab": {
          "base_uri": "https://localhost:8080/"
        }
      },
      "source": [
        "#Here we calculate the RMSD\n",
        "R_rmsd = rms.RMSD(mobile,  # universe to align\n",
        "             ref,  # reference universe or atomgroup\n",
        "             select='backbone',  # group to superimpose and calculate RMSD\n",
        "             groupselections=[Loop1, Loop2],  # groups for RMSD\n",
        "             ref_frame=0)  # frame index of the reference\n",
        "R_rmsd.run()"
      ],
      "execution_count": null,
      "outputs": [
        {
          "output_type": "execute_result",
          "data": {
            "text/plain": [
              "<MDAnalysis.analysis.rms.RMSD at 0x7c4afd5954b0>"
            ]
          },
          "metadata": {},
          "execution_count": 15
        }
      ]
    },
    {
      "cell_type": "markdown",
      "metadata": {
        "id": "3SFu0u9OZDaF"
      },
      "source": [
        "The data is saved in R_rmsd.results.rmsd as an array. We can check the dimensions of the array using the *shape* attribute."
      ]
    },
    {
      "cell_type": "code",
      "metadata": {
        "id": "BX2aYBjP3KY3",
        "outputId": "4d513c42-5853-4e3c-9d5f-42ecfe015b42",
        "colab": {
          "base_uri": "https://localhost:8080/"
        }
      },
      "source": [
        "R_rmsd.results.rmsd.shape"
      ],
      "execution_count": null,
      "outputs": [
        {
          "output_type": "execute_result",
          "data": {
            "text/plain": [
              "(1001, 5)"
            ]
          },
          "metadata": {},
          "execution_count": 16
        }
      ]
    },
    {
      "cell_type": "markdown",
      "metadata": {
        "id": "F2FfhNdBZOsK"
      },
      "source": [
        "The variable `R_rmsd.results.rmsd` has a row for each timestep. The first two columns of each row are the frame index of the time step, and the time (which is guessed in trajectory formats without timesteps). The third column is $RMSD$ of the `select` argument. The last few columns are the $RMSD$ of the groups in `groupselections`."
      ]
    },
    {
      "cell_type": "markdown",
      "metadata": {
        "id": "2vu6MG0WZcfp"
      },
      "source": [
        "#### Plotting the data"
      ]
    },
    {
      "cell_type": "markdown",
      "metadata": {
        "id": "3HlzA8oUZn8m"
      },
      "source": [
        "We can easily plot this data using the common data analysis package pandas. We turn the `R_rmsd.results.rmsd` array into a DataFrame and label each column below."
      ]
    },
    {
      "cell_type": "code",
      "metadata": {
        "id": "aVCTvWdFZfhs",
        "outputId": "737a9210-0c33-4a92-9454-8e00ac744528",
        "colab": {
          "base_uri": "https://localhost:8080/",
          "height": 424
        }
      },
      "source": [
        "import pandas as pd\n",
        "df_rmsd_mono = pd.DataFrame(R_rmsd.results.rmsd,\n",
        "                  columns=['Frame', 'Time (ns)','Backbone','Loop1','Loop2'])\n",
        "\n",
        "df_rmsd_mono"
      ],
      "execution_count": null,
      "outputs": [
        {
          "output_type": "execute_result",
          "data": {
            "text/plain": [
              "       Frame  Time (ns)  Backbone     Loop1     Loop2\n",
              "0        0.0        0.0  0.000000  0.000000  0.000000\n",
              "1        1.0       20.0  1.027202  1.303960  1.022052\n",
              "2        2.0       40.0  1.034643  1.208177  0.949492\n",
              "3        3.0       60.0  1.368527  1.355505  1.808766\n",
              "4        4.0       80.0  1.215353  1.305222  1.369099\n",
              "...      ...        ...       ...       ...       ...\n",
              "996    996.0    19920.0  2.147588  1.489958  3.130420\n",
              "997    997.0    19940.0  2.096230  1.182340  3.113070\n",
              "998    998.0    19960.0  1.940044  1.556706  2.577096\n",
              "999    999.0    19980.0  2.001429  1.253154  2.882280\n",
              "1000  1000.0    20000.0  2.041019  1.539464  3.050873\n",
              "\n",
              "[1001 rows x 5 columns]"
            ],
            "text/html": [
              "\n",
              "  <div id=\"df-d2a3fb66-e8f5-4072-bea2-d706abfdfee2\" class=\"colab-df-container\">\n",
              "    <div>\n",
              "<style scoped>\n",
              "    .dataframe tbody tr th:only-of-type {\n",
              "        vertical-align: middle;\n",
              "    }\n",
              "\n",
              "    .dataframe tbody tr th {\n",
              "        vertical-align: top;\n",
              "    }\n",
              "\n",
              "    .dataframe thead th {\n",
              "        text-align: right;\n",
              "    }\n",
              "</style>\n",
              "<table border=\"1\" class=\"dataframe\">\n",
              "  <thead>\n",
              "    <tr style=\"text-align: right;\">\n",
              "      <th></th>\n",
              "      <th>Frame</th>\n",
              "      <th>Time (ns)</th>\n",
              "      <th>Backbone</th>\n",
              "      <th>Loop1</th>\n",
              "      <th>Loop2</th>\n",
              "    </tr>\n",
              "  </thead>\n",
              "  <tbody>\n",
              "    <tr>\n",
              "      <th>0</th>\n",
              "      <td>0.0</td>\n",
              "      <td>0.0</td>\n",
              "      <td>0.000000</td>\n",
              "      <td>0.000000</td>\n",
              "      <td>0.000000</td>\n",
              "    </tr>\n",
              "    <tr>\n",
              "      <th>1</th>\n",
              "      <td>1.0</td>\n",
              "      <td>20.0</td>\n",
              "      <td>1.027202</td>\n",
              "      <td>1.303960</td>\n",
              "      <td>1.022052</td>\n",
              "    </tr>\n",
              "    <tr>\n",
              "      <th>2</th>\n",
              "      <td>2.0</td>\n",
              "      <td>40.0</td>\n",
              "      <td>1.034643</td>\n",
              "      <td>1.208177</td>\n",
              "      <td>0.949492</td>\n",
              "    </tr>\n",
              "    <tr>\n",
              "      <th>3</th>\n",
              "      <td>3.0</td>\n",
              "      <td>60.0</td>\n",
              "      <td>1.368527</td>\n",
              "      <td>1.355505</td>\n",
              "      <td>1.808766</td>\n",
              "    </tr>\n",
              "    <tr>\n",
              "      <th>4</th>\n",
              "      <td>4.0</td>\n",
              "      <td>80.0</td>\n",
              "      <td>1.215353</td>\n",
              "      <td>1.305222</td>\n",
              "      <td>1.369099</td>\n",
              "    </tr>\n",
              "    <tr>\n",
              "      <th>...</th>\n",
              "      <td>...</td>\n",
              "      <td>...</td>\n",
              "      <td>...</td>\n",
              "      <td>...</td>\n",
              "      <td>...</td>\n",
              "    </tr>\n",
              "    <tr>\n",
              "      <th>996</th>\n",
              "      <td>996.0</td>\n",
              "      <td>19920.0</td>\n",
              "      <td>2.147588</td>\n",
              "      <td>1.489958</td>\n",
              "      <td>3.130420</td>\n",
              "    </tr>\n",
              "    <tr>\n",
              "      <th>997</th>\n",
              "      <td>997.0</td>\n",
              "      <td>19940.0</td>\n",
              "      <td>2.096230</td>\n",
              "      <td>1.182340</td>\n",
              "      <td>3.113070</td>\n",
              "    </tr>\n",
              "    <tr>\n",
              "      <th>998</th>\n",
              "      <td>998.0</td>\n",
              "      <td>19960.0</td>\n",
              "      <td>1.940044</td>\n",
              "      <td>1.556706</td>\n",
              "      <td>2.577096</td>\n",
              "    </tr>\n",
              "    <tr>\n",
              "      <th>999</th>\n",
              "      <td>999.0</td>\n",
              "      <td>19980.0</td>\n",
              "      <td>2.001429</td>\n",
              "      <td>1.253154</td>\n",
              "      <td>2.882280</td>\n",
              "    </tr>\n",
              "    <tr>\n",
              "      <th>1000</th>\n",
              "      <td>1000.0</td>\n",
              "      <td>20000.0</td>\n",
              "      <td>2.041019</td>\n",
              "      <td>1.539464</td>\n",
              "      <td>3.050873</td>\n",
              "    </tr>\n",
              "  </tbody>\n",
              "</table>\n",
              "<p>1001 rows × 5 columns</p>\n",
              "</div>\n",
              "    <div class=\"colab-df-buttons\">\n",
              "\n",
              "  <div class=\"colab-df-container\">\n",
              "    <button class=\"colab-df-convert\" onclick=\"convertToInteractive('df-d2a3fb66-e8f5-4072-bea2-d706abfdfee2')\"\n",
              "            title=\"Convert this dataframe to an interactive table.\"\n",
              "            style=\"display:none;\">\n",
              "\n",
              "  <svg xmlns=\"http://www.w3.org/2000/svg\" height=\"24px\" viewBox=\"0 -960 960 960\">\n",
              "    <path d=\"M120-120v-720h720v720H120Zm60-500h600v-160H180v160Zm220 220h160v-160H400v160Zm0 220h160v-160H400v160ZM180-400h160v-160H180v160Zm440 0h160v-160H620v160ZM180-180h160v-160H180v160Zm440 0h160v-160H620v160Z\"/>\n",
              "  </svg>\n",
              "    </button>\n",
              "\n",
              "  <style>\n",
              "    .colab-df-container {\n",
              "      display:flex;\n",
              "      gap: 12px;\n",
              "    }\n",
              "\n",
              "    .colab-df-convert {\n",
              "      background-color: #E8F0FE;\n",
              "      border: none;\n",
              "      border-radius: 50%;\n",
              "      cursor: pointer;\n",
              "      display: none;\n",
              "      fill: #1967D2;\n",
              "      height: 32px;\n",
              "      padding: 0 0 0 0;\n",
              "      width: 32px;\n",
              "    }\n",
              "\n",
              "    .colab-df-convert:hover {\n",
              "      background-color: #E2EBFA;\n",
              "      box-shadow: 0px 1px 2px rgba(60, 64, 67, 0.3), 0px 1px 3px 1px rgba(60, 64, 67, 0.15);\n",
              "      fill: #174EA6;\n",
              "    }\n",
              "\n",
              "    .colab-df-buttons div {\n",
              "      margin-bottom: 4px;\n",
              "    }\n",
              "\n",
              "    [theme=dark] .colab-df-convert {\n",
              "      background-color: #3B4455;\n",
              "      fill: #D2E3FC;\n",
              "    }\n",
              "\n",
              "    [theme=dark] .colab-df-convert:hover {\n",
              "      background-color: #434B5C;\n",
              "      box-shadow: 0px 1px 3px 1px rgba(0, 0, 0, 0.15);\n",
              "      filter: drop-shadow(0px 1px 2px rgba(0, 0, 0, 0.3));\n",
              "      fill: #FFFFFF;\n",
              "    }\n",
              "  </style>\n",
              "\n",
              "    <script>\n",
              "      const buttonEl =\n",
              "        document.querySelector('#df-d2a3fb66-e8f5-4072-bea2-d706abfdfee2 button.colab-df-convert');\n",
              "      buttonEl.style.display =\n",
              "        google.colab.kernel.accessAllowed ? 'block' : 'none';\n",
              "\n",
              "      async function convertToInteractive(key) {\n",
              "        const element = document.querySelector('#df-d2a3fb66-e8f5-4072-bea2-d706abfdfee2');\n",
              "        const dataTable =\n",
              "          await google.colab.kernel.invokeFunction('convertToInteractive',\n",
              "                                                    [key], {});\n",
              "        if (!dataTable) return;\n",
              "\n",
              "        const docLinkHtml = 'Like what you see? Visit the ' +\n",
              "          '<a target=\"_blank\" href=https://colab.research.google.com/notebooks/data_table.ipynb>data table notebook</a>'\n",
              "          + ' to learn more about interactive tables.';\n",
              "        element.innerHTML = '';\n",
              "        dataTable['output_type'] = 'display_data';\n",
              "        await google.colab.output.renderOutput(dataTable, element);\n",
              "        const docLink = document.createElement('div');\n",
              "        docLink.innerHTML = docLinkHtml;\n",
              "        element.appendChild(docLink);\n",
              "      }\n",
              "    </script>\n",
              "  </div>\n",
              "\n",
              "\n",
              "<div id=\"df-8201a65f-fc44-40e9-91b1-88aa624ad9b8\">\n",
              "  <button class=\"colab-df-quickchart\" onclick=\"quickchart('df-8201a65f-fc44-40e9-91b1-88aa624ad9b8')\"\n",
              "            title=\"Suggest charts.\"\n",
              "            style=\"display:none;\">\n",
              "\n",
              "<svg xmlns=\"http://www.w3.org/2000/svg\" height=\"24px\"viewBox=\"0 0 24 24\"\n",
              "     width=\"24px\">\n",
              "    <g>\n",
              "        <path d=\"M19 3H5c-1.1 0-2 .9-2 2v14c0 1.1.9 2 2 2h14c1.1 0 2-.9 2-2V5c0-1.1-.9-2-2-2zM9 17H7v-7h2v7zm4 0h-2V7h2v10zm4 0h-2v-4h2v4z\"/>\n",
              "    </g>\n",
              "</svg>\n",
              "  </button>\n",
              "\n",
              "<style>\n",
              "  .colab-df-quickchart {\n",
              "      --bg-color: #E8F0FE;\n",
              "      --fill-color: #1967D2;\n",
              "      --hover-bg-color: #E2EBFA;\n",
              "      --hover-fill-color: #174EA6;\n",
              "      --disabled-fill-color: #AAA;\n",
              "      --disabled-bg-color: #DDD;\n",
              "  }\n",
              "\n",
              "  [theme=dark] .colab-df-quickchart {\n",
              "      --bg-color: #3B4455;\n",
              "      --fill-color: #D2E3FC;\n",
              "      --hover-bg-color: #434B5C;\n",
              "      --hover-fill-color: #FFFFFF;\n",
              "      --disabled-bg-color: #3B4455;\n",
              "      --disabled-fill-color: #666;\n",
              "  }\n",
              "\n",
              "  .colab-df-quickchart {\n",
              "    background-color: var(--bg-color);\n",
              "    border: none;\n",
              "    border-radius: 50%;\n",
              "    cursor: pointer;\n",
              "    display: none;\n",
              "    fill: var(--fill-color);\n",
              "    height: 32px;\n",
              "    padding: 0;\n",
              "    width: 32px;\n",
              "  }\n",
              "\n",
              "  .colab-df-quickchart:hover {\n",
              "    background-color: var(--hover-bg-color);\n",
              "    box-shadow: 0 1px 2px rgba(60, 64, 67, 0.3), 0 1px 3px 1px rgba(60, 64, 67, 0.15);\n",
              "    fill: var(--button-hover-fill-color);\n",
              "  }\n",
              "\n",
              "  .colab-df-quickchart-complete:disabled,\n",
              "  .colab-df-quickchart-complete:disabled:hover {\n",
              "    background-color: var(--disabled-bg-color);\n",
              "    fill: var(--disabled-fill-color);\n",
              "    box-shadow: none;\n",
              "  }\n",
              "\n",
              "  .colab-df-spinner {\n",
              "    border: 2px solid var(--fill-color);\n",
              "    border-color: transparent;\n",
              "    border-bottom-color: var(--fill-color);\n",
              "    animation:\n",
              "      spin 1s steps(1) infinite;\n",
              "  }\n",
              "\n",
              "  @keyframes spin {\n",
              "    0% {\n",
              "      border-color: transparent;\n",
              "      border-bottom-color: var(--fill-color);\n",
              "      border-left-color: var(--fill-color);\n",
              "    }\n",
              "    20% {\n",
              "      border-color: transparent;\n",
              "      border-left-color: var(--fill-color);\n",
              "      border-top-color: var(--fill-color);\n",
              "    }\n",
              "    30% {\n",
              "      border-color: transparent;\n",
              "      border-left-color: var(--fill-color);\n",
              "      border-top-color: var(--fill-color);\n",
              "      border-right-color: var(--fill-color);\n",
              "    }\n",
              "    40% {\n",
              "      border-color: transparent;\n",
              "      border-right-color: var(--fill-color);\n",
              "      border-top-color: var(--fill-color);\n",
              "    }\n",
              "    60% {\n",
              "      border-color: transparent;\n",
              "      border-right-color: var(--fill-color);\n",
              "    }\n",
              "    80% {\n",
              "      border-color: transparent;\n",
              "      border-right-color: var(--fill-color);\n",
              "      border-bottom-color: var(--fill-color);\n",
              "    }\n",
              "    90% {\n",
              "      border-color: transparent;\n",
              "      border-bottom-color: var(--fill-color);\n",
              "    }\n",
              "  }\n",
              "</style>\n",
              "\n",
              "  <script>\n",
              "    async function quickchart(key) {\n",
              "      const quickchartButtonEl =\n",
              "        document.querySelector('#' + key + ' button');\n",
              "      quickchartButtonEl.disabled = true;  // To prevent multiple clicks.\n",
              "      quickchartButtonEl.classList.add('colab-df-spinner');\n",
              "      try {\n",
              "        const charts = await google.colab.kernel.invokeFunction(\n",
              "            'suggestCharts', [key], {});\n",
              "      } catch (error) {\n",
              "        console.error('Error during call to suggestCharts:', error);\n",
              "      }\n",
              "      quickchartButtonEl.classList.remove('colab-df-spinner');\n",
              "      quickchartButtonEl.classList.add('colab-df-quickchart-complete');\n",
              "    }\n",
              "    (() => {\n",
              "      let quickchartButtonEl =\n",
              "        document.querySelector('#df-8201a65f-fc44-40e9-91b1-88aa624ad9b8 button');\n",
              "      quickchartButtonEl.style.display =\n",
              "        google.colab.kernel.accessAllowed ? 'block' : 'none';\n",
              "    })();\n",
              "  </script>\n",
              "</div>\n",
              "    </div>\n",
              "  </div>\n"
            ]
          },
          "metadata": {},
          "execution_count": 17
        }
      ]
    },
    {
      "cell_type": "markdown",
      "metadata": {
        "id": "dJjsgYYYidzA"
      },
      "source": [
        "Here we use Plotly to easily create an interactive plot"
      ]
    },
    {
      "cell_type": "code",
      "metadata": {
        "id": "k6D3C6wVbCrS"
      },
      "source": [
        "import plotly.graph_objects as go\n",
        "import plotly.express as px\n",
        "fig = px.line(df_rmsd_mono, x=\"Frame\", y=\"Backbone\",\n",
        "        line_shape=\"spline\", render_mode=\"svg\",\n",
        "        labels={ \"Backbone\": \"RMSD(Å)\" })\n",
        "fig.add_scatter(x=df_rmsd_mono[\"Frame\"], y=df_rmsd_mono[\"Loop1\"], name=\"Loop 1\", showlegend=True )\n",
        "fig.add_scatter(x=df_rmsd_mono[\"Frame\"], y=df_rmsd_mono[\"Loop2\"], name=\"Loop 2\")\n",
        "fig.add_scatter(x=df_rmsd_mono[\"Frame\"], y=df_rmsd_mono[\"Backbone\"], name=\"Backbone\" )\n",
        "fig.show()"
      ],
      "execution_count": null,
      "outputs": []
    },
    {
      "cell_type": "markdown",
      "metadata": {
        "id": "m_8dXuxhmYG9"
      },
      "source": [
        "**QUESTION:** What is the range (in angstroms) of the RMSD fluctuations?"
      ]
    },
    {
      "cell_type": "markdown",
      "metadata": {
        "id": "-4eIvsh4VU85"
      },
      "source": [
        "### I.1B - Now is your turn to calculate the RMSD of the dimer"
      ]
    },
    {
      "cell_type": "code",
      "metadata": {
        "id": "2LvO6DqYVeFb"
      },
      "source": [
        "#Here we create two Universes each containing the same trajectory of the monomeric trajectory,\n",
        "#one called mobile and the other ref which will be used as reference\n",
        "dimer_mobile = mda.Universe(\"/content/1ihv_dimer_protPBC.gro\", \"/content/1ihv_dimer_protPBC.xtc\")\n",
        "dimer_ref = mda.Universe(\"/content/1ihv_dimer_protPBC.gro\", \"/content/1ihv_dimer_protPBC.xtc\")"
      ],
      "execution_count": null,
      "outputs": []
    },
    {
      "cell_type": "code",
      "metadata": {
        "id": "mex6IWWHVeFh"
      },
      "source": [
        "rms.rmsd(dimer_mobile.select_atoms('backbone').positions,  # coordinates to align\n",
        "         dimer_ref.select_atoms('backbone').positions,  # reference coordinates\n",
        "         center=True,  # subtract the center of geometry\n",
        "         superposition=True)  # superimpose coordinates"
      ],
      "execution_count": null,
      "outputs": []
    },
    {
      "cell_type": "code",
      "metadata": {
        "id": "Iqf-OHcLVeFm"
      },
      "source": [
        "Loop1A = 'backbone and resid 227-240'\n",
        "Loop2A = 'backbone and resid 252-257'"
      ],
      "execution_count": null,
      "outputs": []
    },
    {
      "cell_type": "code",
      "metadata": {
        "id": "IB955rHPVeFp"
      },
      "source": [
        "R_rmsd_dimer = rms.RMSD(dimer_mobile,  # universe to align\n",
        "             dimer_ref,  # reference universe or atomgroup\n",
        "             select='backbone',  # group to superimpose and calculate RMSD\n",
        "             groupselections=[Loop1A, Loop2A],  # groups for RMSD\n",
        "             ref_frame=0)  # frame index of the reference\n",
        "R_rmsd_dimer.run()"
      ],
      "execution_count": null,
      "outputs": []
    },
    {
      "cell_type": "markdown",
      "metadata": {
        "id": "e23pp79GVeFt"
      },
      "source": [
        "The data is saved in `R_rmsd.results.rmsd` as an array. We can check the dimensions of the array using the `shape` attribute."
      ]
    },
    {
      "cell_type": "code",
      "metadata": {
        "id": "wGyvD8vfVeFu"
      },
      "source": [
        "R_rmsd_dimer.results.rmsd.shape"
      ],
      "execution_count": null,
      "outputs": []
    },
    {
      "cell_type": "code",
      "metadata": {
        "id": "Gh7smKxHWhBh"
      },
      "source": [
        "import pandas as pd\n",
        "#Here we create the pandas dataframe from the R_rmsd_dimer.rmsd object\n",
        "df_rmsd_dimer = pd.DataFrame(R_rmsd_dimer.results.rmsd,\n",
        "                  columns=['Frame', 'Time (ns)','Backbone','Loop1A','Loop2A'])\n",
        "\n",
        "df_rmsd_dimer"
      ],
      "execution_count": null,
      "outputs": []
    },
    {
      "cell_type": "markdown",
      "metadata": {
        "id": "tXtVM6Ovwaut"
      },
      "source": [
        "Lets plot the $RMSD$ over time for the Monomer and the Dimer"
      ]
    },
    {
      "cell_type": "code",
      "metadata": {
        "id": "ZbI9v53xWqiK"
      },
      "source": [
        "import plotly.express as px\n",
        "\n",
        "fig = px.line(df_rmsd_mono, x=\"Frame\", y=\"Backbone\",\n",
        "        line_shape=\"spline\", render_mode=\"svg\",\n",
        "        labels={ \"Backbone\": \"RMSD(Å)\" })\n",
        "fig.add_scatter(x=df_rmsd_mono[\"Frame\"], y=df_rmsd_mono[\"Backbone\"], name=\"Backbone Monomer\" )\n",
        "fig.add_scatter(x=df_rmsd_dimer[\"Frame\"], y=df_rmsd_dimer[\"Backbone\"], name=\"Backbone Dimer AVG\" )\n",
        "fig.show()"
      ],
      "execution_count": null,
      "outputs": []
    },
    {
      "cell_type": "markdown",
      "metadata": {
        "id": "E3AqEjptXHFr"
      },
      "source": [
        "Now is your turn to explore if there are any changes in the RMSD of the loops over time"
      ]
    },
    {
      "cell_type": "code",
      "metadata": {
        "id": "Hv2I6fzbXFAQ"
      },
      "source": [
        "#Hints:\n",
        "fig.add_scatter(x=df_rmsd_mono[\"Frame\"], y=df_rmsd_mono[\"Loop1\"], name=\"Loop 1\", showlegend=True )\n",
        "fig.add_scatter(x=df_rmsd_mono[\"Frame\"], y=df_rmsd_mono[\"Loop2\"], name=\"Loop 2\")"
      ],
      "execution_count": null,
      "outputs": []
    },
    {
      "cell_type": "markdown",
      "metadata": {
        "id": "b6OY9Bo8jIfc"
      },
      "source": [
        "##I.2 - RMSF"
      ]
    },
    {
      "cell_type": "markdown",
      "metadata": {
        "id": "OtkDMst7Tas1"
      },
      "source": [
        "Now, we want to assess the average atomic fluctuations during the MD trajectories for both the monomeric and dimeric states of the integrase"
      ]
    },
    {
      "cell_type": "code",
      "metadata": {
        "id": "h1BpVaxfW68n"
      },
      "source": [
        "#First we need to make sure that our universes are properly aligned\n",
        "\n",
        "aligner = align.AlignTraj(monomer_mobile, monomer_ref, select='name CA', in_memory=True).run()\n",
        "aligner = align.AlignTraj(dimer_mobile, dimer_ref, select='name CA', in_memory=True).run()"
      ],
      "execution_count": null,
      "outputs": []
    },
    {
      "cell_type": "code",
      "metadata": {
        "id": "XcPkcw0wjH9U"
      },
      "source": [
        "#Here we create a selection of the previously aligned trajectory\n",
        "c_alphas_monomer = monomer_mobile.select_atoms('protein and name CA')\n",
        "c_alphas_dimer = dimer_mobile.select_atoms('protein and name CA')\n",
        "R_rmsf_mono = rms.RMSF(c_alphas_monomer).run()\n",
        "R_rmsf_dimer = rms.RMSF(c_alphas_dimer).run()\n",
        "rms.RMSF"
      ],
      "execution_count": null,
      "outputs": []
    },
    {
      "cell_type": "code",
      "metadata": {
        "id": "9a7f-OimVZAn"
      },
      "source": [
        "c_alphas_dimer.resids"
      ],
      "execution_count": null,
      "outputs": []
    },
    {
      "cell_type": "code",
      "metadata": {
        "id": "sF20ADUaJykB"
      },
      "source": [
        "import pandas as pd\n",
        "#Here we create a pandas dataframe\n",
        "df_rmsf_mono = pd.DataFrame(R_rmsf_mono.results.rmsf,\n",
        "                  columns=['BackboneRMSF'])\n",
        "df_rmsf_mono = df_rmsf_mono.assign(Residue = c_alphas_monomer.resids)\n",
        "\n",
        "df_rmsf_dimer = pd.DataFrame(R_rmsf_dimer.results.rmsf,\n",
        "                  columns=['BackboneRMSF'])\n",
        "df_rmsf_dimer = df_rmsf_dimer.assign(Residue = c_alphas_dimer.resids)\n",
        "\n",
        "\n",
        "df_rmsf_dimer_A = df_rmsf_dimer.head(52)\n",
        "df_rmsf_dimer_B = df_rmsf_dimer.tail(52)\n",
        "\n"
      ],
      "execution_count": null,
      "outputs": []
    },
    {
      "cell_type": "code",
      "metadata": {
        "id": "atVuKWpvMywH"
      },
      "source": [
        "import plotly.express as px\n",
        "\n",
        "fig = px.line(df_rmsf_mono, x=\"Residue\", y=\"BackboneRMSF\",\n",
        "        line_shape=\"linear\", render_mode=\"svg\",\n",
        "        labels={ \"BackboneRMSF\": \"RMSF(Å)\" , \"Residue\":\"Residue Number\"}, color=None)\n",
        "fig.add_scatter(x=df_rmsf_dimer_A[\"Residue\"], y=df_rmsf_dimer_A[\"BackboneRMSF\"], name=\"Dimer Chain A\", line_shape=\"linear\")\n",
        "fig.add_scatter(x=df_rmsf_dimer_B[\"Residue\"], y=df_rmsf_dimer_B[\"BackboneRMSF\"], name=\"Dimer Chain B\", line_shape=\"linear\")\n",
        "fig.add_scatter(x=df_rmsf_mono[\"Residue\"], y=df_rmsf_mono[\"BackboneRMSF\"], name=\"Monomer\", line_shape=\"linear\")\n",
        "\n",
        "fig.show()\n"
      ],
      "execution_count": null,
      "outputs": []
    },
    {
      "cell_type": "markdown",
      "metadata": {
        "id": "HPC9T4TPZokz"
      },
      "source": [
        "**QUESTIONS❓**\n",
        "\n",
        "1. Is there any difference in local fluctuations between the monomeric and dimeric states?\n",
        "\n",
        "2. Which region exhibit a high atomic fluctuation through the trajectory?\n",
        "\n",
        "3. What are the structural features of these regions?\n",
        "\n"
      ]
    },
    {
      "cell_type": "code",
      "metadata": {
        "id": "lEU5Qwb9aS8B"
      },
      "source": [
        "#Visualize using Py3Dmol the monomeric state"
      ],
      "execution_count": null,
      "outputs": []
    },
    {
      "cell_type": "markdown",
      "metadata": {
        "id": "W8xZMBJeyT07"
      },
      "source": [
        "## I.3 - Pairwise RMSD"
      ]
    },
    {
      "cell_type": "code",
      "metadata": {
        "id": "kv0ijOsQ7Jr9"
      },
      "source": [
        "#Import modules\n",
        "import MDAnalysis as mda\n",
        "from MDAnalysis.analysis import diffusionmap, align"
      ],
      "execution_count": null,
      "outputs": []
    },
    {
      "cell_type": "markdown",
      "metadata": {
        "id": "rw0lyaaF7YjQ"
      },
      "source": [
        "Pairwise RMSDs are an effective way to quickly view similarities and differences in conformations (as measured by RMSD) across a entire trajectory and not only in comparison to just one reference frame.\n",
        "\n",
        "We are going to use the previously aligned trajectories **monomer_mobile** and **dimer_mobile**\n"
      ]
    },
    {
      "cell_type": "markdown",
      "metadata": {
        "id": "3XFt5Pjx7ki6"
      },
      "source": [
        "We can then calculate a pairwise $RMSD$ matrix with the `diffusionmap.DistanceMatrix` class, by using the default the rms.rmsd metric."
      ]
    },
    {
      "cell_type": "code",
      "metadata": {
        "id": "AoBfBsuv7ngn"
      },
      "source": [
        "#Monomer distance matrix calculation\n",
        "matrix1 = diffusionmap.DistanceMatrix(monomer_mobile, select='name CA').run()\n",
        "#Dimer distance matrix calculation\n",
        "matrix2 = diffusionmap.DistanceMatrix(dimer_mobile, select='name CA').run()"
      ],
      "execution_count": null,
      "outputs": []
    },
    {
      "cell_type": "markdown",
      "metadata": {
        "id": "r1kcTrIt7olM"
      },
      "source": [
        "The results array is in `matrix.results.dist_matrix` as a square array with the shape (#n_frames, #n_frame)."
      ]
    },
    {
      "cell_type": "code",
      "metadata": {
        "id": "yEI-VGCu7rKC"
      },
      "source": [
        "print(matrix1.results.dist_matrix.shape)\n",
        "print(matrix2.results.dist_matrix.shape)"
      ],
      "execution_count": null,
      "outputs": []
    },
    {
      "cell_type": "markdown",
      "metadata": {
        "id": "Jzg3cDU57w_U"
      },
      "source": [
        "We can use the common plotting package matplotlib to create a heatmap from this array."
      ]
    },
    {
      "cell_type": "code",
      "metadata": {
        "id": "bPWLyfi57wS8"
      },
      "source": [
        "#Here we plot the Monomer RMSD matrix\n",
        "plt.imshow(matrix1.results.dist_matrix, cmap='viridis')\n",
        "plt.xlabel('Frame')\n",
        "plt.ylabel('Frame')\n",
        "plt.colorbar(label='RMSD (Angstrom)')\n"
      ],
      "execution_count": null,
      "outputs": []
    },
    {
      "cell_type": "code",
      "metadata": {
        "id": "kF3oMI0-c2dg"
      },
      "source": [
        "#Here we plot the Dimer RMSD matrix\n",
        "plt.imshow(matrix2.results.dist_matrix, cmap='viridis')\n",
        "plt.xlabel('Frame')\n",
        "plt.ylabel('Frame')\n",
        "plt.colorbar(label='RMSD (Angstrom)')"
      ],
      "execution_count": null,
      "outputs": []
    },
    {
      "cell_type": "markdown",
      "metadata": {
        "id": "GXFdRgdBk6aR"
      },
      "source": [
        "#Appendix A - Normal Mode and Principal Component Analysis  "
      ]
    },
    {
      "cell_type": "markdown",
      "metadata": {
        "id": "YwT_lSHVmk9K"
      },
      "source": [
        "## I - Normal Mode analysis long range contacts"
      ]
    },
    {
      "cell_type": "code",
      "metadata": {
        "id": "wpWROwmlAgSH"
      },
      "source": [
        "monomer_mobile = mda.Universe(\"/content/1ihv_mon_protPBC.gro\", \"/content/1ihv_mon_protPBC.xtc\")\n",
        "dimer_mobile = mda.Universe(\"/content/1ihv_dimer_protPBC.gro\", \"/content/1ihv_dimer_protPBC.xtc\")"
      ],
      "execution_count": null,
      "outputs": []
    },
    {
      "cell_type": "code",
      "metadata": {
        "id": "5Did6i_0mONL"
      },
      "source": [
        "nma1 = gnm.GNMAnalysis(monomer_mobile, select='protein and name CA', cutoff=7.0)\n",
        "nma1.run()"
      ],
      "execution_count": null,
      "outputs": []
    },
    {
      "cell_type": "code",
      "metadata": {
        "id": "IY4J4xHRmS8j"
      },
      "source": [
        "nma2 = gnm.GNMAnalysis(dimer_mobile,\n",
        "                      select='protein and name CA',\n",
        "                      cutoff=7.0)\n",
        "nma2.run()\n"
      ],
      "execution_count": null,
      "outputs": []
    },
    {
      "cell_type": "code",
      "metadata": {
        "id": "kU_d036lmQZ3"
      },
      "source": [
        "len(nma2.results)"
      ],
      "execution_count": null,
      "outputs": []
    },
    {
      "cell_type": "code",
      "metadata": {
        "id": "WveC7MT6mWW7"
      },
      "source": [
        "%matplotlib inline\n",
        "#sns.set_context('notebook')\n",
        "%config InlineBackend.figure_format = 'retina'\n",
        "\n",
        "## we plot the distribution of eigenvalues. The dominant conformation state is represented by the peak at:\n",
        "eigenvalues1 = [res[1] for res in nma1.results]\n",
        "eigenvalues2 = [res[1] for res in nma2.results]\n",
        "\n",
        "histfig, histax = plt.subplots(nrows=2, sharex=True, sharey=True)\n",
        "histax[0].hist(eigenvalues1)\n",
        "histax[1].hist(eigenvalues2)\n",
        "\n",
        "histax[1].set_xlabel('Eigenvalue')\n",
        "histax[0].set_ylabel('Frequency (Monomer)')\n",
        "histax[1].set_ylabel('Frequency (Dimer)');\n",
        "plt.show()\n"
      ],
      "execution_count": null,
      "outputs": []
    },
    {
      "cell_type": "code",
      "metadata": {
        "id": "1mwxZ-1FK1LW"
      },
      "source": [
        "import pandas as pd\n",
        "import numpy as np\n",
        "\n",
        "##Create Panda Dataframe Files\n",
        "eu = pd.DataFrame({'LC': eigenvalues1,'NLC': eigenvalues2})\n",
        "\n",
        "#Save Panda DataFrame\n",
        "eu.to_csv('./DF_1.csv')\n",
        "\n",
        "\n",
        "#inspect Dataframe\n",
        "eu.head()"
      ],
      "execution_count": null,
      "outputs": []
    },
    {
      "cell_type": "code",
      "metadata": {
        "id": "RJl6_tGLmf4X"
      },
      "source": [
        "time1 = [res[0] for res in nma1.results]\n",
        "time2 = [res[0] for res in nma2.results]\n",
        "linefig, lineax = plt.subplots()\n",
        "plt.plot(time1, eigenvalues1, label='Monomer')\n",
        "plt.plot(time2, eigenvalues2, label='Dimer')\n",
        "lineax.set_xlabel('Time (ps)')\n",
        "lineax.set_ylabel('Eigenvalue')\n",
        "plt.legend();\n",
        "plt.show()"
      ],
      "execution_count": null,
      "outputs": []
    },
    {
      "cell_type": "markdown",
      "metadata": {
        "id": "zynv4Ej6u81N"
      },
      "source": [
        "## II -PCA"
      ]
    },
    {
      "cell_type": "code",
      "metadata": {
        "id": "gCUVigIggMYv"
      },
      "source": [
        "#Import things\n",
        "import MDAnalysis as mda\n",
        "from MDAnalysis.analysis import diffusionmap, align\n",
        "import matplotlib.pyplot as plt\n",
        "%matplotlib inline"
      ],
      "execution_count": null,
      "outputs": []
    },
    {
      "cell_type": "markdown",
      "metadata": {
        "id": "hxLJKgwmwziU"
      },
      "source": [
        "**WARNING!!!**\n",
        "\n",
        "For best results, your trajectory should be aligned on your atom group selection before you run the analysis. Setting align=True will not give correct results in the PCA."
      ]
    },
    {
      "cell_type": "code",
      "metadata": {
        "id": "noZuReXMvAyZ"
      },
      "source": [
        "# Align the trajectory\n",
        "aligner1 = align.AlignTraj(monomer_mobile, monomer_mobile, select='backbone', in_memory=True).run()\n",
        "aligner2 = align.AlignTraj(dimer_mobile, dimer_mobile, select='backbone', in_memory=True).run()\n"
      ],
      "execution_count": null,
      "outputs": []
    },
    {
      "cell_type": "markdown",
      "metadata": {
        "id": "E6XuQih0xGBv"
      },
      "source": [
        "###Overview of the method\n",
        "**Principal component analysis (PCA)** is a statistical technique that decomposes a system of observations into linearly uncorrelated variables called principal components. These components are ordered so that the first principal component accounts for the largest variance in the data, and each following component accounts for lower and lower variance. PCA is often applied to molecular dynamics trajectories to **extract the large-scale conformational motions or “essential dynamics” of a protein**. The frame-by-frame conformational fluctuation can be considered a linear combination of the essential dynamics yielded by the PCA.\n",
        "\n",
        "In MDAnalysis, the method is as follows:\n",
        "\n",
        "> Optionally align each frame in your trajectory to the first frame.\n",
        "Construct a 3N x 3N covariance for the N atoms in your trajectory. Optionally, you can provide a mean; otherwise the covariance is to the averaged structure over the trajectory.\n",
        "Diagonalise the covariance matrix. The eigenvectors are the principal components, and their eigenvalues are the associated variance.\n",
        "Sort the eigenvalues so that the principal components are ordered by variance.\n",
        "\n"
      ]
    },
    {
      "cell_type": "code",
      "metadata": {
        "id": "W90-_7ugbZ3t"
      },
      "source": [
        "import MDAnalysis as mda\n",
        "import MDAnalysis.analysis.pca as pca\n",
        "from MDAnalysis.coordinates.base import Timestep\n",
        "\n",
        "import numpy as np\n",
        "import os\n",
        "import glob\n",
        "\n",
        "import pandas as pd\n",
        "import seaborn as sns\n",
        "\n",
        "import matplotlib.pyplot as plt\n",
        "import matplotlib.cm\n",
        "import matplotlib.ticker as ticker\n",
        "%matplotlib inline"
      ],
      "execution_count": null,
      "outputs": []
    },
    {
      "cell_type": "markdown",
      "metadata": {
        "id": "v93A5EeHvpEE"
      },
      "source": [
        "### Call the PCA function\n",
        "You can choose how many principal components to save from the analysis with n_components. The default value is None, which saves all of them. You can also pass a mean reference structure to be used in calculating the covariance matrix. With the default value of None, the covariance uses the mean coordinates of the trajectory."
      ]
    },
    {
      "cell_type": "code",
      "metadata": {
        "id": "mKFPVAQ0vOfB"
      },
      "source": [
        "pcu1 = pca.PCA(monomer_mobile, select='protein and backbone',\n",
        "             align=False, mean=None,\n",
        "             n_components=None).run()\n",
        "pcu2 = pca.PCA(dimer_mobile, select='protein and backbone',\n",
        "             align=False, mean=None,\n",
        "             n_components=None).run()\n"
      ],
      "execution_count": null,
      "outputs": []
    },
    {
      "cell_type": "markdown",
      "metadata": {
        "id": "DdFOUyGFvaQO"
      },
      "source": [
        "### The principal components are saved in pc.p_components.\n",
        "If you kept all the components, you should have an array of shape (natoms×3,natoms×3)\n"
      ]
    },
    {
      "cell_type": "code",
      "metadata": {
        "id": "F79tsnHVvRAM"
      },
      "source": [
        "backbone1 = monomer_mobile.select_atoms('protein and backbone')\n",
        "n_bb1 = len(backbone1)\n",
        "print('There are {} backbone atoms in the analysis'.format(n_bb1))\n",
        "print(pcu1.p_components.shape)\n",
        "\n",
        "backbone2 = dimer_mobile.select_atoms('protein and backbone')\n",
        "n_bb2 = len(backbone2)\n",
        "print('There are {} backbone atoms in the analysis'.format(n_bb2))\n",
        "print(pcu2.p_components.shape)"
      ],
      "execution_count": null,
      "outputs": []
    },
    {
      "cell_type": "markdown",
      "metadata": {
        "id": "OvA3H3sYvVrb"
      },
      "source": [
        "### Get the variance of the first component"
      ]
    },
    {
      "cell_type": "code",
      "metadata": {
        "id": "perlwGt7vYqh"
      },
      "source": [
        "pcu1.variance[0],pcu2.variance[0]"
      ],
      "execution_count": null,
      "outputs": []
    },
    {
      "cell_type": "markdown",
      "metadata": {
        "id": "2y-4zRz-v2M9"
      },
      "source": [
        "This variance is somewhat meaningless by itself. It is much more intuitive to consider the variance of a principal component as a percentage of the total variance in the data. MDAnalysis also tracks the percentage cumulative variance in pc.cumulated_variance. As shown below, the first principal component contains 90.3% the total trajectory variance. The first three components combined account for 96.4% of the total variance."
      ]
    },
    {
      "cell_type": "code",
      "metadata": {
        "id": "GPW4qy_dv5jg"
      },
      "source": [
        "print(pcu1.cumulated_variance[0])\n",
        "print(pcu1.cumulated_variance[2])\n",
        "print(pcu2.cumulated_variance[0])\n",
        "print(pcu2.cumulated_variance[2])"
      ],
      "execution_count": null,
      "outputs": []
    },
    {
      "cell_type": "code",
      "metadata": {
        "id": "MufHaeATv8E8"
      },
      "source": [
        "plt.plot(pcu1.cumulated_variance[:10])\n",
        "plt.xlabel('Principal component')\n",
        "plt.ylabel('Cumulative variance');\n",
        "\n",
        "plt.plot(pcu2.cumulated_variance[:10])\n",
        "plt.xlabel('Principal component')\n",
        "plt.ylabel('Cumulative variance');"
      ],
      "execution_count": null,
      "outputs": []
    },
    {
      "cell_type": "markdown",
      "metadata": {
        "id": "ZX09IPDUv-hj"
      },
      "source": [
        "### Visualising projections into a reduced dimensional space"
      ]
    },
    {
      "cell_type": "markdown",
      "metadata": {
        "id": "X3htP5eVwC2X"
      },
      "source": [
        "The pc.transform() method transforms a given atom group into weights $w_i$\n",
        " over each principal component $i$\n",
        ".\n",
        "\n",
        "$w_i(t)=(r(t)−r⎯⎯⎯)⋅u_i$\n",
        "\n",
        "$r(t)$\n",
        " are the atom group coordinates at time t\n",
        ", r⎯⎯⎯\n",
        " are the mean coordinates used in the PCA, and ui\n",
        " is the i\n",
        "th principal component eigenvector u\n",
        ".\n",
        "\n",
        "While the given atom group must have the same number of atoms that the principal components were calculated over, it does not have to be the same group.\n",
        "\n",
        "Again, passing n_components=None will tranform your atom group over every component. Below, we limit the output to projections over 5 principal components only."
      ]
    },
    {
      "cell_type": "code",
      "metadata": {
        "id": "YLCfXA2qv_7s"
      },
      "source": [
        "transformed1 = pcu1.transform(backbone1, n_components=5)\n",
        "\n",
        "\n",
        "transformed2 = pcu2.transform(backbone2, n_components=5)\n",
        "transformed1.shape, transformed2.shape"
      ],
      "execution_count": null,
      "outputs": []
    },
    {
      "cell_type": "markdown",
      "metadata": {
        "id": "syXNAaomwIHP"
      },
      "source": [
        "The output has the shape (n_frames, n_components). For easier analysis and plotting we can turn the array into a DataFrame."
      ]
    },
    {
      "cell_type": "code",
      "metadata": {
        "id": "AghKaAoLwFbk"
      },
      "source": [
        "df1 = pd.DataFrame(transformed1,\n",
        "                  columns=['PC{}'.format(i+1) for i in range(5)])\n",
        "df1['Time (ns)'] = df1.index * monomer_mobile.trajectory.dt\n",
        "df1.head()\n",
        "\n",
        "df2 = pd.DataFrame(transformed2,\n",
        "                  columns=['PC{}'.format(i+1) for i in range(5)])\n",
        "df2['Time (ns)'] = df2.index * dimer_mobile.trajectory.dt\n",
        "df2.head()"
      ],
      "execution_count": null,
      "outputs": []
    },
    {
      "cell_type": "markdown",
      "metadata": {
        "id": "R-5y2BamwMWn"
      },
      "source": [
        "There are several ways we can visualise the data. Using the Seaborn’s PairGrid tool is the quickest and easiest way, if you have seaborn already installed."
      ]
    },
    {
      "cell_type": "code",
      "metadata": {
        "id": "hGnTJEHSwQv_"
      },
      "source": [
        "import seaborn as sns\n",
        "\n",
        "g1 = sns.PairGrid(df1, hue='Time (ns)',\n",
        "                 palette=sns.color_palette('Oranges_d',\n",
        "                                           n_colors=len(df1)))\n",
        "g1.map(plt.scatter, marker='.')"
      ],
      "execution_count": null,
      "outputs": []
    },
    {
      "cell_type": "code",
      "metadata": {
        "id": "keLIUqRZhqDm"
      },
      "source": [
        "g2 = sns.PairGrid(df2, hue='Time (ns)',\n",
        "                 palette=sns.color_palette('Oranges_d',\n",
        "                                           n_colors=len(df2)))\n",
        "g2.map(plt.scatter, marker='.')"
      ],
      "execution_count": null,
      "outputs": []
    },
    {
      "cell_type": "markdown",
      "metadata": {
        "id": "GQxf4vMQwTuM"
      },
      "source": [
        "Another way to investigate the essential motions of the trajectory is to project the original trajectory onto each of the principal components, to visualise the motion of the principal component. The product of the weights $w_i(t)$\n",
        " for principal component $_i$\n",
        " with the eigenvector $u_i$\n",
        " describes fluctuations around the mean on that axis, so the projected trajectory $r_i(t)$\n",
        " is simply the fluctuations added onto the mean positions r⎯⎯⎯\n",
        ".\n",
        "\n",
        "$r_i(t)=w_i(t)×u_i+r$\n",
        "Below, we generate the projected coordinates of the first principal component. The mean positions are stored at pc.mean."
      ]
    },
    {
      "cell_type": "code",
      "metadata": {
        "id": "aFBtIMwQwbG4"
      },
      "source": [
        "pc1u1 = pcu1.p_components[:, 0]\n",
        "trans1u1 = transformed1[:, 0]\n",
        "projectedu1 = np.outer(trans1u1, pc1u1) + pcu1.mean\n",
        "coordinatesu1 = projectedu1.reshape(len(trans1u1), -1, 3)\n",
        "\n",
        "pc1u2 = pcu2.p_components[:, 0]\n",
        "trans1u2 = transformed2[:, 0]\n",
        "projectedu2 = np.outer(trans1u2, pc1u2) + pcu2.mean\n",
        "coordinatesu2 = projectedu2.reshape(len(trans1u2), -1, 3)"
      ],
      "execution_count": null,
      "outputs": []
    },
    {
      "cell_type": "markdown",
      "metadata": {
        "id": "m15lNZUvwc55"
      },
      "source": [
        "We can create a new universe from this to visualise the movement over the first principal component."
      ]
    },
    {
      "cell_type": "code",
      "metadata": {
        "id": "hubXKWmszuay"
      },
      "source": [
        "!pip3 install nglview\n",
        "import nglview as nv"
      ],
      "execution_count": null,
      "outputs": []
    },
    {
      "cell_type": "code",
      "metadata": {
        "id": "9Rmitdxawdeo"
      },
      "source": [
        "proj1 = mda.Merge(backbone1)\n",
        "proj1.load_new(coordinatesu1, order=\"fac\")"
      ],
      "execution_count": null,
      "outputs": []
    },
    {
      "cell_type": "code",
      "metadata": {
        "id": "KqaA8bF7wfS3"
      },
      "source": [
        "view = nv.show_mdanalysis(proj1.atoms)\n",
        "view"
      ],
      "execution_count": null,
      "outputs": []
    },
    {
      "cell_type": "markdown",
      "metadata": {
        "id": "SA0drgmOwpIQ"
      },
      "source": [
        "If you have nglview installed, you can view the trajectory in the notebook. Otherwise, you can write the trajectory out to a file and use another program such as VMD. Below, we create a movie of the component."
      ]
    },
    {
      "cell_type": "code",
      "metadata": {
        "id": "QmtZWlaat7zl"
      },
      "source": [
        "!pip install moviepy==0.2.2.11\n",
        "!pip install imageio==1.6"
      ],
      "execution_count": null,
      "outputs": []
    },
    {
      "cell_type": "code",
      "metadata": {
        "id": "r3501oRtwnEG"
      },
      "source": [
        "from nglview.contrib.movie import MovieMaker\n",
        "movie = MovieMaker(view, output='pc1u1.gif', in_memory=True)\n",
        "movie.make()"
      ],
      "execution_count": null,
      "outputs": []
    }
  ]
}